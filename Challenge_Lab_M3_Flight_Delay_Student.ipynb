{
  "cells": [
    {
      "cell_type": "markdown",
      "metadata": {
        "id": "view-in-github",
        "colab_type": "text"
      },
      "source": [
        "<a href=\"https://colab.research.google.com/github/NUNNNN/cs352-264-s0200/blob/main/Challenge_Lab_M3_Flight_Delay_Student.ipynb\" target=\"_parent\"><img src=\"https://colab.research.google.com/assets/colab-badge.svg\" alt=\"Open In Colab\"/></a>"
      ]
    },
    {
      "cell_type": "markdown",
      "source": [
        "น.ส.ธันยธรณ์ ปานเอม 6209610200"
      ],
      "metadata": {
        "id": "9pm-y98ipFum"
      }
    },
    {
      "cell_type": "markdown",
      "metadata": {
        "id": "SahD-hS_pFDX"
      },
      "source": [
        "# Problem: Predicting Airplane Delays\n",
        "\n",
        "The goals of this notebook are:\n",
        "- Process and create a dataset from downloaded .zip files\n",
        "- Perform exploratory data analysis (EDA)\n",
        "- Establish a baseline model\n",
        "- Move from a simple model to an ensemble model\n",
        "- Perform hyperparameter optimization\n",
        "- Check feature importance\n",
        "\n",
        "\n",
        "## Introduction to business scenario\n",
        "\n",
        "You work for a travel booking website that wants to improve the customer experience for flights that were delayed. The company wants to create a feature to let customers know if the flight will be delayed because of weather when they book a flight to or from the busiest airports for domestic travel in the US. \n",
        "\n",
        "You are tasked with solving part of this problem by using machine learning (ML) to identify whether the flight will be delayed because of weather. You have been given access to the a dataset about the on-time performance of domestic flights that were operated by large air carriers. You can use this data to train an ML model to predict if the flight is going to be delayed for the busiest airports.\n",
        "\n",
        "\n",
        "## About this dataset\n",
        "\n",
        "This dataset contains scheduled and actual departure and arrival times reported by certified US air carriers that account for at least 1 percent of domestic scheduled passenger revenues. The data was collected by the U.S. Office of Airline Information, Bureau of Transportation Statistics (BTS). The dataset contains date, time, origin, destination, airline, distance, and delay status of flights for flights between 2013 and 2018.\n",
        "\n",
        "\n",
        "### Features\n",
        "\n",
        "For more information about features in the dataset, see [On-time delay dataset features](https://www.transtats.bts.gov/Fields.asp).\n",
        "\n",
        "### Dataset attributions  \n",
        "Website: https://www.transtats.bts.gov/\n",
        "\n",
        "Dataset(s) used in this lab were compiled by the U.S. Office of Airline Information, Bureau of Transportation Statistics (BTS), Airline On-Time Performance Data, available at https://www.transtats.bts.gov/DatabaseInfo.asp?DB_ID=120&DB_URL=Mode_ID=1&Mode_Desc=Aviation&Subject_ID2=0."
      ]
    },
    {
      "cell_type": "markdown",
      "metadata": {
        "id": "-nRlZqOGpFDb"
      },
      "source": [
        "# Step 1: Problem formulation and data collection\n",
        "\n",
        "Start this project by writing a few sentences that summarize the business problem and the business goal that you want to achieve in this scenario. You can write down your ideas in the following sections. Include a business metric that you would like your team to aspire toward. After you define that information, write the ML problem statement. Finally, add a comment or two about the type of ML this activity represents. \n",
        "\n",
        "#### <span style=\"color: blue;\">Project presentation: Include a summary of these details in your project presentation.</span>\n",
        "\n",
        "### 1. Determine if and why ML is an appropriate solution to deploy for this scenario."
      ]
    },
    {
      "cell_type": "code",
      "execution_count": null,
      "metadata": {
        "id": "Vx5Z0MMrpFDc"
      },
      "outputs": [],
      "source": [
        "# เหมาะสมเพราะ ML ถูกใช้เพื่อช่วยวิเคราะห์ข้อมูลที่ซับซ้อน"
      ]
    },
    {
      "cell_type": "markdown",
      "metadata": {
        "id": "Up6JdZojpFDd"
      },
      "source": [
        "### 2. Formulate the business problem, success metrics, and desired ML output."
      ]
    },
    {
      "cell_type": "code",
      "execution_count": null,
      "metadata": {
        "id": "1qJZpOTCpFDd"
      },
      "outputs": [],
      "source": [
        "# ปัญหาความล่าช้าของสายการบินที่จะมีเครื่องบ่งชี้ว่ามูลค่าของสายการบินดีหรือมีปัญหาแค่ไหน"
      ]
    },
    {
      "cell_type": "markdown",
      "metadata": {
        "id": "XgF0ZrcapFDe"
      },
      "source": [
        "### 3. Identify the type of ML problem that you're working with."
      ]
    },
    {
      "cell_type": "code",
      "execution_count": null,
      "metadata": {
        "id": "o-aJn-MapFDe"
      },
      "outputs": [],
      "source": [
        "#ความไม่คุ้นเคยกับประเภทของข้อมูลที่กำลังวิเคราะห์ เรื่องสายการบินมันซับซ้อน"
      ]
    },
    {
      "cell_type": "markdown",
      "metadata": {
        "id": "AXK8xYhbpFDf"
      },
      "source": [
        "### 4. Analyze the appropriateness of the data that you're working with."
      ]
    },
    {
      "cell_type": "code",
      "execution_count": null,
      "metadata": {
        "id": "L-_dBnk3pFDf"
      },
      "outputs": [],
      "source": [
        "# วิเคราะห์ข้อมูลของสายการบิน เช่น ประเภทสายการบิน และเวลาบิน"
      ]
    },
    {
      "cell_type": "markdown",
      "metadata": {
        "id": "bp4f0P_RpFDg"
      },
      "source": [
        "### Setup\n",
        "\n",
        "Now that you have decided where you want to focus your attention, you will set up this lab so that you can start solving the problem.\n",
        "\n",
        "**Note:** This notebook was created and tested on an `ml.m4.xlarge` notebook instance with 25 GB storage. "
      ]
    },
    {
      "cell_type": "code",
      "execution_count": null,
      "metadata": {
        "id": "FGZTNTGYpFDg"
      },
      "outputs": [],
      "source": [
        "import os\n",
        "from pathlib2 import Path\n",
        "from zipfile import ZipFile\n",
        "import time\n",
        "\n",
        "import pandas as pd\n",
        "import numpy as np\n",
        "import subprocess\n",
        "\n",
        "import matplotlib.pyplot as plt\n",
        "import seaborn as sns\n",
        "\n",
        "sns.set()\n",
        "instance_type='ml.m4.xlarge'\n",
        "\n",
        "import warnings\n",
        "warnings.filterwarnings('ignore')\n",
        "\n",
        "%matplotlib inline"
      ]
    },
    {
      "cell_type": "markdown",
      "metadata": {
        "id": "kpQaPgyypFDh"
      },
      "source": [
        "# Step 2: Data preprocessing and visualization  \n",
        "In this data preprocessing phase, you explore and visualize your data to better understand it. First, import the necessary libraries and read the data into a pandas DataFrame. After you import the data, explore the dataset. Look for the shape of the dataset and explore your columns and the types of columns that you will work with (numerical, categorical). Consider performing basic statistics on the features to get a sense of feature means and ranges. Examine your target column closely, and determine its distribution.\n",
        "\n",
        "\n",
        "### Specific questions to consider\n",
        "\n",
        "Throughout this section of the lab, consider the following questions:\n",
        "\n",
        "1. What can you deduce from the basic statistics that you ran on the features? \n",
        "2. What can you deduce from the distributions of the target classes?\n",
        "3. Is there anything else you can deduce by exploring the data?\n",
        "\n",
        "#### <span style=\"color: blue;\">Project presentation: Include a summary of your answers to these questions (and other similar questions) in your project presentation.</span>"
      ]
    },
    {
      "cell_type": "markdown",
      "metadata": {
        "id": "wIamYaokpFDh"
      },
      "source": [
        "Start by bringing in the dataset from a public Amazon Simple Storage Service (Amazon S3) bucket to this notebook environment."
      ]
    },
    {
      "cell_type": "code",
      "execution_count": null,
      "metadata": {
        "id": "l7LxWoaKpFDh",
        "outputId": "70e94e4c-f8a8-4bcf-a944-8513e01fccdb"
      },
      "outputs": [
        {
          "name": "stdout",
          "output_type": "stream",
          "text": [
            "download: s3://aws-tc-largeobjects/CUR-TF-200-ACMLFO-1/flight_delay_project/data/On_Time_Reporting_Carrier_On_Time_Performance_1987_present_2014_1.zip to ../project/data/FlightDelays/On_Time_Reporting_Carrier_On_Time_Performance_1987_present_2014_1.zip\n",
            "download: s3://aws-tc-largeobjects/CUR-TF-200-ACMLFO-1/flight_delay_project/data/On_Time_Reporting_Carrier_On_Time_Performance_1987_present_2014_11.zip to ../project/data/FlightDelays/On_Time_Reporting_Carrier_On_Time_Performance_1987_present_2014_11.zip\n",
            "download: s3://aws-tc-largeobjects/CUR-TF-200-ACMLFO-1/flight_delay_project/data/On_Time_Reporting_Carrier_On_Time_Performance_1987_present_2014_10.zip to ../project/data/FlightDelays/On_Time_Reporting_Carrier_On_Time_Performance_1987_present_2014_10.zip\n",
            "download: s3://aws-tc-largeobjects/CUR-TF-200-ACMLFO-1/flight_delay_project/data/On_Time_Reporting_Carrier_On_Time_Performance_1987_present_2014_3.zip to ../project/data/FlightDelays/On_Time_Reporting_Carrier_On_Time_Performance_1987_present_2014_3.zip\n",
            "download: s3://aws-tc-largeobjects/CUR-TF-200-ACMLFO-1/flight_delay_project/data/On_Time_Reporting_Carrier_On_Time_Performance_1987_present_2014_2.zip to ../project/data/FlightDelays/On_Time_Reporting_Carrier_On_Time_Performance_1987_present_2014_2.zip\n",
            "download: s3://aws-tc-largeobjects/CUR-TF-200-ACMLFO-1/flight_delay_project/data/On_Time_Reporting_Carrier_On_Time_Performance_1987_present_2014_12.zip to ../project/data/FlightDelays/On_Time_Reporting_Carrier_On_Time_Performance_1987_present_2014_12.zip\n",
            "download: s3://aws-tc-largeobjects/CUR-TF-200-ACMLFO-1/flight_delay_project/data/On_Time_Reporting_Carrier_On_Time_Performance_1987_present_2014_4.zip to ../project/data/FlightDelays/On_Time_Reporting_Carrier_On_Time_Performance_1987_present_2014_4.zip\n",
            "download: s3://aws-tc-largeobjects/CUR-TF-200-ACMLFO-1/flight_delay_project/data/On_Time_Reporting_Carrier_On_Time_Performance_1987_present_2014_5.zip to ../project/data/FlightDelays/On_Time_Reporting_Carrier_On_Time_Performance_1987_present_2014_5.zip\n",
            "download: s3://aws-tc-largeobjects/CUR-TF-200-ACMLFO-1/flight_delay_project/data/On_Time_Reporting_Carrier_On_Time_Performance_1987_present_2014_6.zip to ../project/data/FlightDelays/On_Time_Reporting_Carrier_On_Time_Performance_1987_present_2014_6.zip\n",
            "download: s3://aws-tc-largeobjects/CUR-TF-200-ACMLFO-1/flight_delay_project/data/On_Time_Reporting_Carrier_On_Time_Performance_1987_present_2014_9.zip to ../project/data/FlightDelays/On_Time_Reporting_Carrier_On_Time_Performance_1987_present_2014_9.zip\n",
            "download: s3://aws-tc-largeobjects/CUR-TF-200-ACMLFO-1/flight_delay_project/data/On_Time_Reporting_Carrier_On_Time_Performance_1987_present_2014_7.zip to ../project/data/FlightDelays/On_Time_Reporting_Carrier_On_Time_Performance_1987_present_2014_7.zip\n",
            "download: s3://aws-tc-largeobjects/CUR-TF-200-ACMLFO-1/flight_delay_project/data/On_Time_Reporting_Carrier_On_Time_Performance_1987_present_2014_8.zip to ../project/data/FlightDelays/On_Time_Reporting_Carrier_On_Time_Performance_1987_present_2014_8.zip\n",
            "download: s3://aws-tc-largeobjects/CUR-TF-200-ACMLFO-1/flight_delay_project/data/On_Time_Reporting_Carrier_On_Time_Performance_1987_present_2015_11.zip to ../project/data/FlightDelays/On_Time_Reporting_Carrier_On_Time_Performance_1987_present_2015_11.zip\n",
            "download: s3://aws-tc-largeobjects/CUR-TF-200-ACMLFO-1/flight_delay_project/data/On_Time_Reporting_Carrier_On_Time_Performance_1987_present_2015_1.zip to ../project/data/FlightDelays/On_Time_Reporting_Carrier_On_Time_Performance_1987_present_2015_1.zip\n",
            "download: s3://aws-tc-largeobjects/CUR-TF-200-ACMLFO-1/flight_delay_project/data/On_Time_Reporting_Carrier_On_Time_Performance_1987_present_2015_10.zip to ../project/data/FlightDelays/On_Time_Reporting_Carrier_On_Time_Performance_1987_present_2015_10.zip\n",
            "download: s3://aws-tc-largeobjects/CUR-TF-200-ACMLFO-1/flight_delay_project/data/On_Time_Reporting_Carrier_On_Time_Performance_1987_present_2015_12.zip to ../project/data/FlightDelays/On_Time_Reporting_Carrier_On_Time_Performance_1987_present_2015_12.zip\n",
            "download: s3://aws-tc-largeobjects/CUR-TF-200-ACMLFO-1/flight_delay_project/data/On_Time_Reporting_Carrier_On_Time_Performance_1987_present_2015_2.zip to ../project/data/FlightDelays/On_Time_Reporting_Carrier_On_Time_Performance_1987_present_2015_2.zip\n",
            "download: s3://aws-tc-largeobjects/CUR-TF-200-ACMLFO-1/flight_delay_project/data/On_Time_Reporting_Carrier_On_Time_Performance_1987_present_2015_3.zip to ../project/data/FlightDelays/On_Time_Reporting_Carrier_On_Time_Performance_1987_present_2015_3.zip\n",
            "download: s3://aws-tc-largeobjects/CUR-TF-200-ACMLFO-1/flight_delay_project/data/On_Time_Reporting_Carrier_On_Time_Performance_1987_present_2015_4.zip to ../project/data/FlightDelays/On_Time_Reporting_Carrier_On_Time_Performance_1987_present_2015_4.zip\n",
            "download: s3://aws-tc-largeobjects/CUR-TF-200-ACMLFO-1/flight_delay_project/data/On_Time_Reporting_Carrier_On_Time_Performance_1987_present_2015_7.zip to ../project/data/FlightDelays/On_Time_Reporting_Carrier_On_Time_Performance_1987_present_2015_7.zip\n",
            "download: s3://aws-tc-largeobjects/CUR-TF-200-ACMLFO-1/flight_delay_project/data/On_Time_Reporting_Carrier_On_Time_Performance_1987_present_2015_5.zip to ../project/data/FlightDelays/On_Time_Reporting_Carrier_On_Time_Performance_1987_present_2015_5.zip\n",
            "download: s3://aws-tc-largeobjects/CUR-TF-200-ACMLFO-1/flight_delay_project/data/On_Time_Reporting_Carrier_On_Time_Performance_1987_present_2015_6.zip to ../project/data/FlightDelays/On_Time_Reporting_Carrier_On_Time_Performance_1987_present_2015_6.zip\n",
            "download: s3://aws-tc-largeobjects/CUR-TF-200-ACMLFO-1/flight_delay_project/data/On_Time_Reporting_Carrier_On_Time_Performance_1987_present_2016_1.zip to ../project/data/FlightDelays/On_Time_Reporting_Carrier_On_Time_Performance_1987_present_2016_1.zip\n",
            "download: s3://aws-tc-largeobjects/CUR-TF-200-ACMLFO-1/flight_delay_project/data/On_Time_Reporting_Carrier_On_Time_Performance_1987_present_2015_9.zip to ../project/data/FlightDelays/On_Time_Reporting_Carrier_On_Time_Performance_1987_present_2015_9.zip\n",
            "download: s3://aws-tc-largeobjects/CUR-TF-200-ACMLFO-1/flight_delay_project/data/On_Time_Reporting_Carrier_On_Time_Performance_1987_present_2015_8.zip to ../project/data/FlightDelays/On_Time_Reporting_Carrier_On_Time_Performance_1987_present_2015_8.zip\n",
            "download: s3://aws-tc-largeobjects/CUR-TF-200-ACMLFO-1/flight_delay_project/data/On_Time_Reporting_Carrier_On_Time_Performance_1987_present_2016_10.zip to ../project/data/FlightDelays/On_Time_Reporting_Carrier_On_Time_Performance_1987_present_2016_10.zip\n",
            "download: s3://aws-tc-largeobjects/CUR-TF-200-ACMLFO-1/flight_delay_project/data/On_Time_Reporting_Carrier_On_Time_Performance_1987_present_2016_2.zip to ../project/data/FlightDelays/On_Time_Reporting_Carrier_On_Time_Performance_1987_present_2016_2.zip\n",
            "download: s3://aws-tc-largeobjects/CUR-TF-200-ACMLFO-1/flight_delay_project/data/On_Time_Reporting_Carrier_On_Time_Performance_1987_present_2016_11.zip to ../project/data/FlightDelays/On_Time_Reporting_Carrier_On_Time_Performance_1987_present_2016_11.zip\n",
            "download: s3://aws-tc-largeobjects/CUR-TF-200-ACMLFO-1/flight_delay_project/data/On_Time_Reporting_Carrier_On_Time_Performance_1987_present_2016_12.zip to ../project/data/FlightDelays/On_Time_Reporting_Carrier_On_Time_Performance_1987_present_2016_12.zip\n",
            "download: s3://aws-tc-largeobjects/CUR-TF-200-ACMLFO-1/flight_delay_project/data/On_Time_Reporting_Carrier_On_Time_Performance_1987_present_2016_4.zip to ../project/data/FlightDelays/On_Time_Reporting_Carrier_On_Time_Performance_1987_present_2016_4.zip\n",
            "download: s3://aws-tc-largeobjects/CUR-TF-200-ACMLFO-1/flight_delay_project/data/On_Time_Reporting_Carrier_On_Time_Performance_1987_present_2016_3.zip to ../project/data/FlightDelays/On_Time_Reporting_Carrier_On_Time_Performance_1987_present_2016_3.zip\n",
            "download: s3://aws-tc-largeobjects/CUR-TF-200-ACMLFO-1/flight_delay_project/data/On_Time_Reporting_Carrier_On_Time_Performance_1987_present_2016_5.zip to ../project/data/FlightDelays/On_Time_Reporting_Carrier_On_Time_Performance_1987_present_2016_5.zip\n",
            "download: s3://aws-tc-largeobjects/CUR-TF-200-ACMLFO-1/flight_delay_project/data/On_Time_Reporting_Carrier_On_Time_Performance_1987_present_2016_7.zip to ../project/data/FlightDelays/On_Time_Reporting_Carrier_On_Time_Performance_1987_present_2016_7.zip\n",
            "download: s3://aws-tc-largeobjects/CUR-TF-200-ACMLFO-1/flight_delay_project/data/On_Time_Reporting_Carrier_On_Time_Performance_1987_present_2016_9.zip to ../project/data/FlightDelays/On_Time_Reporting_Carrier_On_Time_Performance_1987_present_2016_9.zip\n",
            "download: s3://aws-tc-largeobjects/CUR-TF-200-ACMLFO-1/flight_delay_project/data/On_Time_Reporting_Carrier_On_Time_Performance_1987_present_2016_8.zip to ../project/data/FlightDelays/On_Time_Reporting_Carrier_On_Time_Performance_1987_present_2016_8.zip\n",
            "download: s3://aws-tc-largeobjects/CUR-TF-200-ACMLFO-1/flight_delay_project/data/On_Time_Reporting_Carrier_On_Time_Performance_1987_present_2017_1.zip to ../project/data/FlightDelays/On_Time_Reporting_Carrier_On_Time_Performance_1987_present_2017_1.zip\n",
            "download: s3://aws-tc-largeobjects/CUR-TF-200-ACMLFO-1/flight_delay_project/data/On_Time_Reporting_Carrier_On_Time_Performance_1987_present_2017_11.zip to ../project/data/FlightDelays/On_Time_Reporting_Carrier_On_Time_Performance_1987_present_2017_11.zip\n",
            "download: s3://aws-tc-largeobjects/CUR-TF-200-ACMLFO-1/flight_delay_project/data/On_Time_Reporting_Carrier_On_Time_Performance_1987_present_2017_10.zip to ../project/data/FlightDelays/On_Time_Reporting_Carrier_On_Time_Performance_1987_present_2017_10.zip\n",
            "download: s3://aws-tc-largeobjects/CUR-TF-200-ACMLFO-1/flight_delay_project/data/On_Time_Reporting_Carrier_On_Time_Performance_1987_present_2017_2.zip to ../project/data/FlightDelays/On_Time_Reporting_Carrier_On_Time_Performance_1987_present_2017_2.zip\n",
            "download: s3://aws-tc-largeobjects/CUR-TF-200-ACMLFO-1/flight_delay_project/data/On_Time_Reporting_Carrier_On_Time_Performance_1987_present_2017_12.zip to ../project/data/FlightDelays/On_Time_Reporting_Carrier_On_Time_Performance_1987_present_2017_12.zip\n",
            "download: s3://aws-tc-largeobjects/CUR-TF-200-ACMLFO-1/flight_delay_project/data/On_Time_Reporting_Carrier_On_Time_Performance_1987_present_2017_4.zip to ../project/data/FlightDelays/On_Time_Reporting_Carrier_On_Time_Performance_1987_present_2017_4.zip\n",
            "download: s3://aws-tc-largeobjects/CUR-TF-200-ACMLFO-1/flight_delay_project/data/On_Time_Reporting_Carrier_On_Time_Performance_1987_present_2017_3.zip to ../project/data/FlightDelays/On_Time_Reporting_Carrier_On_Time_Performance_1987_present_2017_3.zip\n",
            "download: s3://aws-tc-largeobjects/CUR-TF-200-ACMLFO-1/flight_delay_project/data/On_Time_Reporting_Carrier_On_Time_Performance_1987_present_2016_6.zip to ../project/data/FlightDelays/On_Time_Reporting_Carrier_On_Time_Performance_1987_present_2016_6.zip\n",
            "download: s3://aws-tc-largeobjects/CUR-TF-200-ACMLFO-1/flight_delay_project/data/On_Time_Reporting_Carrier_On_Time_Performance_1987_present_2017_6.zip to ../project/data/FlightDelays/On_Time_Reporting_Carrier_On_Time_Performance_1987_present_2017_6.zip\n",
            "download: s3://aws-tc-largeobjects/CUR-TF-200-ACMLFO-1/flight_delay_project/data/On_Time_Reporting_Carrier_On_Time_Performance_1987_present_2017_5.zip to ../project/data/FlightDelays/On_Time_Reporting_Carrier_On_Time_Performance_1987_present_2017_5.zip\n",
            "download: s3://aws-tc-largeobjects/CUR-TF-200-ACMLFO-1/flight_delay_project/data/On_Time_Reporting_Carrier_On_Time_Performance_1987_present_2017_7.zip to ../project/data/FlightDelays/On_Time_Reporting_Carrier_On_Time_Performance_1987_present_2017_7.zip\n",
            "download: s3://aws-tc-largeobjects/CUR-TF-200-ACMLFO-1/flight_delay_project/data/On_Time_Reporting_Carrier_On_Time_Performance_1987_present_2017_8.zip to ../project/data/FlightDelays/On_Time_Reporting_Carrier_On_Time_Performance_1987_present_2017_8.zip\n",
            "download: s3://aws-tc-largeobjects/CUR-TF-200-ACMLFO-1/flight_delay_project/data/On_Time_Reporting_Carrier_On_Time_Performance_1987_present_2017_9.zip to ../project/data/FlightDelays/On_Time_Reporting_Carrier_On_Time_Performance_1987_present_2017_9.zip\n",
            "download: s3://aws-tc-largeobjects/CUR-TF-200-ACMLFO-1/flight_delay_project/data/On_Time_Reporting_Carrier_On_Time_Performance_1987_present_2018_1.zip to ../project/data/FlightDelays/On_Time_Reporting_Carrier_On_Time_Performance_1987_present_2018_1.zip\n",
            "download: s3://aws-tc-largeobjects/CUR-TF-200-ACMLFO-1/flight_delay_project/data/On_Time_Reporting_Carrier_On_Time_Performance_1987_present_2018_10.zip to ../project/data/FlightDelays/On_Time_Reporting_Carrier_On_Time_Performance_1987_present_2018_10.zip\n",
            "download: s3://aws-tc-largeobjects/CUR-TF-200-ACMLFO-1/flight_delay_project/data/On_Time_Reporting_Carrier_On_Time_Performance_1987_present_2018_2.zip to ../project/data/FlightDelays/On_Time_Reporting_Carrier_On_Time_Performance_1987_present_2018_2.zip\n",
            "download: s3://aws-tc-largeobjects/CUR-TF-200-ACMLFO-1/flight_delay_project/data/On_Time_Reporting_Carrier_On_Time_Performance_1987_present_2018_11.zip to ../project/data/FlightDelays/On_Time_Reporting_Carrier_On_Time_Performance_1987_present_2018_11.zip\n",
            "download: s3://aws-tc-largeobjects/CUR-TF-200-ACMLFO-1/flight_delay_project/data/On_Time_Reporting_Carrier_On_Time_Performance_1987_present_2018_12.zip to ../project/data/FlightDelays/On_Time_Reporting_Carrier_On_Time_Performance_1987_present_2018_12.zip\n",
            "download: s3://aws-tc-largeobjects/CUR-TF-200-ACMLFO-1/flight_delay_project/data/On_Time_Reporting_Carrier_On_Time_Performance_1987_present_2018_3.zip to ../project/data/FlightDelays/On_Time_Reporting_Carrier_On_Time_Performance_1987_present_2018_3.zip\n",
            "download: s3://aws-tc-largeobjects/CUR-TF-200-ACMLFO-1/flight_delay_project/data/On_Time_Reporting_Carrier_On_Time_Performance_1987_present_2018_4.zip to ../project/data/FlightDelays/On_Time_Reporting_Carrier_On_Time_Performance_1987_present_2018_4.zip\n",
            "download: s3://aws-tc-largeobjects/CUR-TF-200-ACMLFO-1/flight_delay_project/data/On_Time_Reporting_Carrier_On_Time_Performance_1987_present_2018_5.zip to ../project/data/FlightDelays/On_Time_Reporting_Carrier_On_Time_Performance_1987_present_2018_5.zip\n",
            "download: s3://aws-tc-largeobjects/CUR-TF-200-ACMLFO-1/flight_delay_project/data/On_Time_Reporting_Carrier_On_Time_Performance_1987_present_2018_7.zip to ../project/data/FlightDelays/On_Time_Reporting_Carrier_On_Time_Performance_1987_present_2018_7.zip\n",
            "download: s3://aws-tc-largeobjects/CUR-TF-200-ACMLFO-1/flight_delay_project/data/On_Time_Reporting_Carrier_On_Time_Performance_1987_present_2018_9.zip to ../project/data/FlightDelays/On_Time_Reporting_Carrier_On_Time_Performance_1987_present_2018_9.zip\n",
            "download: s3://aws-tc-largeobjects/CUR-TF-200-ACMLFO-1/flight_delay_project/data/On_Time_Reporting_Carrier_On_Time_Performance_1987_present_2018_6.zip to ../project/data/FlightDelays/On_Time_Reporting_Carrier_On_Time_Performance_1987_present_2018_6.zip\n",
            "download: s3://aws-tc-largeobjects/CUR-TF-200-ACMLFO-1/flight_delay_project/data/On_Time_Reporting_Carrier_On_Time_Performance_1987_present_2018_8.zip to ../project/data/FlightDelays/On_Time_Reporting_Carrier_On_Time_Performance_1987_present_2018_8.zip\n"
          ]
        }
      ],
      "source": [
        "# download the files\n",
        "\n",
        "zip_path = '/home/ec2-user/SageMaker/project/data/FlightDelays/'\n",
        "base_path = '/home/ec2-user/SageMaker/project/data/FlightDelays/'\n",
        "csv_base_path = '/home/ec2-user/SageMaker/project/data/csvFlightDelays/'\n",
        "\n",
        "!mkdir -p {zip_path}\n",
        "!mkdir -p {csv_base_path}\n",
        "!aws s3 cp s3://aws-tc-largeobjects/CUR-TF-200-ACMLFO-1/flight_delay_project/data/ {zip_path} --recursive\n"
      ]
    },
    {
      "cell_type": "code",
      "execution_count": null,
      "metadata": {
        "id": "3Y2dtARUpFDi",
        "outputId": "705f5e73-2a7c-4271-8d9c-ae0d3de6fba0"
      },
      "outputs": [
        {
          "data": {
            "text/plain": [
              "60"
            ]
          },
          "execution_count": 7,
          "metadata": {},
          "output_type": "execute_result"
        }
      ],
      "source": [
        "zip_files = [str(file) for file in list(Path(base_path).iterdir()) if '.zip' in str(file)]\n",
        "len(zip_files)"
      ]
    },
    {
      "cell_type": "markdown",
      "metadata": {
        "id": "Eq0ovvhypFDj"
      },
      "source": [
        "Extract comma-separated values (CSV) files from the .zip files."
      ]
    },
    {
      "cell_type": "code",
      "execution_count": null,
      "metadata": {
        "id": "Ew2A9g-JpFDj",
        "outputId": "e31845ff-5508-4d08-c539-f62edce969a5"
      },
      "outputs": [
        {
          "name": "stdout",
          "output_type": "stream",
          "text": [
            "Extracting /home/ec2-user/SageMaker/project/data/FlightDelays/On_Time_Reporting_Carrier_On_Time_Performance_1987_present_2017_2.zip \n",
            "Extracting /home/ec2-user/SageMaker/project/data/FlightDelays/On_Time_Reporting_Carrier_On_Time_Performance_1987_present_2016_12.zip \n",
            "Extracting /home/ec2-user/SageMaker/project/data/FlightDelays/On_Time_Reporting_Carrier_On_Time_Performance_1987_present_2017_7.zip \n",
            "Extracting /home/ec2-user/SageMaker/project/data/FlightDelays/On_Time_Reporting_Carrier_On_Time_Performance_1987_present_2017_3.zip \n",
            "Extracting /home/ec2-user/SageMaker/project/data/FlightDelays/On_Time_Reporting_Carrier_On_Time_Performance_1987_present_2017_6.zip \n",
            "Extracting /home/ec2-user/SageMaker/project/data/FlightDelays/On_Time_Reporting_Carrier_On_Time_Performance_1987_present_2016_1.zip \n",
            "Extracting /home/ec2-user/SageMaker/project/data/FlightDelays/On_Time_Reporting_Carrier_On_Time_Performance_1987_present_2014_11.zip \n",
            "Extracting /home/ec2-user/SageMaker/project/data/FlightDelays/On_Time_Reporting_Carrier_On_Time_Performance_1987_present_2015_10.zip \n",
            "Extracting /home/ec2-user/SageMaker/project/data/FlightDelays/On_Time_Reporting_Carrier_On_Time_Performance_1987_present_2016_10.zip \n",
            "Extracting /home/ec2-user/SageMaker/project/data/FlightDelays/On_Time_Reporting_Carrier_On_Time_Performance_1987_present_2018_6.zip \n",
            "Extracting /home/ec2-user/SageMaker/project/data/FlightDelays/On_Time_Reporting_Carrier_On_Time_Performance_1987_present_2015_9.zip \n",
            "Extracting /home/ec2-user/SageMaker/project/data/FlightDelays/On_Time_Reporting_Carrier_On_Time_Performance_1987_present_2016_3.zip \n",
            "Extracting /home/ec2-user/SageMaker/project/data/FlightDelays/On_Time_Reporting_Carrier_On_Time_Performance_1987_present_2015_3.zip \n",
            "Extracting /home/ec2-user/SageMaker/project/data/FlightDelays/On_Time_Reporting_Carrier_On_Time_Performance_1987_present_2018_8.zip \n",
            "Extracting /home/ec2-user/SageMaker/project/data/FlightDelays/On_Time_Reporting_Carrier_On_Time_Performance_1987_present_2016_11.zip \n",
            "Extracting /home/ec2-user/SageMaker/project/data/FlightDelays/On_Time_Reporting_Carrier_On_Time_Performance_1987_present_2014_10.zip \n",
            "Extracting /home/ec2-user/SageMaker/project/data/FlightDelays/On_Time_Reporting_Carrier_On_Time_Performance_1987_present_2016_4.zip \n",
            "Extracting /home/ec2-user/SageMaker/project/data/FlightDelays/On_Time_Reporting_Carrier_On_Time_Performance_1987_present_2017_11.zip \n",
            "Extracting /home/ec2-user/SageMaker/project/data/FlightDelays/On_Time_Reporting_Carrier_On_Time_Performance_1987_present_2014_6.zip \n",
            "Extracting /home/ec2-user/SageMaker/project/data/FlightDelays/On_Time_Reporting_Carrier_On_Time_Performance_1987_present_2014_2.zip \n",
            "Extracting /home/ec2-user/SageMaker/project/data/FlightDelays/On_Time_Reporting_Carrier_On_Time_Performance_1987_present_2018_12.zip \n",
            "Extracting /home/ec2-user/SageMaker/project/data/FlightDelays/On_Time_Reporting_Carrier_On_Time_Performance_1987_present_2016_6.zip \n",
            "Extracting /home/ec2-user/SageMaker/project/data/FlightDelays/On_Time_Reporting_Carrier_On_Time_Performance_1987_present_2015_6.zip \n",
            "Extracting /home/ec2-user/SageMaker/project/data/FlightDelays/On_Time_Reporting_Carrier_On_Time_Performance_1987_present_2014_4.zip \n",
            "Extracting /home/ec2-user/SageMaker/project/data/FlightDelays/On_Time_Reporting_Carrier_On_Time_Performance_1987_present_2014_12.zip \n",
            "Extracting /home/ec2-user/SageMaker/project/data/FlightDelays/On_Time_Reporting_Carrier_On_Time_Performance_1987_present_2015_8.zip \n",
            "Extracting /home/ec2-user/SageMaker/project/data/FlightDelays/On_Time_Reporting_Carrier_On_Time_Performance_1987_present_2017_9.zip \n",
            "Extracting /home/ec2-user/SageMaker/project/data/FlightDelays/On_Time_Reporting_Carrier_On_Time_Performance_1987_present_2017_10.zip \n",
            "Extracting /home/ec2-user/SageMaker/project/data/FlightDelays/On_Time_Reporting_Carrier_On_Time_Performance_1987_present_2017_8.zip \n",
            "Extracting /home/ec2-user/SageMaker/project/data/FlightDelays/On_Time_Reporting_Carrier_On_Time_Performance_1987_present_2017_12.zip \n",
            "Extracting /home/ec2-user/SageMaker/project/data/FlightDelays/On_Time_Reporting_Carrier_On_Time_Performance_1987_present_2018_10.zip \n",
            "Extracting /home/ec2-user/SageMaker/project/data/FlightDelays/On_Time_Reporting_Carrier_On_Time_Performance_1987_present_2016_7.zip \n",
            "Extracting /home/ec2-user/SageMaker/project/data/FlightDelays/On_Time_Reporting_Carrier_On_Time_Performance_1987_present_2014_8.zip \n",
            "Extracting /home/ec2-user/SageMaker/project/data/FlightDelays/On_Time_Reporting_Carrier_On_Time_Performance_1987_present_2018_7.zip \n",
            "Extracting /home/ec2-user/SageMaker/project/data/FlightDelays/On_Time_Reporting_Carrier_On_Time_Performance_1987_present_2018_5.zip \n",
            "Extracting /home/ec2-user/SageMaker/project/data/FlightDelays/On_Time_Reporting_Carrier_On_Time_Performance_1987_present_2017_4.zip \n",
            "Extracting /home/ec2-user/SageMaker/project/data/FlightDelays/On_Time_Reporting_Carrier_On_Time_Performance_1987_present_2016_8.zip \n",
            "Extracting /home/ec2-user/SageMaker/project/data/FlightDelays/On_Time_Reporting_Carrier_On_Time_Performance_1987_present_2015_12.zip \n",
            "Extracting /home/ec2-user/SageMaker/project/data/FlightDelays/On_Time_Reporting_Carrier_On_Time_Performance_1987_present_2016_2.zip \n",
            "Extracting /home/ec2-user/SageMaker/project/data/FlightDelays/On_Time_Reporting_Carrier_On_Time_Performance_1987_present_2015_1.zip \n",
            "Extracting /home/ec2-user/SageMaker/project/data/FlightDelays/On_Time_Reporting_Carrier_On_Time_Performance_1987_present_2016_9.zip \n",
            "Extracting /home/ec2-user/SageMaker/project/data/FlightDelays/On_Time_Reporting_Carrier_On_Time_Performance_1987_present_2016_5.zip \n",
            "Extracting /home/ec2-user/SageMaker/project/data/FlightDelays/On_Time_Reporting_Carrier_On_Time_Performance_1987_present_2014_3.zip \n",
            "Extracting /home/ec2-user/SageMaker/project/data/FlightDelays/On_Time_Reporting_Carrier_On_Time_Performance_1987_present_2015_7.zip \n",
            "Extracting /home/ec2-user/SageMaker/project/data/FlightDelays/On_Time_Reporting_Carrier_On_Time_Performance_1987_present_2017_1.zip \n",
            "Extracting /home/ec2-user/SageMaker/project/data/FlightDelays/On_Time_Reporting_Carrier_On_Time_Performance_1987_present_2018_2.zip \n",
            "Extracting /home/ec2-user/SageMaker/project/data/FlightDelays/On_Time_Reporting_Carrier_On_Time_Performance_1987_present_2018_9.zip \n",
            "Extracting /home/ec2-user/SageMaker/project/data/FlightDelays/On_Time_Reporting_Carrier_On_Time_Performance_1987_present_2018_11.zip \n",
            "Extracting /home/ec2-user/SageMaker/project/data/FlightDelays/On_Time_Reporting_Carrier_On_Time_Performance_1987_present_2014_9.zip \n",
            "Extracting /home/ec2-user/SageMaker/project/data/FlightDelays/On_Time_Reporting_Carrier_On_Time_Performance_1987_present_2015_5.zip \n",
            "Extracting /home/ec2-user/SageMaker/project/data/FlightDelays/On_Time_Reporting_Carrier_On_Time_Performance_1987_present_2015_2.zip \n",
            "Extracting /home/ec2-user/SageMaker/project/data/FlightDelays/On_Time_Reporting_Carrier_On_Time_Performance_1987_present_2014_1.zip \n",
            "Extracting /home/ec2-user/SageMaker/project/data/FlightDelays/On_Time_Reporting_Carrier_On_Time_Performance_1987_present_2018_4.zip \n",
            "Extracting /home/ec2-user/SageMaker/project/data/FlightDelays/On_Time_Reporting_Carrier_On_Time_Performance_1987_present_2017_5.zip \n",
            "Extracting /home/ec2-user/SageMaker/project/data/FlightDelays/On_Time_Reporting_Carrier_On_Time_Performance_1987_present_2014_5.zip \n",
            "Extracting /home/ec2-user/SageMaker/project/data/FlightDelays/On_Time_Reporting_Carrier_On_Time_Performance_1987_present_2015_4.zip \n",
            "Extracting /home/ec2-user/SageMaker/project/data/FlightDelays/On_Time_Reporting_Carrier_On_Time_Performance_1987_present_2018_1.zip \n",
            "Extracting /home/ec2-user/SageMaker/project/data/FlightDelays/On_Time_Reporting_Carrier_On_Time_Performance_1987_present_2015_11.zip \n",
            "Extracting /home/ec2-user/SageMaker/project/data/FlightDelays/On_Time_Reporting_Carrier_On_Time_Performance_1987_present_2018_3.zip \n",
            "Extracting /home/ec2-user/SageMaker/project/data/FlightDelays/On_Time_Reporting_Carrier_On_Time_Performance_1987_present_2014_7.zip \n",
            "Files Extracted\n"
          ]
        }
      ],
      "source": [
        "def zip2csv(zipFile_name , file_path):\n",
        "    \"\"\"\n",
        "    Extract csv from zip files\n",
        "    zipFile_name: name of the zip file\n",
        "    file_path : name of the folder to store csv\n",
        "    \"\"\"\n",
        "\n",
        "    try:\n",
        "        with ZipFile(zipFile_name, 'r') as z: \n",
        "            print(f'Extracting {zipFile_name} ') \n",
        "            z.extractall(path=file_path) \n",
        "    except:\n",
        "        print(f'zip2csv failed for {zipFile_name}')\n",
        "\n",
        "for file in zip_files:\n",
        "    zip2csv(file, csv_base_path)\n",
        "\n",
        "print(\"Files Extracted\")"
      ]
    },
    {
      "cell_type": "code",
      "execution_count": null,
      "metadata": {
        "id": "Wki5sfJQpFDj",
        "outputId": "fab67464-77de-4b44-9e00-c7a030ed882b"
      },
      "outputs": [
        {
          "data": {
            "text/plain": [
              "60"
            ]
          },
          "execution_count": 9,
          "metadata": {},
          "output_type": "execute_result"
        }
      ],
      "source": [
        "csv_files = [str(file) for file in list(Path(csv_base_path).iterdir()) if '.csv' in str(file)]\n",
        "len(csv_files)"
      ]
    },
    {
      "cell_type": "markdown",
      "metadata": {
        "id": "ySCQIgl2pFDj"
      },
      "source": [
        "Before you load the CSV file, read the HTML file from the extracted folder. This HTML file includes the background and more information about the features that are included in the dataset."
      ]
    },
    {
      "cell_type": "code",
      "execution_count": null,
      "metadata": {
        "id": "jF3ekbJOpFDk",
        "outputId": "41960f01-1278-4fa2-932f-99c97cc6eef8"
      },
      "outputs": [
        {
          "data": {
            "text/html": [
              "\n",
              "        <iframe\n",
              "            width=\"1000\"\n",
              "            height=\"600\"\n",
              "            src=\"../project/data/csvFlightDelays/readme.html\"\n",
              "            frameborder=\"0\"\n",
              "            allowfullscreen\n",
              "        ></iframe>\n",
              "        "
            ],
            "text/plain": [
              "<IPython.lib.display.IFrame at 0x7f1b083d4d68>"
            ]
          },
          "execution_count": 10,
          "metadata": {},
          "output_type": "execute_result"
        }
      ],
      "source": [
        "from IPython.display import IFrame\n",
        "\n",
        "IFrame(src=os.path.relpath(f\"{csv_base_path}readme.html\"), width=1000, height=600)"
      ]
    },
    {
      "cell_type": "markdown",
      "metadata": {
        "id": "SztECF4rpFDk"
      },
      "source": [
        "#### Load sample CSV file\n",
        "\n",
        "Before you combine all the CSV files, examine the data from a single CSV file. By using pandas, read the `On_Time_Reporting_Carrier_On_Time_Performance_(1987_present)_2018_9.csv` file first. You can use the built-in `read_csv` function in Python ([pandas.read_csv documentation](https://pandas.pydata.org/pandas-docs/stable/reference/api/pandas.read_csv.html))."
      ]
    },
    {
      "cell_type": "code",
      "execution_count": null,
      "metadata": {
        "id": "AOWaYcpFpFDk"
      },
      "outputs": [],
      "source": [
        "df_temp = pd.read_csv(f\"{csv_base_path}On_Time_Reporting_Carrier_On_Time_Performance_(1987_present)_2018_9.csv\")"
      ]
    },
    {
      "cell_type": "markdown",
      "metadata": {
        "id": "pI1AUmPQpFDk"
      },
      "source": [
        "**Question**: Print the row and column length in the dataset, and print the column names.\n",
        "\n",
        "**Hint**: To view the rows and columns of a DataFrame, use the `<DataFrame>.shape` function. To view the column names, use the `<DataFrame>.columns` function."
      ]
    },
    {
      "cell_type": "code",
      "execution_count": null,
      "metadata": {
        "id": "0yhwDgldpFDl",
        "outputId": "40d7e44f-1b8d-4e27-f69c-110fe8f0da4f"
      },
      "outputs": [
        {
          "name": "stdout",
          "output_type": "stream",
          "text": [
            "Rows and columns in one CSV file is (585749, 110)\n"
          ]
        }
      ],
      "source": [
        "#ANSWER\n",
        "df_shape =  df_temp.shape\n",
        "print(f'Rows and columns in one CSV file is {df_shape}')"
      ]
    },
    {
      "cell_type": "markdown",
      "metadata": {
        "id": "KOhSPyCypFDl"
      },
      "source": [
        "**Question**: Print the first 10 rows of the dataset.  \n",
        "\n",
        "**Hint**: To print `x` number of rows, use the built-in `head(x)` function in pandas."
      ]
    },
    {
      "cell_type": "code",
      "execution_count": null,
      "metadata": {
        "id": "gRcD72CzpFDl",
        "outputId": "ed9551c8-1b3f-409f-9d2b-a93e6a5737b0"
      },
      "outputs": [
        {
          "data": {
            "text/html": [
              "<div>\n",
              "<style scoped>\n",
              "    .dataframe tbody tr th:only-of-type {\n",
              "        vertical-align: middle;\n",
              "    }\n",
              "\n",
              "    .dataframe tbody tr th {\n",
              "        vertical-align: top;\n",
              "    }\n",
              "\n",
              "    .dataframe thead th {\n",
              "        text-align: right;\n",
              "    }\n",
              "</style>\n",
              "<table border=\"1\" class=\"dataframe\">\n",
              "  <thead>\n",
              "    <tr style=\"text-align: right;\">\n",
              "      <th></th>\n",
              "      <th>Year</th>\n",
              "      <th>Quarter</th>\n",
              "      <th>Month</th>\n",
              "      <th>DayofMonth</th>\n",
              "      <th>DayOfWeek</th>\n",
              "      <th>FlightDate</th>\n",
              "      <th>Reporting_Airline</th>\n",
              "      <th>DOT_ID_Reporting_Airline</th>\n",
              "      <th>IATA_CODE_Reporting_Airline</th>\n",
              "      <th>Tail_Number</th>\n",
              "      <th>...</th>\n",
              "      <th>Div4TailNum</th>\n",
              "      <th>Div5Airport</th>\n",
              "      <th>Div5AirportID</th>\n",
              "      <th>Div5AirportSeqID</th>\n",
              "      <th>Div5WheelsOn</th>\n",
              "      <th>Div5TotalGTime</th>\n",
              "      <th>Div5LongestGTime</th>\n",
              "      <th>Div5WheelsOff</th>\n",
              "      <th>Div5TailNum</th>\n",
              "      <th>Unnamed: 109</th>\n",
              "    </tr>\n",
              "  </thead>\n",
              "  <tbody>\n",
              "    <tr>\n",
              "      <th>0</th>\n",
              "      <td>2018</td>\n",
              "      <td>3</td>\n",
              "      <td>9</td>\n",
              "      <td>3</td>\n",
              "      <td>1</td>\n",
              "      <td>2018-09-03</td>\n",
              "      <td>9E</td>\n",
              "      <td>20363</td>\n",
              "      <td>9E</td>\n",
              "      <td>N908XJ</td>\n",
              "      <td>...</td>\n",
              "      <td>NaN</td>\n",
              "      <td>NaN</td>\n",
              "      <td>NaN</td>\n",
              "      <td>NaN</td>\n",
              "      <td>NaN</td>\n",
              "      <td>NaN</td>\n",
              "      <td>NaN</td>\n",
              "      <td>NaN</td>\n",
              "      <td>NaN</td>\n",
              "      <td>NaN</td>\n",
              "    </tr>\n",
              "    <tr>\n",
              "      <th>1</th>\n",
              "      <td>2018</td>\n",
              "      <td>3</td>\n",
              "      <td>9</td>\n",
              "      <td>9</td>\n",
              "      <td>7</td>\n",
              "      <td>2018-09-09</td>\n",
              "      <td>9E</td>\n",
              "      <td>20363</td>\n",
              "      <td>9E</td>\n",
              "      <td>N315PQ</td>\n",
              "      <td>...</td>\n",
              "      <td>NaN</td>\n",
              "      <td>NaN</td>\n",
              "      <td>NaN</td>\n",
              "      <td>NaN</td>\n",
              "      <td>NaN</td>\n",
              "      <td>NaN</td>\n",
              "      <td>NaN</td>\n",
              "      <td>NaN</td>\n",
              "      <td>NaN</td>\n",
              "      <td>NaN</td>\n",
              "    </tr>\n",
              "    <tr>\n",
              "      <th>2</th>\n",
              "      <td>2018</td>\n",
              "      <td>3</td>\n",
              "      <td>9</td>\n",
              "      <td>10</td>\n",
              "      <td>1</td>\n",
              "      <td>2018-09-10</td>\n",
              "      <td>9E</td>\n",
              "      <td>20363</td>\n",
              "      <td>9E</td>\n",
              "      <td>N582CA</td>\n",
              "      <td>...</td>\n",
              "      <td>NaN</td>\n",
              "      <td>NaN</td>\n",
              "      <td>NaN</td>\n",
              "      <td>NaN</td>\n",
              "      <td>NaN</td>\n",
              "      <td>NaN</td>\n",
              "      <td>NaN</td>\n",
              "      <td>NaN</td>\n",
              "      <td>NaN</td>\n",
              "      <td>NaN</td>\n",
              "    </tr>\n",
              "    <tr>\n",
              "      <th>3</th>\n",
              "      <td>2018</td>\n",
              "      <td>3</td>\n",
              "      <td>9</td>\n",
              "      <td>13</td>\n",
              "      <td>4</td>\n",
              "      <td>2018-09-13</td>\n",
              "      <td>9E</td>\n",
              "      <td>20363</td>\n",
              "      <td>9E</td>\n",
              "      <td>N292PQ</td>\n",
              "      <td>...</td>\n",
              "      <td>NaN</td>\n",
              "      <td>NaN</td>\n",
              "      <td>NaN</td>\n",
              "      <td>NaN</td>\n",
              "      <td>NaN</td>\n",
              "      <td>NaN</td>\n",
              "      <td>NaN</td>\n",
              "      <td>NaN</td>\n",
              "      <td>NaN</td>\n",
              "      <td>NaN</td>\n",
              "    </tr>\n",
              "    <tr>\n",
              "      <th>4</th>\n",
              "      <td>2018</td>\n",
              "      <td>3</td>\n",
              "      <td>9</td>\n",
              "      <td>14</td>\n",
              "      <td>5</td>\n",
              "      <td>2018-09-14</td>\n",
              "      <td>9E</td>\n",
              "      <td>20363</td>\n",
              "      <td>9E</td>\n",
              "      <td>N600LR</td>\n",
              "      <td>...</td>\n",
              "      <td>NaN</td>\n",
              "      <td>NaN</td>\n",
              "      <td>NaN</td>\n",
              "      <td>NaN</td>\n",
              "      <td>NaN</td>\n",
              "      <td>NaN</td>\n",
              "      <td>NaN</td>\n",
              "      <td>NaN</td>\n",
              "      <td>NaN</td>\n",
              "      <td>NaN</td>\n",
              "    </tr>\n",
              "    <tr>\n",
              "      <th>5</th>\n",
              "      <td>2018</td>\n",
              "      <td>3</td>\n",
              "      <td>9</td>\n",
              "      <td>16</td>\n",
              "      <td>7</td>\n",
              "      <td>2018-09-16</td>\n",
              "      <td>9E</td>\n",
              "      <td>20363</td>\n",
              "      <td>9E</td>\n",
              "      <td>N316PQ</td>\n",
              "      <td>...</td>\n",
              "      <td>NaN</td>\n",
              "      <td>NaN</td>\n",
              "      <td>NaN</td>\n",
              "      <td>NaN</td>\n",
              "      <td>NaN</td>\n",
              "      <td>NaN</td>\n",
              "      <td>NaN</td>\n",
              "      <td>NaN</td>\n",
              "      <td>NaN</td>\n",
              "      <td>NaN</td>\n",
              "    </tr>\n",
              "    <tr>\n",
              "      <th>6</th>\n",
              "      <td>2018</td>\n",
              "      <td>3</td>\n",
              "      <td>9</td>\n",
              "      <td>17</td>\n",
              "      <td>1</td>\n",
              "      <td>2018-09-17</td>\n",
              "      <td>9E</td>\n",
              "      <td>20363</td>\n",
              "      <td>9E</td>\n",
              "      <td>N916XJ</td>\n",
              "      <td>...</td>\n",
              "      <td>NaN</td>\n",
              "      <td>NaN</td>\n",
              "      <td>NaN</td>\n",
              "      <td>NaN</td>\n",
              "      <td>NaN</td>\n",
              "      <td>NaN</td>\n",
              "      <td>NaN</td>\n",
              "      <td>NaN</td>\n",
              "      <td>NaN</td>\n",
              "      <td>NaN</td>\n",
              "    </tr>\n",
              "    <tr>\n",
              "      <th>7</th>\n",
              "      <td>2018</td>\n",
              "      <td>3</td>\n",
              "      <td>9</td>\n",
              "      <td>20</td>\n",
              "      <td>4</td>\n",
              "      <td>2018-09-20</td>\n",
              "      <td>9E</td>\n",
              "      <td>20363</td>\n",
              "      <td>9E</td>\n",
              "      <td>N371CA</td>\n",
              "      <td>...</td>\n",
              "      <td>NaN</td>\n",
              "      <td>NaN</td>\n",
              "      <td>NaN</td>\n",
              "      <td>NaN</td>\n",
              "      <td>NaN</td>\n",
              "      <td>NaN</td>\n",
              "      <td>NaN</td>\n",
              "      <td>NaN</td>\n",
              "      <td>NaN</td>\n",
              "      <td>NaN</td>\n",
              "    </tr>\n",
              "    <tr>\n",
              "      <th>8</th>\n",
              "      <td>2018</td>\n",
              "      <td>3</td>\n",
              "      <td>9</td>\n",
              "      <td>21</td>\n",
              "      <td>5</td>\n",
              "      <td>2018-09-21</td>\n",
              "      <td>9E</td>\n",
              "      <td>20363</td>\n",
              "      <td>9E</td>\n",
              "      <td>N601LR</td>\n",
              "      <td>...</td>\n",
              "      <td>NaN</td>\n",
              "      <td>NaN</td>\n",
              "      <td>NaN</td>\n",
              "      <td>NaN</td>\n",
              "      <td>NaN</td>\n",
              "      <td>NaN</td>\n",
              "      <td>NaN</td>\n",
              "      <td>NaN</td>\n",
              "      <td>NaN</td>\n",
              "      <td>NaN</td>\n",
              "    </tr>\n",
              "    <tr>\n",
              "      <th>9</th>\n",
              "      <td>2018</td>\n",
              "      <td>3</td>\n",
              "      <td>9</td>\n",
              "      <td>23</td>\n",
              "      <td>7</td>\n",
              "      <td>2018-09-23</td>\n",
              "      <td>9E</td>\n",
              "      <td>20363</td>\n",
              "      <td>9E</td>\n",
              "      <td>N906XJ</td>\n",
              "      <td>...</td>\n",
              "      <td>NaN</td>\n",
              "      <td>NaN</td>\n",
              "      <td>NaN</td>\n",
              "      <td>NaN</td>\n",
              "      <td>NaN</td>\n",
              "      <td>NaN</td>\n",
              "      <td>NaN</td>\n",
              "      <td>NaN</td>\n",
              "      <td>NaN</td>\n",
              "      <td>NaN</td>\n",
              "    </tr>\n",
              "  </tbody>\n",
              "</table>\n",
              "<p>10 rows × 110 columns</p>\n",
              "</div>"
            ],
            "text/plain": [
              "   Year  Quarter  Month  DayofMonth  DayOfWeek  FlightDate Reporting_Airline  \\\n",
              "0  2018        3      9           3          1  2018-09-03                9E   \n",
              "1  2018        3      9           9          7  2018-09-09                9E   \n",
              "2  2018        3      9          10          1  2018-09-10                9E   \n",
              "3  2018        3      9          13          4  2018-09-13                9E   \n",
              "4  2018        3      9          14          5  2018-09-14                9E   \n",
              "5  2018        3      9          16          7  2018-09-16                9E   \n",
              "6  2018        3      9          17          1  2018-09-17                9E   \n",
              "7  2018        3      9          20          4  2018-09-20                9E   \n",
              "8  2018        3      9          21          5  2018-09-21                9E   \n",
              "9  2018        3      9          23          7  2018-09-23                9E   \n",
              "\n",
              "   DOT_ID_Reporting_Airline IATA_CODE_Reporting_Airline Tail_Number  ...  \\\n",
              "0                     20363                          9E      N908XJ  ...   \n",
              "1                     20363                          9E      N315PQ  ...   \n",
              "2                     20363                          9E      N582CA  ...   \n",
              "3                     20363                          9E      N292PQ  ...   \n",
              "4                     20363                          9E      N600LR  ...   \n",
              "5                     20363                          9E      N316PQ  ...   \n",
              "6                     20363                          9E      N916XJ  ...   \n",
              "7                     20363                          9E      N371CA  ...   \n",
              "8                     20363                          9E      N601LR  ...   \n",
              "9                     20363                          9E      N906XJ  ...   \n",
              "\n",
              "   Div4TailNum  Div5Airport  Div5AirportID  Div5AirportSeqID Div5WheelsOn  \\\n",
              "0          NaN          NaN            NaN               NaN          NaN   \n",
              "1          NaN          NaN            NaN               NaN          NaN   \n",
              "2          NaN          NaN            NaN               NaN          NaN   \n",
              "3          NaN          NaN            NaN               NaN          NaN   \n",
              "4          NaN          NaN            NaN               NaN          NaN   \n",
              "5          NaN          NaN            NaN               NaN          NaN   \n",
              "6          NaN          NaN            NaN               NaN          NaN   \n",
              "7          NaN          NaN            NaN               NaN          NaN   \n",
              "8          NaN          NaN            NaN               NaN          NaN   \n",
              "9          NaN          NaN            NaN               NaN          NaN   \n",
              "\n",
              "  Div5TotalGTime Div5LongestGTime  Div5WheelsOff Div5TailNum  Unnamed: 109  \n",
              "0            NaN              NaN            NaN         NaN           NaN  \n",
              "1            NaN              NaN            NaN         NaN           NaN  \n",
              "2            NaN              NaN            NaN         NaN           NaN  \n",
              "3            NaN              NaN            NaN         NaN           NaN  \n",
              "4            NaN              NaN            NaN         NaN           NaN  \n",
              "5            NaN              NaN            NaN         NaN           NaN  \n",
              "6            NaN              NaN            NaN         NaN           NaN  \n",
              "7            NaN              NaN            NaN         NaN           NaN  \n",
              "8            NaN              NaN            NaN         NaN           NaN  \n",
              "9            NaN              NaN            NaN         NaN           NaN  \n",
              "\n",
              "[10 rows x 110 columns]"
            ]
          },
          "execution_count": 13,
          "metadata": {},
          "output_type": "execute_result"
        }
      ],
      "source": [
        "# ANSWER\n",
        "df_temp.head(10)"
      ]
    },
    {
      "cell_type": "markdown",
      "metadata": {
        "id": "nvElGTs9pFDl"
      },
      "source": [
        "**Question**: Print all the columns in the dataset. To view the column names, use `<DataFrame>.columns`."
      ]
    },
    {
      "cell_type": "code",
      "execution_count": null,
      "metadata": {
        "id": "S-5X2VJZpFDl",
        "outputId": "470b4966-7357-44e8-fb3c-8f265f4cddf3"
      },
      "outputs": [
        {
          "name": "stdout",
          "output_type": "stream",
          "text": [
            "The column names are :\n",
            "#########\n",
            "Year\n",
            "Quarter\n",
            "Month\n",
            "DayofMonth\n",
            "DayOfWeek\n",
            "FlightDate\n",
            "Reporting_Airline\n",
            "DOT_ID_Reporting_Airline\n",
            "IATA_CODE_Reporting_Airline\n",
            "Tail_Number\n",
            "Flight_Number_Reporting_Airline\n",
            "OriginAirportID\n",
            "OriginAirportSeqID\n",
            "OriginCityMarketID\n",
            "Origin\n",
            "OriginCityName\n",
            "OriginState\n",
            "OriginStateFips\n",
            "OriginStateName\n",
            "OriginWac\n",
            "DestAirportID\n",
            "DestAirportSeqID\n",
            "DestCityMarketID\n",
            "Dest\n",
            "DestCityName\n",
            "DestState\n",
            "DestStateFips\n",
            "DestStateName\n",
            "DestWac\n",
            "CRSDepTime\n",
            "DepTime\n",
            "DepDelay\n",
            "DepDelayMinutes\n",
            "DepDel15\n",
            "DepartureDelayGroups\n",
            "DepTimeBlk\n",
            "TaxiOut\n",
            "WheelsOff\n",
            "WheelsOn\n",
            "TaxiIn\n",
            "CRSArrTime\n",
            "ArrTime\n",
            "ArrDelay\n",
            "ArrDelayMinutes\n",
            "ArrDel15\n",
            "ArrivalDelayGroups\n",
            "ArrTimeBlk\n",
            "Cancelled\n",
            "CancellationCode\n",
            "Diverted\n",
            "CRSElapsedTime\n",
            "ActualElapsedTime\n",
            "AirTime\n",
            "Flights\n",
            "Distance\n",
            "DistanceGroup\n",
            "CarrierDelay\n",
            "WeatherDelay\n",
            "NASDelay\n",
            "SecurityDelay\n",
            "LateAircraftDelay\n",
            "FirstDepTime\n",
            "TotalAddGTime\n",
            "LongestAddGTime\n",
            "DivAirportLandings\n",
            "DivReachedDest\n",
            "DivActualElapsedTime\n",
            "DivArrDelay\n",
            "DivDistance\n",
            "Div1Airport\n",
            "Div1AirportID\n",
            "Div1AirportSeqID\n",
            "Div1WheelsOn\n",
            "Div1TotalGTime\n",
            "Div1LongestGTime\n",
            "Div1WheelsOff\n",
            "Div1TailNum\n",
            "Div2Airport\n",
            "Div2AirportID\n",
            "Div2AirportSeqID\n",
            "Div2WheelsOn\n",
            "Div2TotalGTime\n",
            "Div2LongestGTime\n",
            "Div2WheelsOff\n",
            "Div2TailNum\n",
            "Div3Airport\n",
            "Div3AirportID\n",
            "Div3AirportSeqID\n",
            "Div3WheelsOn\n",
            "Div3TotalGTime\n",
            "Div3LongestGTime\n",
            "Div3WheelsOff\n",
            "Div3TailNum\n",
            "Div4Airport\n",
            "Div4AirportID\n",
            "Div4AirportSeqID\n",
            "Div4WheelsOn\n",
            "Div4TotalGTime\n",
            "Div4LongestGTime\n",
            "Div4WheelsOff\n",
            "Div4TailNum\n",
            "Div5Airport\n",
            "Div5AirportID\n",
            "Div5AirportSeqID\n",
            "Div5WheelsOn\n",
            "Div5TotalGTime\n",
            "Div5LongestGTime\n",
            "Div5WheelsOff\n",
            "Div5TailNum\n",
            "Unnamed: 109\n"
          ]
        }
      ],
      "source": [
        "print(f'The column names are :')\n",
        "print('#########')\n",
        "#ANSWER\n",
        "for col in df_temp.columns:\n",
        "    print(col)"
      ]
    },
    {
      "cell_type": "markdown",
      "metadata": {
        "id": "rwL5mc1epFDm"
      },
      "source": [
        "**Question**: Print all the columns in the dataset that contain the word *Del*. This will help you see how many columns have *delay data* in them.\n",
        "\n",
        "**Hint**: To include values that pass certain `if` statement criteria, you can use a Python list comprehension.\n",
        "\n",
        "For example: `[x for x in [1,2,3,4,5] if x > 2]`  \n",
        "\n",
        "**Hint**: To check if the value is in a list, you can use the `in` keyword ([Python in Keyword documentation](https://www.w3schools.com/python/ref_keyword_in.asp)). \n",
        "\n",
        "For example: `5 in [1,2,3,4,5]`"
      ]
    },
    {
      "cell_type": "code",
      "execution_count": null,
      "metadata": {
        "id": "-a49f4BFpFDm",
        "outputId": "b4cea1b4-bd9f-4a4b-e41b-23301063885d"
      },
      "outputs": [
        {
          "name": "stdout",
          "output_type": "stream",
          "text": [
            "['DepDelay', 'DepDelayMinutes', 'DepDel15', 'DepartureDelayGroups', 'ArrDelay', 'ArrDelayMinutes', 'ArrDel15', 'ArrivalDelayGroups', 'CarrierDelay', 'WeatherDelay', 'NASDelay', 'SecurityDelay', 'LateAircraftDelay', 'DivArrDelay']\n"
          ]
        }
      ],
      "source": [
        "# ANSWER\n",
        "print ([x for x in df_temp.columns if \"Del\" in x])"
      ]
    },
    {
      "cell_type": "markdown",
      "metadata": {
        "id": "xgHjembapFDm"
      },
      "source": [
        "Here are some more questions to help you learn more about your dataset.\n",
        "\n",
        "**Questions**   \n",
        "\n",
        "1. How many rows and columns does the dataset have?   \n",
        "2. How many years are included in the dataset?   \n",
        "3. What is the date range for the dataset?   \n",
        "4. Which airlines are included in the dataset?   \n",
        "5. Which origin and destination airports are covered?\n",
        "\n",
        "**Hints**\n",
        "- To show the dimensions of the DataFrame, use `df_temp.shape`.\n",
        "- To refer to a specific column, use `df_temp.columnName` (for example, `df_temp.CarrierDelay`).\n",
        "- To get unique values for a column, use `df_temp.column.unique()` (for, example `df_temp.Year.unique()`)."
      ]
    },
    {
      "cell_type": "code",
      "execution_count": null,
      "metadata": {
        "id": "nuYd7czWpFDm",
        "outputId": "7ac41e1b-0d51-432c-ca78-b817aeae2e67"
      },
      "outputs": [
        {
          "name": "stdout",
          "output_type": "stream",
          "text": [
            "The #rows and #columns are  585749  and  110\n",
            "The years in this dataset are:  [2018]\n",
            "The months covered in this dataset are:  [9]\n",
            "The date range for data is : 2018-09-01  to  2018-09-30\n",
            "The airlines covered in this dataset are:  ['9E', 'B6', 'WN', 'YV', 'YX', 'EV', 'AA', 'AS', 'DL', 'HA', 'UA', 'F9', 'G4', 'MQ', 'NK', 'OH', 'OO']\n",
            "The Origin airports covered are:  ['DFW', 'LGA', 'MSN', 'MSP', 'ATL', 'BDL', 'VLD', 'JFK', 'RDU', 'CHS', 'DTW', 'GRB', 'PVD', 'SHV', 'FNT', 'PIT', 'RIC', 'RST', 'RSW', 'CVG', 'LIT', 'ORD', 'JAX', 'TRI', 'BOS', 'CWA', 'DCA', 'CHO', 'AVP', 'IND', 'GRR', 'BTR', 'MEM', 'TUL', 'CLE', 'STL', 'BTV', 'OMA', 'MGM', 'TVC', 'SAV', 'GSP', 'EWR', 'OAJ', 'BNA', 'MCI', 'TLH', 'ROC', 'LEX', 'PWM', 'BUF', 'AGS', 'CLT', 'GSO', 'BWI', 'SAT', 'PHL', 'TYS', 'ACK', 'DSM', 'GNV', 'AVL', 'BGR', 'MHT', 'ILM', 'MOT', 'IAH', 'SBN', 'SYR', 'ORF', 'MKE', 'XNA', 'MSY', 'PBI', 'ABE', 'HPN', 'EVV', 'ALB', 'LNK', 'AUS', 'PHF', 'CHA', 'GTR', 'BMI', 'BQK', 'CID', 'CAK', 'ATW', 'ABY', 'CAE', 'SRQ', 'MLI', 'BHM', 'IAD', 'CSG', 'CMH', 'MCO', 'MBS', 'FLL', 'SDF', 'TPA', 'MVY', 'LAS', 'LGB', 'SFO', 'SAN', 'LAX', 'RNO', 'PDX', 'ANC', 'ABQ', 'SLC', 'DEN', 'PHX', 'OAK', 'SMF', 'SJU', 'SEA', 'HOU', 'STX', 'BUR', 'SWF', 'SJC', 'DAB', 'BQN', 'PSE', 'ORH', 'HYA', 'STT', 'ONT', 'HRL', 'ICT', 'ISP', 'LBB', 'MAF', 'MDW', 'OKC', 'PNS', 'SNA', 'TUS', 'AMA', 'BOI', 'CRP', 'DAL', 'ECP', 'ELP', 'GEG', 'LFT', 'MFE', 'MDT', 'JAN', 'COS', 'MOB', 'VPS', 'MTJ', 'DRO', 'GPT', 'BFL', 'MRY', 'SBA', 'PSP', 'FSD', 'BRO', 'RAP', 'COU', 'STS', 'PIA', 'FAT', 'SBP', 'FSM', 'HSV', 'BIS', 'DAY', 'BZN', 'MIA', 'EYW', 'MYR', 'HHH', 'GJT', 'FAR', 'SGF', 'HOB', 'CLL', 'LRD', 'AEX', 'ERI', 'MLU', 'LCH', 'ROA', 'LAW', 'MHK', 'GRK', 'SAF', 'GRI', 'JLN', 'ROW', 'FWA', 'CRW', 'LAN', 'OGG', 'HNL', 'KOA', 'EGE', 'LIH', 'MLB', 'JAC', 'FAI', 'RDM', 'ADQ', 'BET', 'BRW', 'SCC', 'KTN', 'YAK', 'CDV', 'JNU', 'SIT', 'PSG', 'WRG', 'OME', 'OTZ', 'ADK', 'FCA', 'FAY', 'PSC', 'BIL', 'MSO', 'ITO', 'PPG', 'MFR', 'EUG', 'GUM', 'SPN', 'DLH', 'TTN', 'BKG', 'SFB', 'PIE', 'PGD', 'AZA', 'SMX', 'RFD', 'SCK', 'OWB', 'HTS', 'BLV', 'IAG', 'USA', 'GFK', 'BLI', 'ELM', 'PBG', 'LCK', 'GTF', 'OGD', 'IDA', 'PVU', 'TOL', 'PSM', 'CKB', 'HGR', 'SPI', 'STC', 'ACT', 'TYR', 'ABI', 'AZO', 'CMI', 'BPT', 'GCK', 'MQT', 'ALO', 'TXK', 'SPS', 'SWO', 'DBQ', 'SUX', 'SJT', 'GGG', 'LSE', 'LBE', 'ACY', 'LYH', 'PGV', 'HVN', 'EWN', 'DHN', 'PIH', 'IMT', 'WYS', 'CPR', 'SCE', 'HLN', 'SUN', 'ISN', 'CMX', 'EAU', 'LWB', 'SHD', 'LBF', 'HYS', 'SLN', 'EAR', 'VEL', 'CNY', 'GCC', 'RKS', 'PUB', 'LBL', 'MKG', 'PAH', 'CGI', 'UIN', 'BFF', 'DVL', 'JMS', 'LAR', 'SGU', 'PRC', 'ASE', 'RDD', 'ACV', 'OTH', 'COD', 'LWS', 'ABR', 'APN', 'ESC', 'PLN', 'BJI', 'BRD', 'BTM', 'CDC', 'CIU', 'EKO', 'TWF', 'HIB', 'BGM', 'RHI', 'ITH', 'INL', 'FLG', 'YUM', 'MEI', 'PIB', 'HDN']\n",
            "The Destination airports covered are:  ['CVG', 'PWM', 'RDU', 'MSP', 'MSN', 'SHV', 'CLT', 'PIT', 'RIC', 'IAH', 'ATL', 'JFK', 'DCA', 'DTW', 'LGA', 'TYS', 'PVD', 'FNT', 'LIT', 'BUF', 'ORD', 'TRI', 'IND', 'BGR', 'AVP', 'BWI', 'LEX', 'BDL', 'GRR', 'CWA', 'TUL', 'MEM', 'AGS', 'EWR', 'MGM', 'PHL', 'SYR', 'OMA', 'STL', 'TVC', 'ORF', 'CLE', 'ABY', 'BOS', 'OAJ', 'TLH', 'BTR', 'SAT', 'JAX', 'BNA', 'CHO', 'VLD', 'ROC', 'DFW', 'GNV', 'ACK', 'PBI', 'CHS', 'GRB', 'MOT', 'MKE', 'DSM', 'ILM', 'GSO', 'MCI', 'SBN', 'BTV', 'MVY', 'XNA', 'RST', 'EVV', 'HPN', 'RSW', 'MDT', 'ROA', 'GSP', 'MCO', 'CSG', 'SAV', 'PHF', 'ALB', 'CHA', 'ABE', 'BMI', 'MSY', 'IAD', 'GTR', 'CID', 'CAK', 'ATW', 'AUS', 'BQK', 'MLI', 'CAE', 'CMH', 'AVL', 'MBS', 'FLL', 'SDF', 'TPA', 'LNK', 'SRQ', 'MHT', 'BHM', 'LAS', 'SFO', 'SAN', 'RNO', 'LGB', 'ANC', 'PDX', 'SJU', 'ABQ', 'SLC', 'DEN', 'LAX', 'PHX', 'OAK', 'SMF', 'SEA', 'STX', 'BUR', 'DAB', 'SJC', 'SWF', 'HOU', 'BQN', 'PSE', 'ORH', 'HYA', 'STT', 'ONT', 'DAL', 'ECP', 'ELP', 'HRL', 'MAF', 'MDW', 'OKC', 'PNS', 'SNA', 'AMA', 'BOI', 'GEG', 'ICT', 'LBB', 'TUS', 'ISP', 'CRP', 'MFE', 'LFT', 'VPS', 'JAN', 'COS', 'MOB', 'DRO', 'GPT', 'BFL', 'COU', 'SBP', 'MTJ', 'SBA', 'PSP', 'FSD', 'FSM', 'BRO', 'PIA', 'STS', 'FAT', 'RAP', 'MRY', 'HSV', 'BIS', 'DAY', 'BZN', 'MIA', 'EYW', 'MYR', 'HHH', 'GJT', 'FAR', 'MLU', 'LRD', 'CLL', 'LCH', 'FWA', 'GRK', 'SGF', 'HOB', 'LAW', 'MHK', 'SAF', 'JLN', 'ROW', 'GRI', 'AEX', 'CRW', 'LAN', 'ERI', 'HNL', 'KOA', 'OGG', 'EGE', 'LIH', 'JAC', 'MLB', 'RDM', 'BET', 'ADQ', 'BRW', 'SCC', 'FAI', 'JNU', 'CDV', 'YAK', 'SIT', 'KTN', 'WRG', 'PSG', 'OME', 'OTZ', 'ADK', 'FCA', 'BIL', 'PSC', 'FAY', 'MSO', 'ITO', 'PPG', 'MFR', 'DLH', 'EUG', 'GUM', 'SPN', 'TTN', 'BKG', 'AZA', 'SFB', 'LCK', 'BLI', 'SCK', 'PIE', 'RFD', 'PVU', 'PBG', 'BLV', 'PGD', 'SPI', 'USA', 'TOL', 'IDA', 'ELM', 'HTS', 'HGR', 'SMX', 'OGD', 'GFK', 'STC', 'GTF', 'IAG', 'CKB', 'OWB', 'PSM', 'ABI', 'TYR', 'ALO', 'SUX', 'AZO', 'ACT', 'CMI', 'BPT', 'TXK', 'SWO', 'SPS', 'DBQ', 'SJT', 'GGG', 'LSE', 'MQT', 'GCK', 'LBE', 'ACY', 'LYH', 'PGV', 'HVN', 'EWN', 'DHN', 'PIH', 'WYS', 'SCE', 'IMT', 'HLN', 'ASE', 'SUN', 'ISN', 'EAR', 'SGU', 'VEL', 'SHD', 'LWB', 'MKG', 'SLN', 'HYS', 'BFF', 'PUB', 'LBL', 'CMX', 'EAU', 'PAH', 'UIN', 'RKS', 'CGI', 'CNY', 'JMS', 'DVL', 'LAR', 'GCC', 'LBF', 'PRC', 'RDD', 'ACV', 'OTH', 'COD', 'LWS', 'ABR', 'APN', 'PLN', 'BJI', 'CPR', 'BRD', 'BTM', 'CDC', 'CIU', 'ESC', 'EKO', 'ITH', 'HIB', 'BGM', 'TWF', 'RHI', 'INL', 'FLG', 'YUM', 'MEI', 'PIB', 'HDN']\n"
          ]
        }
      ],
      "source": [
        "#ANSWER\n",
        "print(\"The #rows and #columns are \", df_temp.shape[0] , \" and \", df_temp.shape[1])\n",
        "\n",
        "print(\"The years in this dataset are: \", df_temp.Year.unique())\n",
        "\n",
        "print(\"The months covered in this dataset are: \",df_temp.Month.unique())\n",
        "\n",
        "print(\"The date range for data is :\" , min(df_temp.FlightDate.unique()), \" to \", max(df_temp.FlightDate.unique()))\n",
        "\n",
        "print(\"The airlines covered in this dataset are: \", list(df_temp.Reporting_Airline.unique()))\n",
        "\n",
        "print(\"The Origin airports covered are: \", list(df_temp.Origin.unique()))\n",
        "\n",
        "print(\"The Destination airports covered are: \", list(df_temp.Dest.unique()))"
      ]
    },
    {
      "cell_type": "markdown",
      "metadata": {
        "id": "6zbo7r6VpFDm"
      },
      "source": [
        "**Question**: What is the count of all the origin and destination airports?\n",
        "\n",
        "**Hint**: To find the values for each airport by using the **Origin** and **Dest** columns, you can use the `values_count` function in pandas ([pandas.Series.value_counts documentation](https://pandas.pydata.org/pandas-docs/stable/reference/api/pandas.Series.value_counts.html))."
      ]
    },
    {
      "cell_type": "code",
      "execution_count": null,
      "metadata": {
        "id": "DB-VluUCpFDn",
        "outputId": "fd58cdba-082c-4947-859e-63fb8eb5e475"
      },
      "outputs": [
        {
          "data": {
            "text/html": [
              "<div>\n",
              "<style scoped>\n",
              "    .dataframe tbody tr th:only-of-type {\n",
              "        vertical-align: middle;\n",
              "    }\n",
              "\n",
              "    .dataframe tbody tr th {\n",
              "        vertical-align: top;\n",
              "    }\n",
              "\n",
              "    .dataframe thead th {\n",
              "        text-align: right;\n",
              "    }\n",
              "</style>\n",
              "<table border=\"1\" class=\"dataframe\">\n",
              "  <thead>\n",
              "    <tr style=\"text-align: right;\">\n",
              "      <th></th>\n",
              "      <th>Origin</th>\n",
              "      <th>Destination</th>\n",
              "    </tr>\n",
              "  </thead>\n",
              "  <tbody>\n",
              "    <tr>\n",
              "      <th>ABE</th>\n",
              "      <td>303</td>\n",
              "      <td>303</td>\n",
              "    </tr>\n",
              "    <tr>\n",
              "      <th>ABI</th>\n",
              "      <td>169</td>\n",
              "      <td>169</td>\n",
              "    </tr>\n",
              "    <tr>\n",
              "      <th>ABQ</th>\n",
              "      <td>2077</td>\n",
              "      <td>2076</td>\n",
              "    </tr>\n",
              "    <tr>\n",
              "      <th>ABR</th>\n",
              "      <td>60</td>\n",
              "      <td>60</td>\n",
              "    </tr>\n",
              "    <tr>\n",
              "      <th>ABY</th>\n",
              "      <td>79</td>\n",
              "      <td>79</td>\n",
              "    </tr>\n",
              "    <tr>\n",
              "      <th>...</th>\n",
              "      <td>...</td>\n",
              "      <td>...</td>\n",
              "    </tr>\n",
              "    <tr>\n",
              "      <th>WRG</th>\n",
              "      <td>60</td>\n",
              "      <td>60</td>\n",
              "    </tr>\n",
              "    <tr>\n",
              "      <th>WYS</th>\n",
              "      <td>52</td>\n",
              "      <td>52</td>\n",
              "    </tr>\n",
              "    <tr>\n",
              "      <th>XNA</th>\n",
              "      <td>1004</td>\n",
              "      <td>1004</td>\n",
              "    </tr>\n",
              "    <tr>\n",
              "      <th>YAK</th>\n",
              "      <td>60</td>\n",
              "      <td>60</td>\n",
              "    </tr>\n",
              "    <tr>\n",
              "      <th>YUM</th>\n",
              "      <td>96</td>\n",
              "      <td>96</td>\n",
              "    </tr>\n",
              "  </tbody>\n",
              "</table>\n",
              "<p>346 rows × 2 columns</p>\n",
              "</div>"
            ],
            "text/plain": [
              "     Origin  Destination\n",
              "ABE     303          303\n",
              "ABI     169          169\n",
              "ABQ    2077         2076\n",
              "ABR      60           60\n",
              "ABY      79           79\n",
              "..      ...          ...\n",
              "WRG      60           60\n",
              "WYS      52           52\n",
              "XNA    1004         1004\n",
              "YAK      60           60\n",
              "YUM      96           96\n",
              "\n",
              "[346 rows x 2 columns]"
            ]
          },
          "execution_count": 18,
          "metadata": {},
          "output_type": "execute_result"
        }
      ],
      "source": [
        "#ANSWER\n",
        "counts = pd.DataFrame({'Origin':df_temp.Origin.value_counts(), 'Destination':df_temp.Dest.value_counts()})\n",
        "counts"
      ]
    },
    {
      "cell_type": "markdown",
      "metadata": {
        "id": "sSbZiQ3jpFDn"
      },
      "source": [
        "**Question**: Print the top 15 origin and destination airports based on number of flights in the dataset.\n",
        "\n",
        "**Hint**: You can use the `sort_values` function in pandas ([pandas.DataFrame.sort_values documentation](https://pandas.pydata.org/pandas-docs/stable/reference/api/pandas.DataFrame.sort_values.html))."
      ]
    },
    {
      "cell_type": "code",
      "execution_count": null,
      "metadata": {
        "id": "74-CHHuGpFDn",
        "outputId": "d7a1d520-26d0-475b-d993-a75bc1441054"
      },
      "outputs": [
        {
          "data": {
            "text/html": [
              "<div>\n",
              "<style scoped>\n",
              "    .dataframe tbody tr th:only-of-type {\n",
              "        vertical-align: middle;\n",
              "    }\n",
              "\n",
              "    .dataframe tbody tr th {\n",
              "        vertical-align: top;\n",
              "    }\n",
              "\n",
              "    .dataframe thead th {\n",
              "        text-align: right;\n",
              "    }\n",
              "</style>\n",
              "<table border=\"1\" class=\"dataframe\">\n",
              "  <thead>\n",
              "    <tr style=\"text-align: right;\">\n",
              "      <th></th>\n",
              "      <th>Origin</th>\n",
              "      <th>Destination</th>\n",
              "    </tr>\n",
              "  </thead>\n",
              "  <tbody>\n",
              "    <tr>\n",
              "      <th>ATL</th>\n",
              "      <td>31525</td>\n",
              "      <td>31521</td>\n",
              "    </tr>\n",
              "    <tr>\n",
              "      <th>ORD</th>\n",
              "      <td>28257</td>\n",
              "      <td>28250</td>\n",
              "    </tr>\n",
              "    <tr>\n",
              "      <th>DFW</th>\n",
              "      <td>22802</td>\n",
              "      <td>22795</td>\n",
              "    </tr>\n",
              "    <tr>\n",
              "      <th>DEN</th>\n",
              "      <td>19807</td>\n",
              "      <td>19807</td>\n",
              "    </tr>\n",
              "    <tr>\n",
              "      <th>CLT</th>\n",
              "      <td>19655</td>\n",
              "      <td>19654</td>\n",
              "    </tr>\n",
              "    <tr>\n",
              "      <th>LAX</th>\n",
              "      <td>17875</td>\n",
              "      <td>17873</td>\n",
              "    </tr>\n",
              "    <tr>\n",
              "      <th>SFO</th>\n",
              "      <td>14332</td>\n",
              "      <td>14348</td>\n",
              "    </tr>\n",
              "    <tr>\n",
              "      <th>IAH</th>\n",
              "      <td>14210</td>\n",
              "      <td>14203</td>\n",
              "    </tr>\n",
              "    <tr>\n",
              "      <th>LGA</th>\n",
              "      <td>13850</td>\n",
              "      <td>13850</td>\n",
              "    </tr>\n",
              "    <tr>\n",
              "      <th>MSP</th>\n",
              "      <td>13349</td>\n",
              "      <td>13347</td>\n",
              "    </tr>\n",
              "    <tr>\n",
              "      <th>LAS</th>\n",
              "      <td>13318</td>\n",
              "      <td>13322</td>\n",
              "    </tr>\n",
              "    <tr>\n",
              "      <th>PHX</th>\n",
              "      <td>13126</td>\n",
              "      <td>13128</td>\n",
              "    </tr>\n",
              "    <tr>\n",
              "      <th>DTW</th>\n",
              "      <td>12725</td>\n",
              "      <td>12724</td>\n",
              "    </tr>\n",
              "    <tr>\n",
              "      <th>BOS</th>\n",
              "      <td>12223</td>\n",
              "      <td>12227</td>\n",
              "    </tr>\n",
              "    <tr>\n",
              "      <th>SEA</th>\n",
              "      <td>11872</td>\n",
              "      <td>11877</td>\n",
              "    </tr>\n",
              "  </tbody>\n",
              "</table>\n",
              "</div>"
            ],
            "text/plain": [
              "     Origin  Destination\n",
              "ATL   31525        31521\n",
              "ORD   28257        28250\n",
              "DFW   22802        22795\n",
              "DEN   19807        19807\n",
              "CLT   19655        19654\n",
              "LAX   17875        17873\n",
              "SFO   14332        14348\n",
              "IAH   14210        14203\n",
              "LGA   13850        13850\n",
              "MSP   13349        13347\n",
              "LAS   13318        13322\n",
              "PHX   13126        13128\n",
              "DTW   12725        12724\n",
              "BOS   12223        12227\n",
              "SEA   11872        11877"
            ]
          },
          "execution_count": 19,
          "metadata": {},
          "output_type": "execute_result"
        }
      ],
      "source": [
        "#ANSWER\n",
        "counts.sort_values(by= ['Origin','Destination'],ascending=False).head(15) "
      ]
    },
    {
      "cell_type": "markdown",
      "metadata": {
        "id": "Bz0pedbrpFDn"
      },
      "source": [
        "**Given all the information about a flight trip, can you predict if it would be delayed?**"
      ]
    },
    {
      "cell_type": "markdown",
      "metadata": {
        "id": "h1GvWflVpFDn"
      },
      "source": [
        "The **ArrDel15** column is an indicator variable that takes the value *1* when the delay is more than 15 minutes. Otherwise, it takes a value of *0*.\n",
        "\n",
        "You could use this as a target column for the classification problem."
      ]
    },
    {
      "cell_type": "markdown",
      "metadata": {
        "id": "hmRF1zekpFDo"
      },
      "source": [
        "Now, assume that you are traveling from San Francisco to Los Angeles on a work trip. You want to better manage your reservations in Los Angeles. Thus, want to have an idea of whether your flight will be delayed, given a set of features. How many features from this dataset would you need to know before your flight?\n",
        "\n",
        "Columns such as `DepDelay`, `ArrDelay`, `CarrierDelay`, `WeatherDelay`, `NASDelay`, `SecurityDelay`, `LateAircraftDelay`, and `DivArrDelay` contain information about a delay. But this delay could have occured at the origin or the destination. If there were a sudden weather delay 10 minutes before landing, this data wouldn't be helpful to managing your Los Angeles reservations.\n",
        "\n",
        "So to simplify the problem statement, consider the following columns to predict an arrival delay:<br>\n",
        "\n",
        "`Year`, `Quarter`, `Month`, `DayofMonth`, `DayOfWeek`, `FlightDate`, `Reporting_Airline`, `Origin`, `OriginState`, `Dest`, `DestState`, `CRSDepTime`, `DepDelayMinutes`, `DepartureDelayGroups`, `Cancelled`, `Diverted`, `Distance`, `DistanceGroup`, `ArrDelay`, `ArrDelayMinutes`, `ArrDel15`, `AirTime`\n",
        "\n",
        "You will also filter the source and destination airports to be:\n",
        "- Top airports: ATL, ORD, DFW, DEN, CLT, LAX, IAH, PHX, SFO\n",
        "- Top five airlines: UA, OO, WN, AA, DL\n",
        "\n",
        "This information should help reduce the size of data across the CSV files that will be combined."
      ]
    },
    {
      "cell_type": "markdown",
      "metadata": {
        "id": "bePOh3tjpFDo"
      },
      "source": [
        "#### Combine all CSV files\n",
        " \n",
        "First, create an empy DataFrame that you will use to copy your individual DataFrames from each file. Then, for each file in the `csv_files` list:\n",
        "\n",
        "1. Read the CSV file into a dataframe \n",
        "2. Filter the columns based on the `filter_cols` variable\n",
        "\n",
        "```\n",
        "        columns = ['col1', 'col2']\n",
        "        df_filter = df[columns]\n",
        "```\n",
        "\n",
        "3. Keep only the `subset_vals` in each of the `subset_cols`. To check if the `val` is in the DataFrame column, use the `isin` function in pandas ([pandas.DataFram.isin documentation](https://pandas.pydata.org/pandas-docs/stable/reference/api/pandas.DataFrame.isin.html)). Then, choose the rows that include it.\n",
        "\n",
        "```\n",
        "        df_eg[df_eg['col1'].isin('5')]\n",
        "```\n",
        "\n",
        "4. Concatenate the DataFrame with the empty DataFrame "
      ]
    },
    {
      "cell_type": "code",
      "execution_count": null,
      "metadata": {
        "id": "pmlYJMwrpFDo"
      },
      "outputs": [],
      "source": [
        "def combine_csv(csv_files, filter_cols, subset_cols, subset_vals, file_name):\n",
        "\n",
        "    \"\"\"\n",
        "    Combine csv files into one Data Frame\n",
        "    csv_files: list of csv file paths\n",
        "    filter_cols: list of columns to filter\n",
        "    subset_cols: list of columns to subset rows\n",
        "    subset_vals: list of list of values to subset rows\n",
        "    \"\"\"\n",
        "\n",
        "    df = pd.DataFrame()\n",
        "    \n",
        "    for file in csv_files:\n",
        "        df_temp = pd.read_csv(file)\n",
        "        df_temp = df_temp[filter_cols]\n",
        "        for col, val in zip(subset_cols,subset_vals):\n",
        "            df_temp = df_temp[df_temp[col].isin(val)]      \n",
        "        \n",
        "        df = pd.concat([df, df_temp], axis=0)\n",
        "      \n",
        "    df.to_csv(file_name, index=False)\n",
        "    print(f'Combined csv stored at {file_name}')"
      ]
    },
    {
      "cell_type": "code",
      "execution_count": null,
      "metadata": {
        "id": "CrmAIPiTpFDo"
      },
      "outputs": [],
      "source": [
        "#cols is the list of columns to predict Arrival Delay \n",
        "cols = ['Year','Quarter','Month','DayofMonth','DayOfWeek','FlightDate',\n",
        "        'Reporting_Airline','Origin','OriginState','Dest','DestState',\n",
        "        'CRSDepTime','Cancelled','Diverted','Distance','DistanceGroup',\n",
        "        'ArrDelay','ArrDelayMinutes','ArrDel15','AirTime']\n",
        "\n",
        "subset_cols = ['Origin', 'Dest', 'Reporting_Airline']\n",
        "\n",
        "# subset_vals is a list collection of the top origin and destination airports and top 5 airlines\n",
        "subset_vals = [['ATL', 'ORD', 'DFW', 'DEN', 'CLT', 'LAX', 'IAH', 'PHX', 'SFO'], \n",
        "               ['ATL', 'ORD', 'DFW', 'DEN', 'CLT', 'LAX', 'IAH', 'PHX', 'SFO'], \n",
        "               ['UA', 'OO', 'WN', 'AA', 'DL']]"
      ]
    },
    {
      "cell_type": "markdown",
      "metadata": {
        "id": "wwvOhp4ApFDo"
      },
      "source": [
        "Use the previous function to merge all the different files into a single file that you can read easily. \n",
        "\n",
        "**Note**: This process will take 5-7 minutes to complete."
      ]
    },
    {
      "cell_type": "code",
      "execution_count": null,
      "metadata": {
        "id": "CC5jJmWtpFDp",
        "outputId": "3e8aeaff-89c2-4ac6-d688-c2a86e34a1df"
      },
      "outputs": [
        {
          "name": "stdout",
          "output_type": "stream",
          "text": [
            "Combined csv stored at /home/ec2-user/SageMaker/project/data/FlightDelays/combined_files.csv\n",
            "CSVs merged in 4.51 minutes\n"
          ]
        }
      ],
      "source": [
        "start = time.time()\n",
        "combined_csv_filename = f\"{base_path}combined_files.csv\"\n",
        "combine_csv(csv_files, cols, subset_cols, subset_vals, combined_csv_filename)\n",
        "print(f'CSVs merged in {round((time.time() - start)/60,2)} minutes')"
      ]
    },
    {
      "cell_type": "markdown",
      "metadata": {
        "id": "K1TNeGHjpFDp"
      },
      "source": [
        "#### Load the dataset\n",
        "\n",
        "Load the combined dataset."
      ]
    },
    {
      "cell_type": "code",
      "execution_count": null,
      "metadata": {
        "id": "DDrtyAqIpFDp"
      },
      "outputs": [],
      "source": [
        "data = pd.read_csv(combined_csv_filename)"
      ]
    },
    {
      "cell_type": "markdown",
      "metadata": {
        "id": "KZZUtRFYpFDp"
      },
      "source": [
        "Print the first five records."
      ]
    },
    {
      "cell_type": "code",
      "execution_count": null,
      "metadata": {
        "id": "I2uxU5P7pFDp",
        "outputId": "93a32add-8ef6-49c5-9c23-01e3eb5dd9f7"
      },
      "outputs": [
        {
          "data": {
            "text/html": [
              "<div>\n",
              "<style scoped>\n",
              "    .dataframe tbody tr th:only-of-type {\n",
              "        vertical-align: middle;\n",
              "    }\n",
              "\n",
              "    .dataframe tbody tr th {\n",
              "        vertical-align: top;\n",
              "    }\n",
              "\n",
              "    .dataframe thead th {\n",
              "        text-align: right;\n",
              "    }\n",
              "</style>\n",
              "<table border=\"1\" class=\"dataframe\">\n",
              "  <thead>\n",
              "    <tr style=\"text-align: right;\">\n",
              "      <th></th>\n",
              "      <th>Year</th>\n",
              "      <th>Quarter</th>\n",
              "      <th>Month</th>\n",
              "      <th>DayofMonth</th>\n",
              "      <th>DayOfWeek</th>\n",
              "      <th>FlightDate</th>\n",
              "      <th>Reporting_Airline</th>\n",
              "      <th>Origin</th>\n",
              "      <th>OriginState</th>\n",
              "      <th>Dest</th>\n",
              "      <th>DestState</th>\n",
              "      <th>CRSDepTime</th>\n",
              "      <th>Cancelled</th>\n",
              "      <th>Diverted</th>\n",
              "      <th>Distance</th>\n",
              "      <th>DistanceGroup</th>\n",
              "      <th>ArrDelay</th>\n",
              "      <th>ArrDelayMinutes</th>\n",
              "      <th>ArrDel15</th>\n",
              "      <th>AirTime</th>\n",
              "    </tr>\n",
              "  </thead>\n",
              "  <tbody>\n",
              "    <tr>\n",
              "      <th>0</th>\n",
              "      <td>2018</td>\n",
              "      <td>4</td>\n",
              "      <td>12</td>\n",
              "      <td>25</td>\n",
              "      <td>2</td>\n",
              "      <td>2018-12-25</td>\n",
              "      <td>WN</td>\n",
              "      <td>PHX</td>\n",
              "      <td>AZ</td>\n",
              "      <td>ATL</td>\n",
              "      <td>GA</td>\n",
              "      <td>950</td>\n",
              "      <td>0.0</td>\n",
              "      <td>0.0</td>\n",
              "      <td>1587.0</td>\n",
              "      <td>7</td>\n",
              "      <td>-13.0</td>\n",
              "      <td>0.0</td>\n",
              "      <td>0.0</td>\n",
              "      <td>175.0</td>\n",
              "    </tr>\n",
              "    <tr>\n",
              "      <th>1</th>\n",
              "      <td>2018</td>\n",
              "      <td>4</td>\n",
              "      <td>12</td>\n",
              "      <td>25</td>\n",
              "      <td>2</td>\n",
              "      <td>2018-12-25</td>\n",
              "      <td>WN</td>\n",
              "      <td>PHX</td>\n",
              "      <td>AZ</td>\n",
              "      <td>ATL</td>\n",
              "      <td>GA</td>\n",
              "      <td>1805</td>\n",
              "      <td>0.0</td>\n",
              "      <td>0.0</td>\n",
              "      <td>1587.0</td>\n",
              "      <td>7</td>\n",
              "      <td>-8.0</td>\n",
              "      <td>0.0</td>\n",
              "      <td>0.0</td>\n",
              "      <td>176.0</td>\n",
              "    </tr>\n",
              "    <tr>\n",
              "      <th>2</th>\n",
              "      <td>2018</td>\n",
              "      <td>4</td>\n",
              "      <td>12</td>\n",
              "      <td>25</td>\n",
              "      <td>2</td>\n",
              "      <td>2018-12-25</td>\n",
              "      <td>WN</td>\n",
              "      <td>PHX</td>\n",
              "      <td>AZ</td>\n",
              "      <td>DEN</td>\n",
              "      <td>CO</td>\n",
              "      <td>2135</td>\n",
              "      <td>0.0</td>\n",
              "      <td>0.0</td>\n",
              "      <td>602.0</td>\n",
              "      <td>3</td>\n",
              "      <td>-15.0</td>\n",
              "      <td>0.0</td>\n",
              "      <td>0.0</td>\n",
              "      <td>78.0</td>\n",
              "    </tr>\n",
              "    <tr>\n",
              "      <th>3</th>\n",
              "      <td>2018</td>\n",
              "      <td>4</td>\n",
              "      <td>12</td>\n",
              "      <td>25</td>\n",
              "      <td>2</td>\n",
              "      <td>2018-12-25</td>\n",
              "      <td>WN</td>\n",
              "      <td>PHX</td>\n",
              "      <td>AZ</td>\n",
              "      <td>DEN</td>\n",
              "      <td>CO</td>\n",
              "      <td>1420</td>\n",
              "      <td>0.0</td>\n",
              "      <td>0.0</td>\n",
              "      <td>602.0</td>\n",
              "      <td>3</td>\n",
              "      <td>-14.0</td>\n",
              "      <td>0.0</td>\n",
              "      <td>0.0</td>\n",
              "      <td>74.0</td>\n",
              "    </tr>\n",
              "    <tr>\n",
              "      <th>4</th>\n",
              "      <td>2018</td>\n",
              "      <td>4</td>\n",
              "      <td>12</td>\n",
              "      <td>25</td>\n",
              "      <td>2</td>\n",
              "      <td>2018-12-25</td>\n",
              "      <td>WN</td>\n",
              "      <td>PHX</td>\n",
              "      <td>AZ</td>\n",
              "      <td>DEN</td>\n",
              "      <td>CO</td>\n",
              "      <td>2035</td>\n",
              "      <td>0.0</td>\n",
              "      <td>0.0</td>\n",
              "      <td>602.0</td>\n",
              "      <td>3</td>\n",
              "      <td>-9.0</td>\n",
              "      <td>0.0</td>\n",
              "      <td>0.0</td>\n",
              "      <td>75.0</td>\n",
              "    </tr>\n",
              "  </tbody>\n",
              "</table>\n",
              "</div>"
            ],
            "text/plain": [
              "   Year  Quarter  Month  DayofMonth  DayOfWeek  FlightDate Reporting_Airline  \\\n",
              "0  2018        4     12          25          2  2018-12-25                WN   \n",
              "1  2018        4     12          25          2  2018-12-25                WN   \n",
              "2  2018        4     12          25          2  2018-12-25                WN   \n",
              "3  2018        4     12          25          2  2018-12-25                WN   \n",
              "4  2018        4     12          25          2  2018-12-25                WN   \n",
              "\n",
              "  Origin OriginState Dest DestState  CRSDepTime  Cancelled  Diverted  \\\n",
              "0    PHX          AZ  ATL        GA         950        0.0       0.0   \n",
              "1    PHX          AZ  ATL        GA        1805        0.0       0.0   \n",
              "2    PHX          AZ  DEN        CO        2135        0.0       0.0   \n",
              "3    PHX          AZ  DEN        CO        1420        0.0       0.0   \n",
              "4    PHX          AZ  DEN        CO        2035        0.0       0.0   \n",
              "\n",
              "   Distance  DistanceGroup  ArrDelay  ArrDelayMinutes  ArrDel15  AirTime  \n",
              "0    1587.0              7     -13.0              0.0       0.0    175.0  \n",
              "1    1587.0              7      -8.0              0.0       0.0    176.0  \n",
              "2     602.0              3     -15.0              0.0       0.0     78.0  \n",
              "3     602.0              3     -14.0              0.0       0.0     74.0  \n",
              "4     602.0              3      -9.0              0.0       0.0     75.0  "
            ]
          },
          "execution_count": 24,
          "metadata": {},
          "output_type": "execute_result"
        }
      ],
      "source": [
        "#ANSWER\n",
        "data.head(5)"
      ]
    },
    {
      "cell_type": "markdown",
      "metadata": {
        "id": "SlF2PoTJpFDp"
      },
      "source": [
        "Here are some more questions to help you learn more about your dataset.\n",
        "\n",
        "**Questions**   \n",
        "\n",
        "1. How many rows and columns does the dataset have?   \n",
        "2. How many years are included in the dataset?   \n",
        "3. What is the date range for the dataset?   \n",
        "4. Which airlines are included in the dataset?   \n",
        "5. Which origin and destination airports are covered?"
      ]
    },
    {
      "cell_type": "code",
      "execution_count": null,
      "metadata": {
        "id": "b1UtEzNspFDp",
        "outputId": "a13d86fb-bba2-4ab4-99ac-8f1d92f0f6c3"
      },
      "outputs": [
        {
          "name": "stdout",
          "output_type": "stream",
          "text": [
            "The #rows and #columns are  1658130  and  20\n",
            "The years in this dataset are:  [2018, 2015, 2016, 2014, 2017]\n",
            "The months covered in this dataset are:  [1, 2, 3, 4, 5, 6, 7, 8, 9, 10, 11, 12]\n",
            "The date range for data is : 2014-01-01  to  2018-12-31\n",
            "The airlines covered in this dataset are:  ['WN', 'DL', 'OO', 'UA', 'AA']\n",
            "The Origin airports covered are:  ['PHX', 'SFO', 'ATL', 'DEN', 'LAX', 'ORD', 'CLT', 'DFW', 'IAH']\n",
            "The Destination airports covered are:  ['ATL', 'DEN', 'LAX', 'SFO', 'PHX', 'DFW', 'ORD', 'CLT', 'IAH']\n"
          ]
        }
      ],
      "source": [
        "# ANSWER\n",
        "print(\"The #rows and #columns are \", data.shape[0] , \" and \", data.shape[1])\n",
        "\n",
        "print(\"The years in this dataset are: \", list(data.Year.unique()))\n",
        "\n",
        "print(\"The months covered in this dataset are: \", sorted(list(data.Month.unique())))\n",
        "\n",
        "print(\"The date range for data is :\" , min(data.FlightDate.unique()), \" to \", max(data.FlightDate.unique()))\n",
        "\n",
        "print(\"The airlines covered in this dataset are: \", list(data.Reporting_Airline.unique()))\n",
        "\n",
        "print(\"The Origin airports covered are: \", list(data.Origin.unique()))\n",
        "\n",
        "print(\"The Destination airports covered are: \", list(data.Dest.unique()))"
      ]
    },
    {
      "cell_type": "markdown",
      "metadata": {
        "id": "KHh3BUMdpFDq"
      },
      "source": [
        "Define your target column: **is_delay** (*1* means that the arrival time delayed more than 15 minutes, and *0* means all other cases). To rename the column from **ArrDel15** to *is_delay*, use the `rename` method .\n",
        "\n",
        "**Hint**: You can use the `rename` function in pandas ([pandas.DataFrame.rename documentation](https://pandas.pydata.org/pandas-docs/stable/reference/api/pandas.DataFrame.rename.html)).\n",
        "\n",
        "For example:\n",
        "```\n",
        "data.rename(columns={'col1':'column1'}, inplace=True)\n",
        "```"
      ]
    },
    {
      "cell_type": "code",
      "execution_count": null,
      "metadata": {
        "id": "katt04sNpFDq"
      },
      "outputs": [],
      "source": [
        "#ANSWER RENAME\n",
        "data.rename(columns= {'ArrDel15' : 'is_delay'}, inplace=True) "
      ]
    },
    {
      "cell_type": "markdown",
      "metadata": {
        "id": "rIshzdUqpFDq"
      },
      "source": [
        "Look for nulls across columns. You can use the `isnull()` function ([pandas.isnull documentation](https://pandas.pydata.org/pandas-docs/version/0.17.0/generated/pandas.isnull.html)).\n",
        "\n",
        "**Hint**: `isnull()` detects whether the particular value is null or not. It returns a boolean (*True* or *False*) in its place. To sum the number of columns, use the `sum(axis=0)` function (for example, `df.isnull().sum(axis=0)`)."
      ]
    },
    {
      "cell_type": "code",
      "execution_count": null,
      "metadata": {
        "id": "tiyiu-55pFDq",
        "outputId": "f39e7ce3-8aa4-4904-aef4-d07573e6cb35"
      },
      "outputs": [
        {
          "data": {
            "text/plain": [
              "Year                     0\n",
              "Quarter                  0\n",
              "Month                    0\n",
              "DayofMonth               0\n",
              "DayOfWeek                0\n",
              "FlightDate               0\n",
              "Reporting_Airline        0\n",
              "Origin                   0\n",
              "OriginState              0\n",
              "Dest                     0\n",
              "DestState                0\n",
              "CRSDepTime               0\n",
              "Cancelled                0\n",
              "Diverted                 0\n",
              "Distance                 0\n",
              "DistanceGroup            0\n",
              "ArrDelay             22540\n",
              "ArrDelayMinutes      22540\n",
              "is_delay             22540\n",
              "AirTime              22540\n",
              "dtype: int64"
            ]
          },
          "execution_count": 27,
          "metadata": {},
          "output_type": "execute_result"
        }
      ],
      "source": [
        "# ANSWER\n",
        "data.isnull().sum(axis=0)"
      ]
    },
    {
      "cell_type": "markdown",
      "metadata": {
        "id": "UAumFxJfpFDq"
      },
      "source": [
        "The arrival delay details and airtime are missing for 22,540 out of 1,658,130 rows, which is 1.3 percent. You can either remove or impute these rows. The documentation doesn't mention any information about missing rows.\n"
      ]
    },
    {
      "cell_type": "code",
      "execution_count": null,
      "metadata": {
        "id": "ZpQwG6NQpFDq",
        "outputId": "51f305b5-32e5-48f3-91c3-471742ae6906"
      },
      "outputs": [
        {
          "data": {
            "text/plain": [
              "Year                 0\n",
              "Quarter              0\n",
              "Month                0\n",
              "DayofMonth           0\n",
              "DayOfWeek            0\n",
              "FlightDate           0\n",
              "Reporting_Airline    0\n",
              "Origin               0\n",
              "OriginState          0\n",
              "Dest                 0\n",
              "DestState            0\n",
              "CRSDepTime           0\n",
              "Cancelled            0\n",
              "Diverted             0\n",
              "Distance             0\n",
              "DistanceGroup        0\n",
              "ArrDelay             0\n",
              "ArrDelayMinutes      0\n",
              "is_delay             0\n",
              "AirTime              0\n",
              "dtype: int64"
            ]
          },
          "execution_count": 28,
          "metadata": {},
          "output_type": "execute_result"
        }
      ],
      "source": [
        "### Remove null columns\n",
        "data = data[~data.is_delay.isnull()]\n",
        "data.isnull().sum(axis = 0)"
      ]
    },
    {
      "cell_type": "markdown",
      "metadata": {
        "id": "WalzquDHpFDr"
      },
      "source": [
        "Get the hour of the day in 24-hour-time format from CRSDepTime."
      ]
    },
    {
      "cell_type": "code",
      "execution_count": null,
      "metadata": {
        "id": "fXUtAT6PpFDr"
      },
      "outputs": [],
      "source": [
        "data['DepHourofDay'] = (data['CRSDepTime']//100)"
      ]
    },
    {
      "cell_type": "markdown",
      "metadata": {
        "id": "JsBb2pU4pFDr"
      },
      "source": [
        "## **The ML problem statement**\n",
        "- Given a set of features, can you predict if a flight is going to be delayed more than 15 minutes?\n",
        "- Because the target variable takes only a value of *0* or *1*, you could use a classification algorithm. \n",
        "\n",
        "Before you start modeling, it's a good practice to look at feature distribution, correlations, and others.\n",
        "- This will give you an idea of any non-linearity or patterns in the data\n",
        "    - Linear models: Add power, exponential, or interaction features\n",
        "    - Try a non-linear model\n",
        "- Data imbalance \n",
        "    - Choose metrics that won't give biased model performance (accuracy versus the area under the curve, or AUC)\n",
        "    - Use weighted or custom loss functions\n",
        "- Missing data\n",
        "    - Do imputation based on simple statistics -- mean, median, mode (numerical variables), frequent class (categorical variables)\n",
        "    - Clustering-based imputation (k-nearest neighbors, or KNNs, to predict column value)\n",
        "    - Drop column"
      ]
    },
    {
      "cell_type": "markdown",
      "metadata": {
        "id": "g7uOikNkpFDr"
      },
      "source": [
        "### Data exploration\n",
        "\n",
        "Check the classes *delay* versus *no delay*.\n"
      ]
    },
    {
      "cell_type": "code",
      "execution_count": null,
      "metadata": {
        "id": "H9M5rqFtpFDr",
        "outputId": "d8d4bb81-533c-42c6-8c89-1fed616115fa"
      },
      "outputs": [
        {
          "data": {
            "image/png": "[encoded data removed]",
            "text/plain": [
              "<Figure size 432x288 with 1 Axes>"
            ]
          },
          "metadata": {
            "needs_background": "light"
          },
          "output_type": "display_data"
        }
      ],
      "source": [
        "(data.groupby('is_delay').size()/len(data) ).plot(kind='bar')# Enter your code here\n",
        "plt.ylabel('Frequency')\n",
        "plt.title('Distribution of classes')\n",
        "plt.show()"
      ]
    },
    {
      "cell_type": "markdown",
      "metadata": {
        "id": "x7TKS-EBpFDr"
      },
      "source": [
        "**Question**: What can you deduce from the bar plot about the ratio of *delay* versus *no delay*?"
      ]
    },
    {
      "cell_type": "code",
      "execution_count": null,
      "metadata": {
        "id": "osq0WZkMpFDs"
      },
      "outputs": [],
      "source": [
        "# Delays are less frequent and the machine is not good. more frequency"
      ]
    },
    {
      "cell_type": "markdown",
      "metadata": {
        "id": "o1VkjQBUpFDs"
      },
      "source": [
        "Run the following two cells and answer the questions."
      ]
    },
    {
      "cell_type": "code",
      "execution_count": null,
      "metadata": {
        "id": "IVf_OEkfpFDs",
        "outputId": "7879fa7c-7dc7-4004-b66d-39260bb82b0a"
      },
      "outputs": [
        {
          "data": {
            "image/png": "[encoded data removed]",
            "text/plain": [
              "<Figure size 1440x1440 with 6 Axes>"
            ]
          },
          "metadata": {
            "needs_background": "light"
          },
          "output_type": "display_data"
        }
      ],
      "source": [
        "viz_columns = ['Month', 'DepHourofDay', 'DayOfWeek', 'Reporting_Airline', 'Origin', 'Dest']\n",
        "fig, axes = plt.subplots(3, 2, figsize=(20,20), squeeze=False)\n",
        "# fig.autofmt_xdate(rotation=90)\n",
        "\n",
        "for idx, column in enumerate(viz_columns):\n",
        "    ax = axes[idx//2, idx%2]\n",
        "    temp = data.groupby(column)['is_delay'].value_counts(normalize=True).rename('percentage').\\\n",
        "    mul(100).reset_index().sort_values(column)\n",
        "    sns.barplot(x=column, y=\"percentage\", hue=\"is_delay\", data=temp, ax=ax)\n",
        "    plt.ylabel('% delay/no-delay')\n",
        "    \n",
        "\n",
        "plt.show()"
      ]
    },
    {
      "cell_type": "code",
      "execution_count": null,
      "metadata": {
        "id": "4cYCcMcmpFDs",
        "outputId": "6899e63c-ba02-4dd1-8597-ec844fff5502"
      },
      "outputs": [
        {
          "data": {
            "image/png": "[encoded data removed]",
            "text/plain": [
              "<Figure size 360x360 with 1 Axes>"
            ]
          },
          "metadata": {
            "needs_background": "light"
          },
          "output_type": "display_data"
        }
      ],
      "source": [
        "sns.lmplot( x=\"is_delay\", y=\"Distance\", data=data, fit_reg=False, hue='is_delay', legend=False)\n",
        "plt.legend(loc='center')\n",
        "plt.xlabel('is_delay')\n",
        "plt.ylabel('Distance')\n",
        "plt.show()"
      ]
    },
    {
      "cell_type": "markdown",
      "metadata": {
        "id": "Ahwq_QhRpFDs"
      },
      "source": [
        "**Questions**\n",
        "\n",
        "Using the data from the previous charts, answer these questions:\n",
        "\n",
        "- Which months have the most delays?\n",
        "- What time of the day has the most delays?\n",
        "- What day of the week has the most delays?\n",
        "- Which airline has the most delays?\n",
        "- Which origin and destination airports have the most delays?\n",
        "- Is flight distance a factor in the delays?"
      ]
    },
    {
      "cell_type": "code",
      "execution_count": null,
      "metadata": {
        "id": "Tzt-Vv5gpFDs"
      },
      "outputs": [],
      "source": [
        "#ANSWER1 6th month\n",
        "#ANSWER2 20\n",
        "#ANSWER3 4 and 5\n",
        "#ANSWER4 WN airline\n",
        "#ANSWER5 ORD orgin and SFO destination\n",
        "#ANSWER 6effective"
      ]
    },
    {
      "cell_type": "markdown",
      "metadata": {
        "id": "D19rM0U0pFDs"
      },
      "source": [
        "### Features\n",
        "\n",
        "Look at all the columns and what their specific types are."
      ]
    },
    {
      "cell_type": "code",
      "execution_count": null,
      "metadata": {
        "id": "KK1oDMUUpFDt",
        "outputId": "a43132fa-cfcb-4bbf-f8df-152ce6d6ee2e"
      },
      "outputs": [
        {
          "data": {
            "text/plain": [
              "Index(['Year', 'Quarter', 'Month', 'DayofMonth', 'DayOfWeek', 'FlightDate',\n",
              "       'Reporting_Airline', 'Origin', 'OriginState', 'Dest', 'DestState',\n",
              "       'CRSDepTime', 'Cancelled', 'Diverted', 'Distance', 'DistanceGroup',\n",
              "       'ArrDelay', 'ArrDelayMinutes', 'is_delay', 'AirTime', 'DepHourofDay'],\n",
              "      dtype='object')"
            ]
          },
          "execution_count": 35,
          "metadata": {},
          "output_type": "execute_result"
        }
      ],
      "source": [
        "data.columns"
      ]
    },
    {
      "cell_type": "code",
      "execution_count": null,
      "metadata": {
        "id": "fBcNj_3RpFDt",
        "outputId": "b86a9852-b473-4960-fc21-32a33966fd87"
      },
      "outputs": [
        {
          "data": {
            "text/plain": [
              "Year                   int64\n",
              "Quarter                int64\n",
              "Month                  int64\n",
              "DayofMonth             int64\n",
              "DayOfWeek              int64\n",
              "FlightDate            object\n",
              "Reporting_Airline     object\n",
              "Origin                object\n",
              "OriginState           object\n",
              "Dest                  object\n",
              "DestState             object\n",
              "CRSDepTime             int64\n",
              "Cancelled            float64\n",
              "Diverted             float64\n",
              "Distance             float64\n",
              "DistanceGroup          int64\n",
              "ArrDelay             float64\n",
              "ArrDelayMinutes      float64\n",
              "is_delay             float64\n",
              "AirTime              float64\n",
              "DepHourofDay           int64\n",
              "dtype: object"
            ]
          },
          "execution_count": 36,
          "metadata": {},
          "output_type": "execute_result"
        }
      ],
      "source": [
        "data.dtypes"
      ]
    },
    {
      "cell_type": "markdown",
      "metadata": {
        "id": "AykgacZspFDt"
      },
      "source": [
        "Filtering the required columns:\n",
        "- *Date* is redundant, because you have *Year*, *Quarter*, *Month*, *DayofMonth*, and *DayOfWeek* to describe the date.\n",
        "- Use *Origin* and *Dest* codes instead of *OriginState* and *DestState*.\n",
        "- Because you are only classifying whether the flight is delayed or not, you don't need *TotalDelayMinutes*, *DepDelayMinutes*, and *ArrDelayMinutes*.\n",
        "\n",
        "Treat *DepHourofDay* as a categorical variable because it doesn't have any quantitative relation with the target.\n",
        "- If you needed to do a one-hot encoding of this variable, it would result in 23 more columns.\n",
        "- Other alternatives to handling categorical variables include hash encoding, regularized mean encoding, and bucketizing the values, among others.\n",
        "- In this case, you only need to split into buckets.\n",
        "\n",
        "To change a column type to category, use the `astype` function ([pandas.DataFrame.astype documentation](https://pandas.pydata.org/pandas-docs/stable/reference/api/pandas.DataFrame.astype.html))."
      ]
    },
    {
      "cell_type": "code",
      "execution_count": null,
      "metadata": {
        "id": "ooqedbkApFDt"
      },
      "outputs": [],
      "source": [
        "data_orig = data.copy()\n",
        "data = data[[ 'is_delay', 'Quarter', 'Month', 'DayofMonth', 'DayOfWeek', \n",
        "       'Reporting_Airline', 'Origin', 'Dest','Distance','DepHourofDay']]\n",
        "categorical_columns  = ['Quarter', 'Month', 'DayofMonth', 'DayOfWeek', \n",
        "       'Reporting_Airline', 'Origin', 'Dest', 'DepHourofDay']\n",
        "for c in categorical_columns:\n",
        "    data[c] = data[c].astype('category')"
      ]
    },
    {
      "cell_type": "markdown",
      "metadata": {
        "id": "nsDeTi4spFDt"
      },
      "source": [
        "To use one-hot encoding, use the `get_dummies` function in pandas for the categorical columns that you selected. Then, you can concatenate those generated features to your original dataset by using the `concat` function in pandas. For encoding categorical variables, you can also use *dummy encoding* by using a keyword `drop_first=True`. For more information about dummy encoding, see [Dummy variable (statistics)](https://en.wikiversity.org/wiki/Dummy_variable_(statistics)).\n",
        "\n",
        "For example:\n",
        "```\n",
        "pd.get_dummies(df[['column1','columns2']], drop_first=True)\n",
        "```"
      ]
    },
    {
      "cell_type": "code",
      "execution_count": null,
      "metadata": {
        "id": "2-M3bI70pFDt"
      },
      "outputs": [],
      "source": [
        "#ANSWER\n",
        "\n",
        "data_dummies = pd.get_dummies(data[['Quarter', 'Month', 'DayofMonth', 'DayOfWeek', \n",
        "       'Reporting_Airline', 'Origin', 'Dest','Distance','DepHourofDay']], drop_first=True)\n",
        "data = pd.concat([data, data_dummies], axis = 1)\n",
        "data.drop(categorical_columns,axis=1, inplace=True)"
      ]
    },
    {
      "cell_type": "markdown",
      "metadata": {
        "id": "T8xnLVH4pFDt"
      },
      "source": [
        "Check the length of the dataset and the new columns.\n",
        "\n",
        "**Hint**: Use the `shape` and `columns` properties."
      ]
    },
    {
      "cell_type": "code",
      "execution_count": null,
      "metadata": {
        "id": "6G3zbmmmpFDu",
        "outputId": "f35ea4f8-b029-4f4f-b8aa-6b1ae17e61c2"
      },
      "outputs": [
        {
          "data": {
            "text/html": [
              "<div>\n",
              "<style scoped>\n",
              "    .dataframe tbody tr th:only-of-type {\n",
              "        vertical-align: middle;\n",
              "    }\n",
              "\n",
              "    .dataframe tbody tr th {\n",
              "        vertical-align: top;\n",
              "    }\n",
              "\n",
              "    .dataframe thead th {\n",
              "        text-align: right;\n",
              "    }\n",
              "</style>\n",
              "<table border=\"1\" class=\"dataframe\">\n",
              "  <thead>\n",
              "    <tr style=\"text-align: right;\">\n",
              "      <th></th>\n",
              "      <th>is_delay</th>\n",
              "      <th>Distance</th>\n",
              "      <th>Distance</th>\n",
              "      <th>Quarter_2</th>\n",
              "      <th>Quarter_3</th>\n",
              "      <th>Quarter_4</th>\n",
              "      <th>Month_2</th>\n",
              "      <th>Month_3</th>\n",
              "      <th>Month_4</th>\n",
              "      <th>Month_5</th>\n",
              "      <th>...</th>\n",
              "      <th>DepHourofDay_14</th>\n",
              "      <th>DepHourofDay_15</th>\n",
              "      <th>DepHourofDay_16</th>\n",
              "      <th>DepHourofDay_17</th>\n",
              "      <th>DepHourofDay_18</th>\n",
              "      <th>DepHourofDay_19</th>\n",
              "      <th>DepHourofDay_20</th>\n",
              "      <th>DepHourofDay_21</th>\n",
              "      <th>DepHourofDay_22</th>\n",
              "      <th>DepHourofDay_23</th>\n",
              "    </tr>\n",
              "  </thead>\n",
              "  <tbody>\n",
              "    <tr>\n",
              "      <th>0</th>\n",
              "      <td>0.0</td>\n",
              "      <td>1587.0</td>\n",
              "      <td>1587.0</td>\n",
              "      <td>0</td>\n",
              "      <td>0</td>\n",
              "      <td>1</td>\n",
              "      <td>0</td>\n",
              "      <td>0</td>\n",
              "      <td>0</td>\n",
              "      <td>0</td>\n",
              "      <td>...</td>\n",
              "      <td>0</td>\n",
              "      <td>0</td>\n",
              "      <td>0</td>\n",
              "      <td>0</td>\n",
              "      <td>0</td>\n",
              "      <td>0</td>\n",
              "      <td>0</td>\n",
              "      <td>0</td>\n",
              "      <td>0</td>\n",
              "      <td>0</td>\n",
              "    </tr>\n",
              "    <tr>\n",
              "      <th>1</th>\n",
              "      <td>0.0</td>\n",
              "      <td>1587.0</td>\n",
              "      <td>1587.0</td>\n",
              "      <td>0</td>\n",
              "      <td>0</td>\n",
              "      <td>1</td>\n",
              "      <td>0</td>\n",
              "      <td>0</td>\n",
              "      <td>0</td>\n",
              "      <td>0</td>\n",
              "      <td>...</td>\n",
              "      <td>0</td>\n",
              "      <td>0</td>\n",
              "      <td>0</td>\n",
              "      <td>0</td>\n",
              "      <td>1</td>\n",
              "      <td>0</td>\n",
              "      <td>0</td>\n",
              "      <td>0</td>\n",
              "      <td>0</td>\n",
              "      <td>0</td>\n",
              "    </tr>\n",
              "    <tr>\n",
              "      <th>2</th>\n",
              "      <td>0.0</td>\n",
              "      <td>602.0</td>\n",
              "      <td>602.0</td>\n",
              "      <td>0</td>\n",
              "      <td>0</td>\n",
              "      <td>1</td>\n",
              "      <td>0</td>\n",
              "      <td>0</td>\n",
              "      <td>0</td>\n",
              "      <td>0</td>\n",
              "      <td>...</td>\n",
              "      <td>0</td>\n",
              "      <td>0</td>\n",
              "      <td>0</td>\n",
              "      <td>0</td>\n",
              "      <td>0</td>\n",
              "      <td>0</td>\n",
              "      <td>0</td>\n",
              "      <td>1</td>\n",
              "      <td>0</td>\n",
              "      <td>0</td>\n",
              "    </tr>\n",
              "    <tr>\n",
              "      <th>3</th>\n",
              "      <td>0.0</td>\n",
              "      <td>602.0</td>\n",
              "      <td>602.0</td>\n",
              "      <td>0</td>\n",
              "      <td>0</td>\n",
              "      <td>1</td>\n",
              "      <td>0</td>\n",
              "      <td>0</td>\n",
              "      <td>0</td>\n",
              "      <td>0</td>\n",
              "      <td>...</td>\n",
              "      <td>1</td>\n",
              "      <td>0</td>\n",
              "      <td>0</td>\n",
              "      <td>0</td>\n",
              "      <td>0</td>\n",
              "      <td>0</td>\n",
              "      <td>0</td>\n",
              "      <td>0</td>\n",
              "      <td>0</td>\n",
              "      <td>0</td>\n",
              "    </tr>\n",
              "    <tr>\n",
              "      <th>4</th>\n",
              "      <td>0.0</td>\n",
              "      <td>602.0</td>\n",
              "      <td>602.0</td>\n",
              "      <td>0</td>\n",
              "      <td>0</td>\n",
              "      <td>1</td>\n",
              "      <td>0</td>\n",
              "      <td>0</td>\n",
              "      <td>0</td>\n",
              "      <td>0</td>\n",
              "      <td>...</td>\n",
              "      <td>0</td>\n",
              "      <td>0</td>\n",
              "      <td>0</td>\n",
              "      <td>0</td>\n",
              "      <td>0</td>\n",
              "      <td>0</td>\n",
              "      <td>1</td>\n",
              "      <td>0</td>\n",
              "      <td>0</td>\n",
              "      <td>0</td>\n",
              "    </tr>\n",
              "  </tbody>\n",
              "</table>\n",
              "<p>5 rows × 95 columns</p>\n",
              "</div>"
            ],
            "text/plain": [
              "   is_delay  Distance  Distance  Quarter_2  Quarter_3  Quarter_4  Month_2  \\\n",
              "0       0.0    1587.0    1587.0          0          0          1        0   \n",
              "1       0.0    1587.0    1587.0          0          0          1        0   \n",
              "2       0.0     602.0     602.0          0          0          1        0   \n",
              "3       0.0     602.0     602.0          0          0          1        0   \n",
              "4       0.0     602.0     602.0          0          0          1        0   \n",
              "\n",
              "   Month_3  Month_4  Month_5  ...  DepHourofDay_14  DepHourofDay_15  \\\n",
              "0        0        0        0  ...                0                0   \n",
              "1        0        0        0  ...                0                0   \n",
              "2        0        0        0  ...                0                0   \n",
              "3        0        0        0  ...                1                0   \n",
              "4        0        0        0  ...                0                0   \n",
              "\n",
              "   DepHourofDay_16  DepHourofDay_17  DepHourofDay_18  DepHourofDay_19  \\\n",
              "0                0                0                0                0   \n",
              "1                0                0                1                0   \n",
              "2                0                0                0                0   \n",
              "3                0                0                0                0   \n",
              "4                0                0                0                0   \n",
              "\n",
              "   DepHourofDay_20  DepHourofDay_21  DepHourofDay_22  DepHourofDay_23  \n",
              "0                0                0                0                0  \n",
              "1                0                0                0                0  \n",
              "2                0                1                0                0  \n",
              "3                0                0                0                0  \n",
              "4                1                0                0                0  \n",
              "\n",
              "[5 rows x 95 columns]"
            ]
          },
          "execution_count": 39,
          "metadata": {},
          "output_type": "execute_result"
        }
      ],
      "source": [
        "# ANSWER\n",
        "data.head()"
      ]
    },
    {
      "cell_type": "code",
      "execution_count": null,
      "metadata": {
        "id": "lm92NLIFpFDu",
        "outputId": "181f0e51-f233-4510-8469-838142ec9632"
      },
      "outputs": [
        {
          "data": {
            "text/plain": [
              "(1635590, 95)"
            ]
          },
          "execution_count": 40,
          "metadata": {},
          "output_type": "execute_result"
        }
      ],
      "source": [
        "# ANSWER\n",
        "data.shape"
      ]
    },
    {
      "cell_type": "markdown",
      "metadata": {
        "id": "j7iNe_F8pFDu"
      },
      "source": [
        "You are now ready to train the model. Before you split the data, rename the **is_delay** column to *target*.\n",
        "\n",
        "**Hint**: You can use the `rename` function in pandas ([pandas.DataFrame.rename documentation](https://pandas.pydata.org/pandas-docs/stable/reference/api/pandas.DataFrame.rename.html))."
      ]
    },
    {
      "cell_type": "code",
      "execution_count": null,
      "metadata": {
        "id": "jMbFuMWdpFDu"
      },
      "outputs": [],
      "source": [
        "# ANSWER\n",
        "data.rename(columns = {'is_delay':'target'}, inplace=True )"
      ]
    },
    {
      "cell_type": "markdown",
      "metadata": {
        "id": "rtxMAuNipFDu"
      },
      "source": [
        "## <span style=\"color:red\"> End of Step 2 </span>\n",
        "\n",
        "Save the project file to your local computer. Follow these steps:\n",
        "\n",
        "1. In the file explorer on the left, right-click the notebook that you're working on. \n",
        "\n",
        "2. Choose **Download**, and save the file locally.  \n",
        "\n",
        "This action downloads the current notebook to the default download folder on your computer."
      ]
    },
    {
      "cell_type": "markdown",
      "metadata": {
        "id": "Dk4JbbmHpFDu"
      },
      "source": [
        "# Step 3: Model training and evaluation\n",
        "\n",
        "You must include some preliminary steps when you convert the dataset from a DataFrame to a format that a machine learning algorithm can use. For Amazon SageMaker, you must perform these steps:\n",
        "\n",
        "1. Split the data into `train_data`, `validation_data`, and `test_data` by using `sklearn.model_selection.train_test_split`.  \n",
        "\n",
        "2. Convert the dataset to an appropriate file format that the Amazon SageMaker training job can use. This can be either a CSV file or record protobuf. For more information, see [Common Data Formats for Training](https://docs.aws.amazon.com/sagemaker/latest/dg/cdf-training.html).  \n",
        "\n",
        "3. Upload the data to your S3 bucket. If you haven't created one before, see [Create a Bucket](https://docs.aws.amazon.com/AmazonS3/latest/gsg/CreatingABucket.html).  \n",
        "\n",
        "Use the following cells to complete these steps. Insert and delete cells where needed.\n",
        "\n",
        "#### <span style=\"color: blue;\">Project presentation: In your project presentation, write down the key decisions that you made in this phase.</span>"
      ]
    },
    {
      "cell_type": "markdown",
      "metadata": {
        "id": "Z5nHOeX8pFDu"
      },
      "source": [
        "### Train-test split"
      ]
    },
    {
      "cell_type": "code",
      "execution_count": null,
      "metadata": {
        "id": "nPhPmbALpFDv"
      },
      "outputs": [],
      "source": [
        "from sklearn.model_selection import train_test_split\n",
        "def split_data(data):\n",
        "    train, test_and_validate = train_test_split(data, test_size=0.2, random_state=42, stratify=data['target'])\n",
        "    test, validate = train_test_split(test_and_validate, test_size=0.5, random_state=42, stratify=test_and_validate['target'])\n",
        "    return train, validate, test"
      ]
    },
    {
      "cell_type": "code",
      "execution_count": null,
      "metadata": {
        "id": "jUc0di9lpFDv",
        "outputId": "c40c8ddf-5c94-4b92-baa8-52a7b503f9c3"
      },
      "outputs": [
        {
          "name": "stdout",
          "output_type": "stream",
          "text": [
            "0.0    1033806\n",
            "1.0     274666\n",
            "Name: target, dtype: int64\n",
            "0.0    129226\n",
            "1.0     34333\n",
            "Name: target, dtype: int64\n",
            "0.0    129226\n",
            "1.0     34333\n",
            "Name: target, dtype: int64\n"
          ]
        }
      ],
      "source": [
        "train, validate, test = split_data(data)\n",
        "print(train['target'].value_counts())\n",
        "print(test['target'].value_counts())\n",
        "print(validate['target'].value_counts())"
      ]
    },
    {
      "cell_type": "markdown",
      "metadata": {
        "id": "LYHK5i8MpFDv"
      },
      "source": [
        "**Sample answer**\n",
        "```\n",
        "0.0    1033570\n",
        "1.0     274902\n",
        "Name: target, dtype: int64\n",
        "0.0    129076\n",
        "1.0     34483\n",
        "Name: target, dtype: int64\n",
        "0.0    129612\n",
        "1.0     33947\n",
        "Name: target, dtype: int64\n",
        "```"
      ]
    },
    {
      "cell_type": "markdown",
      "metadata": {
        "id": "QlP-UT-kpFDv"
      },
      "source": [
        "### Baseline classification model"
      ]
    },
    {
      "cell_type": "code",
      "execution_count": null,
      "metadata": {
        "id": "fdvIR4G2pFDv"
      },
      "outputs": [],
      "source": [
        "import sagemaker\n",
        "from sagemaker.serializers import CSVSerializer\n",
        "from sagemaker.amazon.amazon_estimator import RecordSet\n",
        "import boto3\n",
        "\n",
        "# Instantiate the LinearLearner estimator object with 1 ml.m4.xlarge\n",
        "classifier_estimator = sagemaker.LinearLearner(role=sagemaker.get_execution_role(),\n",
        "                                               instance_count= 1,\n",
        "                                               instance_type= 'ml.m4.xlarge',\n",
        "                                               predictor_type='binary_classifier',\n",
        "                                               binary_classifier_model_selection_criteria='cross_entropy_loss')"
      ]
    },
    {
      "cell_type": "markdown",
      "metadata": {
        "id": "snePy-GJpFDv"
      },
      "source": [
        "### Sample code\n",
        "```\n",
        "num_classes = len(pd.unique(train_labels))\n",
        "classifier_estimator = sagemaker.LinearLearner(role=sagemaker.get_execution_role(),\n",
        "                                              instance_count=1,\n",
        "                                              instance_type='ml.m4.xlarge',\n",
        "                                              predictor_type='binary_classifier',\n",
        "                                              binary_classifier_model_selection_criteria = 'cross_entropy_loss')\n",
        "                                              \n",
        "```"
      ]
    },
    {
      "cell_type": "markdown",
      "metadata": {
        "id": "1gSq92mfpFDv"
      },
      "source": [
        "Linear learner accepts training data in protobuf or CSV content types. It also accepts inference requests in protobuf, CSV, or JavaScript Object Notation (JSON) content types. Training data has features and ground-truth labels, but the data in an inference request has only features.\n",
        "\n",
        "In a production pipeline, AWS recommends converting the data to the Amazon SageMaker protobuf format and storing it in Amazon S3. To get up and running quickly, AWS provides the `record_set` operation for converting and uploading the dataset when it's small enough to fit in local memory. It accepts NumPy arrays like the ones you already have, so you will use it for this step. The `RecordSet` object will track the temporary Amazon S3 location of your data. Create train, validation, and test records by using the `estimator.record_set` function. Then, start your training job by using the `estimator.fit` function."
      ]
    },
    {
      "cell_type": "code",
      "execution_count": null,
      "metadata": {
        "id": "Mn0nfFOgpFDw"
      },
      "outputs": [],
      "source": [
        "### Create train, validate, and test records\n",
        "train_records = classifier_estimator.record_set(train.values[:, 1:].astype(np.float32), train.values[:, 0].astype(np.float32), channel='train')\n",
        "val_records = classifier_estimator.record_set(validate.values[:, 1:].astype(np.float32), validate.values[:, 0].astype(np.float32), channel='validation')\n",
        "test_records = classifier_estimator.record_set(test.values[:, 1:].astype(np.float32), test.values[:, 0].astype(np.float32), channel='test')"
      ]
    },
    {
      "cell_type": "markdown",
      "metadata": {
        "id": "T1DapSEhpFDw"
      },
      "source": [
        "Now, train your model on the dataset that you just uploaded.\n",
        "\n",
        "### Sample code\n",
        "```\n",
        "linear.fit([train_records,val_records,test_records])\n",
        "```"
      ]
    },
    {
      "cell_type": "code",
      "execution_count": null,
      "metadata": {
        "id": "rtNtmFNypFDw",
        "outputId": "bcea0e80-98d1-4eab-8c2f-59033bb94518"
      },
      "outputs": [
        {
          "name": "stderr",
          "output_type": "stream",
          "text": [
            "Defaulting to the only supported framework/algorithm version: 1. Ignoring framework/algorithm version: 1.\n"
          ]
        },
        {
          "name": "stdout",
          "output_type": "stream",
          "text": [
            "2022-04-27 03:14:53 Starting - Starting the training job...\n",
            "2022-04-27 03:15:23 Starting - Preparing the instances for trainingProfilerReport-1651029292: InProgress\n",
            "............\n",
            "2022-04-27 03:17:21 Downloading - Downloading input data......\n",
            "2022-04-27 03:18:21 Training - Training image download completed. Training in progress.\u001b[34mDocker entrypoint called with argument(s): train\u001b[0m\n",
            "\u001b[34mRunning default environment configuration script\u001b[0m\n",
            "\u001b[34m[04/27/2022 03:18:18 INFO 139921412462400 integration.py:636] worker started\u001b[0m\n",
            "\u001b[34m[04/27/2022 03:18:18 INFO 139921412462400] Reading default configuration from /opt/amazon/lib/python3.7/site-packages/algorithm/resources/default-input.json: {'mini_batch_size': '1000', 'epochs': '15', 'feature_dim': 'auto', 'use_bias': 'true', 'binary_classifier_model_selection_criteria': 'accuracy', 'f_beta': '1.0', 'target_recall': '0.8', 'target_precision': '0.8', 'num_models': 'auto', 'num_calibration_samples': '10000000', 'init_method': 'uniform', 'init_scale': '0.07', 'init_sigma': '0.01', 'init_bias': '0.0', 'optimizer': 'auto', 'loss': 'auto', 'margin': '1.0', 'quantile': '0.5', 'loss_insensitivity': '0.01', 'huber_delta': '1.0', 'num_classes': '1', 'accuracy_top_k': '3', 'wd': 'auto', 'l1': 'auto', 'momentum': 'auto', 'learning_rate': 'auto', 'beta_1': 'auto', 'beta_2': 'auto', 'bias_lr_mult': 'auto', 'bias_wd_mult': 'auto', 'use_lr_scheduler': 'true', 'lr_scheduler_step': 'auto', 'lr_scheduler_factor': 'auto', 'lr_scheduler_minimum_lr': 'auto', 'positive_example_weight_mult': '1.0', 'balance_multiclass_weights': 'false', 'normalize_data': 'true', 'normalize_label': 'auto', 'unbias_data': 'auto', 'unbias_label': 'auto', 'num_point_for_scaler': '10000', '_kvstore': 'auto', '_num_gpus': 'auto', '_num_kv_servers': 'auto', '_log_level': 'info', '_tuning_objective_metric': '', 'early_stopping_patience': '3', 'early_stopping_tolerance': '0.001', '_enable_profiler': 'false'}\u001b[0m\n",
            "\u001b[34m[04/27/2022 03:18:18 INFO 139921412462400] Merging with provided configuration from /opt/ml/input/config/hyperparameters.json: {'binary_classifier_model_selection_criteria': 'cross_entropy_loss', 'feature_dim': '94', 'mini_batch_size': '1000', 'predictor_type': 'binary_classifier'}\u001b[0m\n",
            "\u001b[34m[04/27/2022 03:18:18 INFO 139921412462400] Final configuration: {'mini_batch_size': '1000', 'epochs': '15', 'feature_dim': '94', 'use_bias': 'true', 'binary_classifier_model_selection_criteria': 'cross_entropy_loss', 'f_beta': '1.0', 'target_recall': '0.8', 'target_precision': '0.8', 'num_models': 'auto', 'num_calibration_samples': '10000000', 'init_method': 'uniform', 'init_scale': '0.07', 'init_sigma': '0.01', 'init_bias': '0.0', 'optimizer': 'auto', 'loss': 'auto', 'margin': '1.0', 'quantile': '0.5', 'loss_insensitivity': '0.01', 'huber_delta': '1.0', 'num_classes': '1', 'accuracy_top_k': '3', 'wd': 'auto', 'l1': 'auto', 'momentum': 'auto', 'learning_rate': 'auto', 'beta_1': 'auto', 'beta_2': 'auto', 'bias_lr_mult': 'auto', 'bias_wd_mult': 'auto', 'use_lr_scheduler': 'true', 'lr_scheduler_step': 'auto', 'lr_scheduler_factor': 'auto', 'lr_scheduler_minimum_lr': 'auto', 'positive_example_weight_mult': '1.0', 'balance_multiclass_weights': 'false', 'normalize_data': 'true', 'normalize_label': 'auto', 'unbias_data': 'auto', 'unbias_label': 'auto', 'num_point_for_scaler': '10000', '_kvstore': 'auto', '_num_gpus': 'auto', '_num_kv_servers': 'auto', '_log_level': 'info', '_tuning_objective_metric': '', 'early_stopping_patience': '3', 'early_stopping_tolerance': '0.001', '_enable_profiler': 'false', 'predictor_type': 'binary_classifier'}\u001b[0m\n",
            "\u001b[34m[04/27/2022 03:18:18 WARNING 139921412462400] Loggers have already been setup.\u001b[0m\n",
            "\u001b[34mProcess 1 is a worker.\u001b[0m\n",
            "\u001b[34m[04/27/2022 03:18:18 INFO 139921412462400] Using default worker.\u001b[0m\n",
            "\u001b[34m[04/27/2022 03:18:18 INFO 139921412462400] Checkpoint loading and saving are disabled.\u001b[0m\n",
            "\u001b[34m[2022-04-27 03:18:18.748] [tensorio] [warning] TensorIO is already initialized; ignoring the initialization routine.\u001b[0m\n",
            "\u001b[34m[2022-04-27 03:18:18.764] [tensorio] [warning] TensorIO is already initialized; ignoring the initialization routine.\u001b[0m\n",
            "\u001b[34m[2022-04-27 03:18:18.824] [tensorio] [info] epoch_stats={\"data_pipeline\": \"/opt/ml/input/data/train\", \"epoch\": 0, \"duration\": 90, \"num_examples\": 1, \"num_bytes\": 424000}\u001b[0m\n",
            "\u001b[34m[04/27/2022 03:18:18 INFO 139921412462400] Create Store: local\u001b[0m\n",
            "\u001b[34m[2022-04-27 03:18:19.029] [tensorio] [info] epoch_stats={\"data_pipeline\": \"/opt/ml/input/data/train\", \"epoch\": 1, \"duration\": 202, \"num_examples\": 11, \"num_bytes\": 4664000}\u001b[0m\n",
            "\u001b[34m[04/27/2022 03:18:19 INFO 139921412462400] Scaler algorithm parameters\n",
            " <algorithm.scaler.ScalerAlgorithmStable object at 0x7f41a5293390>\u001b[0m\n",
            "\u001b[34m[04/27/2022 03:18:19 INFO 139921412462400] Scaling model computed with parameters:\n",
            " {'stdev_label': None, 'stdev_weight': \u001b[0m\n",
            "\u001b[34m[5.3380994e+02 5.3380994e+02 4.2713851e-01 4.4055560e-01 4.4215265e-01\n",
            " 2.5743130e-01 2.7574477e-01 2.6543400e-01 2.6931262e-01 2.7901694e-01\n",
            " 2.9081422e-01 2.8408656e-01 2.7394879e-01 2.9182872e-01 2.8236720e-01\n",
            " 2.7915207e-01 1.7768297e-01 1.7720398e-01 1.7405386e-01 1.8052627e-01\n",
            " 1.7624156e-01 1.8052630e-01 1.7551579e-01 1.7356345e-01 1.7768295e-01\n",
            " 1.8099521e-01 1.7911111e-01 1.7958425e-01 1.7958428e-01 1.7720398e-01\n",
            " 1.8262549e-01 1.7792189e-01 1.7863652e-01 1.7839867e-01 1.7600000e-01\n",
            " 1.8076093e-01 1.7696393e-01 1.7527308e-01 1.7307143e-01 1.7744367e-01\n",
            " 1.8629009e-01 1.8239364e-01 1.7527309e-01 1.7911114e-01 1.7133678e-01\n",
            " 1.3588250e-01 3.5255858e-01 3.5509995e-01 3.5035077e-01 3.5902092e-01\n",
            " 3.3082199e-01 3.4783390e-01 3.6861750e-01 2.3849466e-01 4.6113515e-01\n",
            " 3.0841848e-01 2.4828209e-01 3.2066047e-01 3.2906228e-01 2.7087054e-01\n",
            " 3.5025820e-01 3.3449423e-01 3.0713817e-01 3.2812390e-01 2.3782338e-01\n",
            " 3.1703681e-01 3.3215645e-01 2.7185535e-01 3.5742745e-01 3.4230524e-01\n",
            " 2.9792824e-01 3.2174498e-01 6.0192533e-02 1.3482772e-02 1.0000000e+00\n",
            " 1.4932352e-01 2.3408695e-01 2.5893897e-01 2.4507657e-01 2.4377872e-01\n",
            " 2.4442878e-01 2.3714969e-01 2.4652587e-01 2.4636535e-01 2.4099039e-01\n",
            " 2.4132061e-01 2.4279937e-01 2.4082503e-01 2.1944024e-01 2.1434194e-01\n",
            " 1.9359493e-01 1.5750115e-01 1.6652511e-01 1.0430244e-01]\u001b[0m\n",
            "\u001b[34m<NDArray 94 @cpu(0)>, 'mean_label': None, 'mean_weight': \u001b[0m\n",
            "\u001b[34m[1.0059099e+03 1.0059099e+03 2.4009092e-01 2.6354548e-01 2.6654547e-01\n",
            " 7.1363643e-02 8.2909100e-02 7.6272734e-02 7.8727275e-02 8.5090920e-02\n",
            " 9.3272753e-02 8.8545457e-02 8.1727289e-02 9.4000004e-02 8.7363638e-02\n",
            " 8.5181825e-02 3.2636367e-02 3.2454547e-02 3.1272728e-02 3.3727277e-02\n",
            " 3.2090910e-02 3.3727273e-02 3.1818181e-02 3.1090908e-02 3.2636367e-02\n",
            " 3.3909094e-02 3.3181816e-02 3.3363640e-02 3.3363637e-02 3.2454554e-02\n",
            " 3.4545455e-02 3.2727271e-02 3.3000000e-02 3.2909088e-02 3.2000002e-02\n",
            " 3.3818182e-02 3.2363642e-02 3.1727277e-02 3.0909095e-02 3.2545455e-02\n",
            " 3.6000002e-02 3.4454547e-02 3.1727273e-02 3.3181820e-02 3.0272730e-02\n",
            " 1.8818183e-02 1.4545454e-01 1.4800002e-01 1.4327276e-01 1.5200002e-01\n",
            " 1.2509091e-01 1.4081819e-01 1.6218182e-01 6.0545459e-02 3.0672735e-01\n",
            " 1.0645456e-01 6.6000000e-02 1.1636365e-01 1.2354545e-01 7.9727262e-02\n",
            " 1.4318185e-01 1.2836364e-01 1.0545455e-01 1.2272728e-01 6.0181823e-02\n",
            " 1.1336365e-01 1.2627275e-01 8.0363646e-02 1.5036362e-01 1.3554546e-01\n",
            " 9.8454557e-02 1.1727274e-01 3.6363639e-03 1.8181818e-04 0.0000000e+00\n",
            " 2.2818185e-02 5.8181822e-02 7.2272733e-02 6.4181820e-02 6.3454553e-02\n",
            " 6.3818179e-02 5.9818182e-02 6.5000005e-02 6.4909108e-02 6.1909102e-02\n",
            " 6.2090911e-02 6.2909096e-02 6.1818190e-02 5.0727278e-02 4.8272733e-02\n",
            " 3.9000005e-02 2.5454549e-02 2.8545458e-02 1.1000002e-02]\u001b[0m\n",
            "\u001b[34m<NDArray 94 @cpu(0)>}\u001b[0m\n",
            "\u001b[34m[04/27/2022 03:18:19 INFO 139921412462400] nvidia-smi: took 0.086 seconds to run.\u001b[0m\n",
            "\u001b[34m[04/27/2022 03:18:19 INFO 139921412462400] nvidia-smi identified 0 GPUs.\u001b[0m\n",
            "\u001b[34m[04/27/2022 03:18:19 INFO 139921412462400] Number of GPUs being used: 0\u001b[0m\n",
            "\u001b[34m#metrics {\"StartTime\": 1651029499.235598, \"EndTime\": 1651029499.235642, \"Dimensions\": {\"Algorithm\": \"Linear Learner\", \"Host\": \"algo-1\", \"Operation\": \"training\", \"Meta\": \"init_train_data_iter\"}, \"Metrics\": {\"Total Records Seen\": {\"sum\": 12000.0, \"count\": 1, \"min\": 12000, \"max\": 12000}, \"Total Batches Seen\": {\"sum\": 12.0, \"count\": 1, \"min\": 12, \"max\": 12}, \"Max Records Seen Between Resets\": {\"sum\": 11000.0, \"count\": 1, \"min\": 11000, \"max\": 11000}, \"Max Batches Seen Between Resets\": {\"sum\": 11.0, \"count\": 1, \"min\": 11, \"max\": 11}, \"Reset Count\": {\"sum\": 2.0, \"count\": 1, \"min\": 2, \"max\": 2}, \"Number of Records Since Last Reset\": {\"sum\": 0.0, \"count\": 1, \"min\": 0, \"max\": 0}, \"Number of Batches Since Last Reset\": {\"sum\": 0.0, \"count\": 1, \"min\": 0, \"max\": 0}}}\u001b[0m\n",
            "\u001b[34m[2022-04-27 03:19:16.989] [tensorio] [info] epoch_stats={\"data_pipeline\": \"/opt/ml/input/data/train\", \"epoch\": 3, \"duration\": 57753, \"num_examples\": 1309, \"num_bytes\": 554792128}\u001b[0m\n",
            "\u001b[34m#metrics {\"StartTime\": 1651029556.9895997, \"EndTime\": 1651029556.9897149, \"Dimensions\": {\"Algorithm\": \"Linear Learner\", \"Host\": \"algo-1\", \"Operation\": \"training\", \"epoch\": 0, \"model\": 0}, \"Metrics\": {\"train_binary_classification_cross_entropy_objective\": {\"sum\": 0.49446070987806406, \"count\": 1, \"min\": 0.49446070987806406, \"max\": 0.49446070987806406}}}\u001b[0m\n",
            "\u001b[34m#metrics {\"StartTime\": 1651029556.9901013, \"EndTime\": 1651029556.9901292, \"Dimensions\": {\"Algorithm\": \"Linear Learner\", \"Host\": \"algo-1\", \"Operation\": \"training\", \"epoch\": 0, \"model\": 1}, \"Metrics\": {\"train_binary_classification_cross_entropy_objective\": {\"sum\": 0.49503135501499934, \"count\": 1, \"min\": 0.49503135501499934, \"max\": 0.49503135501499934}}}\u001b[0m\n",
            "\u001b[34m#metrics {\"StartTime\": 1651029556.9901996, \"EndTime\": 1651029556.9902203, \"Dimensions\": {\"Algorithm\": \"Linear Learner\", \"Host\": \"algo-1\", \"Operation\": \"training\", \"epoch\": 0, \"model\": 2}, \"Metrics\": {\"train_binary_classification_cross_entropy_objective\": {\"sum\": 0.49450204932069924, \"count\": 1, \"min\": 0.49450204932069924, \"max\": 0.49450204932069924}}}\u001b[0m\n",
            "\u001b[34m#metrics {\"StartTime\": 1651029556.9902892, \"EndTime\": 1651029556.990308, \"Dimensions\": {\"Algorithm\": \"Linear Learner\", \"Host\": \"algo-1\", \"Operation\": \"training\", \"epoch\": 0, \"model\": 3}, \"Metrics\": {\"train_binary_classification_cross_entropy_objective\": {\"sum\": 0.49500364885709336, \"count\": 1, \"min\": 0.49500364885709336, \"max\": 0.49500364885709336}}}\u001b[0m\n",
            "\u001b[34m#metrics {\"StartTime\": 1651029556.9903688, \"EndTime\": 1651029556.9903882, \"Dimensions\": {\"Algorithm\": \"Linear Learner\", \"Host\": \"algo-1\", \"Operation\": \"training\", \"epoch\": 0, \"model\": 4}, \"Metrics\": {\"train_binary_classification_cross_entropy_objective\": {\"sum\": 0.5080298452348155, \"count\": 1, \"min\": 0.5080298452348155, \"max\": 0.5080298452348155}}}\u001b[0m\n",
            "\u001b[34m#metrics {\"StartTime\": 1651029556.9904523, \"EndTime\": 1651029556.9904702, \"Dimensions\": {\"Algorithm\": \"Linear Learner\", \"Host\": \"algo-1\", \"Operation\": \"training\", \"epoch\": 0, \"model\": 5}, \"Metrics\": {\"train_binary_classification_cross_entropy_objective\": {\"sum\": 0.5187122849164024, \"count\": 1, \"min\": 0.5187122849164024, \"max\": 0.5187122849164024}}}\u001b[0m\n",
            "\u001b[34m#metrics {\"StartTime\": 1651029556.9905305, \"EndTime\": 1651029556.990548, \"Dimensions\": {\"Algorithm\": \"Linear Learner\", \"Host\": \"algo-1\", \"Operation\": \"training\", \"epoch\": 0, \"model\": 6}, \"Metrics\": {\"train_binary_classification_cross_entropy_objective\": {\"sum\": 0.5080697218168766, \"count\": 1, \"min\": 0.5080697218168766, \"max\": 0.5080697218168766}}}\u001b[0m\n",
            "\u001b[34m#metrics {\"StartTime\": 1651029556.990606, \"EndTime\": 1651029556.9906242, \"Dimensions\": {\"Algorithm\": \"Linear Learner\", \"Host\": \"algo-1\", \"Operation\": \"training\", \"epoch\": 0, \"model\": 7}, \"Metrics\": {\"train_binary_classification_cross_entropy_objective\": {\"sum\": 0.5186997968341233, \"count\": 1, \"min\": 0.5186997968341233, \"max\": 0.5186997968341233}}}\u001b[0m\n",
            "\u001b[34m#metrics {\"StartTime\": 1651029556.9906797, \"EndTime\": 1651029556.9906962, \"Dimensions\": {\"Algorithm\": \"Linear Learner\", \"Host\": \"algo-1\", \"Operation\": \"training\", \"epoch\": 0, \"model\": 8}, \"Metrics\": {\"train_binary_classification_cross_entropy_objective\": {\"sum\": 0.4945164895947191, \"count\": 1, \"min\": 0.4945164895947191, \"max\": 0.4945164895947191}}}\u001b[0m\n",
            "\u001b[34m#metrics {\"StartTime\": 1651029556.9907532, \"EndTime\": 1651029556.9907694, \"Dimensions\": {\"Algorithm\": \"Linear Learner\", \"Host\": \"algo-1\", \"Operation\": \"training\", \"epoch\": 0, \"model\": 9}, \"Metrics\": {\"train_binary_classification_cross_entropy_objective\": {\"sum\": 0.4951113841905506, \"count\": 1, \"min\": 0.4951113841905506, \"max\": 0.4951113841905506}}}\u001b[0m\n",
            "\u001b[34m#metrics {\"StartTime\": 1651029556.990827, \"EndTime\": 1651029556.9908447, \"Dimensions\": {\"Algorithm\": \"Linear Learner\", \"Host\": \"algo-1\", \"Operation\": \"training\", \"epoch\": 0, \"model\": 10}, \"Metrics\": {\"train_binary_classification_cross_entropy_objective\": {\"sum\": 0.4945719251953498, \"count\": 1, \"min\": 0.4945719251953498, \"max\": 0.4945719251953498}}}\u001b[0m\n",
            "\u001b[34m#metrics {\"StartTime\": 1651029556.990902, \"EndTime\": 1651029556.9909196, \"Dimensions\": {\"Algorithm\": \"Linear Learner\", \"Host\": \"algo-1\", \"Operation\": \"training\", \"epoch\": 0, \"model\": 11}, \"Metrics\": {\"train_binary_classification_cross_entropy_objective\": {\"sum\": 0.4951304453578564, \"count\": 1, \"min\": 0.4951304453578564, \"max\": 0.4951304453578564}}}\u001b[0m\n",
            "\u001b[34m#metrics {\"StartTime\": 1651029556.9909766, \"EndTime\": 1651029556.9909947, \"Dimensions\": {\"Algorithm\": \"Linear Learner\", \"Host\": \"algo-1\", \"Operation\": \"training\", \"epoch\": 0, \"model\": 12}, \"Metrics\": {\"train_binary_classification_cross_entropy_objective\": {\"sum\": 0.507106263070296, \"count\": 1, \"min\": 0.507106263070296, \"max\": 0.507106263070296}}}\u001b[0m\n",
            "\u001b[34m#metrics {\"StartTime\": 1651029556.991051, \"EndTime\": 1651029556.9910688, \"Dimensions\": {\"Algorithm\": \"Linear Learner\", \"Host\": \"algo-1\", \"Operation\": \"training\", \"epoch\": 0, \"model\": 13}, \"Metrics\": {\"train_binary_classification_cross_entropy_objective\": {\"sum\": 0.5170455950582429, \"count\": 1, \"min\": 0.5170455950582429, \"max\": 0.5170455950582429}}}\u001b[0m\n",
            "\u001b[34m#metrics {\"StartTime\": 1651029556.991124, \"EndTime\": 1651029556.9911413, \"Dimensions\": {\"Algorithm\": \"Linear Learner\", \"Host\": \"algo-1\", \"Operation\": \"training\", \"epoch\": 0, \"model\": 14}, \"Metrics\": {\"train_binary_classification_cross_entropy_objective\": {\"sum\": 0.5070994027280662, \"count\": 1, \"min\": 0.5070994027280662, \"max\": 0.5070994027280662}}}\u001b[0m\n",
            "\u001b[34m#metrics {\"StartTime\": 1651029556.991235, \"EndTime\": 1651029556.9912531, \"Dimensions\": {\"Algorithm\": \"Linear Learner\", \"Host\": \"algo-1\", \"Operation\": \"training\", \"epoch\": 0, \"model\": 15}, \"Metrics\": {\"train_binary_classification_cross_entropy_objective\": {\"sum\": 0.5170223589322618, \"count\": 1, \"min\": 0.5170223589322618, \"max\": 0.5170223589322618}}}\u001b[0m\n",
            "\u001b[34m#metrics {\"StartTime\": 1651029556.9913068, \"EndTime\": 1651029556.9913237, \"Dimensions\": {\"Algorithm\": \"Linear Learner\", \"Host\": \"algo-1\", \"Operation\": \"training\", \"epoch\": 0, \"model\": 16}, \"Metrics\": {\"train_binary_classification_cross_entropy_objective\": {\"sum\": 0.5091446768851091, \"count\": 1, \"min\": 0.5091446768851091, \"max\": 0.5091446768851091}}}\u001b[0m\n",
            "\u001b[34m#metrics {\"StartTime\": 1651029556.9913785, \"EndTime\": 1651029556.9913952, \"Dimensions\": {\"Algorithm\": \"Linear Learner\", \"Host\": \"algo-1\", \"Operation\": \"training\", \"epoch\": 0, \"model\": 17}, \"Metrics\": {\"train_binary_classification_cross_entropy_objective\": {\"sum\": 0.5092684412265043, \"count\": 1, \"min\": 0.5092684412265043, \"max\": 0.5092684412265043}}}\u001b[0m\n",
            "\u001b[34m#metrics {\"StartTime\": 1651029556.99145, \"EndTime\": 1651029556.9914672, \"Dimensions\": {\"Algorithm\": \"Linear Learner\", \"Host\": \"algo-1\", \"Operation\": \"training\", \"epoch\": 0, \"model\": 18}, \"Metrics\": {\"train_binary_classification_cross_entropy_objective\": {\"sum\": 0.5091592044188706, \"count\": 1, \"min\": 0.5091592044188706, \"max\": 0.5091592044188706}}}\u001b[0m\n",
            "\u001b[34m#metrics {\"StartTime\": 1651029556.9915211, \"EndTime\": 1651029556.991539, \"Dimensions\": {\"Algorithm\": \"Linear Learner\", \"Host\": \"algo-1\", \"Operation\": \"training\", \"epoch\": 0, \"model\": 19}, \"Metrics\": {\"train_binary_classification_cross_entropy_objective\": {\"sum\": 0.509286760336033, \"count\": 1, \"min\": 0.509286760336033, \"max\": 0.509286760336033}}}\u001b[0m\n",
            "\u001b[34m#metrics {\"StartTime\": 1651029556.9915924, \"EndTime\": 1651029556.9916096, \"Dimensions\": {\"Algorithm\": \"Linear Learner\", \"Host\": \"algo-1\", \"Operation\": \"training\", \"epoch\": 0, \"model\": 20}, \"Metrics\": {\"train_binary_classification_cross_entropy_objective\": {\"sum\": 0.5106148773566663, \"count\": 1, \"min\": 0.5106148773566663, \"max\": 0.5106148773566663}}}\u001b[0m\n",
            "\u001b[34m#metrics {\"StartTime\": 1651029556.9916644, \"EndTime\": 1651029556.991681, \"Dimensions\": {\"Algorithm\": \"Linear Learner\", \"Host\": \"algo-1\", \"Operation\": \"training\", \"epoch\": 0, \"model\": 21}, \"Metrics\": {\"train_binary_classification_cross_entropy_objective\": {\"sum\": 0.5124896409387618, \"count\": 1, \"min\": 0.5124896409387618, \"max\": 0.5124896409387618}}}\u001b[0m\n",
            "\u001b[34m#metrics {\"StartTime\": 1651029556.9917364, \"EndTime\": 1651029556.991753, \"Dimensions\": {\"Algorithm\": \"Linear Learner\", \"Host\": \"algo-1\", \"Operation\": \"training\", \"epoch\": 0, \"model\": 22}, \"Metrics\": {\"train_binary_classification_cross_entropy_objective\": {\"sum\": 0.5105679374718156, \"count\": 1, \"min\": 0.5105679374718156, \"max\": 0.5105679374718156}}}\u001b[0m\n",
            "\u001b[34m#metrics {\"StartTime\": 1651029556.9918065, \"EndTime\": 1651029556.9918237, \"Dimensions\": {\"Algorithm\": \"Linear Learner\", \"Host\": \"algo-1\", \"Operation\": \"training\", \"epoch\": 0, \"model\": 23}, \"Metrics\": {\"train_binary_classification_cross_entropy_objective\": {\"sum\": 0.5124666603858318, \"count\": 1, \"min\": 0.5124666603858318, \"max\": 0.5124666603858318}}}\u001b[0m\n",
            "\u001b[34m#metrics {\"StartTime\": 1651029556.9918785, \"EndTime\": 1651029556.9918952, \"Dimensions\": {\"Algorithm\": \"Linear Learner\", \"Host\": \"algo-1\", \"Operation\": \"training\", \"epoch\": 0, \"model\": 24}, \"Metrics\": {\"train_binary_classification_cross_entropy_objective\": {\"sum\": 0.515074149012201, \"count\": 1, \"min\": 0.515074149012201, \"max\": 0.515074149012201}}}\u001b[0m\n",
            "\u001b[34m#metrics {\"StartTime\": 1651029556.991947, \"EndTime\": 1651029556.991962, \"Dimensions\": {\"Algorithm\": \"Linear Learner\", \"Host\": \"algo-1\", \"Operation\": \"training\", \"epoch\": 0, \"model\": 25}, \"Metrics\": {\"train_binary_classification_cross_entropy_objective\": {\"sum\": 0.5151227360996631, \"count\": 1, \"min\": 0.5151227360996631, \"max\": 0.5151227360996631}}}\u001b[0m\n",
            "\u001b[34m#metrics {\"StartTime\": 1651029556.9920166, \"EndTime\": 1651029556.9920332, \"Dimensions\": {\"Algorithm\": \"Linear Learner\", \"Host\": \"algo-1\", \"Operation\": \"training\", \"epoch\": 0, \"model\": 26}, \"Metrics\": {\"train_binary_classification_cross_entropy_objective\": {\"sum\": 0.515071213655151, \"count\": 1, \"min\": 0.515071213655151, \"max\": 0.515071213655151}}}\u001b[0m\n",
            "\u001b[34m#metrics {\"StartTime\": 1651029556.9920938, \"EndTime\": 1651029556.9921122, \"Dimensions\": {\"Algorithm\": \"Linear Learner\", \"Host\": \"algo-1\", \"Operation\": \"training\", \"epoch\": 0, \"model\": 27}, \"Metrics\": {\"train_binary_classification_cross_entropy_objective\": {\"sum\": 0.515080641136986, \"count\": 1, \"min\": 0.515080641136986, \"max\": 0.515080641136986}}}\u001b[0m\n",
            "\u001b[34m#metrics {\"StartTime\": 1651029556.992157, \"EndTime\": 1651029556.9921732, \"Dimensions\": {\"Algorithm\": \"Linear Learner\", \"Host\": \"algo-1\", \"Operation\": \"training\", \"epoch\": 0, \"model\": 28}, \"Metrics\": {\"train_binary_classification_cross_entropy_objective\": {\"sum\": 0.5150823208403514, \"count\": 1, \"min\": 0.5150823208403514, \"max\": 0.5150823208403514}}}\u001b[0m\n",
            "\u001b[34m#metrics {\"StartTime\": 1651029556.9922256, \"EndTime\": 1651029556.992242, \"Dimensions\": {\"Algorithm\": \"Linear Learner\", \"Host\": \"algo-1\", \"Operation\": \"training\", \"epoch\": 0, \"model\": 29}, \"Metrics\": {\"train_binary_classification_cross_entropy_objective\": {\"sum\": 0.5158165148580476, \"count\": 1, \"min\": 0.5158165148580476, \"max\": 0.5158165148580476}}}\u001b[0m\n",
            "\u001b[34m#metrics {\"StartTime\": 1651029556.9922962, \"EndTime\": 1651029556.992314, \"Dimensions\": {\"Algorithm\": \"Linear Learner\", \"Host\": \"algo-1\", \"Operation\": \"training\", \"epoch\": 0, \"model\": 30}, \"Metrics\": {\"train_binary_classification_cross_entropy_objective\": {\"sum\": 0.515074356779046, \"count\": 1, \"min\": 0.515074356779046, \"max\": 0.515074356779046}}}\u001b[0m\n",
            "\u001b[34m#metrics {\"StartTime\": 1651029556.9923666, \"EndTime\": 1651029556.9923847, \"Dimensions\": {\"Algorithm\": \"Linear Learner\", \"Host\": \"algo-1\", \"Operation\": \"training\", \"epoch\": 0, \"model\": 31}, \"Metrics\": {\"train_binary_classification_cross_entropy_objective\": {\"sum\": 0.5157845153575279, \"count\": 1, \"min\": 0.5157845153575279, \"max\": 0.5157845153575279}}}\u001b[0m\n",
            "\u001b[34m[04/27/2022 03:19:16 INFO 139921412462400] #quality_metric: host=algo-1, epoch=0, train binary_classification_cross_entropy_objective <loss>=0.49446070987806406\u001b[0m\n",
            "\u001b[34m[2022-04-27 03:19:17.020] [tensorio] [info] epoch_stats={\"data_pipeline\": \"/opt/ml/input/data/validation\", \"epoch\": 0, \"duration\": 58272, \"num_examples\": 1, \"num_bytes\": 424000}\u001b[0m\n",
            "\u001b[34m[2022-04-27 03:19:22.796] [tensorio] [info] epoch_stats={\"data_pipeline\": \"/opt/ml/input/data/validation\", \"epoch\": 2, \"duration\": 5775, \"num_examples\": 164, \"num_bytes\": 69349016}\u001b[0m\n",
            "\u001b[34m#metrics {\"StartTime\": 1651029562.804466, \"EndTime\": 1651029562.8045254, \"Dimensions\": {\"Algorithm\": \"Linear Learner\", \"Host\": \"algo-1\", \"Operation\": \"training\", \"epoch\": 0, \"model\": 0}, \"Metrics\": {\"validation_binary_classification_cross_entropy_objective\": {\"sum\": 0.49216502794654043, \"count\": 1, \"min\": 0.49216502794654043, \"max\": 0.49216502794654043}}}\u001b[0m\n",
            "\u001b[34m#metrics {\"StartTime\": 1651029562.8046117, \"EndTime\": 1651029562.804632, \"Dimensions\": {\"Algorithm\": \"Linear Learner\", \"Host\": \"algo-1\", \"Operation\": \"training\", \"epoch\": 0, \"model\": 1}, \"Metrics\": {\"validation_binary_classification_cross_entropy_objective\": {\"sum\": 0.4937188855753003, \"count\": 1, \"min\": 0.4937188855753003, \"max\": 0.4937188855753003}}}\u001b[0m\n",
            "\u001b[34m#metrics {\"StartTime\": 1651029562.804692, \"EndTime\": 1651029562.8047113, \"Dimensions\": {\"Algorithm\": \"Linear Learner\", \"Host\": \"algo-1\", \"Operation\": \"training\", \"epoch\": 0, \"model\": 2}, \"Metrics\": {\"validation_binary_classification_cross_entropy_objective\": {\"sum\": 0.49216684322737225, \"count\": 1, \"min\": 0.49216684322737225, \"max\": 0.49216684322737225}}}\u001b[0m\n",
            "\u001b[34m#metrics {\"StartTime\": 1651029562.8047674, \"EndTime\": 1651029562.804787, \"Dimensions\": {\"Algorithm\": \"Linear Learner\", \"Host\": \"algo-1\", \"Operation\": \"training\", \"epoch\": 0, \"model\": 3}, \"Metrics\": {\"validation_binary_classification_cross_entropy_objective\": {\"sum\": 0.49371868406401465, \"count\": 1, \"min\": 0.49371868406401465, \"max\": 0.49371868406401465}}}\u001b[0m\n",
            "\u001b[34m#metrics {\"StartTime\": 1651029562.8048434, \"EndTime\": 1651029562.80486, \"Dimensions\": {\"Algorithm\": \"Linear Learner\", \"Host\": \"algo-1\", \"Operation\": \"training\", \"epoch\": 0, \"model\": 4}, \"Metrics\": {\"validation_binary_classification_cross_entropy_objective\": {\"sum\": 0.5020035927551612, \"count\": 1, \"min\": 0.5020035927551612, \"max\": 0.5020035927551612}}}\u001b[0m\n",
            "\u001b[34m#metrics {\"StartTime\": 1651029562.804914, \"EndTime\": 1651029562.8049304, \"Dimensions\": {\"Algorithm\": \"Linear Learner\", \"Host\": \"algo-1\", \"Operation\": \"training\", \"epoch\": 0, \"model\": 5}, \"Metrics\": {\"validation_binary_classification_cross_entropy_objective\": {\"sum\": 0.5113398860196043, \"count\": 1, \"min\": 0.5113398860196043, \"max\": 0.5113398860196043}}}\u001b[0m\n",
            "\u001b[34m#metrics {\"StartTime\": 1651029562.8049822, \"EndTime\": 1651029562.8049984, \"Dimensions\": {\"Algorithm\": \"Linear Learner\", \"Host\": \"algo-1\", \"Operation\": \"training\", \"epoch\": 0, \"model\": 6}, \"Metrics\": {\"validation_binary_classification_cross_entropy_objective\": {\"sum\": 0.5020030919622993, \"count\": 1, \"min\": 0.5020030919622993, \"max\": 0.5020030919622993}}}\u001b[0m\n",
            "\u001b[34m#metrics {\"StartTime\": 1651029562.8050532, \"EndTime\": 1651029562.805071, \"Dimensions\": {\"Algorithm\": \"Linear Learner\", \"Host\": \"algo-1\", \"Operation\": \"training\", \"epoch\": 0, \"model\": 7}, \"Metrics\": {\"validation_binary_classification_cross_entropy_objective\": {\"sum\": 0.5113387814392236, \"count\": 1, \"min\": 0.5113387814392236, \"max\": 0.5113387814392236}}}\u001b[0m\n",
            "\u001b[34m#metrics {\"StartTime\": 1651029562.8051238, \"EndTime\": 1651029562.8051405, \"Dimensions\": {\"Algorithm\": \"Linear Learner\", \"Host\": \"algo-1\", \"Operation\": \"training\", \"epoch\": 0, \"model\": 8}, \"Metrics\": {\"validation_binary_classification_cross_entropy_objective\": {\"sum\": 0.4923545476314644, \"count\": 1, \"min\": 0.4923545476314644, \"max\": 0.4923545476314644}}}\u001b[0m\n",
            "\u001b[34m#metrics {\"StartTime\": 1651029562.8051922, \"EndTime\": 1651029562.8052092, \"Dimensions\": {\"Algorithm\": \"Linear Learner\", \"Host\": \"algo-1\", \"Operation\": \"training\", \"epoch\": 0, \"model\": 9}, \"Metrics\": {\"validation_binary_classification_cross_entropy_objective\": {\"sum\": 0.493799670889977, \"count\": 1, \"min\": 0.493799670889977, \"max\": 0.493799670889977}}}\u001b[0m\n",
            "\u001b[34m#metrics {\"StartTime\": 1651029562.8052635, \"EndTime\": 1651029562.805279, \"Dimensions\": {\"Algorithm\": \"Linear Learner\", \"Host\": \"algo-1\", \"Operation\": \"training\", \"epoch\": 0, \"model\": 10}, \"Metrics\": {\"validation_binary_classification_cross_entropy_objective\": {\"sum\": 0.49235627633707724, \"count\": 1, \"min\": 0.49235627633707724, \"max\": 0.49235627633707724}}}\u001b[0m\n",
            "\u001b[34m#metrics {\"StartTime\": 1651029562.805332, \"EndTime\": 1651029562.8053482, \"Dimensions\": {\"Algorithm\": \"Linear Learner\", \"Host\": \"algo-1\", \"Operation\": \"training\", \"epoch\": 0, \"model\": 11}, \"Metrics\": {\"validation_binary_classification_cross_entropy_objective\": {\"sum\": 0.4937981698174832, \"count\": 1, \"min\": 0.4937981698174832, \"max\": 0.4937981698174832}}}\u001b[0m\n",
            "\u001b[34m#metrics {\"StartTime\": 1651029562.8054001, \"EndTime\": 1651029562.8054154, \"Dimensions\": {\"Algorithm\": \"Linear Learner\", \"Host\": \"algo-1\", \"Operation\": \"training\", \"epoch\": 0, \"model\": 12}, \"Metrics\": {\"validation_binary_classification_cross_entropy_objective\": {\"sum\": 0.5015618109806705, \"count\": 1, \"min\": 0.5015618109806705, \"max\": 0.5015618109806705}}}\u001b[0m\n",
            "\u001b[34m#metrics {\"StartTime\": 1651029562.8054686, \"EndTime\": 1651029562.8054843, \"Dimensions\": {\"Algorithm\": \"Linear Learner\", \"Host\": \"algo-1\", \"Operation\": \"training\", \"epoch\": 0, \"model\": 13}, \"Metrics\": {\"validation_binary_classification_cross_entropy_objective\": {\"sum\": 0.5090810519797854, \"count\": 1, \"min\": 0.5090810519797854, \"max\": 0.5090810519797854}}}\u001b[0m\n",
            "\u001b[34m#metrics {\"StartTime\": 1651029562.8055391, \"EndTime\": 1651029562.8055553, \"Dimensions\": {\"Algorithm\": \"Linear Learner\", \"Host\": \"algo-1\", \"Operation\": \"training\", \"epoch\": 0, \"model\": 14}, \"Metrics\": {\"validation_binary_classification_cross_entropy_objective\": {\"sum\": 0.5015629036196418, \"count\": 1, \"min\": 0.5015629036196418, \"max\": 0.5015629036196418}}}\u001b[0m\n",
            "\u001b[34m#metrics {\"StartTime\": 1651029562.805606, \"EndTime\": 1651029562.805622, \"Dimensions\": {\"Algorithm\": \"Linear Learner\", \"Host\": \"algo-1\", \"Operation\": \"training\", \"epoch\": 0, \"model\": 15}, \"Metrics\": {\"validation_binary_classification_cross_entropy_objective\": {\"sum\": 0.5090848301298074, \"count\": 1, \"min\": 0.5090848301298074, \"max\": 0.5090848301298074}}}\u001b[0m\n",
            "\u001b[34m#metrics {\"StartTime\": 1651029562.8056743, \"EndTime\": 1651029562.8056896, \"Dimensions\": {\"Algorithm\": \"Linear Learner\", \"Host\": \"algo-1\", \"Operation\": \"training\", \"epoch\": 0, \"model\": 16}, \"Metrics\": {\"validation_binary_classification_cross_entropy_objective\": {\"sum\": 0.5077770293491067, \"count\": 1, \"min\": 0.5077770293491067, \"max\": 0.5077770293491067}}}\u001b[0m\n",
            "\u001b[34m#metrics {\"StartTime\": 1651029562.8057423, \"EndTime\": 1651029562.805759, \"Dimensions\": {\"Algorithm\": \"Linear Learner\", \"Host\": \"algo-1\", \"Operation\": \"training\", \"epoch\": 0, \"model\": 17}, \"Metrics\": {\"validation_binary_classification_cross_entropy_objective\": {\"sum\": 0.5082356167916542, \"count\": 1, \"min\": 0.5082356167916542, \"max\": 0.5082356167916542}}}\u001b[0m\n",
            "\u001b[34m#metrics {\"StartTime\": 1651029562.8058095, \"EndTime\": 1651029562.8058257, \"Dimensions\": {\"Algorithm\": \"Linear Learner\", \"Host\": \"algo-1\", \"Operation\": \"training\", \"epoch\": 0, \"model\": 18}, \"Metrics\": {\"validation_binary_classification_cross_entropy_objective\": {\"sum\": 0.5077742287154048, \"count\": 1, \"min\": 0.5077742287154048, \"max\": 0.5077742287154048}}}\u001b[0m\n",
            "\u001b[34m#metrics {\"StartTime\": 1651029562.8058798, \"EndTime\": 1651029562.8058953, \"Dimensions\": {\"Algorithm\": \"Linear Learner\", \"Host\": \"algo-1\", \"Operation\": \"training\", \"epoch\": 0, \"model\": 19}, \"Metrics\": {\"validation_binary_classification_cross_entropy_objective\": {\"sum\": 0.5082300494826336, \"count\": 1, \"min\": 0.5082300494826336, \"max\": 0.5082300494826336}}}\u001b[0m\n",
            "\u001b[34m#metrics {\"StartTime\": 1651029562.8059452, \"EndTime\": 1651029562.8059616, \"Dimensions\": {\"Algorithm\": \"Linear Learner\", \"Host\": \"algo-1\", \"Operation\": \"training\", \"epoch\": 0, \"model\": 20}, \"Metrics\": {\"validation_binary_classification_cross_entropy_objective\": {\"sum\": 0.5107140740634639, \"count\": 1, \"min\": 0.5107140740634639, \"max\": 0.5107140740634639}}}\u001b[0m\n",
            "\u001b[34m#metrics {\"StartTime\": 1651029562.8060126, \"EndTime\": 1651029562.8060298, \"Dimensions\": {\"Algorithm\": \"Linear Learner\", \"Host\": \"algo-1\", \"Operation\": \"training\", \"epoch\": 0, \"model\": 21}, \"Metrics\": {\"validation_binary_classification_cross_entropy_objective\": {\"sum\": 0.5090630982571537, \"count\": 1, \"min\": 0.5090630982571537, \"max\": 0.5090630982571537}}}\u001b[0m\n",
            "\u001b[34m#metrics {\"StartTime\": 1651029562.8060818, \"EndTime\": 1651029562.806098, \"Dimensions\": {\"Algorithm\": \"Linear Learner\", \"Host\": \"algo-1\", \"Operation\": \"training\", \"epoch\": 0, \"model\": 22}, \"Metrics\": {\"validation_binary_classification_cross_entropy_objective\": {\"sum\": 0.5107077492212768, \"count\": 1, \"min\": 0.5107077492212768, \"max\": 0.5107077492212768}}}\u001b[0m\n",
            "\u001b[34m#metrics {\"StartTime\": 1651029562.8061504, \"EndTime\": 1651029562.8061662, \"Dimensions\": {\"Algorithm\": \"Linear Learner\", \"Host\": \"algo-1\", \"Operation\": \"training\", \"epoch\": 0, \"model\": 23}, \"Metrics\": {\"validation_binary_classification_cross_entropy_objective\": {\"sum\": 0.5090650114948605, \"count\": 1, \"min\": 0.5090650114948605, \"max\": 0.5090650114948605}}}\u001b[0m\n",
            "\u001b[34m#metrics {\"StartTime\": 1651029562.8062203, \"EndTime\": 1651029562.8062358, \"Dimensions\": {\"Algorithm\": \"Linear Learner\", \"Host\": \"algo-1\", \"Operation\": \"training\", \"epoch\": 0, \"model\": 24}, \"Metrics\": {\"validation_binary_classification_cross_entropy_objective\": {\"sum\": 0.5137628808551358, \"count\": 1, \"min\": 0.5137628808551358, \"max\": 0.5137628808551358}}}\u001b[0m\n",
            "\u001b[34m#metrics {\"StartTime\": 1651029562.8062844, \"EndTime\": 1651029562.8063, \"Dimensions\": {\"Algorithm\": \"Linear Learner\", \"Host\": \"algo-1\", \"Operation\": \"training\", \"epoch\": 0, \"model\": 25}, \"Metrics\": {\"validation_binary_classification_cross_entropy_objective\": {\"sum\": 0.5144466804824993, \"count\": 1, \"min\": 0.5144466804824993, \"max\": 0.5144466804824993}}}\u001b[0m\n",
            "\u001b[34m#metrics {\"StartTime\": 1651029562.806351, \"EndTime\": 1651029562.8063664, \"Dimensions\": {\"Algorithm\": \"Linear Learner\", \"Host\": \"algo-1\", \"Operation\": \"training\", \"epoch\": 0, \"model\": 26}, \"Metrics\": {\"validation_binary_classification_cross_entropy_objective\": {\"sum\": 0.5137671019568173, \"count\": 1, \"min\": 0.5137671019568173, \"max\": 0.5137671019568173}}}\u001b[0m\n",
            "\u001b[34m#metrics {\"StartTime\": 1651029562.8064187, \"EndTime\": 1651029562.8064346, \"Dimensions\": {\"Algorithm\": \"Linear Learner\", \"Host\": \"algo-1\", \"Operation\": \"training\", \"epoch\": 0, \"model\": 27}, \"Metrics\": {\"validation_binary_classification_cross_entropy_objective\": {\"sum\": 0.5144463367938066, \"count\": 1, \"min\": 0.5144463367938066, \"max\": 0.5144463367938066}}}\u001b[0m\n",
            "\u001b[34m#metrics {\"StartTime\": 1651029562.8064866, \"EndTime\": 1651029562.8065023, \"Dimensions\": {\"Algorithm\": \"Linear Learner\", \"Host\": \"algo-1\", \"Operation\": \"training\", \"epoch\": 0, \"model\": 28}, \"Metrics\": {\"validation_binary_classification_cross_entropy_objective\": {\"sum\": 0.5153292971150223, \"count\": 1, \"min\": 0.5153292971150223, \"max\": 0.5153292971150223}}}\u001b[0m\n",
            "\u001b[34m#metrics {\"StartTime\": 1651029562.8065565, \"EndTime\": 1651029562.8065717, \"Dimensions\": {\"Algorithm\": \"Linear Learner\", \"Host\": \"algo-1\", \"Operation\": \"training\", \"epoch\": 0, \"model\": 29}, \"Metrics\": {\"validation_binary_classification_cross_entropy_objective\": {\"sum\": 0.5140040913567744, \"count\": 1, \"min\": 0.5140040913567744, \"max\": 0.5140040913567744}}}\u001b[0m\n",
            "\u001b[34m#metrics {\"StartTime\": 1651029562.806621, \"EndTime\": 1651029562.8066375, \"Dimensions\": {\"Algorithm\": \"Linear Learner\", \"Host\": \"algo-1\", \"Operation\": \"training\", \"epoch\": 0, \"model\": 30}, \"Metrics\": {\"validation_binary_classification_cross_entropy_objective\": {\"sum\": 0.5153055562868011, \"count\": 1, \"min\": 0.5153055562868011, \"max\": 0.5153055562868011}}}\u001b[0m\n",
            "\u001b[34m#metrics {\"StartTime\": 1651029562.8066888, \"EndTime\": 1651029562.8067038, \"Dimensions\": {\"Algorithm\": \"Linear Learner\", \"Host\": \"algo-1\", \"Operation\": \"training\", \"epoch\": 0, \"model\": 31}, \"Metrics\": {\"validation_binary_classification_cross_entropy_objective\": {\"sum\": 0.5139407557999307, \"count\": 1, \"min\": 0.5139407557999307, \"max\": 0.5139407557999307}}}\u001b[0m\n",
            "\u001b[34m[04/27/2022 03:19:22 INFO 139921412462400] #quality_metric: host=algo-1, epoch=0, validation binary_classification_cross_entropy_objective <loss>=0.49216502794654043\u001b[0m\n",
            "\u001b[34m[04/27/2022 03:19:22 INFO 139921412462400] #early_stopping_criteria_metric: host=algo-1, epoch=0, criteria=binary_classification_cross_entropy_objective, value=0.49216502794654043\u001b[0m\n",
            "\u001b[34m[04/27/2022 03:19:22 INFO 139921412462400] Epoch 0: Loss improved. Updating best model\u001b[0m\n",
            "\u001b[34m[04/27/2022 03:19:22 INFO 139921412462400] Saving model for epoch: 0\u001b[0m\n",
            "\u001b[34m[04/27/2022 03:19:22 INFO 139921412462400] Saved checkpoint to \"/tmp/tmpedpiu9f3/mx-mod-0000.params\"\u001b[0m\n",
            "\u001b[34m[04/27/2022 03:19:22 INFO 139921412462400] #progress_metric: host=algo-1, completed 6.666666666666667 % of epochs\u001b[0m\n",
            "\u001b[34m#metrics {\"StartTime\": 1651029499.2359488, \"EndTime\": 1651029562.8235927, \"Dimensions\": {\"Algorithm\": \"Linear Learner\", \"Host\": \"algo-1\", \"Operation\": \"training\", \"epoch\": 0, \"Meta\": \"training_data_iter\"}, \"Metrics\": {\"Total Records Seen\": {\"sum\": 1320472.0, \"count\": 1, \"min\": 1320472, \"max\": 1320472}, \"Total Batches Seen\": {\"sum\": 1321.0, \"count\": 1, \"min\": 1321, \"max\": 1321}, \"Max Records Seen Between Resets\": {\"sum\": 1308472.0, \"count\": 1, \"min\": 1308472, \"max\": 1308472}, \"Max Batches Seen Between Resets\": {\"sum\": 1309.0, \"count\": 1, \"min\": 1309, \"max\": 1309}, \"Reset Count\": {\"sum\": 3.0, \"count\": 1, \"min\": 3, \"max\": 3}, \"Number of Records Since Last Reset\": {\"sum\": 1308472.0, \"count\": 1, \"min\": 1308472, \"max\": 1308472}, \"Number of Batches Since Last Reset\": {\"sum\": 1309.0, \"count\": 1, \"min\": 1309, \"max\": 1309}}}\u001b[0m\n",
            "\u001b[34m[04/27/2022 03:19:22 INFO 139921412462400] #throughput_metric: host=algo-1, train throughput=20577.414450573917 records/second\u001b[0m\n",
            "\u001b[34m[2022-04-27 03:20:20.732] [tensorio] [info] epoch_stats={\"data_pipeline\": \"/opt/ml/input/data/train\", \"epoch\": 5, \"duration\": 57906, \"num_examples\": 1309, \"num_bytes\": 554792128}\u001b[0m\n",
            "\u001b[34m#metrics {\"StartTime\": 1651029620.732189, \"EndTime\": 1651029620.7322826, \"Dimensions\": {\"Algorithm\": \"Linear Learner\", \"Host\": \"algo-1\", \"Operation\": \"training\", \"epoch\": 1, \"model\": 0}, \"Metrics\": {\"train_binary_classification_cross_entropy_objective\": {\"sum\": 0.4922372571612717, \"count\": 1, \"min\": 0.4922372571612717, \"max\": 0.4922372571612717}}}\u001b[0m\n",
            "\u001b[34m#metrics {\"StartTime\": 1651029620.7323787, \"EndTime\": 1651029620.7323961, \"Dimensions\": {\"Algorithm\": \"Linear Learner\", \"Host\": \"algo-1\", \"Operation\": \"training\", \"epoch\": 1, \"model\": 1}, \"Metrics\": {\"train_binary_classification_cross_entropy_objective\": {\"sum\": 0.49332944892160024, \"count\": 1, \"min\": 0.49332944892160024, \"max\": 0.49332944892160024}}}\u001b[0m\n",
            "\u001b[34m#metrics {\"StartTime\": 1651029620.7324812, \"EndTime\": 1651029620.7324977, \"Dimensions\": {\"Algorithm\": \"Linear Learner\", \"Host\": \"algo-1\", \"Operation\": \"training\", \"epoch\": 1, \"model\": 2}, \"Metrics\": {\"train_binary_classification_cross_entropy_objective\": {\"sum\": 0.4922359980311962, \"count\": 1, \"min\": 0.4922359980311962, \"max\": 0.4922359980311962}}}\u001b[0m\n",
            "\u001b[34m#metrics {\"StartTime\": 1651029620.7325456, \"EndTime\": 1651029620.7325573, \"Dimensions\": {\"Algorithm\": \"Linear Learner\", \"Host\": \"algo-1\", \"Operation\": \"training\", \"epoch\": 1, \"model\": 3}, \"Metrics\": {\"train_binary_classification_cross_entropy_objective\": {\"sum\": 0.4933294941146804, \"count\": 1, \"min\": 0.4933294941146804, \"max\": 0.4933294941146804}}}\u001b[0m\n",
            "\u001b[34m#metrics {\"StartTime\": 1651029620.7325974, \"EndTime\": 1651029620.7326086, \"Dimensions\": {\"Algorithm\": \"Linear Learner\", \"Host\": \"algo-1\", \"Operation\": \"training\", \"epoch\": 1, \"model\": 4}, \"Metrics\": {\"train_binary_classification_cross_entropy_objective\": {\"sum\": 0.4964899719658248, \"count\": 1, \"min\": 0.4964899719658248, \"max\": 0.4964899719658248}}}\u001b[0m\n",
            "\u001b[34m#metrics {\"StartTime\": 1651029620.7326472, \"EndTime\": 1651029620.7326577, \"Dimensions\": {\"Algorithm\": \"Linear Learner\", \"Host\": \"algo-1\", \"Operation\": \"training\", \"epoch\": 1, \"model\": 5}, \"Metrics\": {\"train_binary_classification_cross_entropy_objective\": {\"sum\": 0.5148644943703934, \"count\": 1, \"min\": 0.5148644943703934, \"max\": 0.5148644943703934}}}\u001b[0m\n",
            "\u001b[34m#metrics {\"StartTime\": 1651029620.732696, \"EndTime\": 1651029620.7327068, \"Dimensions\": {\"Algorithm\": \"Linear Learner\", \"Host\": \"algo-1\", \"Operation\": \"training\", \"epoch\": 1, \"model\": 6}, \"Metrics\": {\"train_binary_classification_cross_entropy_objective\": {\"sum\": 0.4964893681704087, \"count\": 1, \"min\": 0.4964893681704087, \"max\": 0.4964893681704087}}}\u001b[0m\n",
            "\u001b[34m#metrics {\"StartTime\": 1651029620.7327454, \"EndTime\": 1651029620.7327561, \"Dimensions\": {\"Algorithm\": \"Linear Learner\", \"Host\": \"algo-1\", \"Operation\": \"training\", \"epoch\": 1, \"model\": 7}, \"Metrics\": {\"train_binary_classification_cross_entropy_objective\": {\"sum\": 0.5148545767407898, \"count\": 1, \"min\": 0.5148545767407898, \"max\": 0.5148545767407898}}}\u001b[0m\n",
            "\u001b[34m#metrics {\"StartTime\": 1651029620.732794, \"EndTime\": 1651029620.7328048, \"Dimensions\": {\"Algorithm\": \"Linear Learner\", \"Host\": \"algo-1\", \"Operation\": \"training\", \"epoch\": 1, \"model\": 8}, \"Metrics\": {\"train_binary_classification_cross_entropy_objective\": {\"sum\": 0.49241907153581627, \"count\": 1, \"min\": 0.49241907153581627, \"max\": 0.49241907153581627}}}\u001b[0m\n",
            "\u001b[34m#metrics {\"StartTime\": 1651029620.732843, \"EndTime\": 1651029620.7328534, \"Dimensions\": {\"Algorithm\": \"Linear Learner\", \"Host\": \"algo-1\", \"Operation\": \"training\", \"epoch\": 1, \"model\": 9}, \"Metrics\": {\"train_binary_classification_cross_entropy_objective\": {\"sum\": 0.4934662164577286, \"count\": 1, \"min\": 0.4934662164577286, \"max\": 0.4934662164577286}}}\u001b[0m\n",
            "\u001b[34m#metrics {\"StartTime\": 1651029620.732891, \"EndTime\": 1651029620.7329016, \"Dimensions\": {\"Algorithm\": \"Linear Learner\", \"Host\": \"algo-1\", \"Operation\": \"training\", \"epoch\": 1, \"model\": 10}, \"Metrics\": {\"train_binary_classification_cross_entropy_objective\": {\"sum\": 0.49241972164422365, \"count\": 1, \"min\": 0.49241972164422365, \"max\": 0.49241972164422365}}}\u001b[0m\n",
            "\u001b[34m#metrics {\"StartTime\": 1651029620.73294, \"EndTime\": 1651029620.7329504, \"Dimensions\": {\"Algorithm\": \"Linear Learner\", \"Host\": \"algo-1\", \"Operation\": \"training\", \"epoch\": 1, \"model\": 11}, \"Metrics\": {\"train_binary_classification_cross_entropy_objective\": {\"sum\": 0.49346598778587597, \"count\": 1, \"min\": 0.49346598778587597, \"max\": 0.49346598778587597}}}\u001b[0m\n",
            "\u001b[34m#metrics {\"StartTime\": 1651029620.7329884, \"EndTime\": 1651029620.7329988, \"Dimensions\": {\"Algorithm\": \"Linear Learner\", \"Host\": \"algo-1\", \"Operation\": \"training\", \"epoch\": 1, \"model\": 12}, \"Metrics\": {\"train_binary_classification_cross_entropy_objective\": {\"sum\": 0.4964240752053917, \"count\": 1, \"min\": 0.4964240752053917, \"max\": 0.4964240752053917}}}\u001b[0m\n",
            "\u001b[34m#metrics {\"StartTime\": 1651029620.733037, \"EndTime\": 1651029620.7330475, \"Dimensions\": {\"Algorithm\": \"Linear Learner\", \"Host\": \"algo-1\", \"Operation\": \"training\", \"epoch\": 1, \"model\": 13}, \"Metrics\": {\"train_binary_classification_cross_entropy_objective\": {\"sum\": 0.5135106702332103, \"count\": 1, \"min\": 0.5135106702332103, \"max\": 0.5135106702332103}}}\u001b[0m\n",
            "\u001b[34m#metrics {\"StartTime\": 1651029620.7330854, \"EndTime\": 1651029620.733096, \"Dimensions\": {\"Algorithm\": \"Linear Learner\", \"Host\": \"algo-1\", \"Operation\": \"training\", \"epoch\": 1, \"model\": 14}, \"Metrics\": {\"train_binary_classification_cross_entropy_objective\": {\"sum\": 0.49642417662734284, \"count\": 1, \"min\": 0.49642417662734284, \"max\": 0.49642417662734284}}}\u001b[0m\n",
            "\u001b[34m#metrics {\"StartTime\": 1651029620.733134, \"EndTime\": 1651029620.7331445, \"Dimensions\": {\"Algorithm\": \"Linear Learner\", \"Host\": \"algo-1\", \"Operation\": \"training\", \"epoch\": 1, \"model\": 15}, \"Metrics\": {\"train_binary_classification_cross_entropy_objective\": {\"sum\": 0.5135112456575446, \"count\": 1, \"min\": 0.5135112456575446, \"max\": 0.5135112456575446}}}\u001b[0m\n",
            "\u001b[34m#metrics {\"StartTime\": 1651029620.7331822, \"EndTime\": 1651029620.7331924, \"Dimensions\": {\"Algorithm\": \"Linear Learner\", \"Host\": \"algo-1\", \"Operation\": \"training\", \"epoch\": 1, \"model\": 16}, \"Metrics\": {\"train_binary_classification_cross_entropy_objective\": {\"sum\": 0.5077655542122844, \"count\": 1, \"min\": 0.5077655542122844, \"max\": 0.5077655542122844}}}\u001b[0m\n",
            "\u001b[34m#metrics {\"StartTime\": 1651029620.7332304, \"EndTime\": 1651029620.733291, \"Dimensions\": {\"Algorithm\": \"Linear Learner\", \"Host\": \"algo-1\", \"Operation\": \"training\", \"epoch\": 1, \"model\": 17}, \"Metrics\": {\"train_binary_classification_cross_entropy_objective\": {\"sum\": 0.5080082138014861, \"count\": 1, \"min\": 0.5080082138014861, \"max\": 0.5080082138014861}}}\u001b[0m\n",
            "\u001b[34m#metrics {\"StartTime\": 1651029620.7333431, \"EndTime\": 1651029620.733357, \"Dimensions\": {\"Algorithm\": \"Linear Learner\", \"Host\": \"algo-1\", \"Operation\": \"training\", \"epoch\": 1, \"model\": 18}, \"Metrics\": {\"train_binary_classification_cross_entropy_objective\": {\"sum\": 0.5077655833299736, \"count\": 1, \"min\": 0.5077655833299736, \"max\": 0.5077655833299736}}}\u001b[0m\n",
            "\u001b[34m#metrics {\"StartTime\": 1651029620.7333999, \"EndTime\": 1651029620.733411, \"Dimensions\": {\"Algorithm\": \"Linear Learner\", \"Host\": \"algo-1\", \"Operation\": \"training\", \"epoch\": 1, \"model\": 19}, \"Metrics\": {\"train_binary_classification_cross_entropy_objective\": {\"sum\": 0.5080081984493711, \"count\": 1, \"min\": 0.5080081984493711, \"max\": 0.5080081984493711}}}\u001b[0m\n",
            "\u001b[34m#metrics {\"StartTime\": 1651029620.73345, \"EndTime\": 1651029620.7334607, \"Dimensions\": {\"Algorithm\": \"Linear Learner\", \"Host\": \"algo-1\", \"Operation\": \"training\", \"epoch\": 1, \"model\": 20}, \"Metrics\": {\"train_binary_classification_cross_entropy_objective\": {\"sum\": 0.5086147124264219, \"count\": 1, \"min\": 0.5086147124264219, \"max\": 0.5086147124264219}}}\u001b[0m\n",
            "\u001b[34m#metrics {\"StartTime\": 1651029620.7334983, \"EndTime\": 1651029620.7335088, \"Dimensions\": {\"Algorithm\": \"Linear Learner\", \"Host\": \"algo-1\", \"Operation\": \"training\", \"epoch\": 1, \"model\": 21}, \"Metrics\": {\"train_binary_classification_cross_entropy_objective\": {\"sum\": 0.5115985679976437, \"count\": 1, \"min\": 0.5115985679976437, \"max\": 0.5115985679976437}}}\u001b[0m\n",
            "\u001b[34m#metrics {\"StartTime\": 1651029620.7335465, \"EndTime\": 1651029620.7335567, \"Dimensions\": {\"Algorithm\": \"Linear Learner\", \"Host\": \"algo-1\", \"Operation\": \"training\", \"epoch\": 1, \"model\": 22}, \"Metrics\": {\"train_binary_classification_cross_entropy_objective\": {\"sum\": 0.5086148853826961, \"count\": 1, \"min\": 0.5086148853826961, \"max\": 0.5086148853826961}}}\u001b[0m\n",
            "\u001b[34m#metrics {\"StartTime\": 1651029620.7335944, \"EndTime\": 1651029620.733605, \"Dimensions\": {\"Algorithm\": \"Linear Learner\", \"Host\": \"algo-1\", \"Operation\": \"training\", \"epoch\": 1, \"model\": 23}, \"Metrics\": {\"train_binary_classification_cross_entropy_objective\": {\"sum\": 0.5115991304263428, \"count\": 1, \"min\": 0.5115991304263428, \"max\": 0.5115991304263428}}}\u001b[0m\n",
            "\u001b[34m#metrics {\"StartTime\": 1651029620.7336423, \"EndTime\": 1651029620.7336528, \"Dimensions\": {\"Algorithm\": \"Linear Learner\", \"Host\": \"algo-1\", \"Operation\": \"training\", \"epoch\": 1, \"model\": 24}, \"Metrics\": {\"train_binary_classification_cross_entropy_objective\": {\"sum\": 0.513780742540272, \"count\": 1, \"min\": 0.513780742540272, \"max\": 0.513780742540272}}}\u001b[0m\n",
            "\u001b[34m#metrics {\"StartTime\": 1651029620.7336917, \"EndTime\": 1651029620.7337008, \"Dimensions\": {\"Algorithm\": \"Linear Learner\", \"Host\": \"algo-1\", \"Operation\": \"training\", \"epoch\": 1, \"model\": 25}, \"Metrics\": {\"train_binary_classification_cross_entropy_objective\": {\"sum\": 0.5138778119335117, \"count\": 1, \"min\": 0.5138778119335117, \"max\": 0.5138778119335117}}}\u001b[0m\n",
            "\u001b[34m#metrics {\"StartTime\": 1651029620.7337272, \"EndTime\": 1651029620.7337368, \"Dimensions\": {\"Algorithm\": \"Linear Learner\", \"Host\": \"algo-1\", \"Operation\": \"training\", \"epoch\": 1, \"model\": 26}, \"Metrics\": {\"train_binary_classification_cross_entropy_objective\": {\"sum\": 0.5137798489211897, \"count\": 1, \"min\": 0.5137798489211897, \"max\": 0.5137798489211897}}}\u001b[0m\n",
            "\u001b[34m#metrics {\"StartTime\": 1651029620.7337816, \"EndTime\": 1651029620.7337918, \"Dimensions\": {\"Algorithm\": \"Linear Learner\", \"Host\": \"algo-1\", \"Operation\": \"training\", \"epoch\": 1, \"model\": 27}, \"Metrics\": {\"train_binary_classification_cross_entropy_objective\": {\"sum\": 0.5138785188074141, \"count\": 1, \"min\": 0.5138785188074141, \"max\": 0.5138785188074141}}}\u001b[0m\n",
            "\u001b[34m#metrics {\"StartTime\": 1651029620.7338185, \"EndTime\": 1651029620.7338264, \"Dimensions\": {\"Algorithm\": \"Linear Learner\", \"Host\": \"algo-1\", \"Operation\": \"training\", \"epoch\": 1, \"model\": 28}, \"Metrics\": {\"train_binary_classification_cross_entropy_objective\": {\"sum\": 0.5141599585856866, \"count\": 1, \"min\": 0.5141599585856866, \"max\": 0.5141599585856866}}}\u001b[0m\n",
            "\u001b[34m#metrics {\"StartTime\": 1651029620.733852, \"EndTime\": 1651029620.7338593, \"Dimensions\": {\"Algorithm\": \"Linear Learner\", \"Host\": \"algo-1\", \"Operation\": \"training\", \"epoch\": 1, \"model\": 29}, \"Metrics\": {\"train_binary_classification_cross_entropy_objective\": {\"sum\": 0.515236810596711, \"count\": 1, \"min\": 0.515236810596711, \"max\": 0.515236810596711}}}\u001b[0m\n",
            "\u001b[34m#metrics {\"StartTime\": 1651029620.733884, \"EndTime\": 1651029620.7338912, \"Dimensions\": {\"Algorithm\": \"Linear Learner\", \"Host\": \"algo-1\", \"Operation\": \"training\", \"epoch\": 1, \"model\": 30}, \"Metrics\": {\"train_binary_classification_cross_entropy_objective\": {\"sum\": 0.5141609234357828, \"count\": 1, \"min\": 0.5141609234357828, \"max\": 0.5141609234357828}}}\u001b[0m\n",
            "\u001b[34m#metrics {\"StartTime\": 1651029620.7339227, \"EndTime\": 1651029620.7339365, \"Dimensions\": {\"Algorithm\": \"Linear Learner\", \"Host\": \"algo-1\", \"Operation\": \"training\", \"epoch\": 1, \"model\": 31}, \"Metrics\": {\"train_binary_classification_cross_entropy_objective\": {\"sum\": 0.5152318022608392, \"count\": 1, \"min\": 0.5152318022608392, \"max\": 0.5152318022608392}}}\u001b[0m\n",
            "\u001b[34m[04/27/2022 03:20:20 INFO 139921412462400] #quality_metric: host=algo-1, epoch=1, train binary_classification_cross_entropy_objective <loss>=0.4922372571612717\u001b[0m\n",
            "\u001b[34m[2022-04-27 03:20:25.921] [tensorio] [info] epoch_stats={\"data_pipeline\": \"/opt/ml/input/data/validation\", \"epoch\": 5, \"duration\": 5163, \"num_examples\": 164, \"num_bytes\": 69349016}\u001b[0m\n",
            "\u001b[34m#metrics {\"StartTime\": 1651029625.9316816, \"EndTime\": 1651029625.9317434, \"Dimensions\": {\"Algorithm\": \"Linear Learner\", \"Host\": \"algo-1\", \"Operation\": \"training\", \"epoch\": 1, \"model\": 0}, \"Metrics\": {\"validation_binary_classification_cross_entropy_objective\": {\"sum\": 0.4918462201133985, \"count\": 1, \"min\": 0.4918462201133985, \"max\": 0.4918462201133985}}}\u001b[0m\n",
            "\u001b[34m#metrics {\"StartTime\": 1651029625.9318302, \"EndTime\": 1651029625.9318533, \"Dimensions\": {\"Algorithm\": \"Linear Learner\", \"Host\": \"algo-1\", \"Operation\": \"training\", \"epoch\": 1, \"model\": 1}, \"Metrics\": {\"validation_binary_classification_cross_entropy_objective\": {\"sum\": 0.49373056819208777, \"count\": 1, \"min\": 0.49373056819208777, \"max\": 0.49373056819208777}}}\u001b[0m\n",
            "\u001b[34m#metrics {\"StartTime\": 1651029625.931917, \"EndTime\": 1651029625.931938, \"Dimensions\": {\"Algorithm\": \"Linear Learner\", \"Host\": \"algo-1\", \"Operation\": \"training\", \"epoch\": 1, \"model\": 2}, \"Metrics\": {\"validation_binary_classification_cross_entropy_objective\": {\"sum\": 0.4918474385103388, \"count\": 1, \"min\": 0.4918474385103388, \"max\": 0.4918474385103388}}}\u001b[0m\n",
            "\u001b[34m#metrics {\"StartTime\": 1651029625.9319954, \"EndTime\": 1651029625.9320138, \"Dimensions\": {\"Algorithm\": \"Linear Learner\", \"Host\": \"algo-1\", \"Operation\": \"training\", \"epoch\": 1, \"model\": 3}, \"Metrics\": {\"validation_binary_classification_cross_entropy_objective\": {\"sum\": 0.49373020547177354, \"count\": 1, \"min\": 0.49373020547177354, \"max\": 0.49373020547177354}}}\u001b[0m\n",
            "\u001b[34m#metrics {\"StartTime\": 1651029625.9320726, \"EndTime\": 1651029625.9320915, \"Dimensions\": {\"Algorithm\": \"Linear Learner\", \"Host\": \"algo-1\", \"Operation\": \"training\", \"epoch\": 1, \"model\": 4}, \"Metrics\": {\"validation_binary_classification_cross_entropy_objective\": {\"sum\": 0.49391373709957587, \"count\": 1, \"min\": 0.49391373709957587, \"max\": 0.49391373709957587}}}\u001b[0m\n",
            "\u001b[34m#metrics {\"StartTime\": 1651029625.9321475, \"EndTime\": 1651029625.9321651, \"Dimensions\": {\"Algorithm\": \"Linear Learner\", \"Host\": \"algo-1\", \"Operation\": \"training\", \"epoch\": 1, \"model\": 5}, \"Metrics\": {\"validation_binary_classification_cross_entropy_objective\": {\"sum\": 0.5122777040566568, \"count\": 1, \"min\": 0.5122777040566568, \"max\": 0.5122777040566568}}}\u001b[0m\n",
            "\u001b[34m#metrics {\"StartTime\": 1651029625.932221, \"EndTime\": 1651029625.932238, \"Dimensions\": {\"Algorithm\": \"Linear Learner\", \"Host\": \"algo-1\", \"Operation\": \"training\", \"epoch\": 1, \"model\": 6}, \"Metrics\": {\"validation_binary_classification_cross_entropy_objective\": {\"sum\": 0.493914538293521, \"count\": 1, \"min\": 0.493914538293521, \"max\": 0.493914538293521}}}\u001b[0m\n",
            "\u001b[34m#metrics {\"StartTime\": 1651029625.9322963, \"EndTime\": 1651029625.9323123, \"Dimensions\": {\"Algorithm\": \"Linear Learner\", \"Host\": \"algo-1\", \"Operation\": \"training\", \"epoch\": 1, \"model\": 7}, \"Metrics\": {\"validation_binary_classification_cross_entropy_objective\": {\"sum\": 0.5125139342441867, \"count\": 1, \"min\": 0.5125139342441867, \"max\": 0.5125139342441867}}}\u001b[0m\n",
            "\u001b[34m#metrics {\"StartTime\": 1651029625.9323661, \"EndTime\": 1651029625.932382, \"Dimensions\": {\"Algorithm\": \"Linear Learner\", \"Host\": \"algo-1\", \"Operation\": \"training\", \"epoch\": 1, \"model\": 8}, \"Metrics\": {\"validation_binary_classification_cross_entropy_objective\": {\"sum\": 0.49207543304357343, \"count\": 1, \"min\": 0.49207543304357343, \"max\": 0.49207543304357343}}}\u001b[0m\n",
            "\u001b[34m#metrics {\"StartTime\": 1651029625.93244, \"EndTime\": 1651029625.9324582, \"Dimensions\": {\"Algorithm\": \"Linear Learner\", \"Host\": \"algo-1\", \"Operation\": \"training\", \"epoch\": 1, \"model\": 9}, \"Metrics\": {\"validation_binary_classification_cross_entropy_objective\": {\"sum\": 0.4938474202952112, \"count\": 1, \"min\": 0.4938474202952112, \"max\": 0.4938474202952112}}}\u001b[0m\n",
            "\u001b[34m#metrics {\"StartTime\": 1651029625.9325132, \"EndTime\": 1651029625.9325314, \"Dimensions\": {\"Algorithm\": \"Linear Learner\", \"Host\": \"algo-1\", \"Operation\": \"training\", \"epoch\": 1, \"model\": 10}, \"Metrics\": {\"validation_binary_classification_cross_entropy_objective\": {\"sum\": 0.4920759918642222, \"count\": 1, \"min\": 0.4920759918642222, \"max\": 0.4920759918642222}}}\u001b[0m\n",
            "\u001b[34m#metrics {\"StartTime\": 1651029625.9325867, \"EndTime\": 1651029625.9326038, \"Dimensions\": {\"Algorithm\": \"Linear Learner\", \"Host\": \"algo-1\", \"Operation\": \"training\", \"epoch\": 1, \"model\": 11}, \"Metrics\": {\"validation_binary_classification_cross_entropy_objective\": {\"sum\": 0.4938470581346506, \"count\": 1, \"min\": 0.4938470581346506, \"max\": 0.4938470581346506}}}\u001b[0m\n",
            "\u001b[34m#metrics {\"StartTime\": 1651029625.932658, \"EndTime\": 1651029625.9326754, \"Dimensions\": {\"Algorithm\": \"Linear Learner\", \"Host\": \"algo-1\", \"Operation\": \"training\", \"epoch\": 1, \"model\": 12}, \"Metrics\": {\"validation_binary_classification_cross_entropy_objective\": {\"sum\": 0.49399220242228387, \"count\": 1, \"min\": 0.49399220242228387, \"max\": 0.49399220242228387}}}\u001b[0m\n",
            "\u001b[34m#metrics {\"StartTime\": 1651029625.932731, \"EndTime\": 1651029625.9327478, \"Dimensions\": {\"Algorithm\": \"Linear Learner\", \"Host\": \"algo-1\", \"Operation\": \"training\", \"epoch\": 1, \"model\": 13}, \"Metrics\": {\"validation_binary_classification_cross_entropy_objective\": {\"sum\": 0.5101980999384444, \"count\": 1, \"min\": 0.5101980999384444, \"max\": 0.5101980999384444}}}\u001b[0m\n",
            "\u001b[34m#metrics {\"StartTime\": 1651029625.9328036, \"EndTime\": 1651029625.9328208, \"Dimensions\": {\"Algorithm\": \"Linear Learner\", \"Host\": \"algo-1\", \"Operation\": \"training\", \"epoch\": 1, \"model\": 14}, \"Metrics\": {\"validation_binary_classification_cross_entropy_objective\": {\"sum\": 0.493991865823803, \"count\": 1, \"min\": 0.493991865823803, \"max\": 0.493991865823803}}}\u001b[0m\n",
            "\u001b[34m#metrics {\"StartTime\": 1651029625.9328763, \"EndTime\": 1651029625.9328923, \"Dimensions\": {\"Algorithm\": \"Linear Learner\", \"Host\": \"algo-1\", \"Operation\": \"training\", \"epoch\": 1, \"model\": 15}, \"Metrics\": {\"validation_binary_classification_cross_entropy_objective\": {\"sum\": 0.510199493351668, \"count\": 1, \"min\": 0.510199493351668, \"max\": 0.510199493351668}}}\u001b[0m\n",
            "\u001b[34m#metrics {\"StartTime\": 1651029625.9329438, \"EndTime\": 1651029625.93296, \"Dimensions\": {\"Algorithm\": \"Linear Learner\", \"Host\": \"algo-1\", \"Operation\": \"training\", \"epoch\": 1, \"model\": 16}, \"Metrics\": {\"validation_binary_classification_cross_entropy_objective\": {\"sum\": 0.5076604115961452, \"count\": 1, \"min\": 0.5076604115961452, \"max\": 0.5076604115961452}}}\u001b[0m\n",
            "\u001b[34m#metrics {\"StartTime\": 1651029625.933015, \"EndTime\": 1651029625.9330325, \"Dimensions\": {\"Algorithm\": \"Linear Learner\", \"Host\": \"algo-1\", \"Operation\": \"training\", \"epoch\": 1, \"model\": 17}, \"Metrics\": {\"validation_binary_classification_cross_entropy_objective\": {\"sum\": 0.5084571047493756, \"count\": 1, \"min\": 0.5084571047493756, \"max\": 0.5084571047493756}}}\u001b[0m\n",
            "\u001b[34m#metrics {\"StartTime\": 1651029625.9330866, \"EndTime\": 1651029625.9331026, \"Dimensions\": {\"Algorithm\": \"Linear Learner\", \"Host\": \"algo-1\", \"Operation\": \"training\", \"epoch\": 1, \"model\": 18}, \"Metrics\": {\"validation_binary_classification_cross_entropy_objective\": {\"sum\": 0.5076603931242774, \"count\": 1, \"min\": 0.5076603931242774, \"max\": 0.5076603931242774}}}\u001b[0m\n",
            "\u001b[34m#metrics {\"StartTime\": 1651029625.9331558, \"EndTime\": 1651029625.9331722, \"Dimensions\": {\"Algorithm\": \"Linear Learner\", \"Host\": \"algo-1\", \"Operation\": \"training\", \"epoch\": 1, \"model\": 19}, \"Metrics\": {\"validation_binary_classification_cross_entropy_objective\": {\"sum\": 0.5084573027155553, \"count\": 1, \"min\": 0.5084573027155553, \"max\": 0.5084573027155553}}}\u001b[0m\n",
            "\u001b[34m#metrics {\"StartTime\": 1651029625.9332259, \"EndTime\": 1651029625.933242, \"Dimensions\": {\"Algorithm\": \"Linear Learner\", \"Host\": \"algo-1\", \"Operation\": \"training\", \"epoch\": 1, \"model\": 20}, \"Metrics\": {\"validation_binary_classification_cross_entropy_objective\": {\"sum\": 0.5077838290489068, \"count\": 1, \"min\": 0.5077838290489068, \"max\": 0.5077838290489068}}}\u001b[0m\n",
            "\u001b[34m#metrics {\"StartTime\": 1651029625.9332983, \"EndTime\": 1651029625.9333153, \"Dimensions\": {\"Algorithm\": \"Linear Learner\", \"Host\": \"algo-1\", \"Operation\": \"training\", \"epoch\": 1, \"model\": 21}, \"Metrics\": {\"validation_binary_classification_cross_entropy_objective\": {\"sum\": 0.5098382345540137, \"count\": 1, \"min\": 0.5098382345540137, \"max\": 0.5098382345540137}}}\u001b[0m\n",
            "\u001b[34m#metrics {\"StartTime\": 1651029625.9333665, \"EndTime\": 1651029625.9333832, \"Dimensions\": {\"Algorithm\": \"Linear Learner\", \"Host\": \"algo-1\", \"Operation\": \"training\", \"epoch\": 1, \"model\": 22}, \"Metrics\": {\"validation_binary_classification_cross_entropy_objective\": {\"sum\": 0.5077826382664761, \"count\": 1, \"min\": 0.5077826382664761, \"max\": 0.5077826382664761}}}\u001b[0m\n",
            "\u001b[34m#metrics {\"StartTime\": 1651029625.9334376, \"EndTime\": 1651029625.9334557, \"Dimensions\": {\"Algorithm\": \"Linear Learner\", \"Host\": \"algo-1\", \"Operation\": \"training\", \"epoch\": 1, \"model\": 23}, \"Metrics\": {\"validation_binary_classification_cross_entropy_objective\": {\"sum\": 0.5098385702195719, \"count\": 1, \"min\": 0.5098385702195719, \"max\": 0.5098385702195719}}}\u001b[0m\n",
            "\u001b[34m#metrics {\"StartTime\": 1651029625.9335089, \"EndTime\": 1651029625.9335263, \"Dimensions\": {\"Algorithm\": \"Linear Learner\", \"Host\": \"algo-1\", \"Operation\": \"training\", \"epoch\": 1, \"model\": 24}, \"Metrics\": {\"validation_binary_classification_cross_entropy_objective\": {\"sum\": 0.51376214067433, \"count\": 1, \"min\": 0.51376214067433, \"max\": 0.51376214067433}}}\u001b[0m\n",
            "\u001b[34m#metrics {\"StartTime\": 1651029625.933577, \"EndTime\": 1651029625.9335933, \"Dimensions\": {\"Algorithm\": \"Linear Learner\", \"Host\": \"algo-1\", \"Operation\": \"training\", \"epoch\": 1, \"model\": 25}, \"Metrics\": {\"validation_binary_classification_cross_entropy_objective\": {\"sum\": 0.5145718197372465, \"count\": 1, \"min\": 0.5145718197372465, \"max\": 0.5145718197372465}}}\u001b[0m\n",
            "\u001b[34m#metrics {\"StartTime\": 1651029625.9336479, \"EndTime\": 1651029625.933666, \"Dimensions\": {\"Algorithm\": \"Linear Learner\", \"Host\": \"algo-1\", \"Operation\": \"training\", \"epoch\": 1, \"model\": 26}, \"Metrics\": {\"validation_binary_classification_cross_entropy_objective\": {\"sum\": 0.5137652394701009, \"count\": 1, \"min\": 0.5137652394701009, \"max\": 0.5137652394701009}}}\u001b[0m\n",
            "\u001b[34m#metrics {\"StartTime\": 1651029625.9337232, \"EndTime\": 1651029625.9337409, \"Dimensions\": {\"Algorithm\": \"Linear Learner\", \"Host\": \"algo-1\", \"Operation\": \"training\", \"epoch\": 1, \"model\": 27}, \"Metrics\": {\"validation_binary_classification_cross_entropy_objective\": {\"sum\": 0.5145522100769662, \"count\": 1, \"min\": 0.5145522100769662, \"max\": 0.5145522100769662}}}\u001b[0m\n",
            "\u001b[34m#metrics {\"StartTime\": 1651029625.9337962, \"EndTime\": 1651029625.933813, \"Dimensions\": {\"Algorithm\": \"Linear Learner\", \"Host\": \"algo-1\", \"Operation\": \"training\", \"epoch\": 1, \"model\": 28}, \"Metrics\": {\"validation_binary_classification_cross_entropy_objective\": {\"sum\": 0.5139316180094631, \"count\": 1, \"min\": 0.5139316180094631, \"max\": 0.5139316180094631}}}\u001b[0m\n",
            "\u001b[34m#metrics {\"StartTime\": 1651029625.9338636, \"EndTime\": 1651029625.93388, \"Dimensions\": {\"Algorithm\": \"Linear Learner\", \"Host\": \"algo-1\", \"Operation\": \"training\", \"epoch\": 1, \"model\": 29}, \"Metrics\": {\"validation_binary_classification_cross_entropy_objective\": {\"sum\": 0.5138686429339193, \"count\": 1, \"min\": 0.5138686429339193, \"max\": 0.5138686429339193}}}\u001b[0m\n",
            "\u001b[34m#metrics {\"StartTime\": 1651029625.9339335, \"EndTime\": 1651029625.9339519, \"Dimensions\": {\"Algorithm\": \"Linear Learner\", \"Host\": \"algo-1\", \"Operation\": \"training\", \"epoch\": 1, \"model\": 30}, \"Metrics\": {\"validation_binary_classification_cross_entropy_objective\": {\"sum\": 0.5139296105465717, \"count\": 1, \"min\": 0.5139296105465717, \"max\": 0.5139296105465717}}}\u001b[0m\n",
            "\u001b[34m#metrics {\"StartTime\": 1651029625.9340057, \"EndTime\": 1651029625.9340234, \"Dimensions\": {\"Algorithm\": \"Linear Learner\", \"Host\": \"algo-1\", \"Operation\": \"training\", \"epoch\": 1, \"model\": 31}, \"Metrics\": {\"validation_binary_classification_cross_entropy_objective\": {\"sum\": 0.5138452329200587, \"count\": 1, \"min\": 0.5138452329200587, \"max\": 0.5138452329200587}}}\u001b[0m\n",
            "\u001b[34m[04/27/2022 03:20:25 INFO 139921412462400] #quality_metric: host=algo-1, epoch=1, validation binary_classification_cross_entropy_objective <loss>=0.4918462201133985\u001b[0m\n",
            "\u001b[34m[04/27/2022 03:20:25 INFO 139921412462400] #early_stopping_criteria_metric: host=algo-1, epoch=1, criteria=binary_classification_cross_entropy_objective, value=0.4918462201133985\u001b[0m\n",
            "\u001b[34m[04/27/2022 03:20:25 INFO 139921412462400] Saving model for epoch: 1\u001b[0m\n",
            "\u001b[34m[04/27/2022 03:20:25 INFO 139921412462400] Saved checkpoint to \"/tmp/tmpfsk8qv9_/mx-mod-0000.params\"\u001b[0m\n",
            "\u001b[34m[04/27/2022 03:20:25 INFO 139921412462400] #progress_metric: host=algo-1, completed 13.333333333333334 % of epochs\u001b[0m\n",
            "\u001b[34m#metrics {\"StartTime\": 1651029562.8258545, \"EndTime\": 1651029625.9424658, \"Dimensions\": {\"Algorithm\": \"Linear Learner\", \"Host\": \"algo-1\", \"Operation\": \"training\", \"epoch\": 1, \"Meta\": \"training_data_iter\"}, \"Metrics\": {\"Total Records Seen\": {\"sum\": 2628944.0, \"count\": 1, \"min\": 2628944, \"max\": 2628944}, \"Total Batches Seen\": {\"sum\": 2630.0, \"count\": 1, \"min\": 2630, \"max\": 2630}, \"Max Records Seen Between Resets\": {\"sum\": 1308472.0, \"count\": 1, \"min\": 1308472, \"max\": 1308472}, \"Max Batches Seen Between Resets\": {\"sum\": 1309.0, \"count\": 1, \"min\": 1309, \"max\": 1309}, \"Reset Count\": {\"sum\": 4.0, \"count\": 1, \"min\": 4, \"max\": 4}, \"Number of Records Since Last Reset\": {\"sum\": 1308472.0, \"count\": 1, \"min\": 1308472, \"max\": 1308472}, \"Number of Batches Since Last Reset\": {\"sum\": 1309.0, \"count\": 1, \"min\": 1309, \"max\": 1309}}}\u001b[0m\n",
            "\u001b[34m[04/27/2022 03:20:25 INFO 139921412462400] #throughput_metric: host=algo-1, train throughput=20730.971731984195 records/second\u001b[0m\n",
            "\u001b[34m[2022-04-27 03:21:23.444] [tensorio] [info] epoch_stats={\"data_pipeline\": \"/opt/ml/input/data/train\", \"epoch\": 7, \"duration\": 57486, \"num_examples\": 1309, \"num_bytes\": 554792128}\u001b[0m\n",
            "\u001b[34m#metrics {\"StartTime\": 1651029683.4444857, \"EndTime\": 1651029683.4445891, \"Dimensions\": {\"Algorithm\": \"Linear Learner\", \"Host\": \"algo-1\", \"Operation\": \"training\", \"epoch\": 2, \"model\": 0}, \"Metrics\": {\"train_binary_classification_cross_entropy_objective\": {\"sum\": 0.4920658475776696, \"count\": 1, \"min\": 0.4920658475776696, \"max\": 0.4920658475776696}}}\u001b[0m\n",
            "\u001b[34m#metrics {\"StartTime\": 1651029683.4446945, \"EndTime\": 1651029683.444718, \"Dimensions\": {\"Algorithm\": \"Linear Learner\", \"Host\": \"algo-1\", \"Operation\": \"training\", \"epoch\": 2, \"model\": 1}, \"Metrics\": {\"train_binary_classification_cross_entropy_objective\": {\"sum\": 0.49317511102985534, \"count\": 1, \"min\": 0.49317511102985534, \"max\": 0.49317511102985534}}}\u001b[0m\n",
            "\u001b[34m#metrics {\"StartTime\": 1651029683.4447815, \"EndTime\": 1651029683.4448018, \"Dimensions\": {\"Algorithm\": \"Linear Learner\", \"Host\": \"algo-1\", \"Operation\": \"training\", \"epoch\": 2, \"model\": 2}, \"Metrics\": {\"train_binary_classification_cross_entropy_objective\": {\"sum\": 0.49206485172003417, \"count\": 1, \"min\": 0.49206485172003417, \"max\": 0.49206485172003417}}}\u001b[0m\n",
            "\u001b[34m#metrics {\"StartTime\": 1651029683.4448617, \"EndTime\": 1651029683.4448795, \"Dimensions\": {\"Algorithm\": \"Linear Learner\", \"Host\": \"algo-1\", \"Operation\": \"training\", \"epoch\": 2, \"model\": 3}, \"Metrics\": {\"train_binary_classification_cross_entropy_objective\": {\"sum\": 0.49317507346616973, \"count\": 1, \"min\": 0.49317507346616973, \"max\": 0.49317507346616973}}}\u001b[0m\n",
            "\u001b[34m#metrics {\"StartTime\": 1651029683.4449368, \"EndTime\": 1651029683.4449544, \"Dimensions\": {\"Algorithm\": \"Linear Learner\", \"Host\": \"algo-1\", \"Operation\": \"training\", \"epoch\": 2, \"model\": 4}, \"Metrics\": {\"train_binary_classification_cross_entropy_objective\": {\"sum\": 0.4932744565724597, \"count\": 1, \"min\": 0.4932744565724597, \"max\": 0.4932744565724597}}}\u001b[0m\n",
            "\u001b[34m#metrics {\"StartTime\": 1651029683.4450107, \"EndTime\": 1651029683.4450276, \"Dimensions\": {\"Algorithm\": \"Linear Learner\", \"Host\": \"algo-1\", \"Operation\": \"training\", \"epoch\": 2, \"model\": 5}, \"Metrics\": {\"train_binary_classification_cross_entropy_objective\": {\"sum\": 0.5120531091719228, \"count\": 1, \"min\": 0.5120531091719228, \"max\": 0.5120531091719228}}}\u001b[0m\n",
            "\u001b[34m#metrics {\"StartTime\": 1651029683.4450812, \"EndTime\": 1651029683.4450986, \"Dimensions\": {\"Algorithm\": \"Linear Learner\", \"Host\": \"algo-1\", \"Operation\": \"training\", \"epoch\": 2, \"model\": 6}, \"Metrics\": {\"train_binary_classification_cross_entropy_objective\": {\"sum\": 0.49327440748302215, \"count\": 1, \"min\": 0.49327440748302215, \"max\": 0.49327440748302215}}}\u001b[0m\n",
            "\u001b[34m#metrics {\"StartTime\": 1651029683.4451518, \"EndTime\": 1651029683.4451704, \"Dimensions\": {\"Algorithm\": \"Linear Learner\", \"Host\": \"algo-1\", \"Operation\": \"training\", \"epoch\": 2, \"model\": 7}, \"Metrics\": {\"train_binary_classification_cross_entropy_objective\": {\"sum\": 0.512066656106838, \"count\": 1, \"min\": 0.512066656106838, \"max\": 0.512066656106838}}}\u001b[0m\n",
            "\u001b[34m#metrics {\"StartTime\": 1651029683.4452245, \"EndTime\": 1651029683.4452417, \"Dimensions\": {\"Algorithm\": \"Linear Learner\", \"Host\": \"algo-1\", \"Operation\": \"training\", \"epoch\": 2, \"model\": 8}, \"Metrics\": {\"train_binary_classification_cross_entropy_objective\": {\"sum\": 0.4922637148749209, \"count\": 1, \"min\": 0.4922637148749209, \"max\": 0.4922637148749209}}}\u001b[0m\n",
            "\u001b[34m#metrics {\"StartTime\": 1651029683.4453053, \"EndTime\": 1651029683.4453216, \"Dimensions\": {\"Algorithm\": \"Linear Learner\", \"Host\": \"algo-1\", \"Operation\": \"training\", \"epoch\": 2, \"model\": 9}, \"Metrics\": {\"train_binary_classification_cross_entropy_objective\": {\"sum\": 0.49332780449543523, \"count\": 1, \"min\": 0.49332780449543523, \"max\": 0.49332780449543523}}}\u001b[0m\n",
            "\u001b[34m#metrics {\"StartTime\": 1651029683.4453726, \"EndTime\": 1651029683.4453888, \"Dimensions\": {\"Algorithm\": \"Linear Learner\", \"Host\": \"algo-1\", \"Operation\": \"training\", \"epoch\": 2, \"model\": 10}, \"Metrics\": {\"train_binary_classification_cross_entropy_objective\": {\"sum\": 0.4922640886919214, \"count\": 1, \"min\": 0.4922640886919214, \"max\": 0.4922640886919214}}}\u001b[0m\n",
            "\u001b[34m#metrics {\"StartTime\": 1651029683.4454386, \"EndTime\": 1651029683.4454536, \"Dimensions\": {\"Algorithm\": \"Linear Learner\", \"Host\": \"algo-1\", \"Operation\": \"training\", \"epoch\": 2, \"model\": 11}, \"Metrics\": {\"train_binary_classification_cross_entropy_objective\": {\"sum\": 0.49332774136044566, \"count\": 1, \"min\": 0.49332774136044566, \"max\": 0.49332774136044566}}}\u001b[0m\n",
            "\u001b[34m#metrics {\"StartTime\": 1651029683.4455051, \"EndTime\": 1651029683.445521, \"Dimensions\": {\"Algorithm\": \"Linear Learner\", \"Host\": \"algo-1\", \"Operation\": \"training\", \"epoch\": 2, \"model\": 12}, \"Metrics\": {\"train_binary_classification_cross_entropy_objective\": {\"sum\": 0.4934249046628993, \"count\": 1, \"min\": 0.4934249046628993, \"max\": 0.4934249046628993}}}\u001b[0m\n",
            "\u001b[34m#metrics {\"StartTime\": 1651029683.4455729, \"EndTime\": 1651029683.4455888, \"Dimensions\": {\"Algorithm\": \"Linear Learner\", \"Host\": \"algo-1\", \"Operation\": \"training\", \"epoch\": 2, \"model\": 13}, \"Metrics\": {\"train_binary_classification_cross_entropy_objective\": {\"sum\": 0.5109287362288262, \"count\": 1, \"min\": 0.5109287362288262, \"max\": 0.5109287362288262}}}\u001b[0m\n",
            "\u001b[34m#metrics {\"StartTime\": 1651029683.445643, \"EndTime\": 1651029683.4456594, \"Dimensions\": {\"Algorithm\": \"Linear Learner\", \"Host\": \"algo-1\", \"Operation\": \"training\", \"epoch\": 2, \"model\": 14}, \"Metrics\": {\"train_binary_classification_cross_entropy_objective\": {\"sum\": 0.49342491506874014, \"count\": 1, \"min\": 0.49342491506874014, \"max\": 0.49342491506874014}}}\u001b[0m\n",
            "\u001b[34m#metrics {\"StartTime\": 1651029683.4457116, \"EndTime\": 1651029683.4457269, \"Dimensions\": {\"Algorithm\": \"Linear Learner\", \"Host\": \"algo-1\", \"Operation\": \"training\", \"epoch\": 2, \"model\": 15}, \"Metrics\": {\"train_binary_classification_cross_entropy_objective\": {\"sum\": 0.5109288911731965, \"count\": 1, \"min\": 0.5109288911731965, \"max\": 0.5109288911731965}}}\u001b[0m\n",
            "\u001b[34m#metrics {\"StartTime\": 1651029683.4457796, \"EndTime\": 1651029683.4457965, \"Dimensions\": {\"Algorithm\": \"Linear Learner\", \"Host\": \"algo-1\", \"Operation\": \"training\", \"epoch\": 2, \"model\": 16}, \"Metrics\": {\"train_binary_classification_cross_entropy_objective\": {\"sum\": 0.5077180341201456, \"count\": 1, \"min\": 0.5077180341201456, \"max\": 0.5077180341201456}}}\u001b[0m\n",
            "\u001b[34m#metrics {\"StartTime\": 1651029683.4458492, \"EndTime\": 1651029683.4458637, \"Dimensions\": {\"Algorithm\": \"Linear Learner\", \"Host\": \"algo-1\", \"Operation\": \"training\", \"epoch\": 2, \"model\": 17}, \"Metrics\": {\"train_binary_classification_cross_entropy_objective\": {\"sum\": 0.5079879825137077, \"count\": 1, \"min\": 0.5079879825137077, \"max\": 0.5079879825137077}}}\u001b[0m\n",
            "\u001b[34m#metrics {\"StartTime\": 1651029683.445917, \"EndTime\": 1651029683.4459317, \"Dimensions\": {\"Algorithm\": \"Linear Learner\", \"Host\": \"algo-1\", \"Operation\": \"training\", \"epoch\": 2, \"model\": 18}, \"Metrics\": {\"train_binary_classification_cross_entropy_objective\": {\"sum\": 0.507718031623677, \"count\": 1, \"min\": 0.507718031623677, \"max\": 0.507718031623677}}}\u001b[0m\n",
            "\u001b[34m#metrics {\"StartTime\": 1651029683.4459815, \"EndTime\": 1651029683.4459963, \"Dimensions\": {\"Algorithm\": \"Linear Learner\", \"Host\": \"algo-1\", \"Operation\": \"training\", \"epoch\": 2, \"model\": 19}, \"Metrics\": {\"train_binary_classification_cross_entropy_objective\": {\"sum\": 0.5079879730877891, \"count\": 1, \"min\": 0.5079879730877891, \"max\": 0.5079879730877891}}}\u001b[0m\n",
            "\u001b[34m#metrics {\"StartTime\": 1651029683.4460459, \"EndTime\": 1651029683.4460628, \"Dimensions\": {\"Algorithm\": \"Linear Learner\", \"Host\": \"algo-1\", \"Operation\": \"training\", \"epoch\": 2, \"model\": 20}, \"Metrics\": {\"train_binary_classification_cross_entropy_objective\": {\"sum\": 0.5079841382321232, \"count\": 1, \"min\": 0.5079841382321232, \"max\": 0.5079841382321232}}}\u001b[0m\n",
            "\u001b[34m#metrics {\"StartTime\": 1651029683.4461136, \"EndTime\": 1651029683.446129, \"Dimensions\": {\"Algorithm\": \"Linear Learner\", \"Host\": \"algo-1\", \"Operation\": \"training\", \"epoch\": 2, \"model\": 21}, \"Metrics\": {\"train_binary_classification_cross_entropy_objective\": {\"sum\": 0.5111466819693189, \"count\": 1, \"min\": 0.5111466819693189, \"max\": 0.5111466819693189}}}\u001b[0m\n",
            "\u001b[34m#metrics {\"StartTime\": 1651029683.4461813, \"EndTime\": 1651029683.446197, \"Dimensions\": {\"Algorithm\": \"Linear Learner\", \"Host\": \"algo-1\", \"Operation\": \"training\", \"epoch\": 2, \"model\": 22}, \"Metrics\": {\"train_binary_classification_cross_entropy_objective\": {\"sum\": 0.5079841491979197, \"count\": 1, \"min\": 0.5079841491979197, \"max\": 0.5079841491979197}}}\u001b[0m\n",
            "\u001b[34m#metrics {\"StartTime\": 1651029683.4462469, \"EndTime\": 1651029683.4462624, \"Dimensions\": {\"Algorithm\": \"Linear Learner\", \"Host\": \"algo-1\", \"Operation\": \"training\", \"epoch\": 2, \"model\": 23}, \"Metrics\": {\"train_binary_classification_cross_entropy_objective\": {\"sum\": 0.5111468132555667, \"count\": 1, \"min\": 0.5111468132555667, \"max\": 0.5111468132555667}}}\u001b[0m\n",
            "\u001b[34m#metrics {\"StartTime\": 1651029683.446315, \"EndTime\": 1651029683.4463303, \"Dimensions\": {\"Algorithm\": \"Linear Learner\", \"Host\": \"algo-1\", \"Operation\": \"training\", \"epoch\": 2, \"model\": 24}, \"Metrics\": {\"train_binary_classification_cross_entropy_objective\": {\"sum\": 0.5137721027992552, \"count\": 1, \"min\": 0.5137721027992552, \"max\": 0.5137721027992552}}}\u001b[0m\n",
            "\u001b[34m#metrics {\"StartTime\": 1651029683.446383, \"EndTime\": 1651029683.446399, \"Dimensions\": {\"Algorithm\": \"Linear Learner\", \"Host\": \"algo-1\", \"Operation\": \"training\", \"epoch\": 2, \"model\": 25}, \"Metrics\": {\"train_binary_classification_cross_entropy_objective\": {\"sum\": 0.5138790023057104, \"count\": 1, \"min\": 0.5138790023057104, \"max\": 0.5138790023057104}}}\u001b[0m\n",
            "\u001b[34m#metrics {\"StartTime\": 1651029683.4464488, \"EndTime\": 1651029683.446465, \"Dimensions\": {\"Algorithm\": \"Linear Learner\", \"Host\": \"algo-1\", \"Operation\": \"training\", \"epoch\": 2, \"model\": 26}, \"Metrics\": {\"train_binary_classification_cross_entropy_objective\": {\"sum\": 0.513772273072409, \"count\": 1, \"min\": 0.513772273072409, \"max\": 0.513772273072409}}}\u001b[0m\n",
            "\u001b[34m#metrics {\"StartTime\": 1651029683.4465275, \"EndTime\": 1651029683.4465442, \"Dimensions\": {\"Algorithm\": \"Linear Learner\", \"Host\": \"algo-1\", \"Operation\": \"training\", \"epoch\": 2, \"model\": 27}, \"Metrics\": {\"train_binary_classification_cross_entropy_objective\": {\"sum\": 0.5138790003458659, \"count\": 1, \"min\": 0.5138790003458659, \"max\": 0.5138790003458659}}}\u001b[0m\n",
            "\u001b[34m#metrics {\"StartTime\": 1651029683.4465964, \"EndTime\": 1651029683.446615, \"Dimensions\": {\"Algorithm\": \"Linear Learner\", \"Host\": \"algo-1\", \"Operation\": \"training\", \"epoch\": 2, \"model\": 28}, \"Metrics\": {\"train_binary_classification_cross_entropy_objective\": {\"sum\": 0.5138744386678806, \"count\": 1, \"min\": 0.5138744386678806, \"max\": 0.5138744386678806}}}\u001b[0m\n",
            "\u001b[34m#metrics {\"StartTime\": 1651029683.446666, \"EndTime\": 1651029683.446681, \"Dimensions\": {\"Algorithm\": \"Linear Learner\", \"Host\": \"algo-1\", \"Operation\": \"training\", \"epoch\": 2, \"model\": 29}, \"Metrics\": {\"train_binary_classification_cross_entropy_objective\": {\"sum\": 0.5150527353315908, \"count\": 1, \"min\": 0.5150527353315908, \"max\": 0.5150527353315908}}}\u001b[0m\n",
            "\u001b[34m#metrics {\"StartTime\": 1651029683.4467325, \"EndTime\": 1651029683.4467483, \"Dimensions\": {\"Algorithm\": \"Linear Learner\", \"Host\": \"algo-1\", \"Operation\": \"training\", \"epoch\": 2, \"model\": 30}, \"Metrics\": {\"train_binary_classification_cross_entropy_objective\": {\"sum\": 0.5138744022474376, \"count\": 1, \"min\": 0.5138744022474376, \"max\": 0.5138744022474376}}}\u001b[0m\n",
            "\u001b[34m#metrics {\"StartTime\": 1651029683.4467976, \"EndTime\": 1651029683.4468124, \"Dimensions\": {\"Algorithm\": \"Linear Learner\", \"Host\": \"algo-1\", \"Operation\": \"training\", \"epoch\": 2, \"model\": 31}, \"Metrics\": {\"train_binary_classification_cross_entropy_objective\": {\"sum\": 0.5150524612566747, \"count\": 1, \"min\": 0.5150524612566747, \"max\": 0.5150524612566747}}}\u001b[0m\n",
            "\u001b[34m[04/27/2022 03:21:23 INFO 139921412462400] #quality_metric: host=algo-1, epoch=2, train binary_classification_cross_entropy_objective <loss>=0.4920658475776696\u001b[0m\n",
            "\u001b[34m[2022-04-27 03:21:28.567] [tensorio] [info] epoch_stats={\"data_pipeline\": \"/opt/ml/input/data/validation\", \"epoch\": 8, \"duration\": 5097, \"num_examples\": 164, \"num_bytes\": 69349016}\u001b[0m\n",
            "\u001b[34m#metrics {\"StartTime\": 1651029688.5771203, \"EndTime\": 1651029688.577223, \"Dimensions\": {\"Algorithm\": \"Linear Learner\", \"Host\": \"algo-1\", \"Operation\": \"training\", \"epoch\": 2, \"model\": 0}, \"Metrics\": {\"validation_binary_classification_cross_entropy_objective\": {\"sum\": 0.49179196674483433, \"count\": 1, \"min\": 0.49179196674483433, \"max\": 0.49179196674483433}}}\u001b[0m\n",
            "\u001b[34m#metrics {\"StartTime\": 1651029688.5773556, \"EndTime\": 1651029688.5773811, \"Dimensions\": {\"Algorithm\": \"Linear Learner\", \"Host\": \"algo-1\", \"Operation\": \"training\", \"epoch\": 2, \"model\": 1}, \"Metrics\": {\"validation_binary_classification_cross_entropy_objective\": {\"sum\": 0.4935438379457943, \"count\": 1, \"min\": 0.4935438379457943, \"max\": 0.4935438379457943}}}\u001b[0m\n",
            "\u001b[34m#metrics {\"StartTime\": 1651029688.5774462, \"EndTime\": 1651029688.577466, \"Dimensions\": {\"Algorithm\": \"Linear Learner\", \"Host\": \"algo-1\", \"Operation\": \"training\", \"epoch\": 2, \"model\": 2}, \"Metrics\": {\"validation_binary_classification_cross_entropy_objective\": {\"sum\": 0.49179299706457463, \"count\": 1, \"min\": 0.49179299706457463, \"max\": 0.49179299706457463}}}\u001b[0m\n",
            "\u001b[34m#metrics {\"StartTime\": 1651029688.5775256, \"EndTime\": 1651029688.5775433, \"Dimensions\": {\"Algorithm\": \"Linear Learner\", \"Host\": \"algo-1\", \"Operation\": \"training\", \"epoch\": 2, \"model\": 3}, \"Metrics\": {\"validation_binary_classification_cross_entropy_objective\": {\"sum\": 0.4935436573319753, \"count\": 1, \"min\": 0.4935436573319753, \"max\": 0.4935436573319753}}}\u001b[0m\n",
            "\u001b[34m#metrics {\"StartTime\": 1651029688.5776145, \"EndTime\": 1651029688.5776305, \"Dimensions\": {\"Algorithm\": \"Linear Learner\", \"Host\": \"algo-1\", \"Operation\": \"training\", \"epoch\": 2, \"model\": 4}, \"Metrics\": {\"validation_binary_classification_cross_entropy_objective\": {\"sum\": 0.492496689027772, \"count\": 1, \"min\": 0.492496689027772, \"max\": 0.492496689027772}}}\u001b[0m\n",
            "\u001b[34m#metrics {\"StartTime\": 1651029688.5776944, \"EndTime\": 1651029688.5777173, \"Dimensions\": {\"Algorithm\": \"Linear Learner\", \"Host\": \"algo-1\", \"Operation\": \"training\", \"epoch\": 2, \"model\": 5}, \"Metrics\": {\"validation_binary_classification_cross_entropy_objective\": {\"sum\": 0.512434997049218, \"count\": 1, \"min\": 0.512434997049218, \"max\": 0.512434997049218}}}\u001b[0m\n",
            "\u001b[34m#metrics {\"StartTime\": 1651029688.5777905, \"EndTime\": 1651029688.5778098, \"Dimensions\": {\"Algorithm\": \"Linear Learner\", \"Host\": \"algo-1\", \"Operation\": \"training\", \"epoch\": 2, \"model\": 6}, \"Metrics\": {\"validation_binary_classification_cross_entropy_objective\": {\"sum\": 0.4924966035720601, \"count\": 1, \"min\": 0.4924966035720601, \"max\": 0.4924966035720601}}}\u001b[0m\n",
            "\u001b[34m#metrics {\"StartTime\": 1651029688.577869, \"EndTime\": 1651029688.5778854, \"Dimensions\": {\"Algorithm\": \"Linear Learner\", \"Host\": \"algo-1\", \"Operation\": \"training\", \"epoch\": 2, \"model\": 7}, \"Metrics\": {\"validation_binary_classification_cross_entropy_objective\": {\"sum\": 0.5123758049748939, \"count\": 1, \"min\": 0.5123758049748939, \"max\": 0.5123758049748939}}}\u001b[0m\n",
            "\u001b[34m#metrics {\"StartTime\": 1651029688.577938, \"EndTime\": 1651029688.5779538, \"Dimensions\": {\"Algorithm\": \"Linear Learner\", \"Host\": \"algo-1\", \"Operation\": \"training\", \"epoch\": 2, \"model\": 8}, \"Metrics\": {\"validation_binary_classification_cross_entropy_objective\": {\"sum\": 0.4920194944435905, \"count\": 1, \"min\": 0.4920194944435905, \"max\": 0.4920194944435905}}}\u001b[0m\n",
            "\u001b[34m#metrics {\"StartTime\": 1651029688.5780036, \"EndTime\": 1651029688.578015, \"Dimensions\": {\"Algorithm\": \"Linear Learner\", \"Host\": \"algo-1\", \"Operation\": \"training\", \"epoch\": 2, \"model\": 9}, \"Metrics\": {\"validation_binary_classification_cross_entropy_objective\": {\"sum\": 0.493684787440164, \"count\": 1, \"min\": 0.493684787440164, \"max\": 0.493684787440164}}}\u001b[0m\n",
            "\u001b[34m#metrics {\"StartTime\": 1651029688.5780444, \"EndTime\": 1651029688.5780525, \"Dimensions\": {\"Algorithm\": \"Linear Learner\", \"Host\": \"algo-1\", \"Operation\": \"training\", \"epoch\": 2, \"model\": 10}, \"Metrics\": {\"validation_binary_classification_cross_entropy_objective\": {\"sum\": 0.4920199741524011, \"count\": 1, \"min\": 0.4920199741524011, \"max\": 0.4920199741524011}}}\u001b[0m\n",
            "\u001b[34m#metrics {\"StartTime\": 1651029688.5780904, \"EndTime\": 1651029688.5781062, \"Dimensions\": {\"Algorithm\": \"Linear Learner\", \"Host\": \"algo-1\", \"Operation\": \"training\", \"epoch\": 2, \"model\": 11}, \"Metrics\": {\"validation_binary_classification_cross_entropy_objective\": {\"sum\": 0.4936846588834271, \"count\": 1, \"min\": 0.4936846588834271, \"max\": 0.4936846588834271}}}\u001b[0m\n",
            "\u001b[34m#metrics {\"StartTime\": 1651029688.578172, \"EndTime\": 1651029688.5781903, \"Dimensions\": {\"Algorithm\": \"Linear Learner\", \"Host\": \"algo-1\", \"Operation\": \"training\", \"epoch\": 2, \"model\": 12}, \"Metrics\": {\"validation_binary_classification_cross_entropy_objective\": {\"sum\": 0.4927017551218019, \"count\": 1, \"min\": 0.4927017551218019, \"max\": 0.4927017551218019}}}\u001b[0m\n",
            "\u001b[34m#metrics {\"StartTime\": 1651029688.5782363, \"EndTime\": 1651029688.5782535, \"Dimensions\": {\"Algorithm\": \"Linear Learner\", \"Host\": \"algo-1\", \"Operation\": \"training\", \"epoch\": 2, \"model\": 13}, \"Metrics\": {\"validation_binary_classification_cross_entropy_objective\": {\"sum\": 0.5106455841091508, \"count\": 1, \"min\": 0.5106455841091508, \"max\": 0.5106455841091508}}}\u001b[0m\n",
            "\u001b[34m#metrics {\"StartTime\": 1651029688.5782976, \"EndTime\": 1651029688.5783143, \"Dimensions\": {\"Algorithm\": \"Linear Learner\", \"Host\": \"algo-1\", \"Operation\": \"training\", \"epoch\": 2, \"model\": 14}, \"Metrics\": {\"validation_binary_classification_cross_entropy_objective\": {\"sum\": 0.4927017866545864, \"count\": 1, \"min\": 0.4927017866545864, \"max\": 0.4927017866545864}}}\u001b[0m\n",
            "\u001b[34m#metrics {\"StartTime\": 1651029688.5783668, \"EndTime\": 1651029688.578384, \"Dimensions\": {\"Algorithm\": \"Linear Learner\", \"Host\": \"algo-1\", \"Operation\": \"training\", \"epoch\": 2, \"model\": 15}, \"Metrics\": {\"validation_binary_classification_cross_entropy_objective\": {\"sum\": 0.5106462278257579, \"count\": 1, \"min\": 0.5106462278257579, \"max\": 0.5106462278257579}}}\u001b[0m\n",
            "\u001b[34m#metrics {\"StartTime\": 1651029688.5784345, \"EndTime\": 1651029688.5784512, \"Dimensions\": {\"Algorithm\": \"Linear Learner\", \"Host\": \"algo-1\", \"Operation\": \"training\", \"epoch\": 2, \"model\": 16}, \"Metrics\": {\"validation_binary_classification_cross_entropy_objective\": {\"sum\": 0.5076658680739586, \"count\": 1, \"min\": 0.5076658680739586, \"max\": 0.5076658680739586}}}\u001b[0m\n",
            "\u001b[34m#metrics {\"StartTime\": 1651029688.57852, \"EndTime\": 1651029688.578544, \"Dimensions\": {\"Algorithm\": \"Linear Learner\", \"Host\": \"algo-1\", \"Operation\": \"training\", \"epoch\": 2, \"model\": 17}, \"Metrics\": {\"validation_binary_classification_cross_entropy_objective\": {\"sum\": 0.5084980037038193, \"count\": 1, \"min\": 0.5084980037038193, \"max\": 0.5084980037038193}}}\u001b[0m\n",
            "\u001b[34m#metrics {\"StartTime\": 1651029688.5785995, \"EndTime\": 1651029688.5786152, \"Dimensions\": {\"Algorithm\": \"Linear Learner\", \"Host\": \"algo-1\", \"Operation\": \"training\", \"epoch\": 2, \"model\": 18}, \"Metrics\": {\"validation_binary_classification_cross_entropy_objective\": {\"sum\": 0.5076659876746383, \"count\": 1, \"min\": 0.5076659876746383, \"max\": 0.5076659876746383}}}\u001b[0m\n",
            "\u001b[34m#metrics {\"StartTime\": 1651029688.5786657, \"EndTime\": 1651029688.5786822, \"Dimensions\": {\"Algorithm\": \"Linear Learner\", \"Host\": \"algo-1\", \"Operation\": \"training\", \"epoch\": 2, \"model\": 19}, \"Metrics\": {\"validation_binary_classification_cross_entropy_objective\": {\"sum\": 0.5084981830115466, \"count\": 1, \"min\": 0.5084981830115466, \"max\": 0.5084981830115466}}}\u001b[0m\n",
            "\u001b[34m#metrics {\"StartTime\": 1651029688.5788062, \"EndTime\": 1651029688.578831, \"Dimensions\": {\"Algorithm\": \"Linear Learner\", \"Host\": \"algo-1\", \"Operation\": \"training\", \"epoch\": 2, \"model\": 20}, \"Metrics\": {\"validation_binary_classification_cross_entropy_objective\": {\"sum\": 0.5080217077107042, \"count\": 1, \"min\": 0.5080217077107042, \"max\": 0.5080217077107042}}}\u001b[0m\n",
            "\u001b[34m#metrics {\"StartTime\": 1651029688.5788946, \"EndTime\": 1651029688.5789132, \"Dimensions\": {\"Algorithm\": \"Linear Learner\", \"Host\": \"algo-1\", \"Operation\": \"training\", \"epoch\": 2, \"model\": 21}, \"Metrics\": {\"validation_binary_classification_cross_entropy_objective\": {\"sum\": 0.5102502555372077, \"count\": 1, \"min\": 0.5102502555372077, \"max\": 0.5102502555372077}}}\u001b[0m\n",
            "\u001b[34m#metrics {\"StartTime\": 1651029688.5789711, \"EndTime\": 1651029688.5789895, \"Dimensions\": {\"Algorithm\": \"Linear Learner\", \"Host\": \"algo-1\", \"Operation\": \"training\", \"epoch\": 2, \"model\": 22}, \"Metrics\": {\"validation_binary_classification_cross_entropy_objective\": {\"sum\": 0.5080218023090578, \"count\": 1, \"min\": 0.5080218023090578, \"max\": 0.5080218023090578}}}\u001b[0m\n",
            "\u001b[34m#metrics {\"StartTime\": 1651029688.579045, \"EndTime\": 1651029688.5790617, \"Dimensions\": {\"Algorithm\": \"Linear Learner\", \"Host\": \"algo-1\", \"Operation\": \"training\", \"epoch\": 2, \"model\": 23}, \"Metrics\": {\"validation_binary_classification_cross_entropy_objective\": {\"sum\": 0.5102503633830625, \"count\": 1, \"min\": 0.5102503633830625, \"max\": 0.5102503633830625}}}\u001b[0m\n",
            "\u001b[34m#metrics {\"StartTime\": 1651029688.5791116, \"EndTime\": 1651029688.579128, \"Dimensions\": {\"Algorithm\": \"Linear Learner\", \"Host\": \"algo-1\", \"Operation\": \"training\", \"epoch\": 2, \"model\": 24}, \"Metrics\": {\"validation_binary_classification_cross_entropy_objective\": {\"sum\": 0.5137535924909575, \"count\": 1, \"min\": 0.5137535924909575, \"max\": 0.5137535924909575}}}\u001b[0m\n",
            "\u001b[34m#metrics {\"StartTime\": 1651029688.579197, \"EndTime\": 1651029688.5792165, \"Dimensions\": {\"Algorithm\": \"Linear Learner\", \"Host\": \"algo-1\", \"Operation\": \"training\", \"epoch\": 2, \"model\": 25}, \"Metrics\": {\"validation_binary_classification_cross_entropy_objective\": {\"sum\": 0.5144950702458192, \"count\": 1, \"min\": 0.5144950702458192, \"max\": 0.5144950702458192}}}\u001b[0m\n",
            "\u001b[34m#metrics {\"StartTime\": 1651029688.579272, \"EndTime\": 1651029688.5792873, \"Dimensions\": {\"Algorithm\": \"Linear Learner\", \"Host\": \"algo-1\", \"Operation\": \"training\", \"epoch\": 2, \"model\": 26}, \"Metrics\": {\"validation_binary_classification_cross_entropy_objective\": {\"sum\": 0.5137581425411544, \"count\": 1, \"min\": 0.5137581425411544, \"max\": 0.5137581425411544}}}\u001b[0m\n",
            "\u001b[34m#metrics {\"StartTime\": 1651029688.579353, \"EndTime\": 1651029688.5793707, \"Dimensions\": {\"Algorithm\": \"Linear Learner\", \"Host\": \"algo-1\", \"Operation\": \"training\", \"epoch\": 2, \"model\": 27}, \"Metrics\": {\"validation_binary_classification_cross_entropy_objective\": {\"sum\": 0.5144785034059527, \"count\": 1, \"min\": 0.5144785034059527, \"max\": 0.5144785034059527}}}\u001b[0m\n",
            "\u001b[34m#metrics {\"StartTime\": 1651029688.579432, \"EndTime\": 1651029688.5794501, \"Dimensions\": {\"Algorithm\": \"Linear Learner\", \"Host\": \"algo-1\", \"Operation\": \"training\", \"epoch\": 2, \"model\": 28}, \"Metrics\": {\"validation_binary_classification_cross_entropy_objective\": {\"sum\": 0.5139826785436563, \"count\": 1, \"min\": 0.5139826785436563, \"max\": 0.5139826785436563}}}\u001b[0m\n",
            "\u001b[34m#metrics {\"StartTime\": 1651029688.5795057, \"EndTime\": 1651029688.5795236, \"Dimensions\": {\"Algorithm\": \"Linear Learner\", \"Host\": \"algo-1\", \"Operation\": \"training\", \"epoch\": 2, \"model\": 29}, \"Metrics\": {\"validation_binary_classification_cross_entropy_objective\": {\"sum\": 0.5139947602647401, \"count\": 1, \"min\": 0.5139947602647401, \"max\": 0.5139947602647401}}}\u001b[0m\n",
            "\u001b[34m#metrics {\"StartTime\": 1651029688.5795796, \"EndTime\": 1651029688.5795975, \"Dimensions\": {\"Algorithm\": \"Linear Learner\", \"Host\": \"algo-1\", \"Operation\": \"training\", \"epoch\": 2, \"model\": 30}, \"Metrics\": {\"validation_binary_classification_cross_entropy_objective\": {\"sum\": 0.5139913883092263, \"count\": 1, \"min\": 0.5139913883092263, \"max\": 0.5139913883092263}}}\u001b[0m\n",
            "\u001b[34m#metrics {\"StartTime\": 1651029688.5796642, \"EndTime\": 1651029688.5796833, \"Dimensions\": {\"Algorithm\": \"Linear Learner\", \"Host\": \"algo-1\", \"Operation\": \"training\", \"epoch\": 2, \"model\": 31}, \"Metrics\": {\"validation_binary_classification_cross_entropy_objective\": {\"sum\": 0.5139947520550211, \"count\": 1, \"min\": 0.5139947520550211, \"max\": 0.5139947520550211}}}\u001b[0m\n",
            "\u001b[34m[04/27/2022 03:21:28 INFO 139921412462400] #quality_metric: host=algo-1, epoch=2, validation binary_classification_cross_entropy_objective <loss>=0.49179196674483433\u001b[0m\n",
            "\u001b[34m[04/27/2022 03:21:28 INFO 139921412462400] #early_stopping_criteria_metric: host=algo-1, epoch=2, criteria=binary_classification_cross_entropy_objective, value=0.49179196674483433\u001b[0m\n",
            "\u001b[34m[04/27/2022 03:21:28 INFO 139921412462400] Saving model for epoch: 2\u001b[0m\n",
            "\u001b[34m[04/27/2022 03:21:28 INFO 139921412462400] Saved checkpoint to \"/tmp/tmp134kq4uw/mx-mod-0000.params\"\u001b[0m\n",
            "\u001b[34m[04/27/2022 03:21:28 INFO 139921412462400] #progress_metric: host=algo-1, completed 20.0 % of epochs\u001b[0m\n",
            "\u001b[34m#metrics {\"StartTime\": 1651029625.9577866, \"EndTime\": 1651029688.5875988, \"Dimensions\": {\"Algorithm\": \"Linear Learner\", \"Host\": \"algo-1\", \"Operation\": \"training\", \"epoch\": 2, \"Meta\": \"training_data_iter\"}, \"Metrics\": {\"Total Records Seen\": {\"sum\": 3937416.0, \"count\": 1, \"min\": 3937416, \"max\": 3937416}, \"Total Batches Seen\": {\"sum\": 3939.0, \"count\": 1, \"min\": 3939, \"max\": 3939}, \"Max Records Seen Between Resets\": {\"sum\": 1308472.0, \"count\": 1, \"min\": 1308472, \"max\": 1308472}, \"Max Batches Seen Between Resets\": {\"sum\": 1309.0, \"count\": 1, \"min\": 1309, \"max\": 1309}, \"Reset Count\": {\"sum\": 5.0, \"count\": 1, \"min\": 5, \"max\": 5}, \"Number of Records Since Last Reset\": {\"sum\": 1308472.0, \"count\": 1, \"min\": 1308472, \"max\": 1308472}, \"Number of Batches Since Last Reset\": {\"sum\": 1309.0, \"count\": 1, \"min\": 1309, \"max\": 1309}}}\u001b[0m\n",
            "\u001b[34m[04/27/2022 03:21:28 INFO 139921412462400] #throughput_metric: host=algo-1, train throughput=20892.09958249524 records/second\u001b[0m\n",
            "\u001b[34m[2022-04-27 03:22:26.593] [tensorio] [info] epoch_stats={\"data_pipeline\": \"/opt/ml/input/data/train\", \"epoch\": 9, \"duration\": 57996, \"num_examples\": 1309, \"num_bytes\": 554792128}\u001b[0m\n",
            "\u001b[34m#metrics {\"StartTime\": 1651029746.5938983, \"EndTime\": 1651029746.594004, \"Dimensions\": {\"Algorithm\": \"Linear Learner\", \"Host\": \"algo-1\", \"Operation\": \"training\", \"epoch\": 3, \"model\": 0}, \"Metrics\": {\"train_binary_classification_cross_entropy_objective\": {\"sum\": 0.49199853223981477, \"count\": 1, \"min\": 0.49199853223981477, \"max\": 0.49199853223981477}}}\u001b[0m\n",
            "\u001b[34m#metrics {\"StartTime\": 1651029746.594158, \"EndTime\": 1651029746.5941825, \"Dimensions\": {\"Algorithm\": \"Linear Learner\", \"Host\": \"algo-1\", \"Operation\": \"training\", \"epoch\": 3, \"model\": 1}, \"Metrics\": {\"train_binary_classification_cross_entropy_objective\": {\"sum\": 0.49302924057613456, \"count\": 1, \"min\": 0.49302924057613456, \"max\": 0.49302924057613456}}}\u001b[0m\n",
            "\u001b[34m#metrics {\"StartTime\": 1651029746.5942504, \"EndTime\": 1651029746.5942707, \"Dimensions\": {\"Algorithm\": \"Linear Learner\", \"Host\": \"algo-1\", \"Operation\": \"training\", \"epoch\": 3, \"model\": 2}, \"Metrics\": {\"train_binary_classification_cross_entropy_objective\": {\"sum\": 0.4920127997208808, \"count\": 1, \"min\": 0.4920127997208808, \"max\": 0.4920127997208808}}}\u001b[0m\n",
            "\u001b[34m#metrics {\"StartTime\": 1651029746.5943346, \"EndTime\": 1651029746.5943537, \"Dimensions\": {\"Algorithm\": \"Linear Learner\", \"Host\": \"algo-1\", \"Operation\": \"training\", \"epoch\": 3, \"model\": 3}, \"Metrics\": {\"train_binary_classification_cross_entropy_objective\": {\"sum\": 0.49302922062771765, \"count\": 1, \"min\": 0.49302922062771765, \"max\": 0.49302922062771765}}}\u001b[0m\n",
            "\u001b[34m#metrics {\"StartTime\": 1651029746.5944142, \"EndTime\": 1651029746.5944333, \"Dimensions\": {\"Algorithm\": \"Linear Learner\", \"Host\": \"algo-1\", \"Operation\": \"training\", \"epoch\": 3, \"model\": 4}, \"Metrics\": {\"train_binary_classification_cross_entropy_objective\": {\"sum\": 0.4923199597513275, \"count\": 1, \"min\": 0.4923199597513275, \"max\": 0.4923199597513275}}}\u001b[0m\n",
            "\u001b[34m#metrics {\"StartTime\": 1651029746.5944953, \"EndTime\": 1651029746.5945141, \"Dimensions\": {\"Algorithm\": \"Linear Learner\", \"Host\": \"algo-1\", \"Operation\": \"training\", \"epoch\": 3, \"model\": 5}, \"Metrics\": {\"train_binary_classification_cross_entropy_objective\": {\"sum\": 0.5097082918266274, \"count\": 1, \"min\": 0.5097082918266274, \"max\": 0.5097082918266274}}}\u001b[0m\n",
            "\u001b[34m#metrics {\"StartTime\": 1651029746.594573, \"EndTime\": 1651029746.5945928, \"Dimensions\": {\"Algorithm\": \"Linear Learner\", \"Host\": \"algo-1\", \"Operation\": \"training\", \"epoch\": 3, \"model\": 6}, \"Metrics\": {\"train_binary_classification_cross_entropy_objective\": {\"sum\": 0.4923199553650089, \"count\": 1, \"min\": 0.4923199553650089, \"max\": 0.4923199553650089}}}\u001b[0m\n",
            "\u001b[34m#metrics {\"StartTime\": 1651029746.5946505, \"EndTime\": 1651029746.5946686, \"Dimensions\": {\"Algorithm\": \"Linear Learner\", \"Host\": \"algo-1\", \"Operation\": \"training\", \"epoch\": 3, \"model\": 7}, \"Metrics\": {\"train_binary_classification_cross_entropy_objective\": {\"sum\": 0.5096653667998241, \"count\": 1, \"min\": 0.5096653667998241, \"max\": 0.5096653667998241}}}\u001b[0m\n",
            "\u001b[34m#metrics {\"StartTime\": 1651029746.5947294, \"EndTime\": 1651029746.5947475, \"Dimensions\": {\"Algorithm\": \"Linear Learner\", \"Host\": \"algo-1\", \"Operation\": \"training\", \"epoch\": 3, \"model\": 8}, \"Metrics\": {\"train_binary_classification_cross_entropy_objective\": {\"sum\": 0.4921988324506567, \"count\": 1, \"min\": 0.4921988324506567, \"max\": 0.4921988324506567}}}\u001b[0m\n",
            "\u001b[34m#metrics {\"StartTime\": 1651029746.5948074, \"EndTime\": 1651029746.594825, \"Dimensions\": {\"Algorithm\": \"Linear Learner\", \"Host\": \"algo-1\", \"Operation\": \"training\", \"epoch\": 3, \"model\": 9}, \"Metrics\": {\"train_binary_classification_cross_entropy_objective\": {\"sum\": 0.49319222502168897, \"count\": 1, \"min\": 0.49319222502168897, \"max\": 0.49319222502168897}}}\u001b[0m\n",
            "\u001b[34m#metrics {\"StartTime\": 1651029746.5948803, \"EndTime\": 1651029746.5948958, \"Dimensions\": {\"Algorithm\": \"Linear Learner\", \"Host\": \"algo-1\", \"Operation\": \"training\", \"epoch\": 3, \"model\": 10}, \"Metrics\": {\"train_binary_classification_cross_entropy_objective\": {\"sum\": 0.49221300917225874, \"count\": 1, \"min\": 0.49221300917225874, \"max\": 0.49221300917225874}}}\u001b[0m\n",
            "\u001b[34m#metrics {\"StartTime\": 1651029746.5949488, \"EndTime\": 1651029746.594964, \"Dimensions\": {\"Algorithm\": \"Linear Learner\", \"Host\": \"algo-1\", \"Operation\": \"training\", \"epoch\": 3, \"model\": 11}, \"Metrics\": {\"train_binary_classification_cross_entropy_objective\": {\"sum\": 0.493192211512761, \"count\": 1, \"min\": 0.493192211512761, \"max\": 0.493192211512761}}}\u001b[0m\n",
            "\u001b[34m#metrics {\"StartTime\": 1651029746.595019, \"EndTime\": 1651029746.595037, \"Dimensions\": {\"Algorithm\": \"Linear Learner\", \"Host\": \"algo-1\", \"Operation\": \"training\", \"epoch\": 3, \"model\": 12}, \"Metrics\": {\"train_binary_classification_cross_entropy_objective\": {\"sum\": 0.49251767534728447, \"count\": 1, \"min\": 0.49251767534728447, \"max\": 0.49251767534728447}}}\u001b[0m\n",
            "\u001b[34m#metrics {\"StartTime\": 1651029746.595093, \"EndTime\": 1651029746.5951095, \"Dimensions\": {\"Algorithm\": \"Linear Learner\", \"Host\": \"algo-1\", \"Operation\": \"training\", \"epoch\": 3, \"model\": 13}, \"Metrics\": {\"train_binary_classification_cross_entropy_objective\": {\"sum\": 0.5087007830791882, \"count\": 1, \"min\": 0.5087007830791882, \"max\": 0.5087007830791882}}}\u001b[0m\n",
            "\u001b[34m#metrics {\"StartTime\": 1651029746.5951648, \"EndTime\": 1651029746.5952058, \"Dimensions\": {\"Algorithm\": \"Linear Learner\", \"Host\": \"algo-1\", \"Operation\": \"training\", \"epoch\": 3, \"model\": 14}, \"Metrics\": {\"train_binary_classification_cross_entropy_objective\": {\"sum\": 0.4925176769104937, \"count\": 1, \"min\": 0.4925176769104937, \"max\": 0.4925176769104937}}}\u001b[0m\n",
            "\u001b[34m#metrics {\"StartTime\": 1651029746.5952644, \"EndTime\": 1651029746.595282, \"Dimensions\": {\"Algorithm\": \"Linear Learner\", \"Host\": \"algo-1\", \"Operation\": \"training\", \"epoch\": 3, \"model\": 15}, \"Metrics\": {\"train_binary_classification_cross_entropy_objective\": {\"sum\": 0.5087008280856165, \"count\": 1, \"min\": 0.5087008280856165, \"max\": 0.5087008280856165}}}\u001b[0m\n",
            "\u001b[34m#metrics {\"StartTime\": 1651029746.5953362, \"EndTime\": 1651029746.5953536, \"Dimensions\": {\"Algorithm\": \"Linear Learner\", \"Host\": \"algo-1\", \"Operation\": \"training\", \"epoch\": 3, \"model\": 16}, \"Metrics\": {\"train_binary_classification_cross_entropy_objective\": {\"sum\": 0.5077012335167748, \"count\": 1, \"min\": 0.5077012335167748, \"max\": 0.5077012335167748}}}\u001b[0m\n",
            "\u001b[34m#metrics {\"StartTime\": 1651029746.5954077, \"EndTime\": 1651029746.5954223, \"Dimensions\": {\"Algorithm\": \"Linear Learner\", \"Host\": \"algo-1\", \"Operation\": \"training\", \"epoch\": 3, \"model\": 17}, \"Metrics\": {\"train_binary_classification_cross_entropy_objective\": {\"sum\": 0.5079570517117095, \"count\": 1, \"min\": 0.5079570517117095, \"max\": 0.5079570517117095}}}\u001b[0m\n",
            "\u001b[34m#metrics {\"StartTime\": 1651029746.5954785, \"EndTime\": 1651029746.5955043, \"Dimensions\": {\"Algorithm\": \"Linear Learner\", \"Host\": \"algo-1\", \"Operation\": \"training\", \"epoch\": 3, \"model\": 18}, \"Metrics\": {\"train_binary_classification_cross_entropy_objective\": {\"sum\": 0.5077058101269083, \"count\": 1, \"min\": 0.5077058101269083, \"max\": 0.5077058101269083}}}\u001b[0m\n",
            "\u001b[34m#metrics {\"StartTime\": 1651029746.5955558, \"EndTime\": 1651029746.5955718, \"Dimensions\": {\"Algorithm\": \"Linear Learner\", \"Host\": \"algo-1\", \"Operation\": \"training\", \"epoch\": 3, \"model\": 19}, \"Metrics\": {\"train_binary_classification_cross_entropy_objective\": {\"sum\": 0.5079570498918539, \"count\": 1, \"min\": 0.5079570498918539, \"max\": 0.5079570498918539}}}\u001b[0m\n",
            "\u001b[34m#metrics {\"StartTime\": 1651029746.5956209, \"EndTime\": 1651029746.5956376, \"Dimensions\": {\"Algorithm\": \"Linear Learner\", \"Host\": \"algo-1\", \"Operation\": \"training\", \"epoch\": 3, \"model\": 20}, \"Metrics\": {\"train_binary_classification_cross_entropy_objective\": {\"sum\": 0.5077877124471402, \"count\": 1, \"min\": 0.5077877124471402, \"max\": 0.5077877124471402}}}\u001b[0m\n",
            "\u001b[34m#metrics {\"StartTime\": 1651029746.5956895, \"EndTime\": 1651029746.5957046, \"Dimensions\": {\"Algorithm\": \"Linear Learner\", \"Host\": \"algo-1\", \"Operation\": \"training\", \"epoch\": 3, \"model\": 21}, \"Metrics\": {\"train_binary_classification_cross_entropy_objective\": {\"sum\": 0.5107473441541013, \"count\": 1, \"min\": 0.5107473441541013, \"max\": 0.5107473441541013}}}\u001b[0m\n",
            "\u001b[34m#metrics {\"StartTime\": 1651029746.5957565, \"EndTime\": 1651029746.5957735, \"Dimensions\": {\"Algorithm\": \"Linear Learner\", \"Host\": \"algo-1\", \"Operation\": \"training\", \"epoch\": 3, \"model\": 22}, \"Metrics\": {\"train_binary_classification_cross_entropy_objective\": {\"sum\": 0.5077877132870735, \"count\": 1, \"min\": 0.5077877132870735, \"max\": 0.5077877132870735}}}\u001b[0m\n",
            "\u001b[34m#metrics {\"StartTime\": 1651029746.595825, \"EndTime\": 1651029746.5958416, \"Dimensions\": {\"Algorithm\": \"Linear Learner\", \"Host\": \"algo-1\", \"Operation\": \"training\", \"epoch\": 3, \"model\": 23}, \"Metrics\": {\"train_binary_classification_cross_entropy_objective\": {\"sum\": 0.5107473474905031, \"count\": 1, \"min\": 0.5107473474905031, \"max\": 0.5107473474905031}}}\u001b[0m\n",
            "\u001b[34m#metrics {\"StartTime\": 1651029746.5958943, \"EndTime\": 1651029746.5959096, \"Dimensions\": {\"Algorithm\": \"Linear Learner\", \"Host\": \"algo-1\", \"Operation\": \"training\", \"epoch\": 3, \"model\": 24}, \"Metrics\": {\"train_binary_classification_cross_entropy_objective\": {\"sum\": 0.5137673420104047, \"count\": 1, \"min\": 0.5137673420104047, \"max\": 0.5137673420104047}}}\u001b[0m\n",
            "\u001b[34m#metrics {\"StartTime\": 1651029746.595961, \"EndTime\": 1651029746.595978, \"Dimensions\": {\"Algorithm\": \"Linear Learner\", \"Host\": \"algo-1\", \"Operation\": \"training\", \"epoch\": 3, \"model\": 25}, \"Metrics\": {\"train_binary_classification_cross_entropy_objective\": {\"sum\": 0.51386774726891, \"count\": 1, \"min\": 0.51386774726891, \"max\": 0.51386774726891}}}\u001b[0m\n",
            "\u001b[34m#metrics {\"StartTime\": 1651029746.5960286, \"EndTime\": 1651029746.5960448, \"Dimensions\": {\"Algorithm\": \"Linear Learner\", \"Host\": \"algo-1\", \"Operation\": \"training\", \"epoch\": 3, \"model\": 26}, \"Metrics\": {\"train_binary_classification_cross_entropy_objective\": {\"sum\": 0.5137692169049464, \"count\": 1, \"min\": 0.5137692169049464, \"max\": 0.5137692169049464}}}\u001b[0m\n",
            "\u001b[34m#metrics {\"StartTime\": 1651029746.5960963, \"EndTime\": 1651029746.596114, \"Dimensions\": {\"Algorithm\": \"Linear Learner\", \"Host\": \"algo-1\", \"Operation\": \"training\", \"epoch\": 3, \"model\": 27}, \"Metrics\": {\"train_binary_classification_cross_entropy_objective\": {\"sum\": 0.5138671749943258, \"count\": 1, \"min\": 0.5138671749943258, \"max\": 0.5138671749943258}}}\u001b[0m\n",
            "\u001b[34m#metrics {\"StartTime\": 1651029746.5961766, \"EndTime\": 1651029746.596192, \"Dimensions\": {\"Algorithm\": \"Linear Learner\", \"Host\": \"algo-1\", \"Operation\": \"training\", \"epoch\": 3, \"model\": 28}, \"Metrics\": {\"train_binary_classification_cross_entropy_objective\": {\"sum\": 0.5137870644618976, \"count\": 1, \"min\": 0.5137870644618976, \"max\": 0.5137870644618976}}}\u001b[0m\n",
            "\u001b[34m#metrics {\"StartTime\": 1651029746.5962398, \"EndTime\": 1651029746.5962548, \"Dimensions\": {\"Algorithm\": \"Linear Learner\", \"Host\": \"algo-1\", \"Operation\": \"training\", \"epoch\": 3, \"model\": 29}, \"Metrics\": {\"train_binary_classification_cross_entropy_objective\": {\"sum\": 0.5148407808123014, \"count\": 1, \"min\": 0.5148407808123014, \"max\": 0.5148407808123014}}}\u001b[0m\n",
            "\u001b[34m#metrics {\"StartTime\": 1651029746.5963075, \"EndTime\": 1651029746.5963228, \"Dimensions\": {\"Algorithm\": \"Linear Learner\", \"Host\": \"algo-1\", \"Operation\": \"training\", \"epoch\": 3, \"model\": 30}, \"Metrics\": {\"train_binary_classification_cross_entropy_objective\": {\"sum\": 0.5137872256357735, \"count\": 1, \"min\": 0.5137872256357735, \"max\": 0.5137872256357735}}}\u001b[0m\n",
            "\u001b[34m#metrics {\"StartTime\": 1651029746.5963714, \"EndTime\": 1651029746.5963867, \"Dimensions\": {\"Algorithm\": \"Linear Learner\", \"Host\": \"algo-1\", \"Operation\": \"training\", \"epoch\": 3, \"model\": 31}, \"Metrics\": {\"train_binary_classification_cross_entropy_objective\": {\"sum\": 0.5148407369491157, \"count\": 1, \"min\": 0.5148407369491157, \"max\": 0.5148407369491157}}}\u001b[0m\n",
            "\u001b[34m[04/27/2022 03:22:26 INFO 139921412462400] #quality_metric: host=algo-1, epoch=3, train binary_classification_cross_entropy_objective <loss>=0.49199853223981477\u001b[0m\n",
            "\u001b[34m[2022-04-27 03:22:31.791] [tensorio] [info] epoch_stats={\"data_pipeline\": \"/opt/ml/input/data/validation\", \"epoch\": 11, \"duration\": 5168, \"num_examples\": 164, \"num_bytes\": 69349016}\u001b[0m\n",
            "\u001b[34m#metrics {\"StartTime\": 1651029751.8041751, \"EndTime\": 1651029751.8042986, \"Dimensions\": {\"Algorithm\": \"Linear Learner\", \"Host\": \"algo-1\", \"Operation\": \"training\", \"epoch\": 3, \"model\": 0}, \"Metrics\": {\"validation_binary_classification_cross_entropy_objective\": {\"sum\": 0.49179910602846777, \"count\": 1, \"min\": 0.49179910602846777, \"max\": 0.49179910602846777}}}\u001b[0m\n",
            "\u001b[34m#metrics {\"StartTime\": 1651029751.804427, \"EndTime\": 1651029751.8044505, \"Dimensions\": {\"Algorithm\": \"Linear Learner\", \"Host\": \"algo-1\", \"Operation\": \"training\", \"epoch\": 3, \"model\": 1}, \"Metrics\": {\"validation_binary_classification_cross_entropy_objective\": {\"sum\": 0.4933051754424125, \"count\": 1, \"min\": 0.4933051754424125, \"max\": 0.4933051754424125}}}\u001b[0m\n",
            "\u001b[34m#metrics {\"StartTime\": 1651029751.8045137, \"EndTime\": 1651029751.804533, \"Dimensions\": {\"Algorithm\": \"Linear Learner\", \"Host\": \"algo-1\", \"Operation\": \"training\", \"epoch\": 3, \"model\": 2}, \"Metrics\": {\"validation_binary_classification_cross_entropy_objective\": {\"sum\": 0.49179330194368653, \"count\": 1, \"min\": 0.49179330194368653, \"max\": 0.49179330194368653}}}\u001b[0m\n",
            "\u001b[34m#metrics {\"StartTime\": 1651029751.8045876, \"EndTime\": 1651029751.804604, \"Dimensions\": {\"Algorithm\": \"Linear Learner\", \"Host\": \"algo-1\", \"Operation\": \"training\", \"epoch\": 3, \"model\": 3}, \"Metrics\": {\"validation_binary_classification_cross_entropy_objective\": {\"sum\": 0.49330509950251133, \"count\": 1, \"min\": 0.49330509950251133, \"max\": 0.49330509950251133}}}\u001b[0m\n",
            "\u001b[34m#metrics {\"StartTime\": 1651029751.8046446, \"EndTime\": 1651029751.8046544, \"Dimensions\": {\"Algorithm\": \"Linear Learner\", \"Host\": \"algo-1\", \"Operation\": \"training\", \"epoch\": 3, \"model\": 4}, \"Metrics\": {\"validation_binary_classification_cross_entropy_objective\": {\"sum\": 0.49186258003102806, \"count\": 1, \"min\": 0.49186258003102806, \"max\": 0.49186258003102806}}}\u001b[0m\n",
            "\u001b[34m#metrics {\"StartTime\": 1651029751.8047035, \"EndTime\": 1651029751.8047204, \"Dimensions\": {\"Algorithm\": \"Linear Learner\", \"Host\": \"algo-1\", \"Operation\": \"training\", \"epoch\": 3, \"model\": 5}, \"Metrics\": {\"validation_binary_classification_cross_entropy_objective\": {\"sum\": 0.5094337138955065, \"count\": 1, \"min\": 0.5094337138955065, \"max\": 0.5094337138955065}}}\u001b[0m\n",
            "\u001b[34m#metrics {\"StartTime\": 1651029751.8047686, \"EndTime\": 1651029751.8047795, \"Dimensions\": {\"Algorithm\": \"Linear Learner\", \"Host\": \"algo-1\", \"Operation\": \"training\", \"epoch\": 3, \"model\": 6}, \"Metrics\": {\"validation_binary_classification_cross_entropy_objective\": {\"sum\": 0.49186257872493644, \"count\": 1, \"min\": 0.49186257872493644, \"max\": 0.49186257872493644}}}\u001b[0m\n",
            "\u001b[34m#metrics {\"StartTime\": 1651029751.8048081, \"EndTime\": 1651029751.8048162, \"Dimensions\": {\"Algorithm\": \"Linear Learner\", \"Host\": \"algo-1\", \"Operation\": \"training\", \"epoch\": 3, \"model\": 7}, \"Metrics\": {\"validation_binary_classification_cross_entropy_objective\": {\"sum\": 0.5096384497349293, \"count\": 1, \"min\": 0.5096384497349293, \"max\": 0.5096384497349293}}}\u001b[0m\n",
            "\u001b[34m#metrics {\"StartTime\": 1651029751.8048515, \"EndTime\": 1651029751.8048675, \"Dimensions\": {\"Algorithm\": \"Linear Learner\", \"Host\": \"algo-1\", \"Operation\": \"training\", \"epoch\": 3, \"model\": 8}, \"Metrics\": {\"validation_binary_classification_cross_entropy_objective\": {\"sum\": 0.49202969707193533, \"count\": 1, \"min\": 0.49202969707193533, \"max\": 0.49202969707193533}}}\u001b[0m\n",
            "\u001b[34m#metrics {\"StartTime\": 1651029751.8049204, \"EndTime\": 1651029751.8049417, \"Dimensions\": {\"Algorithm\": \"Linear Learner\", \"Host\": \"algo-1\", \"Operation\": \"training\", \"epoch\": 3, \"model\": 9}, \"Metrics\": {\"validation_binary_classification_cross_entropy_objective\": {\"sum\": 0.49346552263704346, \"count\": 1, \"min\": 0.49346552263704346, \"max\": 0.49346552263704346}}}\u001b[0m\n",
            "\u001b[34m#metrics {\"StartTime\": 1651029751.8049908, \"EndTime\": 1651029751.805006, \"Dimensions\": {\"Algorithm\": \"Linear Learner\", \"Host\": \"algo-1\", \"Operation\": \"training\", \"epoch\": 3, \"model\": 10}, \"Metrics\": {\"validation_binary_classification_cross_entropy_objective\": {\"sum\": 0.49202240964019006, \"count\": 1, \"min\": 0.49202240964019006, \"max\": 0.49202240964019006}}}\u001b[0m\n",
            "\u001b[34m#metrics {\"StartTime\": 1651029751.805056, \"EndTime\": 1651029751.8050725, \"Dimensions\": {\"Algorithm\": \"Linear Learner\", \"Host\": \"algo-1\", \"Operation\": \"training\", \"epoch\": 3, \"model\": 11}, \"Metrics\": {\"validation_binary_classification_cross_entropy_objective\": {\"sum\": 0.4934654791628494, \"count\": 1, \"min\": 0.4934654791628494, \"max\": 0.4934654791628494}}}\u001b[0m\n",
            "\u001b[34m#metrics {\"StartTime\": 1651029751.8051288, \"EndTime\": 1651029751.8051476, \"Dimensions\": {\"Algorithm\": \"Linear Learner\", \"Host\": \"algo-1\", \"Operation\": \"training\", \"epoch\": 3, \"model\": 12}, \"Metrics\": {\"validation_binary_classification_cross_entropy_objective\": {\"sum\": 0.4921228579783208, \"count\": 1, \"min\": 0.4921228579783208, \"max\": 0.4921228579783208}}}\u001b[0m\n",
            "\u001b[34m#metrics {\"StartTime\": 1651029751.8052, \"EndTime\": 1651029751.805217, \"Dimensions\": {\"Algorithm\": \"Linear Learner\", \"Host\": \"algo-1\", \"Operation\": \"training\", \"epoch\": 3, \"model\": 13}, \"Metrics\": {\"validation_binary_classification_cross_entropy_objective\": {\"sum\": 0.50831510366463, \"count\": 1, \"min\": 0.50831510366463, \"max\": 0.50831510366463}}}\u001b[0m\n",
            "\u001b[34m#metrics {\"StartTime\": 1651029751.805272, \"EndTime\": 1651029751.805289, \"Dimensions\": {\"Algorithm\": \"Linear Learner\", \"Host\": \"algo-1\", \"Operation\": \"training\", \"epoch\": 3, \"model\": 14}, \"Metrics\": {\"validation_binary_classification_cross_entropy_objective\": {\"sum\": 0.49212285704539815, \"count\": 1, \"min\": 0.49212285704539815, \"max\": 0.49212285704539815}}}\u001b[0m\n",
            "\u001b[34m#metrics {\"StartTime\": 1651029751.8054092, \"EndTime\": 1651029751.8054318, \"Dimensions\": {\"Algorithm\": \"Linear Learner\", \"Host\": \"algo-1\", \"Operation\": \"training\", \"epoch\": 3, \"model\": 15}, \"Metrics\": {\"validation_binary_classification_cross_entropy_objective\": {\"sum\": 0.5083152732699621, \"count\": 1, \"min\": 0.5083152732699621, \"max\": 0.5083152732699621}}}\u001b[0m\n",
            "\u001b[34m#metrics {\"StartTime\": 1651029751.80549, \"EndTime\": 1651029751.805506, \"Dimensions\": {\"Algorithm\": \"Linear Learner\", \"Host\": \"algo-1\", \"Operation\": \"training\", \"epoch\": 3, \"model\": 16}, \"Metrics\": {\"validation_binary_classification_cross_entropy_objective\": {\"sum\": 0.5076635775623447, \"count\": 1, \"min\": 0.5076635775623447, \"max\": 0.5076635775623447}}}\u001b[0m\n",
            "\u001b[34m#metrics {\"StartTime\": 1651029751.8055568, \"EndTime\": 1651029751.8055723, \"Dimensions\": {\"Algorithm\": \"Linear Learner\", \"Host\": \"algo-1\", \"Operation\": \"training\", \"epoch\": 3, \"model\": 17}, \"Metrics\": {\"validation_binary_classification_cross_entropy_objective\": {\"sum\": 0.508456500028934, \"count\": 1, \"min\": 0.508456500028934, \"max\": 0.508456500028934}}}\u001b[0m\n",
            "\u001b[34m#metrics {\"StartTime\": 1651029751.8056288, \"EndTime\": 1651029751.8056452, \"Dimensions\": {\"Algorithm\": \"Linear Learner\", \"Host\": \"algo-1\", \"Operation\": \"training\", \"epoch\": 3, \"model\": 18}, \"Metrics\": {\"validation_binary_classification_cross_entropy_objective\": {\"sum\": 0.5076649907535278, \"count\": 1, \"min\": 0.5076649907535278, \"max\": 0.5076649907535278}}}\u001b[0m\n",
            "\u001b[34m#metrics {\"StartTime\": 1651029751.8056974, \"EndTime\": 1651029751.8057134, \"Dimensions\": {\"Algorithm\": \"Linear Learner\", \"Host\": \"algo-1\", \"Operation\": \"training\", \"epoch\": 3, \"model\": 19}, \"Metrics\": {\"validation_binary_classification_cross_entropy_objective\": {\"sum\": 0.5084565453689733, \"count\": 1, \"min\": 0.5084565453689733, \"max\": 0.5084565453689733}}}\u001b[0m\n",
            "\u001b[34m#metrics {\"StartTime\": 1651029751.8057656, \"EndTime\": 1651029751.8057823, \"Dimensions\": {\"Algorithm\": \"Linear Learner\", \"Host\": \"algo-1\", \"Operation\": \"training\", \"epoch\": 3, \"model\": 20}, \"Metrics\": {\"validation_binary_classification_cross_entropy_objective\": {\"sum\": 0.5076720208852148, \"count\": 1, \"min\": 0.5076720208852148, \"max\": 0.5076720208852148}}}\u001b[0m\n",
            "\u001b[34m#metrics {\"StartTime\": 1651029751.8058376, \"EndTime\": 1651029751.8058546, \"Dimensions\": {\"Algorithm\": \"Linear Learner\", \"Host\": \"algo-1\", \"Operation\": \"training\", \"epoch\": 3, \"model\": 21}, \"Metrics\": {\"validation_binary_classification_cross_entropy_objective\": {\"sum\": 0.5106690273350567, \"count\": 1, \"min\": 0.5106690273350567, \"max\": 0.5106690273350567}}}\u001b[0m\n",
            "\u001b[34m#metrics {\"StartTime\": 1651029751.8059218, \"EndTime\": 1651029751.805941, \"Dimensions\": {\"Algorithm\": \"Linear Learner\", \"Host\": \"algo-1\", \"Operation\": \"training\", \"epoch\": 3, \"model\": 22}, \"Metrics\": {\"validation_binary_classification_cross_entropy_objective\": {\"sum\": 0.5076719964426422, \"count\": 1, \"min\": 0.5076719964426422, \"max\": 0.5076719964426422}}}\u001b[0m\n",
            "\u001b[34m#metrics {\"StartTime\": 1651029751.8060079, \"EndTime\": 1651029751.8060253, \"Dimensions\": {\"Algorithm\": \"Linear Learner\", \"Host\": \"algo-1\", \"Operation\": \"training\", \"epoch\": 3, \"model\": 23}, \"Metrics\": {\"validation_binary_classification_cross_entropy_objective\": {\"sum\": 0.5106690607336865, \"count\": 1, \"min\": 0.5106690607336865, \"max\": 0.5106690607336865}}}\u001b[0m\n",
            "\u001b[34m#metrics {\"StartTime\": 1651029751.8060865, \"EndTime\": 1651029751.8061044, \"Dimensions\": {\"Algorithm\": \"Linear Learner\", \"Host\": \"algo-1\", \"Operation\": \"training\", \"epoch\": 3, \"model\": 24}, \"Metrics\": {\"validation_binary_classification_cross_entropy_objective\": {\"sum\": 0.5137598359822922, \"count\": 1, \"min\": 0.5137598359822922, \"max\": 0.5137598359822922}}}\u001b[0m\n",
            "\u001b[34m#metrics {\"StartTime\": 1651029751.8061702, \"EndTime\": 1651029751.806194, \"Dimensions\": {\"Algorithm\": \"Linear Learner\", \"Host\": \"algo-1\", \"Operation\": \"training\", \"epoch\": 3, \"model\": 25}, \"Metrics\": {\"validation_binary_classification_cross_entropy_objective\": {\"sum\": 0.5143995208709448, \"count\": 1, \"min\": 0.5143995208709448, \"max\": 0.5143995208709448}}}\u001b[0m\n",
            "\u001b[34m#metrics {\"StartTime\": 1651029751.8062565, \"EndTime\": 1651029751.8062727, \"Dimensions\": {\"Algorithm\": \"Linear Learner\", \"Host\": \"algo-1\", \"Operation\": \"training\", \"epoch\": 3, \"model\": 26}, \"Metrics\": {\"validation_binary_classification_cross_entropy_objective\": {\"sum\": 0.5137561445940737, \"count\": 1, \"min\": 0.5137561445940737, \"max\": 0.5137561445940737}}}\u001b[0m\n",
            "\u001b[34m#metrics {\"StartTime\": 1651029751.8063474, \"EndTime\": 1651029751.8063688, \"Dimensions\": {\"Algorithm\": \"Linear Learner\", \"Host\": \"algo-1\", \"Operation\": \"training\", \"epoch\": 3, \"model\": 27}, \"Metrics\": {\"validation_binary_classification_cross_entropy_objective\": {\"sum\": 0.5143906965424772, \"count\": 1, \"min\": 0.5143906965424772, \"max\": 0.5143906965424772}}}\u001b[0m\n",
            "\u001b[34m#metrics {\"StartTime\": 1651029751.806439, \"EndTime\": 1651029751.8064556, \"Dimensions\": {\"Algorithm\": \"Linear Learner\", \"Host\": \"algo-1\", \"Operation\": \"training\", \"epoch\": 3, \"model\": 28}, \"Metrics\": {\"validation_binary_classification_cross_entropy_objective\": {\"sum\": 0.5137689620179349, \"count\": 1, \"min\": 0.5137689620179349, \"max\": 0.5137689620179349}}}\u001b[0m\n",
            "\u001b[34m#metrics {\"StartTime\": 1651029751.8065076, \"EndTime\": 1651029751.8065233, \"Dimensions\": {\"Algorithm\": \"Linear Learner\", \"Host\": \"algo-1\", \"Operation\": \"training\", \"epoch\": 3, \"model\": 29}, \"Metrics\": {\"validation_binary_classification_cross_entropy_objective\": {\"sum\": 0.5139669184952707, \"count\": 1, \"min\": 0.5139669184952707, \"max\": 0.5139669184952707}}}\u001b[0m\n",
            "\u001b[34m#metrics {\"StartTime\": 1651029751.806573, \"EndTime\": 1651029751.8065875, \"Dimensions\": {\"Algorithm\": \"Linear Learner\", \"Host\": \"algo-1\", \"Operation\": \"training\", \"epoch\": 3, \"model\": 30}, \"Metrics\": {\"validation_binary_classification_cross_entropy_objective\": {\"sum\": 0.5137698285164632, \"count\": 1, \"min\": 0.5137698285164632, \"max\": 0.5137698285164632}}}\u001b[0m\n",
            "\u001b[34m#metrics {\"StartTime\": 1651029751.8066425, \"EndTime\": 1651029751.8066607, \"Dimensions\": {\"Algorithm\": \"Linear Learner\", \"Host\": \"algo-1\", \"Operation\": \"training\", \"epoch\": 3, \"model\": 31}, \"Metrics\": {\"validation_binary_classification_cross_entropy_objective\": {\"sum\": 0.5139669125245658, \"count\": 1, \"min\": 0.5139669125245658, \"max\": 0.5139669125245658}}}\u001b[0m\n",
            "\u001b[34m[04/27/2022 03:22:31 INFO 139921412462400] #quality_metric: host=algo-1, epoch=3, validation binary_classification_cross_entropy_objective <loss>=0.49179910602846777\u001b[0m\n",
            "\u001b[34m[04/27/2022 03:22:31 INFO 139921412462400] #early_stopping_criteria_metric: host=algo-1, epoch=3, criteria=binary_classification_cross_entropy_objective, value=0.49179330194368653\u001b[0m\n",
            "\u001b[34m[04/27/2022 03:22:31 INFO 139921412462400] Saving model for epoch: 3\u001b[0m\n",
            "\u001b[34m[04/27/2022 03:22:31 INFO 139921412462400] Saved checkpoint to \"/tmp/tmp71q8udwf/mx-mod-0000.params\"\u001b[0m\n",
            "\u001b[34m[04/27/2022 03:22:31 INFO 139921412462400] #progress_metric: host=algo-1, completed 26.666666666666668 % of epochs\u001b[0m\n",
            "\u001b[34m#metrics {\"StartTime\": 1651029688.59739, \"EndTime\": 1651029751.8139925, \"Dimensions\": {\"Algorithm\": \"Linear Learner\", \"Host\": \"algo-1\", \"Operation\": \"training\", \"epoch\": 3, \"Meta\": \"training_data_iter\"}, \"Metrics\": {\"Total Records Seen\": {\"sum\": 5245888.0, \"count\": 1, \"min\": 5245888, \"max\": 5245888}, \"Total Batches Seen\": {\"sum\": 5248.0, \"count\": 1, \"min\": 5248, \"max\": 5248}, \"Max Records Seen Between Resets\": {\"sum\": 1308472.0, \"count\": 1, \"min\": 1308472, \"max\": 1308472}, \"Max Batches Seen Between Resets\": {\"sum\": 1309.0, \"count\": 1, \"min\": 1309, \"max\": 1309}, \"Reset Count\": {\"sum\": 6.0, \"count\": 1, \"min\": 6, \"max\": 6}, \"Number of Records Since Last Reset\": {\"sum\": 1308472.0, \"count\": 1, \"min\": 1308472, \"max\": 1308472}, \"Number of Batches Since Last Reset\": {\"sum\": 1309.0, \"count\": 1, \"min\": 1309, \"max\": 1309}}}\u001b[0m\n",
            "\u001b[34m[04/27/2022 03:22:31 INFO 139921412462400] #throughput_metric: host=algo-1, train throughput=20698.184618092513 records/second\u001b[0m\n",
            "\u001b[34m[2022-04-27 03:23:29.246] [tensorio] [info] epoch_stats={\"data_pipeline\": \"/opt/ml/input/data/train\", \"epoch\": 11, \"duration\": 57432, \"num_examples\": 1309, \"num_bytes\": 554792128}\u001b[0m\n",
            "\u001b[34m#metrics {\"StartTime\": 1651029809.2469642, \"EndTime\": 1651029809.2470613, \"Dimensions\": {\"Algorithm\": \"Linear Learner\", \"Host\": \"algo-1\", \"Operation\": \"training\", \"epoch\": 4, \"model\": 0}, \"Metrics\": {\"train_binary_classification_cross_entropy_objective\": {\"sum\": 0.4919713748383595, \"count\": 1, \"min\": 0.4919713748383595, \"max\": 0.4919713748383595}}}\u001b[0m\n",
            "\u001b[34m#metrics {\"StartTime\": 1651029809.2471542, \"EndTime\": 1651029809.2471704, \"Dimensions\": {\"Algorithm\": \"Linear Learner\", \"Host\": \"algo-1\", \"Operation\": \"training\", \"epoch\": 4, \"model\": 1}, \"Metrics\": {\"train_binary_classification_cross_entropy_objective\": {\"sum\": 0.4928984678542577, \"count\": 1, \"min\": 0.4928984678542577, \"max\": 0.4928984678542577}}}\u001b[0m\n",
            "\u001b[34m#metrics {\"StartTime\": 1651029809.2472444, \"EndTime\": 1651029809.247259, \"Dimensions\": {\"Algorithm\": \"Linear Learner\", \"Host\": \"algo-1\", \"Operation\": \"training\", \"epoch\": 4, \"model\": 2}, \"Metrics\": {\"train_binary_classification_cross_entropy_objective\": {\"sum\": 0.49201178783451743, \"count\": 1, \"min\": 0.49201178783451743, \"max\": 0.49201178783451743}}}\u001b[0m\n",
            "\u001b[34m#metrics {\"StartTime\": 1651029809.2473128, \"EndTime\": 1651029809.247324, \"Dimensions\": {\"Algorithm\": \"Linear Learner\", \"Host\": \"algo-1\", \"Operation\": \"training\", \"epoch\": 4, \"model\": 3}, \"Metrics\": {\"train_binary_classification_cross_entropy_objective\": {\"sum\": 0.49289845791504655, \"count\": 1, \"min\": 0.49289845791504655, \"max\": 0.49289845791504655}}}\u001b[0m\n",
            "\u001b[34m#metrics {\"StartTime\": 1651029809.2473629, \"EndTime\": 1651029809.2473736, \"Dimensions\": {\"Algorithm\": \"Linear Learner\", \"Host\": \"algo-1\", \"Operation\": \"training\", \"epoch\": 4, \"model\": 4}, \"Metrics\": {\"train_binary_classification_cross_entropy_objective\": {\"sum\": 0.49207580277095875, \"count\": 1, \"min\": 0.49207580277095875, \"max\": 0.49207580277095875}}}\u001b[0m\n",
            "\u001b[34m#metrics {\"StartTime\": 1651029809.2474113, \"EndTime\": 1651029809.2474217, \"Dimensions\": {\"Algorithm\": \"Linear Learner\", \"Host\": \"algo-1\", \"Operation\": \"training\", \"epoch\": 4, \"model\": 5}, \"Metrics\": {\"train_binary_classification_cross_entropy_objective\": {\"sum\": 0.5076506970373498, \"count\": 1, \"min\": 0.5076506970373498, \"max\": 0.5076506970373498}}}\u001b[0m\n",
            "\u001b[34m#metrics {\"StartTime\": 1651029809.2474616, \"EndTime\": 1651029809.2474725, \"Dimensions\": {\"Algorithm\": \"Linear Learner\", \"Host\": \"algo-1\", \"Operation\": \"training\", \"epoch\": 4, \"model\": 6}, \"Metrics\": {\"train_binary_classification_cross_entropy_objective\": {\"sum\": 0.4920758027009643, \"count\": 1, \"min\": 0.4920758027009643, \"max\": 0.4920758027009643}}}\u001b[0m\n",
            "\u001b[34m#metrics {\"StartTime\": 1651029809.2475107, \"EndTime\": 1651029809.247521, \"Dimensions\": {\"Algorithm\": \"Linear Learner\", \"Host\": \"algo-1\", \"Operation\": \"training\", \"epoch\": 4, \"model\": 7}, \"Metrics\": {\"train_binary_classification_cross_entropy_objective\": {\"sum\": 0.5076626299936837, \"count\": 1, \"min\": 0.5076626299936837, \"max\": 0.5076626299936837}}}\u001b[0m\n",
            "\u001b[34m#metrics {\"StartTime\": 1651029809.2475584, \"EndTime\": 1651029809.2475688, \"Dimensions\": {\"Algorithm\": \"Linear Learner\", \"Host\": \"algo-1\", \"Operation\": \"training\", \"epoch\": 4, \"model\": 8}, \"Metrics\": {\"train_binary_classification_cross_entropy_objective\": {\"sum\": 0.4921718918919928, \"count\": 1, \"min\": 0.4921718918919928, \"max\": 0.4921718918919928}}}\u001b[0m\n",
            "\u001b[34m#metrics {\"StartTime\": 1651029809.247606, \"EndTime\": 1651029809.2476165, \"Dimensions\": {\"Algorithm\": \"Linear Learner\", \"Host\": \"algo-1\", \"Operation\": \"training\", \"epoch\": 4, \"model\": 9}, \"Metrics\": {\"train_binary_classification_cross_entropy_objective\": {\"sum\": 0.49306933425763333, \"count\": 1, \"min\": 0.49306933425763333, \"max\": 0.49306933425763333}}}\u001b[0m\n",
            "\u001b[34m#metrics {\"StartTime\": 1651029809.2476537, \"EndTime\": 1651029809.247664, \"Dimensions\": {\"Algorithm\": \"Linear Learner\", \"Host\": \"algo-1\", \"Operation\": \"training\", \"epoch\": 4, \"model\": 10}, \"Metrics\": {\"train_binary_classification_cross_entropy_objective\": {\"sum\": 0.49221301687164776, \"count\": 1, \"min\": 0.49221301687164776, \"max\": 0.49221301687164776}}}\u001b[0m\n",
            "\u001b[34m#metrics {\"StartTime\": 1651029809.247701, \"EndTime\": 1651029809.2477112, \"Dimensions\": {\"Algorithm\": \"Linear Learner\", \"Host\": \"algo-1\", \"Operation\": \"training\", \"epoch\": 4, \"model\": 11}, \"Metrics\": {\"train_binary_classification_cross_entropy_objective\": {\"sum\": 0.49306933201781106, \"count\": 1, \"min\": 0.49306933201781106, \"max\": 0.49306933201781106}}}\u001b[0m\n",
            "\u001b[34m#metrics {\"StartTime\": 1651029809.2477486, \"EndTime\": 1651029809.2477586, \"Dimensions\": {\"Algorithm\": \"Linear Learner\", \"Host\": \"algo-1\", \"Operation\": \"training\", \"epoch\": 4, \"model\": 12}, \"Metrics\": {\"train_binary_classification_cross_entropy_objective\": {\"sum\": 0.4922888000674933, \"count\": 1, \"min\": 0.4922888000674933, \"max\": 0.4922888000674933}}}\u001b[0m\n",
            "\u001b[34m#metrics {\"StartTime\": 1651029809.2477958, \"EndTime\": 1651029809.2478056, \"Dimensions\": {\"Algorithm\": \"Linear Learner\", \"Host\": \"algo-1\", \"Operation\": \"training\", \"epoch\": 4, \"model\": 13}, \"Metrics\": {\"train_binary_classification_cross_entropy_objective\": {\"sum\": 0.5068112178650835, \"count\": 1, \"min\": 0.5068112178650835, \"max\": 0.5068112178650835}}}\u001b[0m\n",
            "\u001b[34m#metrics {\"StartTime\": 1651029809.2478428, \"EndTime\": 1651029809.2478518, \"Dimensions\": {\"Algorithm\": \"Linear Learner\", \"Host\": \"algo-1\", \"Operation\": \"training\", \"epoch\": 4, \"model\": 14}, \"Metrics\": {\"train_binary_classification_cross_entropy_objective\": {\"sum\": 0.4922888004641285, \"count\": 1, \"min\": 0.4922888004641285, \"max\": 0.4922888004641285}}}\u001b[0m\n",
            "\u001b[34m#metrics {\"StartTime\": 1651029809.2478774, \"EndTime\": 1651029809.2478848, \"Dimensions\": {\"Algorithm\": \"Linear Learner\", \"Host\": \"algo-1\", \"Operation\": \"training\", \"epoch\": 4, \"model\": 15}, \"Metrics\": {\"train_binary_classification_cross_entropy_objective\": {\"sum\": 0.5068112224613854, \"count\": 1, \"min\": 0.5068112224613854, \"max\": 0.5068112224613854}}}\u001b[0m\n",
            "\u001b[34m#metrics {\"StartTime\": 1651029809.247909, \"EndTime\": 1651029809.2479165, \"Dimensions\": {\"Algorithm\": \"Linear Learner\", \"Host\": \"algo-1\", \"Operation\": \"training\", \"epoch\": 4, \"model\": 16}, \"Metrics\": {\"train_binary_classification_cross_entropy_objective\": {\"sum\": 0.5076979472775707, \"count\": 1, \"min\": 0.5076979472775707, \"max\": 0.5076979472775707}}}\u001b[0m\n",
            "\u001b[34m#metrics {\"StartTime\": 1651029809.2479572, \"EndTime\": 1651029809.2479727, \"Dimensions\": {\"Algorithm\": \"Linear Learner\", \"Host\": \"algo-1\", \"Operation\": \"training\", \"epoch\": 4, \"model\": 17}, \"Metrics\": {\"train_binary_classification_cross_entropy_objective\": {\"sum\": 0.5079269562000893, \"count\": 1, \"min\": 0.5079269562000893, \"max\": 0.5079269562000893}}}\u001b[0m\n",
            "\u001b[34m#metrics {\"StartTime\": 1651029809.2480233, \"EndTime\": 1651029809.2480428, \"Dimensions\": {\"Algorithm\": \"Linear Learner\", \"Host\": \"algo-1\", \"Operation\": \"training\", \"epoch\": 4, \"model\": 18}, \"Metrics\": {\"train_binary_classification_cross_entropy_objective\": {\"sum\": 0.5077058538267737, \"count\": 1, \"min\": 0.5077058538267737, \"max\": 0.5077058538267737}}}\u001b[0m\n",
            "\u001b[34m#metrics {\"StartTime\": 1651029809.2481072, \"EndTime\": 1651029809.2481177, \"Dimensions\": {\"Algorithm\": \"Linear Learner\", \"Host\": \"algo-1\", \"Operation\": \"training\", \"epoch\": 4, \"model\": 19}, \"Metrics\": {\"train_binary_classification_cross_entropy_objective\": {\"sum\": 0.5079269563400782, \"count\": 1, \"min\": 0.5079269563400782, \"max\": 0.5079269563400782}}}\u001b[0m\n",
            "\u001b[34m#metrics {\"StartTime\": 1651029809.2481444, \"EndTime\": 1651029809.248152, \"Dimensions\": {\"Algorithm\": \"Linear Learner\", \"Host\": \"algo-1\", \"Operation\": \"training\", \"epoch\": 4, \"model\": 20}, \"Metrics\": {\"train_binary_classification_cross_entropy_objective\": {\"sum\": 0.5077286514375553, \"count\": 1, \"min\": 0.5077286514375553, \"max\": 0.5077286514375553}}}\u001b[0m\n",
            "\u001b[34m#metrics {\"StartTime\": 1651029809.2481763, \"EndTime\": 1651029809.2481837, \"Dimensions\": {\"Algorithm\": \"Linear Learner\", \"Host\": \"algo-1\", \"Operation\": \"training\", \"epoch\": 4, \"model\": 21}, \"Metrics\": {\"train_binary_classification_cross_entropy_objective\": {\"sum\": 0.5104073301309475, \"count\": 1, \"min\": 0.5104073301309475, \"max\": 0.5104073301309475}}}\u001b[0m\n",
            "\u001b[34m#metrics {\"StartTime\": 1651029809.2482078, \"EndTime\": 1651029809.248215, \"Dimensions\": {\"Algorithm\": \"Linear Learner\", \"Host\": \"algo-1\", \"Operation\": \"training\", \"epoch\": 4, \"model\": 22}, \"Metrics\": {\"train_binary_classification_cross_entropy_objective\": {\"sum\": 0.5077286526274608, \"count\": 1, \"min\": 0.5077286526274608, \"max\": 0.5077286526274608}}}\u001b[0m\n",
            "\u001b[34m#metrics {\"StartTime\": 1651029809.2482533, \"EndTime\": 1651029809.248267, \"Dimensions\": {\"Algorithm\": \"Linear Learner\", \"Host\": \"algo-1\", \"Operation\": \"training\", \"epoch\": 4, \"model\": 23}, \"Metrics\": {\"train_binary_classification_cross_entropy_objective\": {\"sum\": 0.5104073288243844, \"count\": 1, \"min\": 0.5104073288243844, \"max\": 0.5104073288243844}}}\u001b[0m\n",
            "\u001b[34m#metrics {\"StartTime\": 1651029809.2482986, \"EndTime\": 1651029809.2483115, \"Dimensions\": {\"Algorithm\": \"Linear Learner\", \"Host\": \"algo-1\", \"Operation\": \"training\", \"epoch\": 4, \"model\": 24}, \"Metrics\": {\"train_binary_classification_cross_entropy_objective\": {\"sum\": 0.513765407060629, \"count\": 1, \"min\": 0.513765407060629, \"max\": 0.513765407060629}}}\u001b[0m\n",
            "\u001b[34m#metrics {\"StartTime\": 1651029809.2483652, \"EndTime\": 1651029809.2483797, \"Dimensions\": {\"Algorithm\": \"Linear Learner\", \"Host\": \"algo-1\", \"Operation\": \"training\", \"epoch\": 4, \"model\": 25}, \"Metrics\": {\"train_binary_classification_cross_entropy_objective\": {\"sum\": 0.5138537522528879, \"count\": 1, \"min\": 0.5138537522528879, \"max\": 0.5138537522528879}}}\u001b[0m\n",
            "\u001b[34m#metrics {\"StartTime\": 1651029809.2484322, \"EndTime\": 1651029809.2484472, \"Dimensions\": {\"Algorithm\": \"Linear Learner\", \"Host\": \"algo-1\", \"Operation\": \"training\", \"epoch\": 4, \"model\": 26}, \"Metrics\": {\"train_binary_classification_cross_entropy_objective\": {\"sum\": 0.5137693742524593, \"count\": 1, \"min\": 0.5137693742524593, \"max\": 0.5137693742524593}}}\u001b[0m\n",
            "\u001b[34m#metrics {\"StartTime\": 1651029809.248489, \"EndTime\": 1651029809.2484984, \"Dimensions\": {\"Algorithm\": \"Linear Learner\", \"Host\": \"algo-1\", \"Operation\": \"training\", \"epoch\": 4, \"model\": 27}, \"Metrics\": {\"train_binary_classification_cross_entropy_objective\": {\"sum\": 0.5138538272169387, \"count\": 1, \"min\": 0.5138538272169387, \"max\": 0.5138538272169387}}}\u001b[0m\n",
            "\u001b[34m#metrics {\"StartTime\": 1651029809.2485242, \"EndTime\": 1651029809.248532, \"Dimensions\": {\"Algorithm\": \"Linear Learner\", \"Host\": \"algo-1\", \"Operation\": \"training\", \"epoch\": 4, \"model\": 28}, \"Metrics\": {\"train_binary_classification_cross_entropy_objective\": {\"sum\": 0.5137744809538581, \"count\": 1, \"min\": 0.5137744809538581, \"max\": 0.5137744809538581}}}\u001b[0m\n",
            "\u001b[34m#metrics {\"StartTime\": 1651029809.2485566, \"EndTime\": 1651029809.2485638, \"Dimensions\": {\"Algorithm\": \"Linear Learner\", \"Host\": \"algo-1\", \"Operation\": \"training\", \"epoch\": 4, \"model\": 29}, \"Metrics\": {\"train_binary_classification_cross_entropy_objective\": {\"sum\": 0.514711857110353, \"count\": 1, \"min\": 0.514711857110353, \"max\": 0.514711857110353}}}\u001b[0m\n",
            "\u001b[34m#metrics {\"StartTime\": 1651029809.24859, \"EndTime\": 1651029809.2485979, \"Dimensions\": {\"Algorithm\": \"Linear Learner\", \"Host\": \"algo-1\", \"Operation\": \"training\", \"epoch\": 4, \"model\": 30}, \"Metrics\": {\"train_binary_classification_cross_entropy_objective\": {\"sum\": 0.5137745041220195, \"count\": 1, \"min\": 0.5137745041220195, \"max\": 0.5137745041220195}}}\u001b[0m\n",
            "\u001b[34m#metrics {\"StartTime\": 1651029809.2486374, \"EndTime\": 1651029809.248647, \"Dimensions\": {\"Algorithm\": \"Linear Learner\", \"Host\": \"algo-1\", \"Operation\": \"training\", \"epoch\": 4, \"model\": 31}, \"Metrics\": {\"train_binary_classification_cross_entropy_objective\": {\"sum\": 0.514711852700703, \"count\": 1, \"min\": 0.514711852700703, \"max\": 0.514711852700703}}}\u001b[0m\n",
            "\u001b[34m[04/27/2022 03:23:29 INFO 139921412462400] #quality_metric: host=algo-1, epoch=4, train binary_classification_cross_entropy_objective <loss>=0.4919713748383595\u001b[0m\n",
            "\u001b[34m[2022-04-27 03:23:34.348] [tensorio] [info] epoch_stats={\"data_pipeline\": \"/opt/ml/input/data/validation\", \"epoch\": 14, \"duration\": 5071, \"num_examples\": 164, \"num_bytes\": 69349016}\u001b[0m\n",
            "\u001b[34m#metrics {\"StartTime\": 1651029814.35734, \"EndTime\": 1651029814.357406, \"Dimensions\": {\"Algorithm\": \"Linear Learner\", \"Host\": \"algo-1\", \"Operation\": \"training\", \"epoch\": 4, \"model\": 0}, \"Metrics\": {\"validation_binary_classification_cross_entropy_objective\": {\"sum\": 0.4918025888151886, \"count\": 1, \"min\": 0.4918025888151886, \"max\": 0.4918025888151886}}}\u001b[0m\n",
            "\u001b[34m#metrics {\"StartTime\": 1651029814.3575304, \"EndTime\": 1651029814.3575494, \"Dimensions\": {\"Algorithm\": \"Linear Learner\", \"Host\": \"algo-1\", \"Operation\": \"training\", \"epoch\": 4, \"model\": 1}, \"Metrics\": {\"validation_binary_classification_cross_entropy_objective\": {\"sum\": 0.49305019425658086, \"count\": 1, \"min\": 0.49305019425658086, \"max\": 0.49305019425658086}}}\u001b[0m\n",
            "\u001b[34m#metrics {\"StartTime\": 1651029814.3576086, \"EndTime\": 1651029814.3576264, \"Dimensions\": {\"Algorithm\": \"Linear Learner\", \"Host\": \"algo-1\", \"Operation\": \"training\", \"epoch\": 4, \"model\": 2}, \"Metrics\": {\"validation_binary_classification_cross_entropy_objective\": {\"sum\": 0.491792839027483, \"count\": 1, \"min\": 0.491792839027483, \"max\": 0.491792839027483}}}\u001b[0m\n",
            "\u001b[34m#metrics {\"StartTime\": 1651029814.3576832, \"EndTime\": 1651029814.3577018, \"Dimensions\": {\"Algorithm\": \"Linear Learner\", \"Host\": \"algo-1\", \"Operation\": \"training\", \"epoch\": 4, \"model\": 3}, \"Metrics\": {\"validation_binary_classification_cross_entropy_objective\": {\"sum\": 0.49305015693967613, \"count\": 1, \"min\": 0.49305015693967613, \"max\": 0.49305015693967613}}}\u001b[0m\n",
            "\u001b[34m#metrics {\"StartTime\": 1651029814.357757, \"EndTime\": 1651029814.3577752, \"Dimensions\": {\"Algorithm\": \"Linear Learner\", \"Host\": \"algo-1\", \"Operation\": \"training\", \"epoch\": 4, \"model\": 4}, \"Metrics\": {\"validation_binary_classification_cross_entropy_objective\": {\"sum\": 0.49176049907831426, \"count\": 1, \"min\": 0.49176049907831426, \"max\": 0.49176049907831426}}}\u001b[0m\n",
            "\u001b[34m#metrics {\"StartTime\": 1651029814.3578296, \"EndTime\": 1651029814.357846, \"Dimensions\": {\"Algorithm\": \"Linear Learner\", \"Host\": \"algo-1\", \"Operation\": \"training\", \"epoch\": 4, \"model\": 5}, \"Metrics\": {\"validation_binary_classification_cross_entropy_objective\": {\"sum\": 0.5065486391283115, \"count\": 1, \"min\": 0.5065486391283115, \"max\": 0.5065486391283115}}}\u001b[0m\n",
            "\u001b[34m#metrics {\"StartTime\": 1651029814.3579078, \"EndTime\": 1651029814.357925, \"Dimensions\": {\"Algorithm\": \"Linear Learner\", \"Host\": \"algo-1\", \"Operation\": \"training\", \"epoch\": 4, \"model\": 6}, \"Metrics\": {\"validation_binary_classification_cross_entropy_objective\": {\"sum\": 0.4917605033697583, \"count\": 1, \"min\": 0.4917605033697583, \"max\": 0.4917605033697583}}}\u001b[0m\n",
            "\u001b[34m#metrics {\"StartTime\": 1651029814.3579879, \"EndTime\": 1651029814.3580058, \"Dimensions\": {\"Algorithm\": \"Linear Learner\", \"Host\": \"algo-1\", \"Operation\": \"training\", \"epoch\": 4, \"model\": 7}, \"Metrics\": {\"validation_binary_classification_cross_entropy_objective\": {\"sum\": 0.5067477985160721, \"count\": 1, \"min\": 0.5067477985160721, \"max\": 0.5067477985160721}}}\u001b[0m\n",
            "\u001b[34m#metrics {\"StartTime\": 1651029814.3580694, \"EndTime\": 1651029814.358087, \"Dimensions\": {\"Algorithm\": \"Linear Learner\", \"Host\": \"algo-1\", \"Operation\": \"training\", \"epoch\": 4, \"model\": 8}, \"Metrics\": {\"validation_binary_classification_cross_entropy_objective\": {\"sum\": 0.492033994113518, \"count\": 1, \"min\": 0.492033994113518, \"max\": 0.492033994113518}}}\u001b[0m\n",
            "\u001b[34m#metrics {\"StartTime\": 1651029814.3581517, \"EndTime\": 1651029814.3581698, \"Dimensions\": {\"Algorithm\": \"Linear Learner\", \"Host\": \"algo-1\", \"Operation\": \"training\", \"epoch\": 4, \"model\": 9}, \"Metrics\": {\"validation_binary_classification_cross_entropy_objective\": {\"sum\": 0.4932269407381759, \"count\": 1, \"min\": 0.4932269407381759, \"max\": 0.4932269407381759}}}\u001b[0m\n",
            "\u001b[34m#metrics {\"StartTime\": 1651029814.3582327, \"EndTime\": 1651029814.3582504, \"Dimensions\": {\"Algorithm\": \"Linear Learner\", \"Host\": \"algo-1\", \"Operation\": \"training\", \"epoch\": 4, \"model\": 10}, \"Metrics\": {\"validation_binary_classification_cross_entropy_objective\": {\"sum\": 0.4920229113659745, \"count\": 1, \"min\": 0.4920229113659745, \"max\": 0.4920229113659745}}}\u001b[0m\n",
            "\u001b[34m#metrics {\"StartTime\": 1651029814.3583033, \"EndTime\": 1651029814.3583202, \"Dimensions\": {\"Algorithm\": \"Linear Learner\", \"Host\": \"algo-1\", \"Operation\": \"training\", \"epoch\": 4, \"model\": 11}, \"Metrics\": {\"validation_binary_classification_cross_entropy_objective\": {\"sum\": 0.4932269302894426, \"count\": 1, \"min\": 0.4932269302894426, \"max\": 0.4932269302894426}}}\u001b[0m\n",
            "\u001b[34m#metrics {\"StartTime\": 1651029814.3583744, \"EndTime\": 1651029814.358391, \"Dimensions\": {\"Algorithm\": \"Linear Learner\", \"Host\": \"algo-1\", \"Operation\": \"training\", \"epoch\": 4, \"model\": 12}, \"Metrics\": {\"validation_binary_classification_cross_entropy_objective\": {\"sum\": 0.4920195910943738, \"count\": 1, \"min\": 0.4920195910943738, \"max\": 0.4920195910943738}}}\u001b[0m\n",
            "\u001b[34m#metrics {\"StartTime\": 1651029814.3584301, \"EndTime\": 1651029814.3584394, \"Dimensions\": {\"Algorithm\": \"Linear Learner\", \"Host\": \"algo-1\", \"Operation\": \"training\", \"epoch\": 4, \"model\": 13}, \"Metrics\": {\"validation_binary_classification_cross_entropy_objective\": {\"sum\": 0.5054455719480193, \"count\": 1, \"min\": 0.5054455719480193, \"max\": 0.5054455719480193}}}\u001b[0m\n",
            "\u001b[34m#metrics {\"StartTime\": 1651029814.3584652, \"EndTime\": 1651029814.3584743, \"Dimensions\": {\"Algorithm\": \"Linear Learner\", \"Host\": \"algo-1\", \"Operation\": \"training\", \"epoch\": 4, \"model\": 14}, \"Metrics\": {\"validation_binary_classification_cross_entropy_objective\": {\"sum\": 0.49201958642976074, \"count\": 1, \"min\": 0.49201958642976074, \"max\": 0.49201958642976074}}}\u001b[0m\n",
            "\u001b[34m#metrics {\"StartTime\": 1651029814.3585336, \"EndTime\": 1651029814.3585517, \"Dimensions\": {\"Algorithm\": \"Linear Learner\", \"Host\": \"algo-1\", \"Operation\": \"training\", \"epoch\": 4, \"model\": 15}, \"Metrics\": {\"validation_binary_classification_cross_entropy_objective\": {\"sum\": 0.5054456034808038, \"count\": 1, \"min\": 0.5054456034808038, \"max\": 0.5054456034808038}}}\u001b[0m\n",
            "\u001b[34m#metrics {\"StartTime\": 1651029814.358614, \"EndTime\": 1651029814.3586302, \"Dimensions\": {\"Algorithm\": \"Linear Learner\", \"Host\": \"algo-1\", \"Operation\": \"training\", \"epoch\": 4, \"model\": 16}, \"Metrics\": {\"validation_binary_classification_cross_entropy_objective\": {\"sum\": 0.5076710508322756, \"count\": 1, \"min\": 0.5076710508322756, \"max\": 0.5076710508322756}}}\u001b[0m\n",
            "\u001b[34m#metrics {\"StartTime\": 1651029814.3586838, \"EndTime\": 1651029814.3587, \"Dimensions\": {\"Algorithm\": \"Linear Learner\", \"Host\": \"algo-1\", \"Operation\": \"training\", \"epoch\": 4, \"model\": 17}, \"Metrics\": {\"validation_binary_classification_cross_entropy_objective\": {\"sum\": 0.5083580210904518, \"count\": 1, \"min\": 0.5083580210904518, \"max\": 0.5083580210904518}}}\u001b[0m\n",
            "\u001b[34m#metrics {\"StartTime\": 1651029814.3587635, \"EndTime\": 1651029814.3587801, \"Dimensions\": {\"Algorithm\": \"Linear Learner\", \"Host\": \"algo-1\", \"Operation\": \"training\", \"epoch\": 4, \"model\": 18}, \"Metrics\": {\"validation_binary_classification_cross_entropy_objective\": {\"sum\": 0.5076649849694076, \"count\": 1, \"min\": 0.5076649849694076, \"max\": 0.5076649849694076}}}\u001b[0m\n",
            "\u001b[34m#metrics {\"StartTime\": 1651029814.3588436, \"EndTime\": 1651029814.358862, \"Dimensions\": {\"Algorithm\": \"Linear Learner\", \"Host\": \"algo-1\", \"Operation\": \"training\", \"epoch\": 4, \"model\": 19}, \"Metrics\": {\"validation_binary_classification_cross_entropy_objective\": {\"sum\": 0.5083580279940791, \"count\": 1, \"min\": 0.5083580279940791, \"max\": 0.5083580279940791}}}\u001b[0m\n",
            "\u001b[34m#metrics {\"StartTime\": 1651029814.3589132, \"EndTime\": 1651029814.3589263, \"Dimensions\": {\"Algorithm\": \"Linear Learner\", \"Host\": \"algo-1\", \"Operation\": \"training\", \"epoch\": 4, \"model\": 20}, \"Metrics\": {\"validation_binary_classification_cross_entropy_objective\": {\"sum\": 0.5076593704545025, \"count\": 1, \"min\": 0.5076593704545025, \"max\": 0.5076593704545025}}}\u001b[0m\n",
            "\u001b[34m#metrics {\"StartTime\": 1651029814.3589616, \"EndTime\": 1651029814.358976, \"Dimensions\": {\"Algorithm\": \"Linear Learner\", \"Host\": \"algo-1\", \"Operation\": \"training\", \"epoch\": 4, \"model\": 21}, \"Metrics\": {\"validation_binary_classification_cross_entropy_objective\": {\"sum\": 0.510772030761656, \"count\": 1, \"min\": 0.510772030761656, \"max\": 0.510772030761656}}}\u001b[0m\n",
            "\u001b[34m#metrics {\"StartTime\": 1651029814.3590121, \"EndTime\": 1651029814.3590205, \"Dimensions\": {\"Algorithm\": \"Linear Learner\", \"Host\": \"algo-1\", \"Operation\": \"training\", \"epoch\": 4, \"model\": 22}, \"Metrics\": {\"validation_binary_classification_cross_entropy_objective\": {\"sum\": 0.5076593732532704, \"count\": 1, \"min\": 0.5076593732532704, \"max\": 0.5076593732532704}}}\u001b[0m\n",
            "\u001b[34m#metrics {\"StartTime\": 1651029814.3590462, \"EndTime\": 1651029814.3590536, \"Dimensions\": {\"Algorithm\": \"Linear Learner\", \"Host\": \"algo-1\", \"Operation\": \"training\", \"epoch\": 4, \"model\": 23}, \"Metrics\": {\"validation_binary_classification_cross_entropy_objective\": {\"sum\": 0.510772031134825, \"count\": 1, \"min\": 0.510772031134825, \"max\": 0.510772031134825}}}\u001b[0m\n",
            "\u001b[34m#metrics {\"StartTime\": 1651029814.3590777, \"EndTime\": 1651029814.3590848, \"Dimensions\": {\"Algorithm\": \"Linear Learner\", \"Host\": \"algo-1\", \"Operation\": \"training\", \"epoch\": 4, \"model\": 24}, \"Metrics\": {\"validation_binary_classification_cross_entropy_objective\": {\"sum\": 0.5137590443041579, \"count\": 1, \"min\": 0.5137590443041579, \"max\": 0.5137590443041579}}}\u001b[0m\n",
            "\u001b[34m#metrics {\"StartTime\": 1651029814.3591092, \"EndTime\": 1651029814.3591163, \"Dimensions\": {\"Algorithm\": \"Linear Learner\", \"Host\": \"algo-1\", \"Operation\": \"training\", \"epoch\": 4, \"model\": 25}, \"Metrics\": {\"validation_binary_classification_cross_entropy_objective\": {\"sum\": 0.5142529773859676, \"count\": 1, \"min\": 0.5142529773859676, \"max\": 0.5142529773859676}}}\u001b[0m\n",
            "\u001b[34m#metrics {\"StartTime\": 1651029814.3591442, \"EndTime\": 1651029814.359157, \"Dimensions\": {\"Algorithm\": \"Linear Learner\", \"Host\": \"algo-1\", \"Operation\": \"training\", \"epoch\": 4, \"model\": 26}, \"Metrics\": {\"validation_binary_classification_cross_entropy_objective\": {\"sum\": 0.5137554471411239, \"count\": 1, \"min\": 0.5137554471411239, \"max\": 0.5137554471411239}}}\u001b[0m\n",
            "\u001b[34m#metrics {\"StartTime\": 1651029814.3593373, \"EndTime\": 1651029814.3593562, \"Dimensions\": {\"Algorithm\": \"Linear Learner\", \"Host\": \"algo-1\", \"Operation\": \"training\", \"epoch\": 4, \"model\": 27}, \"Metrics\": {\"validation_binary_classification_cross_entropy_objective\": {\"sum\": 0.5142451876686843, \"count\": 1, \"min\": 0.5142451876686843, \"max\": 0.5142451876686843}}}\u001b[0m\n",
            "\u001b[34m#metrics {\"StartTime\": 1651029814.3594122, \"EndTime\": 1651029814.359429, \"Dimensions\": {\"Algorithm\": \"Linear Learner\", \"Host\": \"algo-1\", \"Operation\": \"training\", \"epoch\": 4, \"model\": 28}, \"Metrics\": {\"validation_binary_classification_cross_entropy_objective\": {\"sum\": 0.5137561259356214, \"count\": 1, \"min\": 0.5137561259356214, \"max\": 0.5137561259356214}}}\u001b[0m\n",
            "\u001b[34m#metrics {\"StartTime\": 1651029814.35948, \"EndTime\": 1651029814.3594942, \"Dimensions\": {\"Algorithm\": \"Linear Learner\", \"Host\": \"algo-1\", \"Operation\": \"training\", \"epoch\": 4, \"model\": 29}, \"Metrics\": {\"validation_binary_classification_cross_entropy_objective\": {\"sum\": 0.5138897751239137, \"count\": 1, \"min\": 0.5138897751239137, \"max\": 0.5138897751239137}}}\u001b[0m\n",
            "\u001b[34m#metrics {\"StartTime\": 1651029814.3595483, \"EndTime\": 1651029814.3595638, \"Dimensions\": {\"Algorithm\": \"Linear Learner\", \"Host\": \"algo-1\", \"Operation\": \"training\", \"epoch\": 4, \"model\": 30}, \"Metrics\": {\"validation_binary_classification_cross_entropy_objective\": {\"sum\": 0.5137529674328029, \"count\": 1, \"min\": 0.5137529674328029, \"max\": 0.5137529674328029}}}\u001b[0m\n",
            "\u001b[34m#metrics {\"StartTime\": 1651029814.359617, \"EndTime\": 1651029814.3596334, \"Dimensions\": {\"Algorithm\": \"Linear Learner\", \"Host\": \"algo-1\", \"Operation\": \"training\", \"epoch\": 4, \"model\": 31}, \"Metrics\": {\"validation_binary_classification_cross_entropy_objective\": {\"sum\": 0.513889777362928, \"count\": 1, \"min\": 0.513889777362928, \"max\": 0.513889777362928}}}\u001b[0m\n",
            "\u001b[34m[04/27/2022 03:23:34 INFO 139921412462400] #quality_metric: host=algo-1, epoch=4, validation binary_classification_cross_entropy_objective <loss>=0.4918025888151886\u001b[0m\n",
            "\u001b[34m[04/27/2022 03:23:34 INFO 139921412462400] #early_stopping_criteria_metric: host=algo-1, epoch=4, criteria=binary_classification_cross_entropy_objective, value=0.49176049907831426\u001b[0m\n",
            "\u001b[34m[04/27/2022 03:23:34 INFO 139921412462400] Saving model for epoch: 4\u001b[0m\n",
            "\u001b[34m[04/27/2022 03:23:34 INFO 139921412462400] Saved checkpoint to \"/tmp/tmp8o8hmdm5/mx-mod-0000.params\"\u001b[0m\n",
            "\u001b[34m[04/27/2022 03:23:34 INFO 139921412462400] Early stop condition met. Stopping training.\u001b[0m\n",
            "\u001b[34m[04/27/2022 03:23:34 INFO 139921412462400] #progress_metric: host=algo-1, completed 100 % epochs\u001b[0m\n",
            "\u001b[34m#metrics {\"StartTime\": 1651029751.8145928, \"EndTime\": 1651029814.3661873, \"Dimensions\": {\"Algorithm\": \"Linear Learner\", \"Host\": \"algo-1\", \"Operation\": \"training\", \"epoch\": 4, \"Meta\": \"training_data_iter\"}, \"Metrics\": {\"Total Records Seen\": {\"sum\": 6554360.0, \"count\": 1, \"min\": 6554360, \"max\": 6554360}, \"Total Batches Seen\": {\"sum\": 6557.0, \"count\": 1, \"min\": 6557, \"max\": 6557}, \"Max Records Seen Between Resets\": {\"sum\": 1308472.0, \"count\": 1, \"min\": 1308472, \"max\": 1308472}, \"Max Batches Seen Between Resets\": {\"sum\": 1309.0, \"count\": 1, \"min\": 1309, \"max\": 1309}, \"Reset Count\": {\"sum\": 7.0, \"count\": 1, \"min\": 7, \"max\": 7}, \"Number of Records Since Last Reset\": {\"sum\": 1308472.0, \"count\": 1, \"min\": 1308472, \"max\": 1308472}, \"Number of Batches Since Last Reset\": {\"sum\": 1309.0, \"count\": 1, \"min\": 1309, \"max\": 1309}}}\u001b[0m\n",
            "\u001b[34m[04/27/2022 03:23:34 INFO 139921412462400] #throughput_metric: host=algo-1, train throughput=20918.245436336634 records/second\u001b[0m\n",
            "\u001b[34m[04/27/2022 03:23:34 WARNING 139921412462400] wait_for_all_workers will not sync workers since the kv store is not running distributed\u001b[0m\n",
            "\u001b[34m[04/27/2022 03:23:34 WARNING 139921412462400] wait_for_all_workers will not sync workers since the kv store is not running distributed\u001b[0m\n",
            "\u001b[34m[2022-04-27 03:23:39.465] [tensorio] [info] epoch_stats={\"data_pipeline\": \"/opt/ml/input/data/validation\", \"epoch\": 17, \"duration\": 5075, \"num_examples\": 164, \"num_bytes\": 69349016}\u001b[0m\n",
            "\u001b[34m[04/27/2022 03:23:39 INFO 139921412462400] #early_stopping_criteria_metric: host=algo-1, epoch=4, criteria=binary_classification_cross_entropy_objective, value=0.49176049907831426\u001b[0m\n",
            "\u001b[34m[2022-04-27 03:23:40.328] [tensorio] [info] epoch_stats={\"data_pipeline\": \"/opt/ml/input/data/validation\", \"epoch\": 19, \"duration\": 850, \"num_examples\": 164, \"num_bytes\": 69349016}\u001b[0m\n",
            "\u001b[34m[04/27/2022 03:23:40 INFO 139921412462400] #validation_score (algo-1) : ('binary_classification_cross_entropy_objective', 0.49216502794654043)\u001b[0m\n",
            "\u001b[34m[04/27/2022 03:23:40 INFO 139921412462400] #validation_score (algo-1) : ('binary_classification_accuracy', 0.7901980325142609)\u001b[0m\n",
            "\u001b[34m[04/27/2022 03:23:40 INFO 139921412462400] #validation_score (algo-1) : ('binary_f_1.000', 0.00797895406319563)\u001b[0m\n",
            "\u001b[34m[04/27/2022 03:23:40 INFO 139921412462400] #validation_score (algo-1) : ('precision', 0.5348837209302325)\u001b[0m\n",
            "\u001b[34m[04/27/2022 03:23:40 INFO 139921412462400] #validation_score (algo-1) : ('recall', 0.004019456499577666)\u001b[0m\n",
            "\u001b[34m[04/27/2022 03:23:40 INFO 139921412462400] #validation_score (algo-1) : ('roc_auc_score', 0.6443815657232863)\u001b[0m\n",
            "\u001b[34m[04/27/2022 03:23:40 INFO 139921412462400] #validation_score (algo-1) : ('binary_balanced_accuracy', 0.5)\u001b[0m\n",
            "\u001b[34m[04/27/2022 03:23:40 INFO 139921412462400] #validation_score (algo-1) : ('binary_log_loss', 0.7531148226142756)\u001b[0m\n",
            "\u001b[34m[04/27/2022 03:23:40 INFO 139921412462400] #quality_metric: host=algo-1, validation binary_classification_cross_entropy_objective <loss>=0.49216502794654043\u001b[0m\n",
            "\u001b[34m[04/27/2022 03:23:40 INFO 139921412462400] #quality_metric: host=algo-1, validation binary_classification_accuracy <score>=0.7901980325142609\u001b[0m\n",
            "\u001b[34m[04/27/2022 03:23:40 INFO 139921412462400] #quality_metric: host=algo-1, validation binary_f_1.000 <score>=0.00797895406319563\u001b[0m\n",
            "\u001b[34m[04/27/2022 03:23:40 INFO 139921412462400] #quality_metric: host=algo-1, validation precision <score>=0.5348837209302325\u001b[0m\n",
            "\u001b[34m[04/27/2022 03:23:40 INFO 139921412462400] #quality_metric: host=algo-1, validation recall <score>=0.004019456499577666\u001b[0m\n",
            "\u001b[34m[04/27/2022 03:23:40 INFO 139921412462400] #quality_metric: host=algo-1, validation roc_auc_score <score>=0.6443815657232863\u001b[0m\n",
            "\u001b[34m[04/27/2022 03:23:40 INFO 139921412462400] #quality_metric: host=algo-1, validation binary_balanced_accuracy <score>=0.5\u001b[0m\n",
            "\u001b[34m[04/27/2022 03:23:40 INFO 139921412462400] #quality_metric: host=algo-1, validation binary_log_loss <score>=0.7531148226142756\u001b[0m\n",
            "\u001b[34m[04/27/2022 03:23:40 INFO 139921412462400] Best model found for hyperparameters: {\"optimizer\": \"adam\", \"learning_rate\": 0.005, \"l1\": 0.0, \"wd\": 0.0001, \"lr_scheduler_step\": 10, \"lr_scheduler_factor\": 0.99, \"lr_scheduler_minimum_lr\": 1e-05}\u001b[0m\n",
            "\u001b[34m[04/27/2022 03:23:40 INFO 139921412462400] Saved checkpoint to \"/tmp/tmp82xx61p1/mx-mod-0000.params\"\u001b[0m\n",
            "\u001b[34m[2022-04-27 03:23:40.666] [tensorio] [info] epoch_stats={\"data_pipeline\": \"/opt/ml/input/data/test\", \"epoch\": 0, \"duration\": 321902, \"num_examples\": 1, \"num_bytes\": 424000}\u001b[0m\n",
            "\u001b[34m[2022-04-27 03:23:41.554] [tensorio] [info] epoch_stats={\"data_pipeline\": \"/opt/ml/input/data/test\", \"epoch\": 1, \"duration\": 888, \"num_examples\": 164, \"num_bytes\": 69349016}\u001b[0m\n",
            "\u001b[34m#metrics {\"StartTime\": 1651029820.6625705, \"EndTime\": 1651029821.8330274, \"Dimensions\": {\"Algorithm\": \"Linear Learner\", \"Host\": \"algo-1\", \"Operation\": \"training\", \"Meta\": \"test_data_iter\"}, \"Metrics\": {\"Total Records Seen\": {\"sum\": 163559.0, \"count\": 1, \"min\": 163559, \"max\": 163559}, \"Total Batches Seen\": {\"sum\": 164.0, \"count\": 1, \"min\": 164, \"max\": 164}, \"Max Records Seen Between Resets\": {\"sum\": 163559.0, \"count\": 1, \"min\": 163559, \"max\": 163559}, \"Max Batches Seen Between Resets\": {\"sum\": 164.0, \"count\": 1, \"min\": 164, \"max\": 164}, \"Reset Count\": {\"sum\": 1.0, \"count\": 1, \"min\": 1, \"max\": 1}, \"Number of Records Since Last Reset\": {\"sum\": 163559.0, \"count\": 1, \"min\": 163559, \"max\": 163559}, \"Number of Batches Since Last Reset\": {\"sum\": 164.0, \"count\": 1, \"min\": 164, \"max\": 164}}}\u001b[0m\n",
            "\u001b[34m[04/27/2022 03:23:41 INFO 139921412462400] #test_score (algo-1) : ('binary_classification_cross_entropy_objective', 0.49254833618370797)\u001b[0m\n",
            "\u001b[34m[04/27/2022 03:23:41 INFO 139921412462400] #test_score (algo-1) : ('binary_classification_accuracy', 0.7901613485042095)\u001b[0m\n",
            "\u001b[34m[04/27/2022 03:23:41 INFO 139921412462400] #test_score (algo-1) : ('binary_f_1.000', 0.006714322924203398)\u001b[0m\n",
            "\u001b[34m[04/27/2022 03:23:41 INFO 139921412462400] #test_score (algo-1) : ('precision', 0.5272727272727272)\u001b[0m\n",
            "\u001b[34m[04/27/2022 03:23:41 INFO 139921412462400] #test_score (algo-1) : ('recall', 0.0033786735793551394)\u001b[0m\n",
            "\u001b[34m[04/27/2022 03:23:41 INFO 139921412462400] #test_score (algo-1) : ('roc_auc_score', 0.6427996533151298)\u001b[0m\n",
            "\u001b[34m[04/27/2022 03:23:41 INFO 139921412462400] #test_score (algo-1) : ('binary_balanced_accuracy', 0.5)\u001b[0m\n",
            "\u001b[34m[04/27/2022 03:23:41 INFO 139921412462400] #test_score (algo-1) : ('binary_log_loss', 0.7531545053274808)\u001b[0m\n",
            "\u001b[34m[04/27/2022 03:23:41 INFO 139921412462400] #quality_metric: host=algo-1, test binary_classification_cross_entropy_objective <loss>=0.49254833618370797\u001b[0m\n",
            "\u001b[34m[04/27/2022 03:23:41 INFO 139921412462400] #quality_metric: host=algo-1, test binary_classification_accuracy <score>=0.7901613485042095\u001b[0m\n",
            "\u001b[34m[04/27/2022 03:23:41 INFO 139921412462400] #quality_metric: host=algo-1, test binary_f_1.000 <score>=0.006714322924203398\u001b[0m\n",
            "\u001b[34m[04/27/2022 03:23:41 INFO 139921412462400] #quality_metric: host=algo-1, test precision <score>=0.5272727272727272\u001b[0m\n",
            "\u001b[34m[04/27/2022 03:23:41 INFO 139921412462400] #quality_metric: host=algo-1, test recall <score>=0.0033786735793551394\u001b[0m\n",
            "\u001b[34m[04/27/2022 03:23:41 INFO 139921412462400] #quality_metric: host=algo-1, test roc_auc_score <score>=0.6427996533151298\u001b[0m\n",
            "\u001b[34m[04/27/2022 03:23:41 INFO 139921412462400] #quality_metric: host=algo-1, test binary_balanced_accuracy <score>=0.5\u001b[0m\n",
            "\u001b[34m[04/27/2022 03:23:41 INFO 139921412462400] #quality_metric: host=algo-1, test binary_log_loss <score>=0.7531545053274808\u001b[0m\n",
            "\u001b[34m#metrics {\"StartTime\": 1651029498.7341447, \"EndTime\": 1651029821.8432405, \"Dimensions\": {\"Algorithm\": \"Linear Learner\", \"Host\": \"algo-1\", \"Operation\": \"training\"}, \"Metrics\": {\"initialize.time\": {\"sum\": 448.5516548156738, \"count\": 1, \"min\": 448.5516548156738, \"max\": 448.5516548156738}, \"epochs\": {\"sum\": 15.0, \"count\": 1, \"min\": 15, \"max\": 15}, \"check_early_stopping.time\": {\"sum\": 2.239227294921875, \"count\": 6, \"min\": 0.21696090698242188, \"max\": 0.8804798126220703}, \"update.time\": {\"sum\": 315076.4534473419, \"count\": 5, \"min\": 62548.78115653992, \"max\": 63575.780391693115}, \"finalize.time\": {\"sum\": 6292.746543884277, \"count\": 1, \"min\": 6292.746543884277, \"max\": 6292.746543884277}, \"setuptime\": {\"sum\": 32.685279846191406, \"count\": 1, \"min\": 32.685279846191406, \"max\": 32.685279846191406}, \"totaltime\": {\"sum\": 323359.77697372437, \"count\": 1, \"min\": 323359.77697372437, \"max\": 323359.77697372437}}}\u001b[0m\n",
            "\u001b[34m[04/27/2022 03:23:41 INFO 139921412462400 integration.py:636] worker closed\u001b[0m\n",
            "\n",
            "2022-04-27 03:24:24 Uploading - Uploading generated training model\n",
            "2022-04-27 03:24:24 Completed - Training job completed\n",
            "Training seconds: 449\n",
            "Billable seconds: 449\n"
          ]
        }
      ],
      "source": [
        "# Fit the classifier\n",
        "classifier_estimator.fit([train_records,val_records,test_records])"
      ]
    },
    {
      "cell_type": "markdown",
      "metadata": {
        "id": "Dv88QeLYpFDw"
      },
      "source": [
        "## Model evaluation\n",
        "In this section, you will evaluate your trained model. "
      ]
    },
    {
      "cell_type": "markdown",
      "metadata": {
        "id": "ht0f_0fIpFDw"
      },
      "source": [
        "First, examine the metrics for the training job:"
      ]
    },
    {
      "cell_type": "code",
      "execution_count": null,
      "metadata": {
        "id": "9SXuEb5ypFDw",
        "outputId": "ed51ceec-e00a-40c9-e9d4-1ae0bceb17f6"
      },
      "outputs": [
        {
          "data": {
            "text/html": [
              "<div>\n",
              "<style scoped>\n",
              "    .dataframe tbody tr th:only-of-type {\n",
              "        vertical-align: middle;\n",
              "    }\n",
              "\n",
              "    .dataframe tbody tr th {\n",
              "        vertical-align: top;\n",
              "    }\n",
              "\n",
              "    .dataframe thead th {\n",
              "        text-align: right;\n",
              "    }\n",
              "</style>\n",
              "<table border=\"1\" class=\"dataframe\">\n",
              "  <thead>\n",
              "    <tr style=\"text-align: right;\">\n",
              "      <th></th>\n",
              "      <th>timestamp</th>\n",
              "      <th>metric_name</th>\n",
              "      <th>value</th>\n",
              "    </tr>\n",
              "  </thead>\n",
              "  <tbody>\n",
              "    <tr>\n",
              "      <th>0</th>\n",
              "      <td>0.0</td>\n",
              "      <td>test:objective_loss</td>\n",
              "      <td>0.492548</td>\n",
              "    </tr>\n",
              "    <tr>\n",
              "      <th>1</th>\n",
              "      <td>0.0</td>\n",
              "      <td>test:binary_f_beta</td>\n",
              "      <td>0.006714</td>\n",
              "    </tr>\n",
              "    <tr>\n",
              "      <th>2</th>\n",
              "      <td>0.0</td>\n",
              "      <td>test:precision</td>\n",
              "      <td>0.527273</td>\n",
              "    </tr>\n",
              "    <tr>\n",
              "      <th>3</th>\n",
              "      <td>0.0</td>\n",
              "      <td>test:recall</td>\n",
              "      <td>0.003379</td>\n",
              "    </tr>\n",
              "  </tbody>\n",
              "</table>\n",
              "</div>"
            ],
            "text/plain": [
              "   timestamp          metric_name     value\n",
              "0        0.0  test:objective_loss  0.492548\n",
              "1        0.0   test:binary_f_beta  0.006714\n",
              "2        0.0       test:precision  0.527273\n",
              "3        0.0          test:recall  0.003379"
            ]
          },
          "execution_count": 49,
          "metadata": {},
          "output_type": "execute_result"
        }
      ],
      "source": [
        "sagemaker.analytics.TrainingJobAnalytics(classifier_estimator._current_job_name, \n",
        "                                         metric_names = ['test:objective_loss', \n",
        "                                                         'test:binary_f_beta',\n",
        "                                                         'test:precision',\n",
        "                                                         'test:recall']\n",
        "                                        ).dataframe()"
      ]
    },
    {
      "cell_type": "markdown",
      "metadata": {
        "id": "tt4uQlLspFDw"
      },
      "source": [
        "Next, set up some functions that will help load the test data into Amazon S3 and perform a prediction by using the batch prediction function. Using batch prediction will help reduce costs because the instances will only run when predictions are performed on the supplied test data.\n",
        "\n",
        "**Note:** Replace `<LabBucketName>` with the name of the lab bucket that was created during the lab setup."
      ]
    },
    {
      "cell_type": "code",
      "execution_count": null,
      "metadata": {
        "id": "OT1f4NuUpFDx"
      },
      "outputs": [],
      "source": [
        "import io\n",
        "bucket='sagemaker-us-east-1-972009766443'\n",
        "prefix='flight-linear'\n",
        "train_file='flight_train.csv'\n",
        "test_file='flight_test.csv'\n",
        "validate_file='flight_validate.csv'\n",
        "whole_file='flight.csv'\n",
        "s3_resource = boto3.Session().resource('s3')\n",
        "\n",
        "def upload_s3_csv(filename, folder, dataframe):\n",
        "    csv_buffer = io.StringIO()\n",
        "    dataframe.to_csv(csv_buffer, header=False, index=False )\n",
        "    s3_resource.Bucket(bucket).Object(os.path.join(prefix, folder, filename)).put(Body=csv_buffer.getvalue())"
      ]
    },
    {
      "cell_type": "code",
      "execution_count": null,
      "metadata": {
        "id": "8xx9wKlfpFDx"
      },
      "outputs": [],
      "source": [
        "def batch_linear_predict(test_data, estimator):\n",
        "    batch_X = test_data.iloc[:,1:];\n",
        "    batch_X_file='batch-in.csv'\n",
        "    upload_s3_csv(batch_X_file, 'batch-in', batch_X)\n",
        "\n",
        "    batch_output = \"s3://{}/{}/batch-out/\".format(bucket,prefix)\n",
        "    batch_input = \"s3://{}/{}/batch-in/{}\".format(bucket,prefix,batch_X_file)\n",
        "\n",
        "    classifier_transformer = estimator.transformer(instance_count=1,\n",
        "                                           instance_type='ml.m4.xlarge',\n",
        "                                           strategy='MultiRecord',\n",
        "                                           assemble_with='Line',\n",
        "                                           output_path=batch_output)\n",
        "\n",
        "    classifier_transformer.transform(data=batch_input,\n",
        "                             data_type='S3Prefix',\n",
        "                             content_type='text/csv',\n",
        "                             split_type='Line')\n",
        "    \n",
        "    classifier_transformer.wait()\n",
        "\n",
        "    s3 = boto3.client('s3')\n",
        "    obj = s3.get_object(Bucket=bucket, Key=\"{}/batch-out/{}\".format(prefix,'batch-in.csv.out'))\n",
        "    target_predicted_df = pd.read_json(io.BytesIO(obj['Body'].read()),orient=\"records\",lines=True)\n",
        "    return test_data.iloc[:,0], target_predicted_df.iloc[:,0]"
      ]
    },
    {
      "cell_type": "markdown",
      "metadata": {
        "id": "hSksewoGpFDx"
      },
      "source": [
        "\n",
        "To run the predictions on the test dataset, run the `batch_linear_predict` function (which was defined previously) on your test dataset.\n"
      ]
    },
    {
      "cell_type": "code",
      "execution_count": null,
      "metadata": {
        "id": "ZjH68a6_pFDx",
        "outputId": "725118d8-231e-41c7-8d10-eda050fe9173"
      },
      "outputs": [
        {
          "name": "stderr",
          "output_type": "stream",
          "text": [
            "Defaulting to the only supported framework/algorithm version: 1. Ignoring framework/algorithm version: 1.\n"
          ]
        },
        {
          "name": "stdout",
          "output_type": "stream",
          "text": [
            "..................................\u001b[34mDocker entrypoint called with argument(s): serve\u001b[0m\n",
            "\u001b[34mRunning default environment configuration script\u001b[0m\n",
            "\u001b[34m[04/27/2022 03:30:37 INFO 139829279799104] loaded entry point class algorithm.serve.server_config:config_api\u001b[0m\n",
            "\u001b[34m[04/27/2022 03:30:37 INFO 139829279799104] loading entry points\u001b[0m\n",
            "\u001b[34m[04/27/2022 03:30:37 INFO 139829279799104] loaded request iterator application/json\u001b[0m\n",
            "\u001b[34m[04/27/2022 03:30:37 INFO 139829279799104] loaded request iterator application/jsonlines\u001b[0m\n",
            "\u001b[34m[04/27/2022 03:30:37 INFO 139829279799104] loaded request iterator application/x-recordio-protobuf\u001b[0m\n",
            "\u001b[34m[04/27/2022 03:30:37 INFO 139829279799104] loaded request iterator text/csv\u001b[0m\n",
            "\u001b[34m[04/27/2022 03:30:37 INFO 139829279799104] loaded response encoder application/json\u001b[0m\n",
            "\u001b[34m[04/27/2022 03:30:37 INFO 139829279799104] loaded response encoder application/jsonlines\u001b[0m\n",
            "\u001b[34m[04/27/2022 03:30:37 INFO 139829279799104] loaded response encoder application/x-recordio-protobuf\u001b[0m\n",
            "\u001b[34m[04/27/2022 03:30:37 INFO 139829279799104] loaded response encoder text/csv\u001b[0m\n",
            "\u001b[34m[04/27/2022 03:30:37 INFO 139829279799104] loaded entry point class algorithm:model\u001b[0m\n",
            "\u001b[34m[04/27/2022 03:30:37 INFO 139829279799104] Number of server workers: 4\u001b[0m\n",
            "\u001b[34m[04/27/2022 03:30:37 INFO 139829279799104] loading model...\u001b[0m\n",
            "\u001b[34m[04/27/2022 03:30:37 INFO 139829279799104] ...model loaded.\u001b[0m\n",
            "\u001b[34m[2022-04-27 03:30:37 +0000] [1] [INFO] Starting gunicorn 20.1.0\u001b[0m\n",
            "\u001b[34m[2022-04-27 03:30:37 +0000] [1] [INFO] Listening at: http://0.0.0.0:8080 (1)\u001b[0m\n",
            "\u001b[34m[2022-04-27 03:30:37 +0000] [1] [INFO] Using worker: sync\u001b[0m\n",
            "\u001b[34m[2022-04-27 03:30:37 +0000] [60] [INFO] Booting worker with pid: 60\u001b[0m\n",
            "\u001b[34m[2022-04-27 03:30:37 +0000] [69] [INFO] Booting worker with pid: 69\u001b[0m\n",
            "\u001b[34m[2022-04-27 03:30:37 +0000] [78] [INFO] Booting worker with pid: 78\u001b[0m\n",
            "\u001b[34m[2022-04-27 03:30:37 +0000] [87] [INFO] Booting worker with pid: 87\u001b[0m\n",
            "\u001b[34m#metrics {\"StartTime\": 1651030237.7848575, \"EndTime\": 1651030239.0208995, \"Dimensions\": {\"Algorithm\": \"LinearLearnerModel\", \"Host\": \"UNKNOWN\", \"Operation\": \"scoring\"}, \"Metrics\": {\"execution_parameters.count\": {\"sum\": 1.0, \"count\": 1, \"min\": 1, \"max\": 1}}}\u001b[0m\n",
            "\u001b[34m#metrics {\"StartTime\": 1651030237.7848575, \"EndTime\": 1651030242.0160391, \"Dimensions\": {\"Algorithm\": \"LinearLearnerModel\", \"Host\": \"UNKNOWN\", \"Operation\": \"scoring\"}, \"Metrics\": {\"json.encoder.time\": {\"sum\": 144.93870735168457, \"count\": 1, \"min\": 144.93870735168457, \"max\": 144.93870735168457}, \"invocations.count\": {\"sum\": 1.0, \"count\": 1, \"min\": 1, \"max\": 1}}}\u001b[0m\n",
            "\u001b[34m#metrics {\"StartTime\": 1651030237.7848575, \"EndTime\": 1651030242.1381204, \"Dimensions\": {\"Algorithm\": \"LinearLearnerModel\", \"Host\": \"UNKNOWN\", \"Operation\": \"scoring\"}, \"Metrics\": {\"json.encoder.time\": {\"sum\": 159.86013412475586, \"count\": 1, \"min\": 159.86013412475586, \"max\": 159.86013412475586}, \"invocations.count\": {\"sum\": 1.0, \"count\": 1, \"min\": 1, \"max\": 1}}}\u001b[0m\n",
            "\u001b[34m#metrics {\"StartTime\": 1651030239.0210884, \"EndTime\": 1651030242.1906407, \"Dimensions\": {\"Algorithm\": \"LinearLearnerModel\", \"Host\": \"UNKNOWN\", \"Operation\": \"scoring\"}, \"Metrics\": {\"json.encoder.time\": {\"sum\": 145.2641487121582, \"count\": 1, \"min\": 145.2641487121582, \"max\": 145.2641487121582}, \"invocations.count\": {\"sum\": 1.0, \"count\": 1, \"min\": 1, \"max\": 1}}}\u001b[0m\n",
            "\u001b[34m#metrics {\"StartTime\": 1651030237.7848575, \"EndTime\": 1651030242.2540293, \"Dimensions\": {\"Algorithm\": \"LinearLearnerModel\", \"Host\": \"UNKNOWN\", \"Operation\": \"scoring\"}, \"Metrics\": {\"json.encoder.time\": {\"sum\": 146.1350917816162, \"count\": 1, \"min\": 146.1350917816162, \"max\": 146.1350917816162}, \"invocations.count\": {\"sum\": 1.0, \"count\": 1, \"min\": 1, \"max\": 1}}}\u001b[0m\n",
            "\u001b[35m#metrics {\"StartTime\": 1651030239.0210884, \"EndTime\": 1651030242.1906407, \"Dimensions\": {\"Algorithm\": \"LinearLearnerModel\", \"Host\": \"UNKNOWN\", \"Operation\": \"scoring\"}, \"Metrics\": {\"json.encoder.time\": {\"sum\": 145.2641487121582, \"count\": 1, \"min\": 145.2641487121582, \"max\": 145.2641487121582}, \"invocations.count\": {\"sum\": 1.0, \"count\": 1, \"min\": 1, \"max\": 1}}}\u001b[0m\n",
            "\u001b[35m#metrics {\"StartTime\": 1651030237.7848575, \"EndTime\": 1651030242.2540293, \"Dimensions\": {\"Algorithm\": \"LinearLearnerModel\", \"Host\": \"UNKNOWN\", \"Operation\": \"scoring\"}, \"Metrics\": {\"json.encoder.time\": {\"sum\": 146.1350917816162, \"count\": 1, \"min\": 146.1350917816162, \"max\": 146.1350917816162}, \"invocations.count\": {\"sum\": 1.0, \"count\": 1, \"min\": 1, \"max\": 1}}}\u001b[0m\n",
            "\u001b[34m#metrics {\"StartTime\": 1651030242.016204, \"EndTime\": 1651030242.2954447, \"Dimensions\": {\"Algorithm\": \"LinearLearnerModel\", \"Host\": \"UNKNOWN\", \"Operation\": \"scoring\"}, \"Metrics\": {\"json.encoder.time\": {\"sum\": 7.884502410888672, \"count\": 1, \"min\": 7.884502410888672, \"max\": 7.884502410888672}, \"invocations.count\": {\"sum\": 1.0, \"count\": 1, \"min\": 1, \"max\": 1}}}\u001b[0m\n",
            "\u001b[34m#metrics {\"StartTime\": 1651030242.1382957, \"EndTime\": 1651030243.040367, \"Dimensions\": {\"Algorithm\": \"LinearLearnerModel\", \"Host\": \"UNKNOWN\", \"Operation\": \"scoring\"}, \"Metrics\": {\"json.encoder.time\": {\"sum\": 69.22173500061035, \"count\": 1, \"min\": 69.22173500061035, \"max\": 69.22173500061035}, \"invocations.count\": {\"sum\": 1.0, \"count\": 1, \"min\": 1, \"max\": 1}}}\u001b[0m\n",
            "\u001b[35m#metrics {\"StartTime\": 1651030242.016204, \"EndTime\": 1651030242.2954447, \"Dimensions\": {\"Algorithm\": \"LinearLearnerModel\", \"Host\": \"UNKNOWN\", \"Operation\": \"scoring\"}, \"Metrics\": {\"json.encoder.time\": {\"sum\": 7.884502410888672, \"count\": 1, \"min\": 7.884502410888672, \"max\": 7.884502410888672}, \"invocations.count\": {\"sum\": 1.0, \"count\": 1, \"min\": 1, \"max\": 1}}}\u001b[0m\n",
            "\u001b[35m#metrics {\"StartTime\": 1651030242.1382957, \"EndTime\": 1651030243.040367, \"Dimensions\": {\"Algorithm\": \"LinearLearnerModel\", \"Host\": \"UNKNOWN\", \"Operation\": \"scoring\"}, \"Metrics\": {\"json.encoder.time\": {\"sum\": 69.22173500061035, \"count\": 1, \"min\": 69.22173500061035, \"max\": 69.22173500061035}, \"invocations.count\": {\"sum\": 1.0, \"count\": 1, \"min\": 1, \"max\": 1}}}\u001b[0m\n",
            "\u001b[32m2022-04-27T03:30:39.030:[sagemaker logs]: MaxConcurrentTransforms=4, MaxPayloadInMB=6, BatchStrategy=MULTI_RECORD\u001b[0m\n",
            "\n",
            "\u001b[34mDocker entrypoint called with argument(s): serve\u001b[0m\n",
            "\u001b[34mRunning default environment configuration script\u001b[0m\n",
            "\u001b[35mDocker entrypoint called with argument(s): serve\u001b[0m\n",
            "\u001b[35mRunning default environment configuration script\u001b[0m\n",
            "\u001b[34m[04/27/2022 03:30:37 INFO 139829279799104] loaded entry point class algorithm.serve.server_config:config_api\u001b[0m\n",
            "\u001b[35m[04/27/2022 03:30:37 INFO 139829279799104] loaded entry point class algorithm.serve.server_config:config_api\u001b[0m\n",
            "\u001b[34m[04/27/2022 03:30:37 INFO 139829279799104] loading entry points\u001b[0m\n",
            "\u001b[34m[04/27/2022 03:30:37 INFO 139829279799104] loaded request iterator application/json\u001b[0m\n",
            "\u001b[34m[04/27/2022 03:30:37 INFO 139829279799104] loaded request iterator application/jsonlines\u001b[0m\n",
            "\u001b[34m[04/27/2022 03:30:37 INFO 139829279799104] loaded request iterator application/x-recordio-protobuf\u001b[0m\n",
            "\u001b[34m[04/27/2022 03:30:37 INFO 139829279799104] loaded request iterator text/csv\u001b[0m\n",
            "\u001b[34m[04/27/2022 03:30:37 INFO 139829279799104] loaded response encoder application/json\u001b[0m\n",
            "\u001b[34m[04/27/2022 03:30:37 INFO 139829279799104] loaded response encoder application/jsonlines\u001b[0m\n",
            "\u001b[34m[04/27/2022 03:30:37 INFO 139829279799104] loaded response encoder application/x-recordio-protobuf\u001b[0m\n",
            "\u001b[34m[04/27/2022 03:30:37 INFO 139829279799104] loaded response encoder text/csv\u001b[0m\n",
            "\u001b[34m[04/27/2022 03:30:37 INFO 139829279799104] loaded entry point class algorithm:model\u001b[0m\n",
            "\u001b[34m[04/27/2022 03:30:37 INFO 139829279799104] Number of server workers: 4\u001b[0m\n",
            "\u001b[34m[04/27/2022 03:30:37 INFO 139829279799104] loading model...\u001b[0m\n",
            "\u001b[34m[04/27/2022 03:30:37 INFO 139829279799104] ...model loaded.\u001b[0m\n",
            "\u001b[34m[2022-04-27 03:30:37 +0000] [1] [INFO] Starting gunicorn 20.1.0\u001b[0m\n",
            "\u001b[34m[2022-04-27 03:30:37 +0000] [1] [INFO] Listening at: http://0.0.0.0:8080 (1)\u001b[0m\n",
            "\u001b[34m[2022-04-27 03:30:37 +0000] [1] [INFO] Using worker: sync\u001b[0m\n",
            "\u001b[34m[2022-04-27 03:30:37 +0000] [60] [INFO] Booting worker with pid: 60\u001b[0m\n",
            "\u001b[34m[2022-04-27 03:30:37 +0000] [69] [INFO] Booting worker with pid: 69\u001b[0m\n",
            "\u001b[34m[2022-04-27 03:30:37 +0000] [78] [INFO] Booting worker with pid: 78\u001b[0m\n",
            "\u001b[34m[2022-04-27 03:30:37 +0000] [87] [INFO] Booting worker with pid: 87\u001b[0m\n",
            "\u001b[35m[04/27/2022 03:30:37 INFO 139829279799104] loading entry points\u001b[0m\n",
            "\u001b[35m[04/27/2022 03:30:37 INFO 139829279799104] loaded request iterator application/json\u001b[0m\n",
            "\u001b[35m[04/27/2022 03:30:37 INFO 139829279799104] loaded request iterator application/jsonlines\u001b[0m\n",
            "\u001b[35m[04/27/2022 03:30:37 INFO 139829279799104] loaded request iterator application/x-recordio-protobuf\u001b[0m\n",
            "\u001b[35m[04/27/2022 03:30:37 INFO 139829279799104] loaded request iterator text/csv\u001b[0m\n",
            "\u001b[35m[04/27/2022 03:30:37 INFO 139829279799104] loaded response encoder application/json\u001b[0m\n",
            "\u001b[35m[04/27/2022 03:30:37 INFO 139829279799104] loaded response encoder application/jsonlines\u001b[0m\n",
            "\u001b[35m[04/27/2022 03:30:37 INFO 139829279799104] loaded response encoder application/x-recordio-protobuf\u001b[0m\n",
            "\u001b[35m[04/27/2022 03:30:37 INFO 139829279799104] loaded response encoder text/csv\u001b[0m\n",
            "\u001b[35m[04/27/2022 03:30:37 INFO 139829279799104] loaded entry point class algorithm:model\u001b[0m\n",
            "\u001b[35m[04/27/2022 03:30:37 INFO 139829279799104] Number of server workers: 4\u001b[0m\n",
            "\u001b[35m[04/27/2022 03:30:37 INFO 139829279799104] loading model...\u001b[0m\n",
            "\u001b[35m[04/27/2022 03:30:37 INFO 139829279799104] ...model loaded.\u001b[0m\n",
            "\u001b[35m[2022-04-27 03:30:37 +0000] [1] [INFO] Starting gunicorn 20.1.0\u001b[0m\n",
            "\u001b[35m[2022-04-27 03:30:37 +0000] [1] [INFO] Listening at: http://0.0.0.0:8080 (1)\u001b[0m\n",
            "\u001b[35m[2022-04-27 03:30:37 +0000] [1] [INFO] Using worker: sync\u001b[0m\n",
            "\u001b[35m[2022-04-27 03:30:37 +0000] [60] [INFO] Booting worker with pid: 60\u001b[0m\n",
            "\u001b[35m[2022-04-27 03:30:37 +0000] [69] [INFO] Booting worker with pid: 69\u001b[0m\n",
            "\u001b[35m[2022-04-27 03:30:37 +0000] [78] [INFO] Booting worker with pid: 78\u001b[0m\n",
            "\u001b[35m[2022-04-27 03:30:37 +0000] [87] [INFO] Booting worker with pid: 87\u001b[0m\n",
            "\u001b[34m#metrics {\"StartTime\": 1651030237.7848575, \"EndTime\": 1651030239.0208995, \"Dimensions\": {\"Algorithm\": \"LinearLearnerModel\", \"Host\": \"UNKNOWN\", \"Operation\": \"scoring\"}, \"Metrics\": {\"execution_parameters.count\": {\"sum\": 1.0, \"count\": 1, \"min\": 1, \"max\": 1}}}\u001b[0m\n",
            "\u001b[35m#metrics {\"StartTime\": 1651030237.7848575, \"EndTime\": 1651030239.0208995, \"Dimensions\": {\"Algorithm\": \"LinearLearnerModel\", \"Host\": \"UNKNOWN\", \"Operation\": \"scoring\"}, \"Metrics\": {\"execution_parameters.count\": {\"sum\": 1.0, \"count\": 1, \"min\": 1, \"max\": 1}}}\u001b[0m\n",
            "\u001b[34m#metrics {\"StartTime\": 1651030237.7848575, \"EndTime\": 1651030242.0160391, \"Dimensions\": {\"Algorithm\": \"LinearLearnerModel\", \"Host\": \"UNKNOWN\", \"Operation\": \"scoring\"}, \"Metrics\": {\"json.encoder.time\": {\"sum\": 144.93870735168457, \"count\": 1, \"min\": 144.93870735168457, \"max\": 144.93870735168457}, \"invocations.count\": {\"sum\": 1.0, \"count\": 1, \"min\": 1, \"max\": 1}}}\u001b[0m\n",
            "\u001b[34m#metrics {\"StartTime\": 1651030237.7848575, \"EndTime\": 1651030242.1381204, \"Dimensions\": {\"Algorithm\": \"LinearLearnerModel\", \"Host\": \"UNKNOWN\", \"Operation\": \"scoring\"}, \"Metrics\": {\"json.encoder.time\": {\"sum\": 159.86013412475586, \"count\": 1, \"min\": 159.86013412475586, \"max\": 159.86013412475586}, \"invocations.count\": {\"sum\": 1.0, \"count\": 1, \"min\": 1, \"max\": 1}}}\u001b[0m\n",
            "\u001b[35m#metrics {\"StartTime\": 1651030237.7848575, \"EndTime\": 1651030242.0160391, \"Dimensions\": {\"Algorithm\": \"LinearLearnerModel\", \"Host\": \"UNKNOWN\", \"Operation\": \"scoring\"}, \"Metrics\": {\"json.encoder.time\": {\"sum\": 144.93870735168457, \"count\": 1, \"min\": 144.93870735168457, \"max\": 144.93870735168457}, \"invocations.count\": {\"sum\": 1.0, \"count\": 1, \"min\": 1, \"max\": 1}}}\u001b[0m\n",
            "\u001b[35m#metrics {\"StartTime\": 1651030237.7848575, \"EndTime\": 1651030242.1381204, \"Dimensions\": {\"Algorithm\": \"LinearLearnerModel\", \"Host\": \"UNKNOWN\", \"Operation\": \"scoring\"}, \"Metrics\": {\"json.encoder.time\": {\"sum\": 159.86013412475586, \"count\": 1, \"min\": 159.86013412475586, \"max\": 159.86013412475586}, \"invocations.count\": {\"sum\": 1.0, \"count\": 1, \"min\": 1, \"max\": 1}}}\u001b[0m\n",
            "\u001b[34m#metrics {\"StartTime\": 1651030239.0210884, \"EndTime\": 1651030242.1906407, \"Dimensions\": {\"Algorithm\": \"LinearLearnerModel\", \"Host\": \"UNKNOWN\", \"Operation\": \"scoring\"}, \"Metrics\": {\"json.encoder.time\": {\"sum\": 145.2641487121582, \"count\": 1, \"min\": 145.2641487121582, \"max\": 145.2641487121582}, \"invocations.count\": {\"sum\": 1.0, \"count\": 1, \"min\": 1, \"max\": 1}}}\u001b[0m\n",
            "\u001b[34m#metrics {\"StartTime\": 1651030237.7848575, \"EndTime\": 1651030242.2540293, \"Dimensions\": {\"Algorithm\": \"LinearLearnerModel\", \"Host\": \"UNKNOWN\", \"Operation\": \"scoring\"}, \"Metrics\": {\"json.encoder.time\": {\"sum\": 146.1350917816162, \"count\": 1, \"min\": 146.1350917816162, \"max\": 146.1350917816162}, \"invocations.count\": {\"sum\": 1.0, \"count\": 1, \"min\": 1, \"max\": 1}}}\u001b[0m\n",
            "\u001b[35m#metrics {\"StartTime\": 1651030239.0210884, \"EndTime\": 1651030242.1906407, \"Dimensions\": {\"Algorithm\": \"LinearLearnerModel\", \"Host\": \"UNKNOWN\", \"Operation\": \"scoring\"}, \"Metrics\": {\"json.encoder.time\": {\"sum\": 145.2641487121582, \"count\": 1, \"min\": 145.2641487121582, \"max\": 145.2641487121582}, \"invocations.count\": {\"sum\": 1.0, \"count\": 1, \"min\": 1, \"max\": 1}}}\u001b[0m\n",
            "\u001b[35m#metrics {\"StartTime\": 1651030237.7848575, \"EndTime\": 1651030242.2540293, \"Dimensions\": {\"Algorithm\": \"LinearLearnerModel\", \"Host\": \"UNKNOWN\", \"Operation\": \"scoring\"}, \"Metrics\": {\"json.encoder.time\": {\"sum\": 146.1350917816162, \"count\": 1, \"min\": 146.1350917816162, \"max\": 146.1350917816162}, \"invocations.count\": {\"sum\": 1.0, \"count\": 1, \"min\": 1, \"max\": 1}}}\u001b[0m\n",
            "\u001b[34m#metrics {\"StartTime\": 1651030242.016204, \"EndTime\": 1651030242.2954447, \"Dimensions\": {\"Algorithm\": \"LinearLearnerModel\", \"Host\": \"UNKNOWN\", \"Operation\": \"scoring\"}, \"Metrics\": {\"json.encoder.time\": {\"sum\": 7.884502410888672, \"count\": 1, \"min\": 7.884502410888672, \"max\": 7.884502410888672}, \"invocations.count\": {\"sum\": 1.0, \"count\": 1, \"min\": 1, \"max\": 1}}}\u001b[0m\n",
            "\u001b[34m#metrics {\"StartTime\": 1651030242.1382957, \"EndTime\": 1651030243.040367, \"Dimensions\": {\"Algorithm\": \"LinearLearnerModel\", \"Host\": \"UNKNOWN\", \"Operation\": \"scoring\"}, \"Metrics\": {\"json.encoder.time\": {\"sum\": 69.22173500061035, \"count\": 1, \"min\": 69.22173500061035, \"max\": 69.22173500061035}, \"invocations.count\": {\"sum\": 1.0, \"count\": 1, \"min\": 1, \"max\": 1}}}\u001b[0m\n",
            "\u001b[35m#metrics {\"StartTime\": 1651030242.016204, \"EndTime\": 1651030242.2954447, \"Dimensions\": {\"Algorithm\": \"LinearLearnerModel\", \"Host\": \"UNKNOWN\", \"Operation\": \"scoring\"}, \"Metrics\": {\"json.encoder.time\": {\"sum\": 7.884502410888672, \"count\": 1, \"min\": 7.884502410888672, \"max\": 7.884502410888672}, \"invocations.count\": {\"sum\": 1.0, \"count\": 1, \"min\": 1, \"max\": 1}}}\u001b[0m\n",
            "\u001b[35m#metrics {\"StartTime\": 1651030242.1382957, \"EndTime\": 1651030243.040367, \"Dimensions\": {\"Algorithm\": \"LinearLearnerModel\", \"Host\": \"UNKNOWN\", \"Operation\": \"scoring\"}, \"Metrics\": {\"json.encoder.time\": {\"sum\": 69.22173500061035, \"count\": 1, \"min\": 69.22173500061035, \"max\": 69.22173500061035}, \"invocations.count\": {\"sum\": 1.0, \"count\": 1, \"min\": 1, \"max\": 1}}}\u001b[0m\n",
            "\u001b[32m2022-04-27T03:30:39.030:[sagemaker logs]: MaxConcurrentTransforms=4, MaxPayloadInMB=6, BatchStrategy=MULTI_RECORD\u001b[0m\n"
          ]
        }
      ],
      "source": [
        "test_labels, target_predicted = batch_linear_predict(test, classifier_estimator)"
      ]
    },
    {
      "cell_type": "markdown",
      "metadata": {
        "id": "uHfZlNtSpFDx"
      },
      "source": [
        "To view a plot of the confusion matrix, and various scoring metrics, create a couple of functions:"
      ]
    },
    {
      "cell_type": "code",
      "execution_count": null,
      "metadata": {
        "id": "vMWsSdKHpFDy"
      },
      "outputs": [],
      "source": [
        "from sklearn.metrics import confusion_matrix\n",
        "\n",
        "def plot_confusion_matrix(test_labels, target_predicted):\n",
        "    matrix = confusion_matrix(test_labels, target_predicted)\n",
        "    df_confusion = pd.DataFrame(matrix)\n",
        "    colormap = sns.color_palette(\"BrBG\", 10)\n",
        "    sns.heatmap(df_confusion, annot=True, fmt='.2f', cbar=None, cmap=colormap)\n",
        "    plt.title(\"Confusion Matrix\")\n",
        "    plt.tight_layout()\n",
        "    plt.ylabel(\"True Class\")\n",
        "    plt.xlabel(\"Predicted Class\")\n",
        "    plt.show()\n",
        "    "
      ]
    },
    {
      "cell_type": "code",
      "execution_count": null,
      "metadata": {
        "id": "ZQs87943pFDy"
      },
      "outputs": [],
      "source": [
        "from sklearn import metrics\n",
        "\n",
        "def plot_roc(test_labels, target_predicted):\n",
        "    TN, FP, FN, TP = confusion_matrix(test_labels, target_predicted).ravel()\n",
        "    # Sensitivity, hit rate, recall, or true positive rate\n",
        "    Sensitivity  = float(TP)/(TP+FN)*100\n",
        "    # Specificity or true negative rate\n",
        "    Specificity  = float(TN)/(TN+FP)*100\n",
        "    # Precision or positive predictive value\n",
        "    Precision = float(TP)/(TP+FP)*100\n",
        "    # Negative predictive value\n",
        "    NPV = float(TN)/(TN+FN)*100\n",
        "    # Fall out or false positive rate\n",
        "    FPR = float(FP)/(FP+TN)*100\n",
        "    # False negative rate\n",
        "    FNR = float(FN)/(TP+FN)*100\n",
        "    # False discovery rate\n",
        "    FDR = float(FP)/(TP+FP)*100\n",
        "    # Overall accuracy\n",
        "    ACC = float(TP+TN)/(TP+FP+FN+TN)*100\n",
        "\n",
        "    print(\"Sensitivity or TPR: \", Sensitivity, \"%\") \n",
        "    print( \"Specificity or TNR: \",Specificity, \"%\") \n",
        "    print(\"Precision: \",Precision, \"%\") \n",
        "    print(\"Negative Predictive Value: \",NPV, \"%\") \n",
        "    print( \"False Positive Rate: \",FPR,\"%\")\n",
        "    print(\"False Negative Rate: \",FNR, \"%\") \n",
        "    print(\"False Discovery Rate: \",FDR, \"%\" )\n",
        "    print(\"Accuracy: \",ACC, \"%\") \n",
        "\n",
        "    test_labels = test.iloc[:,0];\n",
        "    print(\"Validation AUC\", metrics.roc_auc_score(test_labels, target_predicted) )\n",
        "\n",
        "    fpr, tpr, thresholds = metrics.roc_curve(test_labels, target_predicted)\n",
        "    roc_auc = metrics.auc(fpr, tpr)\n",
        "\n",
        "    plt.figure()\n",
        "    plt.plot(fpr, tpr, label='ROC curve (area = %0.2f)' % (roc_auc))\n",
        "    plt.plot([0, 1], [0, 1], 'k--')\n",
        "    plt.xlim([0.0, 1.0])\n",
        "    plt.ylim([0.0, 1.05])\n",
        "    plt.xlabel('False Positive Rate')\n",
        "    plt.ylabel('True Positive Rate')\n",
        "    plt.title('Receiver operating characteristic')\n",
        "    plt.legend(loc=\"lower right\")\n",
        "\n",
        "    # create the axis of thresholds (scores)\n",
        "    ax2 = plt.gca().twinx()\n",
        "    ax2.plot(fpr, thresholds, markeredgecolor='r',linestyle='dashed', color='r')\n",
        "    ax2.set_ylabel('Threshold',color='r')\n",
        "    ax2.set_ylim([thresholds[-1],thresholds[0]])\n",
        "    ax2.set_xlim([fpr[0],fpr[-1]])\n",
        "\n",
        "    print(plt.figure())"
      ]
    },
    {
      "cell_type": "markdown",
      "metadata": {
        "id": "WEklmYxOpFDy"
      },
      "source": [
        "To plot the confusion matrix, call the `plot_confusion_matrix` function on the `test_labels` and the `target_predicted` data from your batch job:"
      ]
    },
    {
      "cell_type": "code",
      "execution_count": null,
      "metadata": {
        "id": "k_Wd9YfPpFDy",
        "outputId": "5d9b3b7f-b613-44d2-d98e-548cd04795db"
      },
      "outputs": [
        {
          "data": {
            "image/png": "[encoded data removed]",
            "text/plain": [
              "<Figure size 432x288 with 1 Axes>"
            ]
          },
          "metadata": {
            "needs_background": "light"
          },
          "output_type": "display_data"
        }
      ],
      "source": [
        "#ANSWER\n",
        "plot_confusion_matrix(test_labels , target_predicted)"
      ]
    },
    {
      "cell_type": "markdown",
      "metadata": {
        "id": "MYO5jSq-pFDy"
      },
      "source": [
        "To print statistics and plot a receiver operating characteristic (ROC) curve, call the `plot_roc` function on the `test_labels` and `target_predicted` data from your batch job:"
      ]
    },
    {
      "cell_type": "code",
      "execution_count": null,
      "metadata": {
        "id": "aC1kazokpFDy",
        "outputId": "a25cd1da-6257-4a59-ac10-ad5e0e0d0122"
      },
      "outputs": [
        {
          "name": "stdout",
          "output_type": "stream",
          "text": [
            "Sensitivity or TPR:  0.3378673579355139 %\n",
            "Specificity or TNR:  99.91952083945955 %\n",
            "Precision:  52.72727272727272 %\n",
            "Negative Predictive Value:  79.05154310972885 %\n",
            "False Positive Rate:  0.08047916054044851 %\n",
            "False Negative Rate:  99.66213264206448 %\n",
            "False Discovery Rate:  47.27272727272727 %\n",
            "Accuracy:  79.01613485042095 %\n",
            "Validation AUC 0.5012869409869752\n",
            "Figure(432x288)\n"
          ]
        },
        {
          "data": {
            "image/png": "[encoded data removed]",
            "text/plain": [
              "<Figure size 432x288 with 2 Axes>"
            ]
          },
          "metadata": {
            "needs_background": "light"
          },
          "output_type": "display_data"
        },
        {
          "data": {
            "text/plain": [
              "<Figure size 432x288 with 0 Axes>"
            ]
          },
          "metadata": {},
          "output_type": "display_data"
        }
      ],
      "source": [
        "#ANSWER\n",
        "plot_roc(test_labels , target_predicted)"
      ]
    },
    {
      "cell_type": "markdown",
      "metadata": {
        "id": "oJG24g6upFDy"
      },
      "source": [
        "### Key questions to consider:\n",
        "\n",
        "1. How does your model's performance on the test set compare to its performance on the training set? What can you deduce from this comparison? \n",
        "2. Are there obvious differences between the outcomes of metrics like accuracy, precision, and recall? If so, why might you be seeing those differences? \n",
        "3. Given your business situation and goals, which metric (or metrics) is the most important for you to consider? Why?\n",
        "4. From a business standpoint, is the outcome for the metric (or metrics) that you consider to be the most important sufficient for what you need? If not, what are some things you might change in your next iteration? (This will happen in the feature engineering section, which is next.)\n",
        "\n",
        "Use the following cells to answer these (and other) questions. Insert and delete cells where needed.\n",
        "\n",
        "#### <span style=\"color: blue;\">Project presentation: In your project presentation, write down your answers to these questions -- and other similar questions that you might answer -- in this section. Record the key details and decisions that you made.</span>"
      ]
    },
    {
      "cell_type": "markdown",
      "metadata": {
        "id": "6SrsuP15pFDz"
      },
      "source": [
        "\n",
        "**Question**: What can you summarize from the confusion matrix?\n"
      ]
    },
    {
      "cell_type": "code",
      "execution_count": null,
      "metadata": {
        "id": "7skb3kgdpFDz"
      },
      "outputs": [],
      "source": [
        "# จากความแม่นยำว่า 79.03631105594923 % คาดเดาได้ และมีอัตราการเป็น False Negative99.59%**"
      ]
    },
    {
      "cell_type": "markdown",
      "metadata": {
        "id": "3e2YWVjbpFDz"
      },
      "source": [
        "## <span style=\"color:red\"> End of Step 3 </span>\n",
        "\n",
        "Save the project file to your local computer. Follow these steps:\n",
        "\n",
        "1. In the file explorer on the left, right-click the notebook that you're working on. \n",
        "\n",
        "2. Select **Download**, and save the file locally.  \n",
        "\n",
        "This action downloads the current notebook to the default download folder on your computer."
      ]
    },
    {
      "cell_type": "markdown",
      "metadata": {
        "id": "i8SWNwetpFDz"
      },
      "source": [
        "# Iteration II"
      ]
    },
    {
      "cell_type": "markdown",
      "metadata": {
        "id": "58ConRFwpFDz"
      },
      "source": [
        "# Step 4: Feature engineering\n",
        "\n",
        "You have now gone through one iteration of training and evaluating your model. Given that the first outcome that you reached for your model probably wasn't sufficient for solving your business problem, what could you change about your data to possibly improve model performance?\n",
        "\n",
        "### Key questions to consider:\n",
        "\n",
        "1. How might the balance of your two main classes (*delay* and *no delay*) impact model performance?\n",
        "2. Do you have any features that are correlated?\n",
        "3. At this stage, could you perform any feature-reduction techniques that might have a positive impact on model performance? \n",
        "4. Can you think of adding some more data or datasets?\n",
        "5. After performing some feature engineering, how does the performance of your model compare to the first iteration?\n",
        "\n",
        "Use the following cells to perform specific feature-engineering techniques that you think could improve your model performance (use the previous questions as a guide). Insert and delete cells where needed.\n",
        "\n",
        "#### <span style=\"color: blue;\">Project presentation: In your project presentation, record your key decisions and the methods that you use in this section. Also include any new performance metrics that you obtain after you evaluate your model again.</span>\n",
        "\n",
        "Before you start, think about why the precision and recall are around 80 percent, and the accuracy is at 99 percent."
      ]
    },
    {
      "cell_type": "markdown",
      "metadata": {
        "id": "8TkwHnLlpFDz"
      },
      "source": [
        "Add more features:\n",
        "\n",
        "1. Holidays\n",
        "2. Weather"
      ]
    },
    {
      "cell_type": "markdown",
      "metadata": {
        "id": "9Mhaqe4lpFDz"
      },
      "source": [
        "Because the list of holidays from 2014 to 2018 is known, you can create an indicator variable **is_holiday** to mark them.\n",
        "\n",
        "The hypothesis is that airplane delays could be higher during holidays compared to the rest of the days. Add a boolean variable `is_holiday` that includes the holidays for the years 2014-2018."
      ]
    },
    {
      "cell_type": "code",
      "execution_count": null,
      "metadata": {
        "id": "2TV_fD-rpFD0"
      },
      "outputs": [],
      "source": [
        "# Source: http://www.calendarpedia.com/holidays/federal-holidays-2014.html\n",
        "\n",
        "holidays_14 = ['2014-01-01',  '2014-01-20', '2014-02-17', '2014-05-26', '2014-07-04', '2014-09-01', '2014-10-13', '2014-11-11', '2014-11-27', '2014-12-25' ] \n",
        "holidays_15 = ['2015-01-01',  '2015-01-19', '2015-02-16', '2015-05-25', '2015-06-03', '2015-07-04', '2015-09-07', '2015-10-12', '2015-11-11', '2015-11-26', '2015-12-25'] \n",
        "holidays_16 = ['2016-01-01',  '2016-01-18', '2016-02-15', '2016-05-30', '2016-07-04', '2016-09-05', '2016-10-10', '2016-11-11', '2016-11-24', '2016-12-25', '2016-12-26']\n",
        "holidays_17 = ['2017-01-02', '2017-01-16', '2017-02-20', '2017-05-29' , '2017-07-04', '2017-09-04' ,'2017-10-09', '2017-11-10', '2017-11-23', '2017-12-25']\n",
        "holidays_18 = ['2018-01-01', '2018-01-15', '2018-02-19', '2018-05-28' , '2018-07-04', '2018-09-03' ,'2018-10-08', '2018-11-12','2018-11-22', '2018-12-25']\n",
        "holidays = holidays_14+ holidays_15+ holidays_16 + holidays_17+ holidays_18\n",
        "#ANSWER\n",
        "### Add indicator variable for holidays\n",
        "data_orig['is_holiday'] = np.isin(data_orig['FlightDate'],holidays)"
      ]
    },
    {
      "cell_type": "markdown",
      "metadata": {
        "id": "aUnEQx_BpFD0"
      },
      "source": [
        "Weather data was fetched from https://www.ncei.noaa.gov/access/services/data/v1?dataset=daily-summaries&stations=USW00023174,USW00012960,USW00003017,USW00094846,USW00013874,USW00023234,USW00003927,USW00023183,USW00013881&dataTypes=AWND,PRCP,SNOW,SNWD,TAVG,TMIN,TMAX&startDate=2014-01-01&endDate=2018-12-31.\n",
        "<br>\n",
        "\n",
        "This dataset has information on wind speed, precipitation, snow, and temperature for cities by their airport codes.\n",
        "\n",
        "**Question**: Could bad weather because of rain, heavy winds, or snow lead to airplane delays? You will now check."
      ]
    },
    {
      "cell_type": "code",
      "execution_count": null,
      "metadata": {
        "id": "Mx_yxhDEpFD0",
        "outputId": "3b2df4f3-6ea1-484d-e122-8b2fed853885"
      },
      "outputs": [
        {
          "name": "stdout",
          "output_type": "stream",
          "text": [
            "download: s3://aws-tc-largeobjects/CUR-TF-200-ACMLFO-1/flight_delay_project/data2/daily-summaries.csv to ../project/data/daily-summaries.csv\n"
          ]
        }
      ],
      "source": [
        "!aws s3 cp s3://aws-tc-largeobjects/CUR-TF-200-ACMLFO-1/flight_delay_project/data2/daily-summaries.csv /home/ec2-user/SageMaker/project/data/\n",
        "#!wget 'https://www.ncei.noaa.gov/access/services/data/v1?dataset=daily-summaries&stations=USW00023174,USW00012960,USW00003017,USW00094846,USW00013874,USW00023234,USW00003927,USW00023183,USW00013881&dataTypes=AWND,PRCP,SNOW,SNWD,TAVG,TMIN,TMAX&startDate=2014-01-01&endDate=2018-12-31' -O /home/ec2-user/SageMaker/project/data/daily-summaries.csv"
      ]
    },
    {
      "cell_type": "markdown",
      "metadata": {
        "id": "dfBtgE--pFD0"
      },
      "source": [
        "Import the weather data that was prepared for the airport codes in the dataset. Use the following stations and airports  for the analysis. Create a new column called *airport* that maps the weather station to the airport name."
      ]
    },
    {
      "cell_type": "code",
      "execution_count": null,
      "metadata": {
        "id": "z_TpnnVXpFD0"
      },
      "outputs": [],
      "source": [
        "weather = pd.read_csv('/home/ec2-user/SageMaker/project/data/daily-summaries.csv')\n",
        "station = ['USW00023174','USW00012960','USW00003017','USW00094846','USW00013874','USW00023234','USW00003927','USW00023183','USW00013881'] \n",
        "airports = ['LAX', 'IAH', 'DEN', 'ORD', 'ATL', 'SFO', 'DFW', 'PHX', 'CLT']\n",
        "\n",
        "### Map weather stations to airport code\n",
        "station_map = {s:a for s,a in zip(station, airports)}\n",
        "weather['airport'] = weather['STATION'].map(station_map)"
      ]
    },
    {
      "cell_type": "markdown",
      "metadata": {
        "id": "zj2BbQbEpFD0"
      },
      "source": [
        "From the **DATE** column, create another column called *MONTH*."
      ]
    },
    {
      "cell_type": "code",
      "execution_count": null,
      "metadata": {
        "id": "EX3XiBZApFD1",
        "outputId": "af102286-2c4e-4182-e4d2-3ae23836e5b5"
      },
      "outputs": [
        {
          "data": {
            "text/html": [
              "<div>\n",
              "<style scoped>\n",
              "    .dataframe tbody tr th:only-of-type {\n",
              "        vertical-align: middle;\n",
              "    }\n",
              "\n",
              "    .dataframe tbody tr th {\n",
              "        vertical-align: top;\n",
              "    }\n",
              "\n",
              "    .dataframe thead th {\n",
              "        text-align: right;\n",
              "    }\n",
              "</style>\n",
              "<table border=\"1\" class=\"dataframe\">\n",
              "  <thead>\n",
              "    <tr style=\"text-align: right;\">\n",
              "      <th></th>\n",
              "      <th>STATION</th>\n",
              "      <th>DATE</th>\n",
              "      <th>AWND</th>\n",
              "      <th>PRCP</th>\n",
              "      <th>SNOW</th>\n",
              "      <th>SNWD</th>\n",
              "      <th>TAVG</th>\n",
              "      <th>TMAX</th>\n",
              "      <th>TMIN</th>\n",
              "      <th>airport</th>\n",
              "      <th>MONTH</th>\n",
              "    </tr>\n",
              "  </thead>\n",
              "  <tbody>\n",
              "    <tr>\n",
              "      <th>0</th>\n",
              "      <td>USW00023174</td>\n",
              "      <td>2014-01-01</td>\n",
              "      <td>16</td>\n",
              "      <td>0</td>\n",
              "      <td>NaN</td>\n",
              "      <td>NaN</td>\n",
              "      <td>131.0</td>\n",
              "      <td>178.0</td>\n",
              "      <td>78.0</td>\n",
              "      <td>LAX</td>\n",
              "      <td>01</td>\n",
              "    </tr>\n",
              "    <tr>\n",
              "      <th>1</th>\n",
              "      <td>USW00023174</td>\n",
              "      <td>2014-01-02</td>\n",
              "      <td>22</td>\n",
              "      <td>0</td>\n",
              "      <td>NaN</td>\n",
              "      <td>NaN</td>\n",
              "      <td>159.0</td>\n",
              "      <td>256.0</td>\n",
              "      <td>100.0</td>\n",
              "      <td>LAX</td>\n",
              "      <td>01</td>\n",
              "    </tr>\n",
              "    <tr>\n",
              "      <th>2</th>\n",
              "      <td>USW00023174</td>\n",
              "      <td>2014-01-03</td>\n",
              "      <td>17</td>\n",
              "      <td>0</td>\n",
              "      <td>NaN</td>\n",
              "      <td>NaN</td>\n",
              "      <td>140.0</td>\n",
              "      <td>178.0</td>\n",
              "      <td>83.0</td>\n",
              "      <td>LAX</td>\n",
              "      <td>01</td>\n",
              "    </tr>\n",
              "    <tr>\n",
              "      <th>3</th>\n",
              "      <td>USW00023174</td>\n",
              "      <td>2014-01-04</td>\n",
              "      <td>18</td>\n",
              "      <td>0</td>\n",
              "      <td>NaN</td>\n",
              "      <td>NaN</td>\n",
              "      <td>136.0</td>\n",
              "      <td>183.0</td>\n",
              "      <td>100.0</td>\n",
              "      <td>LAX</td>\n",
              "      <td>01</td>\n",
              "    </tr>\n",
              "    <tr>\n",
              "      <th>4</th>\n",
              "      <td>USW00023174</td>\n",
              "      <td>2014-01-05</td>\n",
              "      <td>18</td>\n",
              "      <td>0</td>\n",
              "      <td>NaN</td>\n",
              "      <td>NaN</td>\n",
              "      <td>151.0</td>\n",
              "      <td>244.0</td>\n",
              "      <td>83.0</td>\n",
              "      <td>LAX</td>\n",
              "      <td>01</td>\n",
              "    </tr>\n",
              "  </tbody>\n",
              "</table>\n",
              "</div>"
            ],
            "text/plain": [
              "       STATION        DATE  AWND  PRCP  SNOW  SNWD   TAVG   TMAX   TMIN  \\\n",
              "0  USW00023174  2014-01-01    16     0   NaN   NaN  131.0  178.0   78.0   \n",
              "1  USW00023174  2014-01-02    22     0   NaN   NaN  159.0  256.0  100.0   \n",
              "2  USW00023174  2014-01-03    17     0   NaN   NaN  140.0  178.0   83.0   \n",
              "3  USW00023174  2014-01-04    18     0   NaN   NaN  136.0  183.0  100.0   \n",
              "4  USW00023174  2014-01-05    18     0   NaN   NaN  151.0  244.0   83.0   \n",
              "\n",
              "  airport MONTH  \n",
              "0     LAX    01  \n",
              "1     LAX    01  \n",
              "2     LAX    01  \n",
              "3     LAX    01  \n",
              "4     LAX    01  "
            ]
          },
          "execution_count": 61,
          "metadata": {},
          "output_type": "execute_result"
        }
      ],
      "source": [
        "weather['MONTH'] = weather['DATE'].apply(lambda x: x.split('-')[1])\n",
        "weather.head()"
      ]
    },
    {
      "cell_type": "markdown",
      "metadata": {
        "id": "y6rQDKSYpFD1"
      },
      "source": [
        "### Sample output\n",
        "```\n",
        "  STATION     DATE      AWND PRCP SNOW SNWD TAVG TMAX  TMIN airport MONTH\n",
        "0 USW00023174 2014-01-01 16   0   NaN  NaN 131.0 178.0 78.0  LAX    01\n",
        "1 USW00023174 2014-01-02 22   0   NaN  NaN 159.0 256.0 100.0 LAX    01\n",
        "2 USW00023174 2014-01-03 17   0   NaN  NaN 140.0 178.0 83.0  LAX    01\n",
        "3 USW00023174 2014-01-04 18   0   NaN  NaN 136.0 183.0 100.0 LAX    01\n",
        "4 USW00023174 2014-01-05 18   0   NaN  NaN 151.0 244.0 83.0  LAX    01\n",
        "```"
      ]
    },
    {
      "cell_type": "markdown",
      "metadata": {
        "id": "aknsuqtjpFD1"
      },
      "source": [
        "Analyze and handle the **SNOW** and **SNWD** columns for missing values by using `fillna()`. To check the missing values for all the columns, use the `isna()` function."
      ]
    },
    {
      "cell_type": "code",
      "execution_count": null,
      "metadata": {
        "id": "f_eU3ajKpFD1",
        "outputId": "0f53f5a6-c590-4617-9991-814ab2220900"
      },
      "outputs": [
        {
          "data": {
            "text/plain": [
              "STATION     0\n",
              "DATE        0\n",
              "AWND        0\n",
              "PRCP        0\n",
              "SNOW        0\n",
              "SNWD        0\n",
              "TAVG       62\n",
              "TMAX       20\n",
              "TMIN       20\n",
              "airport     0\n",
              "MONTH       0\n",
              "dtype: int64"
            ]
          },
          "execution_count": 62,
          "metadata": {},
          "output_type": "execute_result"
        }
      ],
      "source": [
        "weather.SNOW.fillna(0, inplace=True)\n",
        "weather.SNWD.fillna(0, inplace=True)\n",
        "weather.isna().sum()"
      ]
    },
    {
      "cell_type": "markdown",
      "metadata": {
        "id": "6cGoSHmYpFD1"
      },
      "source": [
        "**Question**: Print the index of the rows that have missing values for *TAVG*, *TMAX*, *TMIN*.\n",
        "\n",
        "**Hint**: To find the rows that are missing, use the `isna()` function. Then, to get the index, use the list on the *idx* variable."
      ]
    },
    {
      "cell_type": "code",
      "execution_count": null,
      "metadata": {
        "id": "SxfRk9oTpFD1",
        "outputId": "38faf334-0bf1-4167-cd05-f9fcbd0cdb8d"
      },
      "outputs": [
        {
          "data": {
            "text/plain": [
              "array([ 3956,  3957,  3958,  3959,  3960,  3961,  3962,  3963,  3964,\n",
              "        3965,  3966,  3967,  3968,  3969,  3970,  3971,  3972,  3973,\n",
              "        3974,  3975,  3976,  3977,  3978,  3979,  3980,  3981,  3982,\n",
              "        3983,  3984,  3985,  4017,  4018,  4019,  4020,  4021,  4022,\n",
              "        4023,  4024,  4025,  4026,  4027,  4028,  4029,  4030,  4031,\n",
              "        4032,  4033,  4034,  4035,  4036,  4037,  4038,  4039,  4040,\n",
              "        4041,  4042,  4043,  4044,  4045,  4046,  4047, 13420])"
            ]
          },
          "execution_count": 64,
          "metadata": {},
          "output_type": "execute_result"
        }
      ],
      "source": [
        "# ANSWER\n",
        "idx = np.array([i for i in range(len(weather))])\n",
        "TAVG_idx = idx[weather.TAVG.isna()] \n",
        "TMAX_idx = idx[weather.TAVG.isna()] \n",
        "TMIN_idx = idx[weather.TAVG.isna()] \n",
        "TAVG_idx"
      ]
    },
    {
      "cell_type": "markdown",
      "metadata": {
        "id": "ssXRfWSxpFD1"
      },
      "source": [
        "### Sample output\n",
        "\n",
        "```\n",
        "array([ 3956,  3957,  3958,  3959,  3960,  3961,  3962,  3963,  3964,\n",
        "        3965,  3966,  3967,  3968,  3969,  3970,  3971,  3972,  3973,\n",
        "        3974,  3975,  3976,  3977,  3978,  3979,  3980,  3981,  3982,\n",
        "        3983,  3984,  3985,  4017,  4018,  4019,  4020,  4021,  4022,\n",
        "        4023,  4024,  4025,  4026,  4027,  4028,  4029,  4030,  4031,\n",
        "        4032,  4033,  4034,  4035,  4036,  4037,  4038,  4039,  4040,\n",
        "        4041,  4042,  4043,  4044,  4045,  4046,  4047, 13420])\n",
        "```"
      ]
    },
    {
      "cell_type": "markdown",
      "metadata": {
        "id": "N8Le5yGXpFD2"
      },
      "source": [
        "You can replace the missing *TAVG*, *TMAX*, and *TMIN* values with the average value for a particular station or airport. Because consecutive rows of *TAVG_idx* are missing, replacing them with a previous value would not be possible. Instead, replace them with the mean. Use the `groupby` function to aggregate the variables with a mean value.\n",
        "\n",
        "**Hint:** Group by `MONTH` and `STATION`."
      ]
    },
    {
      "cell_type": "code",
      "execution_count": null,
      "metadata": {
        "id": "pYsBnBd2pFD2",
        "outputId": "4f4dcf88-a3f6-48ea-bfa6-60afbf38387f"
      },
      "outputs": [
        {
          "data": {
            "text/html": [
              "<div>\n",
              "<style scoped>\n",
              "    .dataframe tbody tr th:only-of-type {\n",
              "        vertical-align: middle;\n",
              "    }\n",
              "\n",
              "    .dataframe tbody tr th {\n",
              "        vertical-align: top;\n",
              "    }\n",
              "\n",
              "    .dataframe thead th {\n",
              "        text-align: right;\n",
              "    }\n",
              "</style>\n",
              "<table border=\"1\" class=\"dataframe\">\n",
              "  <thead>\n",
              "    <tr style=\"text-align: right;\">\n",
              "      <th></th>\n",
              "      <th>MONTH</th>\n",
              "      <th>STATION</th>\n",
              "      <th>TAVG</th>\n",
              "      <th>TMAX</th>\n",
              "      <th>TMIN</th>\n",
              "    </tr>\n",
              "  </thead>\n",
              "  <tbody>\n",
              "    <tr>\n",
              "      <th>0</th>\n",
              "      <td>01</td>\n",
              "      <td>USW00003017</td>\n",
              "      <td>-2.741935</td>\n",
              "      <td>74.000000</td>\n",
              "      <td>-69.858065</td>\n",
              "    </tr>\n",
              "    <tr>\n",
              "      <th>1</th>\n",
              "      <td>01</td>\n",
              "      <td>USW00003927</td>\n",
              "      <td>79.529032</td>\n",
              "      <td>143.767742</td>\n",
              "      <td>20.696774</td>\n",
              "    </tr>\n",
              "  </tbody>\n",
              "</table>\n",
              "</div>"
            ],
            "text/plain": [
              "  MONTH      STATION       TAVG        TMAX       TMIN\n",
              "0    01  USW00003017  -2.741935   74.000000 -69.858065\n",
              "1    01  USW00003927  79.529032  143.767742  20.696774"
            ]
          },
          "execution_count": 66,
          "metadata": {},
          "output_type": "execute_result"
        }
      ],
      "source": [
        "# ANSWER\n",
        "weather_impute = weather.groupby(['MONTH','STATION']).agg({'TAVG':'mean','TMAX':'mean', 'TMIN':'mean' }).reset_index()# Enter your code here\n",
        "weather_impute.head(2)"
      ]
    },
    {
      "cell_type": "markdown",
      "metadata": {
        "id": "ok_UdiMbpFD2"
      },
      "source": [
        "Merge the mean data with the weather data."
      ]
    },
    {
      "cell_type": "code",
      "execution_count": null,
      "metadata": {
        "id": "aI1xau0hpFD2"
      },
      "outputs": [],
      "source": [
        "\n",
        "weather = pd.merge(weather, weather_impute,  how='left', left_on=['MONTH','STATION'], right_on = ['MONTH','STATION'])\\\n",
        ".rename(columns = {'TAVG_y':'TAVG_AVG',\n",
        "                   'TMAX_y':'TMAX_AVG', \n",
        "                   'TMIN_y':'TMIN_AVG',\n",
        "                   'TAVG_x':'TAVG',\n",
        "                   'TMAX_x':'TMAX', \n",
        "                   'TMIN_x':'TMIN'})"
      ]
    },
    {
      "cell_type": "markdown",
      "metadata": {
        "id": "5b89Hsn2pFD2"
      },
      "source": [
        "Check for missing values again."
      ]
    },
    {
      "cell_type": "code",
      "execution_count": null,
      "metadata": {
        "id": "nY6z58umpFD2",
        "outputId": "61abbd00-fd6e-44cb-e2f6-7f7c438ae000"
      },
      "outputs": [
        {
          "data": {
            "text/plain": [
              "STATION      0\n",
              "DATE         0\n",
              "AWND         0\n",
              "PRCP         0\n",
              "SNOW         0\n",
              "SNWD         0\n",
              "TAVG         0\n",
              "TMAX        20\n",
              "TMIN        20\n",
              "airport      0\n",
              "MONTH        0\n",
              "TAVG_AVG     0\n",
              "TMAX_AVG     0\n",
              "TMIN_AVG     0\n",
              "dtype: int64"
            ]
          },
          "execution_count": 68,
          "metadata": {},
          "output_type": "execute_result"
        }
      ],
      "source": [
        "weather.TAVG[TAVG_idx] = weather.TAVG_AVG[TAVG_idx]\n",
        "weather.TMAX[TMAX_idx] = weather.TMAX_AVG[TMAX_idx]\n",
        "weather.TMIN[TMIN_idx] = weather.TMIN_AVG[TMIN_idx]\n",
        "weather.isna().sum()"
      ]
    },
    {
      "cell_type": "markdown",
      "metadata": {
        "id": "83mx6fgBpFD3"
      },
      "source": [
        "Drop `STATION,MONTH,TAVG_AVG,TMAX_AVG,TMIN_AVG,TMAX,TMIN,SNWD` from the dataset."
      ]
    },
    {
      "cell_type": "code",
      "execution_count": null,
      "metadata": {
        "id": "zr42vDc1pFD3"
      },
      "outputs": [],
      "source": [
        "weather.drop(columns=['STATION','MONTH','TAVG_AVG', 'TMAX_AVG', 'TMIN_AVG', 'TMAX' ,'TMIN', 'SNWD'],inplace=True)"
      ]
    },
    {
      "cell_type": "markdown",
      "metadata": {
        "id": "Kaz-I_M2pFD3"
      },
      "source": [
        "Add the origin and destination weather conditions to the dataset."
      ]
    },
    {
      "cell_type": "code",
      "execution_count": null,
      "metadata": {
        "id": "zJzRrO2TpFD3"
      },
      "outputs": [],
      "source": [
        "### Add origin weather conditions\n",
        "data_orig = pd.merge(data_orig, weather,  how='left', left_on=['FlightDate','Origin'], right_on = ['DATE','airport'])\\\n",
        ".rename(columns = {'AWND':'AWND_O','PRCP':'PRCP_O', 'TAVG':'TAVG_O', 'SNOW': 'SNOW_O'})\\\n",
        ".drop(columns=['DATE','airport'])\n",
        "\n",
        "### Add destination weather conditions\n",
        "data_orig = pd.merge(data_orig, weather,  how='left', left_on=['FlightDate','Dest'], right_on = ['DATE','airport'])\\\n",
        ".rename(columns = {'AWND':'AWND_D','PRCP':'PRCP_D', 'TAVG':'TAVG_D', 'SNOW': 'SNOW_D'})\\\n",
        ".drop(columns=['DATE','airport'])"
      ]
    },
    {
      "cell_type": "markdown",
      "metadata": {
        "id": "lxNXJuxIpFD3"
      },
      "source": [
        "**Note**: It's always a good practice to check for nulls or NAs after joins."
      ]
    },
    {
      "cell_type": "code",
      "execution_count": null,
      "metadata": {
        "id": "9KNzf8NipFD3",
        "outputId": "2eb83148-7ff2-4ed0-b3dd-993fd638df48"
      },
      "outputs": [
        {
          "data": {
            "text/plain": [
              "0"
            ]
          },
          "execution_count": 71,
          "metadata": {},
          "output_type": "execute_result"
        }
      ],
      "source": [
        "sum(data.isna().any())"
      ]
    },
    {
      "cell_type": "code",
      "execution_count": null,
      "metadata": {
        "id": "xXx-zMGEpFD3",
        "outputId": "d433124b-bfe1-4923-d8ff-99694352bac5"
      },
      "outputs": [
        {
          "data": {
            "text/plain": [
              "Index(['Year', 'Quarter', 'Month', 'DayofMonth', 'DayOfWeek', 'FlightDate',\n",
              "       'Reporting_Airline', 'Origin', 'OriginState', 'Dest', 'DestState',\n",
              "       'CRSDepTime', 'Cancelled', 'Diverted', 'Distance', 'DistanceGroup',\n",
              "       'ArrDelay', 'ArrDelayMinutes', 'is_delay', 'AirTime', 'DepHourofDay',\n",
              "       'is_holiday', 'AWND_O', 'PRCP_O', 'SNOW_O', 'TAVG_O', 'AWND_D',\n",
              "       'PRCP_D', 'SNOW_D', 'TAVG_D'],\n",
              "      dtype='object')"
            ]
          },
          "execution_count": 72,
          "metadata": {},
          "output_type": "execute_result"
        }
      ],
      "source": [
        "data_orig.columns"
      ]
    },
    {
      "cell_type": "markdown",
      "metadata": {
        "id": "YhdqqOv4pFD3"
      },
      "source": [
        "Convert the categorical data into numerical data by using one-hot encoding."
      ]
    },
    {
      "cell_type": "code",
      "execution_count": null,
      "metadata": {
        "id": "8dFxQ2_1pFD4"
      },
      "outputs": [],
      "source": [
        "data = data_orig.copy()\n",
        "data = data[['is_delay', 'Year', 'Quarter', 'Month', 'DayofMonth', 'DayOfWeek', \n",
        "       'Reporting_Airline', 'Origin', 'Dest','Distance','DepHourofDay','is_holiday', 'AWND_O', 'PRCP_O',\n",
        "       'TAVG_O', 'AWND_D', 'PRCP_D', 'TAVG_D', 'SNOW_O', 'SNOW_D']]\n",
        "\n",
        "\n",
        "categorical_columns  = ['Year', 'Quarter', 'Month', 'DayofMonth', 'DayOfWeek', \n",
        "       'Reporting_Airline', 'Origin', 'Dest', 'is_holiday']\n",
        "for c in categorical_columns:\n",
        "    data[c] = data[c].astype('category')"
      ]
    },
    {
      "cell_type": "code",
      "execution_count": null,
      "metadata": {
        "id": "MWvBIgHmpFD4"
      },
      "outputs": [],
      "source": [
        "data_dummies = pd.get_dummies(data[['Year', 'Quarter', 'Month', 'DayofMonth', 'DayOfWeek', 'Reporting_Airline', 'Origin', 'Dest', 'is_holiday']], drop_first=True)\n",
        "data = pd.concat([data, data_dummies], axis = 1)\n",
        "data.drop(categorical_columns,axis=1, inplace=True)"
      ]
    },
    {
      "cell_type": "markdown",
      "metadata": {
        "id": "MLB0VWSdpFD4"
      },
      "source": [
        "Check the new columns."
      ]
    },
    {
      "cell_type": "code",
      "execution_count": null,
      "metadata": {
        "id": "DtNA9Qo0pFD4",
        "outputId": "234e2d73-9444-476a-c173-27aaf585c950"
      },
      "outputs": [
        {
          "data": {
            "text/plain": [
              "(1635590, 86)"
            ]
          },
          "execution_count": 75,
          "metadata": {},
          "output_type": "execute_result"
        }
      ],
      "source": [
        "data.shape"
      ]
    },
    {
      "cell_type": "code",
      "execution_count": null,
      "metadata": {
        "id": "1Lj3KMj_pFD4",
        "outputId": "d870bfb0-78ba-4b38-f54f-d717848e8f28"
      },
      "outputs": [
        {
          "data": {
            "text/plain": [
              "Index(['is_delay', 'Distance', 'DepHourofDay', 'AWND_O', 'PRCP_O', 'TAVG_O',\n",
              "       'AWND_D', 'PRCP_D', 'TAVG_D', 'SNOW_O', 'SNOW_D', 'Year_2015',\n",
              "       'Year_2016', 'Year_2017', 'Year_2018', 'Quarter_2', 'Quarter_3',\n",
              "       'Quarter_4', 'Month_2', 'Month_3', 'Month_4', 'Month_5', 'Month_6',\n",
              "       'Month_7', 'Month_8', 'Month_9', 'Month_10', 'Month_11', 'Month_12',\n",
              "       'DayofMonth_2', 'DayofMonth_3', 'DayofMonth_4', 'DayofMonth_5',\n",
              "       'DayofMonth_6', 'DayofMonth_7', 'DayofMonth_8', 'DayofMonth_9',\n",
              "       'DayofMonth_10', 'DayofMonth_11', 'DayofMonth_12', 'DayofMonth_13',\n",
              "       'DayofMonth_14', 'DayofMonth_15', 'DayofMonth_16', 'DayofMonth_17',\n",
              "       'DayofMonth_18', 'DayofMonth_19', 'DayofMonth_20', 'DayofMonth_21',\n",
              "       'DayofMonth_22', 'DayofMonth_23', 'DayofMonth_24', 'DayofMonth_25',\n",
              "       'DayofMonth_26', 'DayofMonth_27', 'DayofMonth_28', 'DayofMonth_29',\n",
              "       'DayofMonth_30', 'DayofMonth_31', 'DayOfWeek_2', 'DayOfWeek_3',\n",
              "       'DayOfWeek_4', 'DayOfWeek_5', 'DayOfWeek_6', 'DayOfWeek_7',\n",
              "       'Reporting_Airline_DL', 'Reporting_Airline_OO', 'Reporting_Airline_UA',\n",
              "       'Reporting_Airline_WN', 'Origin_CLT', 'Origin_DEN', 'Origin_DFW',\n",
              "       'Origin_IAH', 'Origin_LAX', 'Origin_ORD', 'Origin_PHX', 'Origin_SFO',\n",
              "       'Dest_CLT', 'Dest_DEN', 'Dest_DFW', 'Dest_IAH', 'Dest_LAX', 'Dest_ORD',\n",
              "       'Dest_PHX', 'Dest_SFO', 'is_holiday_True'],\n",
              "      dtype='object')"
            ]
          },
          "execution_count": 76,
          "metadata": {},
          "output_type": "execute_result"
        }
      ],
      "source": [
        "data.columns"
      ]
    },
    {
      "cell_type": "markdown",
      "metadata": {
        "id": "jiq1Rv2rpFD4"
      },
      "source": [
        "### Sample output\n",
        "\n",
        "```\n",
        "Index(['Distance', 'DepHourofDay', 'is_delay', 'AWND_O', 'PRCP_O', 'TAVG_O',\n",
        "       'AWND_D', 'PRCP_D', 'TAVG_D', 'SNOW_O', 'SNOW_D', 'Year_2015',\n",
        "       'Year_2016', 'Year_2017', 'Year_2018', 'Quarter_2', 'Quarter_3',\n",
        "       'Quarter_4', 'Month_2', 'Month_3', 'Month_4', 'Month_5', 'Month_6',\n",
        "       'Month_7', 'Month_8', 'Month_9', 'Month_10', 'Month_11', 'Month_12',\n",
        "       'DayofMonth_2', 'DayofMonth_3', 'DayofMonth_4', 'DayofMonth_5',\n",
        "       'DayofMonth_6', 'DayofMonth_7', 'DayofMonth_8', 'DayofMonth_9',\n",
        "       'DayofMonth_10', 'DayofMonth_11', 'DayofMonth_12', 'DayofMonth_13',\n",
        "       'DayofMonth_14', 'DayofMonth_15', 'DayofMonth_16', 'DayofMonth_17',\n",
        "       'DayofMonth_18', 'DayofMonth_19', 'DayofMonth_20', 'DayofMonth_21',\n",
        "       'DayofMonth_22', 'DayofMonth_23', 'DayofMonth_24', 'DayofMonth_25',\n",
        "       'DayofMonth_26', 'DayofMonth_27', 'DayofMonth_28', 'DayofMonth_29',\n",
        "       'DayofMonth_30', 'DayofMonth_31', 'DayOfWeek_2', 'DayOfWeek_3',\n",
        "       'DayOfWeek_4', 'DayOfWeek_5', 'DayOfWeek_6', 'DayOfWeek_7',\n",
        "       'Reporting_Airline_DL', 'Reporting_Airline_OO', 'Reporting_Airline_UA',\n",
        "       'Reporting_Airline_WN', 'Origin_CLT', 'Origin_DEN', 'Origin_DFW',\n",
        "       'Origin_IAH', 'Origin_LAX', 'Origin_ORD', 'Origin_PHX', 'Origin_SFO',\n",
        "       'Dest_CLT', 'Dest_DEN', 'Dest_DFW', 'Dest_IAH', 'Dest_LAX', 'Dest_ORD',\n",
        "       'Dest_PHX', 'Dest_SFO', 'is_holiday_1'],\n",
        "      dtype='object')\n",
        "```"
      ]
    },
    {
      "cell_type": "markdown",
      "metadata": {
        "id": "q8Dc8pNNpFD5"
      },
      "source": [
        "Rename the **is_delay** column to *target* again. Use the same code that you used previously."
      ]
    },
    {
      "cell_type": "code",
      "execution_count": null,
      "metadata": {
        "id": "8Ztxfs5CpFD5"
      },
      "outputs": [],
      "source": [
        "#ANSWER\n",
        "data.rename(columns = {'is_delay':'target'}, inplace=True )"
      ]
    },
    {
      "cell_type": "markdown",
      "metadata": {
        "id": "U-MjWMl4pFD5"
      },
      "source": [
        "Create the training sets again.\n",
        "\n",
        "**Hint:** Use the `split_data` function that you defined (and used) earlier."
      ]
    },
    {
      "cell_type": "code",
      "execution_count": null,
      "metadata": {
        "id": "z4bbNaZDpFD5",
        "outputId": "488e243b-ad24-41d7-d32d-17170e7a0cf6"
      },
      "outputs": [
        {
          "name": "stdout",
          "output_type": "stream",
          "text": [
            "0.0    1033806\n",
            "1.0     274666\n",
            "Name: target, dtype: int64\n",
            "0.0    129226\n",
            "1.0     34333\n",
            "Name: target, dtype: int64\n",
            "0.0    129226\n",
            "1.0     34333\n",
            "Name: target, dtype: int64\n"
          ]
        }
      ],
      "source": [
        "#ANSWER\n",
        "train , validate,test = split_data(data)\n",
        "print(train['target'].value_counts())\n",
        "print(test['target'].value_counts())\n",
        "print(validate['target'].value_counts())"
      ]
    },
    {
      "cell_type": "markdown",
      "metadata": {
        "id": "MtQCbv7YpFD5"
      },
      "source": [
        "### New baseline classifier\n",
        "\n",
        "Now, see if these new features add any predictive power to the model."
      ]
    },
    {
      "cell_type": "code",
      "execution_count": null,
      "metadata": {
        "id": "_GxHi3SapFD5"
      },
      "outputs": [],
      "source": [
        "# Instantiate the LinearLearner estimator object\n",
        "classifier_estimator2 = sagemaker.LinearLearner(role=sagemaker.get_execution_role(),\n",
        "                                               instance_count=1,\n",
        "                                               instance_type='ml.m4.xlarge',\n",
        "                                               predictor_type='binary_classifier',\n",
        "                                               binary_classifier_model_selection_criteria = 'cross_entropy_loss')"
      ]
    },
    {
      "cell_type": "markdown",
      "metadata": {
        "id": "MIo-E4anpFD5"
      },
      "source": [
        "### Sample code\n",
        "\n",
        "```\n",
        "num_classes = len(pd.unique(train_labels)) \n",
        "classifier_estimator2 = sagemaker.LinearLearner(role=sagemaker.get_execution_role(),\n",
        "                                               instance_count=1,\n",
        "                                               instance_type='ml.m4.xlarge',\n",
        "                                               predictor_type='binary_classifier',\n",
        "                                               binary_classifier_model_selection_criteria = 'cross_entropy_loss')\n",
        "```"
      ]
    },
    {
      "cell_type": "code",
      "execution_count": null,
      "metadata": {
        "id": "pMxaZbUqpFD6"
      },
      "outputs": [],
      "source": [
        "train_records = classifier_estimator2.record_set(train.values[:, 1:].astype(np.float32), train.values[:, 0].astype(np.float32), channel='train')\n",
        "val_records = classifier_estimator2.record_set(validate.values[:, 1:].astype(np.float32), validate.values[:, 0].astype(np.float32), channel='validation')\n",
        "test_records = classifier_estimator2.record_set(test.values[:, 1:].astype(np.float32), test.values[:, 0].astype(np.float32), channel='test')"
      ]
    },
    {
      "cell_type": "markdown",
      "metadata": {
        "id": "Cx566ucApFD6"
      },
      "source": [
        "Train your model by using the three datasets that you just created."
      ]
    },
    {
      "cell_type": "code",
      "execution_count": null,
      "metadata": {
        "id": "UDHnm8wPpFD6",
        "outputId": "5836d43f-046c-42d4-f1b5-24205d995b93"
      },
      "outputs": [
        {
          "name": "stderr",
          "output_type": "stream",
          "text": [
            "Defaulting to the only supported framework/algorithm version: 1. Ignoring framework/algorithm version: 1.\n",
            "Defaulting to the only supported framework/algorithm version: 1. Ignoring framework/algorithm version: 1.\n"
          ]
        },
        {
          "name": "stdout",
          "output_type": "stream",
          "text": [
            "2022-04-27 03:36:26 Starting - Starting the training job...\n",
            "2022-04-27 03:36:53 Starting - Preparing the instances for trainingProfilerReport-1651030586: InProgress\n",
            ".........\n",
            "2022-04-27 03:38:19 Downloading - Downloading input data......\n",
            "2022-04-27 03:39:10 Training - Downloading the training image...\n",
            "2022-04-27 03:39:51 Training - Training image download completed. Training in progress.\u001b[34mDocker entrypoint called with argument(s): train\u001b[0m\n",
            "\u001b[34mRunning default environment configuration script\u001b[0m\n",
            "\u001b[34m[04/27/2022 03:39:48 INFO 140247898380096 integration.py:636] worker started\u001b[0m\n",
            "\u001b[34m[04/27/2022 03:39:48 INFO 140247898380096] Reading default configuration from /opt/amazon/lib/python3.7/site-packages/algorithm/resources/default-input.json: {'mini_batch_size': '1000', 'epochs': '15', 'feature_dim': 'auto', 'use_bias': 'true', 'binary_classifier_model_selection_criteria': 'accuracy', 'f_beta': '1.0', 'target_recall': '0.8', 'target_precision': '0.8', 'num_models': 'auto', 'num_calibration_samples': '10000000', 'init_method': 'uniform', 'init_scale': '0.07', 'init_sigma': '0.01', 'init_bias': '0.0', 'optimizer': 'auto', 'loss': 'auto', 'margin': '1.0', 'quantile': '0.5', 'loss_insensitivity': '0.01', 'huber_delta': '1.0', 'num_classes': '1', 'accuracy_top_k': '3', 'wd': 'auto', 'l1': 'auto', 'momentum': 'auto', 'learning_rate': 'auto', 'beta_1': 'auto', 'beta_2': 'auto', 'bias_lr_mult': 'auto', 'bias_wd_mult': 'auto', 'use_lr_scheduler': 'true', 'lr_scheduler_step': 'auto', 'lr_scheduler_factor': 'auto', 'lr_scheduler_minimum_lr': 'auto', 'positive_example_weight_mult': '1.0', 'balance_multiclass_weights': 'false', 'normalize_data': 'true', 'normalize_label': 'auto', 'unbias_data': 'auto', 'unbias_label': 'auto', 'num_point_for_scaler': '10000', '_kvstore': 'auto', '_num_gpus': 'auto', '_num_kv_servers': 'auto', '_log_level': 'info', '_tuning_objective_metric': '', 'early_stopping_patience': '3', 'early_stopping_tolerance': '0.001', '_enable_profiler': 'false'}\u001b[0m\n",
            "\u001b[34m[04/27/2022 03:39:48 INFO 140247898380096] Merging with provided configuration from /opt/ml/input/config/hyperparameters.json: {'binary_classifier_model_selection_criteria': 'cross_entropy_loss', 'feature_dim': '85', 'mini_batch_size': '1000', 'predictor_type': 'binary_classifier'}\u001b[0m\n",
            "\u001b[34m[04/27/2022 03:39:48 INFO 140247898380096] Final configuration: {'mini_batch_size': '1000', 'epochs': '15', 'feature_dim': '85', 'use_bias': 'true', 'binary_classifier_model_selection_criteria': 'cross_entropy_loss', 'f_beta': '1.0', 'target_recall': '0.8', 'target_precision': '0.8', 'num_models': 'auto', 'num_calibration_samples': '10000000', 'init_method': 'uniform', 'init_scale': '0.07', 'init_sigma': '0.01', 'init_bias': '0.0', 'optimizer': 'auto', 'loss': 'auto', 'margin': '1.0', 'quantile': '0.5', 'loss_insensitivity': '0.01', 'huber_delta': '1.0', 'num_classes': '1', 'accuracy_top_k': '3', 'wd': 'auto', 'l1': 'auto', 'momentum': 'auto', 'learning_rate': 'auto', 'beta_1': 'auto', 'beta_2': 'auto', 'bias_lr_mult': 'auto', 'bias_wd_mult': 'auto', 'use_lr_scheduler': 'true', 'lr_scheduler_step': 'auto', 'lr_scheduler_factor': 'auto', 'lr_scheduler_minimum_lr': 'auto', 'positive_example_weight_mult': '1.0', 'balance_multiclass_weights': 'false', 'normalize_data': 'true', 'normalize_label': 'auto', 'unbias_data': 'auto', 'unbias_label': 'auto', 'num_point_for_scaler': '10000', '_kvstore': 'auto', '_num_gpus': 'auto', '_num_kv_servers': 'auto', '_log_level': 'info', '_tuning_objective_metric': '', 'early_stopping_patience': '3', 'early_stopping_tolerance': '0.001', '_enable_profiler': 'false', 'predictor_type': 'binary_classifier'}\u001b[0m\n",
            "\u001b[34m[04/27/2022 03:39:48 WARNING 140247898380096] Loggers have already been setup.\u001b[0m\n",
            "\u001b[34mProcess 1 is a worker.\u001b[0m\n",
            "\u001b[34m[04/27/2022 03:39:48 INFO 140247898380096] Using default worker.\u001b[0m\n",
            "\u001b[34m[04/27/2022 03:39:49 INFO 140247898380096] Checkpoint loading and saving are disabled.\u001b[0m\n",
            "\u001b[34m[2022-04-27 03:39:49.042] [tensorio] [warning] TensorIO is already initialized; ignoring the initialization routine.\u001b[0m\n",
            "\u001b[34m[2022-04-27 03:39:49.061] [tensorio] [warning] TensorIO is already initialized; ignoring the initialization routine.\u001b[0m\n",
            "\u001b[34m[2022-04-27 03:39:49.138] [tensorio] [info] epoch_stats={\"data_pipeline\": \"/opt/ml/input/data/train\", \"epoch\": 0, \"duration\": 112, \"num_examples\": 1, \"num_bytes\": 388000}\u001b[0m\n",
            "\u001b[34m[04/27/2022 03:39:49 INFO 140247898380096] Create Store: local\u001b[0m\n",
            "\u001b[34m[2022-04-27 03:39:49.288] [tensorio] [info] epoch_stats={\"data_pipeline\": \"/opt/ml/input/data/train\", \"epoch\": 1, \"duration\": 149, \"num_examples\": 11, \"num_bytes\": 4268000}\u001b[0m\n",
            "\u001b[34m[04/27/2022 03:39:49 INFO 140247898380096] Scaler algorithm parameters\n",
            " <algorithm.scaler.ScalerAlgorithmStable object at 0x7f8da206a3d0>\u001b[0m\n",
            "\u001b[34m[04/27/2022 03:39:49 INFO 140247898380096] Scaling model computed with parameters:\n",
            " {'stdev_label': None, 'stdev_weight': \u001b[0m\n",
            "\u001b[34m[5.3380994e+02 4.9448071e+00 1.6151268e+01 7.8357048e+01 9.0183998e+01\n",
            " 1.6244287e+01 7.5084206e+01 9.0421379e+01 7.9602437e+00 7.0501900e+00\n",
            " 3.9301756e-01 4.1424629e-01 4.0456259e-01 4.0769601e-01 4.2713851e-01\n",
            " 4.4055560e-01 4.4215265e-01 2.5743130e-01 2.7574477e-01 2.6543400e-01\n",
            " 2.6931262e-01 2.7901694e-01 2.9081422e-01 2.8408656e-01 2.7394879e-01\n",
            " 2.9182872e-01 2.8236720e-01 2.7915207e-01 1.7768297e-01 1.7720398e-01\n",
            " 1.7405386e-01 1.8052627e-01 1.7624156e-01 1.8052630e-01 1.7551579e-01\n",
            " 1.7356345e-01 1.7768295e-01 1.8099521e-01 1.7911111e-01 1.7958425e-01\n",
            " 1.7958428e-01 1.7720398e-01 1.8262549e-01 1.7792189e-01 1.7863652e-01\n",
            " 1.7839867e-01 1.7600000e-01 1.8076093e-01 1.7696393e-01 1.7527308e-01\n",
            " 1.7307143e-01 1.7744367e-01 1.8629009e-01 1.8239364e-01 1.7527309e-01\n",
            " 1.7911114e-01 1.7133678e-01 1.3588250e-01 3.5255858e-01 3.5509995e-01\n",
            " 3.5035077e-01 3.5902092e-01 3.3082199e-01 3.4783390e-01 3.6861750e-01\n",
            " 2.3849466e-01 4.6113515e-01 3.0841848e-01 2.4828209e-01 3.2066047e-01\n",
            " 3.2906228e-01 2.7087054e-01 3.5025820e-01 3.3449423e-01 3.0713817e-01\n",
            " 3.2812390e-01 2.3782338e-01 3.1703681e-01 3.3215645e-01 2.7185535e-01\n",
            " 3.5742745e-01 3.4230524e-01 2.9792824e-01 3.2174498e-01 1.6048272e-01]\u001b[0m\n",
            "\u001b[34m<NDArray 85 @cpu(0)>, 'mean_label': None, 'mean_weight': \u001b[0m\n",
            "\u001b[34m[1.0059099e+03 1.2859000e+01 3.8280907e+01 2.0656273e+01 1.7271077e+02\n",
            " 3.8459637e+01 2.0515909e+01 1.7169894e+02 7.0709091e-01 6.2972724e-01\n",
            " 1.9090909e-01 2.2000004e-01 2.0618184e-01 2.1054548e-01 2.4009092e-01\n",
            " 2.6354548e-01 2.6654547e-01 7.1363643e-02 8.2909100e-02 7.6272734e-02\n",
            " 7.8727275e-02 8.5090920e-02 9.3272753e-02 8.8545457e-02 8.1727289e-02\n",
            " 9.4000004e-02 8.7363638e-02 8.5181825e-02 3.2636367e-02 3.2454547e-02\n",
            " 3.1272728e-02 3.3727277e-02 3.2090910e-02 3.3727273e-02 3.1818181e-02\n",
            " 3.1090908e-02 3.2636367e-02 3.3909094e-02 3.3181816e-02 3.3363640e-02\n",
            " 3.3363637e-02 3.2454554e-02 3.4545455e-02 3.2727271e-02 3.3000000e-02\n",
            " 3.2909088e-02 3.2000002e-02 3.3818182e-02 3.2363642e-02 3.1727277e-02\n",
            " 3.0909095e-02 3.2545455e-02 3.6000002e-02 3.4454547e-02 3.1727273e-02\n",
            " 3.3181820e-02 3.0272730e-02 1.8818183e-02 1.4545454e-01 1.4800002e-01\n",
            " 1.4327276e-01 1.5200002e-01 1.2509091e-01 1.4081819e-01 1.6218182e-01\n",
            " 6.0545459e-02 3.0672735e-01 1.0645456e-01 6.6000000e-02 1.1636365e-01\n",
            " 1.2354545e-01 7.9727262e-02 1.4318185e-01 1.2836364e-01 1.0545455e-01\n",
            " 1.2272728e-01 6.0181823e-02 1.1336365e-01 1.2627275e-01 8.0363646e-02\n",
            " 1.5036362e-01 1.3554546e-01 9.8454557e-02 1.1727274e-01 2.6454547e-02]\u001b[0m\n",
            "\u001b[34m<NDArray 85 @cpu(0)>}\u001b[0m\n",
            "\u001b[34m[04/27/2022 03:39:49 INFO 140247898380096] nvidia-smi: took 0.035 seconds to run.\u001b[0m\n",
            "\u001b[34m[04/27/2022 03:39:49 INFO 140247898380096] nvidia-smi identified 0 GPUs.\u001b[0m\n",
            "\u001b[34m[04/27/2022 03:39:49 INFO 140247898380096] Number of GPUs being used: 0\u001b[0m\n",
            "\u001b[34m#metrics {\"StartTime\": 1651030789.4519134, \"EndTime\": 1651030789.451958, \"Dimensions\": {\"Algorithm\": \"Linear Learner\", \"Host\": \"algo-1\", \"Operation\": \"training\", \"Meta\": \"init_train_data_iter\"}, \"Metrics\": {\"Total Records Seen\": {\"sum\": 12000.0, \"count\": 1, \"min\": 12000, \"max\": 12000}, \"Total Batches Seen\": {\"sum\": 12.0, \"count\": 1, \"min\": 12, \"max\": 12}, \"Max Records Seen Between Resets\": {\"sum\": 11000.0, \"count\": 1, \"min\": 11000, \"max\": 11000}, \"Max Batches Seen Between Resets\": {\"sum\": 11.0, \"count\": 1, \"min\": 11, \"max\": 11}, \"Reset Count\": {\"sum\": 2.0, \"count\": 1, \"min\": 2, \"max\": 2}, \"Number of Records Since Last Reset\": {\"sum\": 0.0, \"count\": 1, \"min\": 0, \"max\": 0}, \"Number of Batches Since Last Reset\": {\"sum\": 0.0, \"count\": 1, \"min\": 0, \"max\": 0}}}\u001b[0m\n",
            "\u001b[34m[2022-04-27 03:40:48.408] [tensorio] [info] epoch_stats={\"data_pipeline\": \"/opt/ml/input/data/train\", \"epoch\": 3, \"duration\": 58955, \"num_examples\": 1309, \"num_bytes\": 507687136}\u001b[0m\n",
            "\u001b[34m#metrics {\"StartTime\": 1651030848.408204, \"EndTime\": 1651030848.4083118, \"Dimensions\": {\"Algorithm\": \"Linear Learner\", \"Host\": \"algo-1\", \"Operation\": \"training\", \"epoch\": 0, \"model\": 0}, \"Metrics\": {\"train_binary_classification_cross_entropy_objective\": {\"sum\": 0.4830033321322287, \"count\": 1, \"min\": 0.4830033321322287, \"max\": 0.4830033321322287}}}\u001b[0m\n",
            "\u001b[34m#metrics {\"StartTime\": 1651030848.4084415, \"EndTime\": 1651030848.408465, \"Dimensions\": {\"Algorithm\": \"Linear Learner\", \"Host\": \"algo-1\", \"Operation\": \"training\", \"epoch\": 0, \"model\": 1}, \"Metrics\": {\"train_binary_classification_cross_entropy_objective\": {\"sum\": 0.4836204549340298, \"count\": 1, \"min\": 0.4836204549340298, \"max\": 0.4836204549340298}}}\u001b[0m\n",
            "\u001b[34m#metrics {\"StartTime\": 1651030848.4089396, \"EndTime\": 1651030848.4089694, \"Dimensions\": {\"Algorithm\": \"Linear Learner\", \"Host\": \"algo-1\", \"Operation\": \"training\", \"epoch\": 0, \"model\": 2}, \"Metrics\": {\"train_binary_classification_cross_entropy_objective\": {\"sum\": 0.48308995508783087, \"count\": 1, \"min\": 0.48308995508783087, \"max\": 0.48308995508783087}}}\u001b[0m\n",
            "\u001b[34m#metrics {\"StartTime\": 1651030848.4090393, \"EndTime\": 1651030848.4090576, \"Dimensions\": {\"Algorithm\": \"Linear Learner\", \"Host\": \"algo-1\", \"Operation\": \"training\", \"epoch\": 0, \"model\": 3}, \"Metrics\": {\"train_binary_classification_cross_entropy_objective\": {\"sum\": 0.48363296660443694, \"count\": 1, \"min\": 0.48363296660443694, \"max\": 0.48363296660443694}}}\u001b[0m\n",
            "\u001b[34m#metrics {\"StartTime\": 1651030848.4091191, \"EndTime\": 1651030848.409139, \"Dimensions\": {\"Algorithm\": \"Linear Learner\", \"Host\": \"algo-1\", \"Operation\": \"training\", \"epoch\": 0, \"model\": 4}, \"Metrics\": {\"train_binary_classification_cross_entropy_objective\": {\"sum\": 0.49515625212316483, \"count\": 1, \"min\": 0.49515625212316483, \"max\": 0.49515625212316483}}}\u001b[0m\n",
            "\u001b[34m#metrics {\"StartTime\": 1651030848.4092038, \"EndTime\": 1651030848.4092207, \"Dimensions\": {\"Algorithm\": \"Linear Learner\", \"Host\": \"algo-1\", \"Operation\": \"training\", \"epoch\": 0, \"model\": 5}, \"Metrics\": {\"train_binary_classification_cross_entropy_objective\": {\"sum\": 0.5050671898378145, \"count\": 1, \"min\": 0.5050671898378145, \"max\": 0.5050671898378145}}}\u001b[0m\n",
            "\u001b[34m#metrics {\"StartTime\": 1651030848.4092774, \"EndTime\": 1651030848.4093213, \"Dimensions\": {\"Algorithm\": \"Linear Learner\", \"Host\": \"algo-1\", \"Operation\": \"training\", \"epoch\": 0, \"model\": 6}, \"Metrics\": {\"train_binary_classification_cross_entropy_objective\": {\"sum\": 0.49518968468995633, \"count\": 1, \"min\": 0.49518968468995633, \"max\": 0.49518968468995633}}}\u001b[0m\n",
            "\u001b[34m#metrics {\"StartTime\": 1651030848.4093866, \"EndTime\": 1651030848.4094048, \"Dimensions\": {\"Algorithm\": \"Linear Learner\", \"Host\": \"algo-1\", \"Operation\": \"training\", \"epoch\": 0, \"model\": 7}, \"Metrics\": {\"train_binary_classification_cross_entropy_objective\": {\"sum\": 0.505006441612127, \"count\": 1, \"min\": 0.505006441612127, \"max\": 0.505006441612127}}}\u001b[0m\n",
            "\u001b[34m#metrics {\"StartTime\": 1651030848.409468, \"EndTime\": 1651030848.4094856, \"Dimensions\": {\"Algorithm\": \"Linear Learner\", \"Host\": \"algo-1\", \"Operation\": \"training\", \"epoch\": 0, \"model\": 8}, \"Metrics\": {\"train_binary_classification_cross_entropy_objective\": {\"sum\": 0.48331209335560466, \"count\": 1, \"min\": 0.48331209335560466, \"max\": 0.48331209335560466}}}\u001b[0m\n",
            "\u001b[34m#metrics {\"StartTime\": 1651030848.40954, \"EndTime\": 1651030848.4095547, \"Dimensions\": {\"Algorithm\": \"Linear Learner\", \"Host\": \"algo-1\", \"Operation\": \"training\", \"epoch\": 0, \"model\": 9}, \"Metrics\": {\"train_binary_classification_cross_entropy_objective\": {\"sum\": 0.48380749315734306, \"count\": 1, \"min\": 0.48380749315734306, \"max\": 0.48380749315734306}}}\u001b[0m\n",
            "\u001b[34m#metrics {\"StartTime\": 1651030848.4096067, \"EndTime\": 1651030848.4096224, \"Dimensions\": {\"Algorithm\": \"Linear Learner\", \"Host\": \"algo-1\", \"Operation\": \"training\", \"epoch\": 0, \"model\": 10}, \"Metrics\": {\"train_binary_classification_cross_entropy_objective\": {\"sum\": 0.4832442635819088, \"count\": 1, \"min\": 0.4832442635819088, \"max\": 0.4832442635819088}}}\u001b[0m\n",
            "\u001b[34m#metrics {\"StartTime\": 1651030848.4096763, \"EndTime\": 1651030848.4097016, \"Dimensions\": {\"Algorithm\": \"Linear Learner\", \"Host\": \"algo-1\", \"Operation\": \"training\", \"epoch\": 0, \"model\": 11}, \"Metrics\": {\"train_binary_classification_cross_entropy_objective\": {\"sum\": 0.4837632023755928, \"count\": 1, \"min\": 0.4837632023755928, \"max\": 0.4837632023755928}}}\u001b[0m\n",
            "\u001b[34m#metrics {\"StartTime\": 1651030848.409752, \"EndTime\": 1651030848.409767, \"Dimensions\": {\"Algorithm\": \"Linear Learner\", \"Host\": \"algo-1\", \"Operation\": \"training\", \"epoch\": 0, \"model\": 12}, \"Metrics\": {\"train_binary_classification_cross_entropy_objective\": {\"sum\": 0.4944365639176208, \"count\": 1, \"min\": 0.4944365639176208, \"max\": 0.4944365639176208}}}\u001b[0m\n",
            "\u001b[34m#metrics {\"StartTime\": 1651030848.4098175, \"EndTime\": 1651030848.409833, \"Dimensions\": {\"Algorithm\": \"Linear Learner\", \"Host\": \"algo-1\", \"Operation\": \"training\", \"epoch\": 0, \"model\": 13}, \"Metrics\": {\"train_binary_classification_cross_entropy_objective\": {\"sum\": 0.503547633039842, \"count\": 1, \"min\": 0.503547633039842, \"max\": 0.503547633039842}}}\u001b[0m\n",
            "\u001b[34m#metrics {\"StartTime\": 1651030848.4098861, \"EndTime\": 1651030848.4099016, \"Dimensions\": {\"Algorithm\": \"Linear Learner\", \"Host\": \"algo-1\", \"Operation\": \"training\", \"epoch\": 0, \"model\": 14}, \"Metrics\": {\"train_binary_classification_cross_entropy_objective\": {\"sum\": 0.4944756287741005, \"count\": 1, \"min\": 0.4944756287741005, \"max\": 0.4944756287741005}}}\u001b[0m\n",
            "\u001b[34m#metrics {\"StartTime\": 1651030848.4099555, \"EndTime\": 1651030848.4099715, \"Dimensions\": {\"Algorithm\": \"Linear Learner\", \"Host\": \"algo-1\", \"Operation\": \"training\", \"epoch\": 0, \"model\": 15}, \"Metrics\": {\"train_binary_classification_cross_entropy_objective\": {\"sum\": 0.5035583826234217, \"count\": 1, \"min\": 0.5035583826234217, \"max\": 0.5035583826234217}}}\u001b[0m\n",
            "\u001b[34m#metrics {\"StartTime\": 1651030848.4100273, \"EndTime\": 1651030848.410042, \"Dimensions\": {\"Algorithm\": \"Linear Learner\", \"Host\": \"algo-1\", \"Operation\": \"training\", \"epoch\": 0, \"model\": 16}, \"Metrics\": {\"train_binary_classification_cross_entropy_objective\": {\"sum\": 0.5057924352056754, \"count\": 1, \"min\": 0.5057924352056754, \"max\": 0.5057924352056754}}}\u001b[0m\n",
            "\u001b[34m#metrics {\"StartTime\": 1651030848.4101102, \"EndTime\": 1651030848.410128, \"Dimensions\": {\"Algorithm\": \"Linear Learner\", \"Host\": \"algo-1\", \"Operation\": \"training\", \"epoch\": 0, \"model\": 17}, \"Metrics\": {\"train_binary_classification_cross_entropy_objective\": {\"sum\": 0.5059330064499414, \"count\": 1, \"min\": 0.5059330064499414, \"max\": 0.5059330064499414}}}\u001b[0m\n",
            "\u001b[34m#metrics {\"StartTime\": 1651030848.410186, \"EndTime\": 1651030848.4102063, \"Dimensions\": {\"Algorithm\": \"Linear Learner\", \"Host\": \"algo-1\", \"Operation\": \"training\", \"epoch\": 0, \"model\": 18}, \"Metrics\": {\"train_binary_classification_cross_entropy_objective\": {\"sum\": 0.5057703422056425, \"count\": 1, \"min\": 0.5057703422056425, \"max\": 0.5057703422056425}}}\u001b[0m\n",
            "\u001b[34m#metrics {\"StartTime\": 1651030848.4102814, \"EndTime\": 1651030848.4103003, \"Dimensions\": {\"Algorithm\": \"Linear Learner\", \"Host\": \"algo-1\", \"Operation\": \"training\", \"epoch\": 0, \"model\": 19}, \"Metrics\": {\"train_binary_classification_cross_entropy_objective\": {\"sum\": 0.5058818940562211, \"count\": 1, \"min\": 0.5058818940562211, \"max\": 0.5058818940562211}}}\u001b[0m\n",
            "\u001b[34m#metrics {\"StartTime\": 1651030848.4103625, \"EndTime\": 1651030848.4103782, \"Dimensions\": {\"Algorithm\": \"Linear Learner\", \"Host\": \"algo-1\", \"Operation\": \"training\", \"epoch\": 0, \"model\": 20}, \"Metrics\": {\"train_binary_classification_cross_entropy_objective\": {\"sum\": 0.5070818127506734, \"count\": 1, \"min\": 0.5070818127506734, \"max\": 0.5070818127506734}}}\u001b[0m\n",
            "\u001b[34m#metrics {\"StartTime\": 1651030848.410453, \"EndTime\": 1651030848.4104717, \"Dimensions\": {\"Algorithm\": \"Linear Learner\", \"Host\": \"algo-1\", \"Operation\": \"training\", \"epoch\": 0, \"model\": 21}, \"Metrics\": {\"train_binary_classification_cross_entropy_objective\": {\"sum\": 0.5089385141495171, \"count\": 1, \"min\": 0.5089385141495171, \"max\": 0.5089385141495171}}}\u001b[0m\n",
            "\u001b[34m#metrics {\"StartTime\": 1651030848.4105284, \"EndTime\": 1651030848.410545, \"Dimensions\": {\"Algorithm\": \"Linear Learner\", \"Host\": \"algo-1\", \"Operation\": \"training\", \"epoch\": 0, \"model\": 22}, \"Metrics\": {\"train_binary_classification_cross_entropy_objective\": {\"sum\": 0.5070832219955025, \"count\": 1, \"min\": 0.5070832219955025, \"max\": 0.5070832219955025}}}\u001b[0m\n",
            "\u001b[34m#metrics {\"StartTime\": 1651030848.410606, \"EndTime\": 1651030848.4106207, \"Dimensions\": {\"Algorithm\": \"Linear Learner\", \"Host\": \"algo-1\", \"Operation\": \"training\", \"epoch\": 0, \"model\": 23}, \"Metrics\": {\"train_binary_classification_cross_entropy_objective\": {\"sum\": 0.5089549300867483, \"count\": 1, \"min\": 0.5089549300867483, \"max\": 0.5089549300867483}}}\u001b[0m\n",
            "\u001b[34m#metrics {\"StartTime\": 1651030848.4107282, \"EndTime\": 1651030848.4107575, \"Dimensions\": {\"Algorithm\": \"Linear Learner\", \"Host\": \"algo-1\", \"Operation\": \"training\", \"epoch\": 0, \"model\": 24}, \"Metrics\": {\"train_binary_classification_cross_entropy_objective\": {\"sum\": 0.5150236793774713, \"count\": 1, \"min\": 0.5150236793774713, \"max\": 0.5150236793774713}}}\u001b[0m\n",
            "\u001b[34m#metrics {\"StartTime\": 1651030848.4108224, \"EndTime\": 1651030848.4108396, \"Dimensions\": {\"Algorithm\": \"Linear Learner\", \"Host\": \"algo-1\", \"Operation\": \"training\", \"epoch\": 0, \"model\": 25}, \"Metrics\": {\"train_binary_classification_cross_entropy_objective\": {\"sum\": 0.515053018132481, \"count\": 1, \"min\": 0.515053018132481, \"max\": 0.515053018132481}}}\u001b[0m\n",
            "\u001b[34m#metrics {\"StartTime\": 1651030848.4108949, \"EndTime\": 1651030848.4109106, \"Dimensions\": {\"Algorithm\": \"Linear Learner\", \"Host\": \"algo-1\", \"Operation\": \"training\", \"epoch\": 0, \"model\": 26}, \"Metrics\": {\"train_binary_classification_cross_entropy_objective\": {\"sum\": 0.5150346017773363, \"count\": 1, \"min\": 0.5150346017773363, \"max\": 0.5150346017773363}}}\u001b[0m\n",
            "\u001b[34m#metrics {\"StartTime\": 1651030848.4109623, \"EndTime\": 1651030848.4109774, \"Dimensions\": {\"Algorithm\": \"Linear Learner\", \"Host\": \"algo-1\", \"Operation\": \"training\", \"epoch\": 0, \"model\": 27}, \"Metrics\": {\"train_binary_classification_cross_entropy_objective\": {\"sum\": 0.515083932602442, \"count\": 1, \"min\": 0.515083932602442, \"max\": 0.515083932602442}}}\u001b[0m\n",
            "\u001b[34m#metrics {\"StartTime\": 1651030848.4110224, \"EndTime\": 1651030848.411033, \"Dimensions\": {\"Algorithm\": \"Linear Learner\", \"Host\": \"algo-1\", \"Operation\": \"training\", \"epoch\": 0, \"model\": 28}, \"Metrics\": {\"train_binary_classification_cross_entropy_objective\": {\"sum\": 0.5150256128340321, \"count\": 1, \"min\": 0.5150256128340321, \"max\": 0.5150256128340321}}}\u001b[0m\n",
            "\u001b[34m#metrics {\"StartTime\": 1651030848.4110832, \"EndTime\": 1651030848.411099, \"Dimensions\": {\"Algorithm\": \"Linear Learner\", \"Host\": \"algo-1\", \"Operation\": \"training\", \"epoch\": 0, \"model\": 29}, \"Metrics\": {\"train_binary_classification_cross_entropy_objective\": {\"sum\": 0.5157649352047422, \"count\": 1, \"min\": 0.5157649352047422, \"max\": 0.5157649352047422}}}\u001b[0m\n",
            "\u001b[34m#metrics {\"StartTime\": 1651030848.4111516, \"EndTime\": 1651030848.411162, \"Dimensions\": {\"Algorithm\": \"Linear Learner\", \"Host\": \"algo-1\", \"Operation\": \"training\", \"epoch\": 0, \"model\": 30}, \"Metrics\": {\"train_binary_classification_cross_entropy_objective\": {\"sum\": 0.5150116936686571, \"count\": 1, \"min\": 0.5150116936686571, \"max\": 0.5150116936686571}}}\u001b[0m\n",
            "\u001b[34m#metrics {\"StartTime\": 1651030848.411197, \"EndTime\": 1651030848.411211, \"Dimensions\": {\"Algorithm\": \"Linear Learner\", \"Host\": \"algo-1\", \"Operation\": \"training\", \"epoch\": 0, \"model\": 31}, \"Metrics\": {\"train_binary_classification_cross_entropy_objective\": {\"sum\": 0.5157430576009487, \"count\": 1, \"min\": 0.5157430576009487, \"max\": 0.5157430576009487}}}\u001b[0m\n",
            "\u001b[34m[04/27/2022 03:40:48 INFO 140247898380096] #quality_metric: host=algo-1, epoch=0, train binary_classification_cross_entropy_objective <loss>=0.4830033321322287\u001b[0m\n",
            "\u001b[34m[2022-04-27 03:40:48.444] [tensorio] [info] epoch_stats={\"data_pipeline\": \"/opt/ml/input/data/validation\", \"epoch\": 0, \"duration\": 59401, \"num_examples\": 1, \"num_bytes\": 388000}\u001b[0m\n",
            "\u001b[34m[2022-04-27 03:40:54.160] [tensorio] [info] epoch_stats={\"data_pipeline\": \"/opt/ml/input/data/validation\", \"epoch\": 2, \"duration\": 5715, \"num_examples\": 164, \"num_bytes\": 63460892}\u001b[0m\n",
            "\u001b[34m#metrics {\"StartTime\": 1651030854.1705093, \"EndTime\": 1651030854.170607, \"Dimensions\": {\"Algorithm\": \"Linear Learner\", \"Host\": \"algo-1\", \"Operation\": \"training\", \"epoch\": 0, \"model\": 0}, \"Metrics\": {\"validation_binary_classification_cross_entropy_objective\": {\"sum\": 0.48144327910185986, \"count\": 1, \"min\": 0.48144327910185986, \"max\": 0.48144327910185986}}}\u001b[0m\n",
            "\u001b[34m#metrics {\"StartTime\": 1651030854.1707325, \"EndTime\": 1651030854.170757, \"Dimensions\": {\"Algorithm\": \"Linear Learner\", \"Host\": \"algo-1\", \"Operation\": \"training\", \"epoch\": 0, \"model\": 1}, \"Metrics\": {\"validation_binary_classification_cross_entropy_objective\": {\"sum\": 0.48290734945900876, \"count\": 1, \"min\": 0.48290734945900876, \"max\": 0.48290734945900876}}}\u001b[0m\n",
            "\u001b[34m#metrics {\"StartTime\": 1651030854.1708267, \"EndTime\": 1651030854.1708462, \"Dimensions\": {\"Algorithm\": \"Linear Learner\", \"Host\": \"algo-1\", \"Operation\": \"training\", \"epoch\": 0, \"model\": 2}, \"Metrics\": {\"validation_binary_classification_cross_entropy_objective\": {\"sum\": 0.4814425538478159, \"count\": 1, \"min\": 0.4814425538478159, \"max\": 0.4814425538478159}}}\u001b[0m\n",
            "\u001b[34m#metrics {\"StartTime\": 1651030854.170916, \"EndTime\": 1651030854.17097, \"Dimensions\": {\"Algorithm\": \"Linear Learner\", \"Host\": \"algo-1\", \"Operation\": \"training\", \"epoch\": 0, \"model\": 3}, \"Metrics\": {\"validation_binary_classification_cross_entropy_objective\": {\"sum\": 0.4829094595433882, \"count\": 1, \"min\": 0.4829094595433882, \"max\": 0.4829094595433882}}}\u001b[0m\n",
            "\u001b[34m#metrics {\"StartTime\": 1651030854.171085, \"EndTime\": 1651030854.1711082, \"Dimensions\": {\"Algorithm\": \"Linear Learner\", \"Host\": \"algo-1\", \"Operation\": \"training\", \"epoch\": 0, \"model\": 4}, \"Metrics\": {\"validation_binary_classification_cross_entropy_objective\": {\"sum\": 0.4895416070009164, \"count\": 1, \"min\": 0.4895416070009164, \"max\": 0.4895416070009164}}}\u001b[0m\n",
            "\u001b[34m#metrics {\"StartTime\": 1651030854.1711748, \"EndTime\": 1651030854.1711915, \"Dimensions\": {\"Algorithm\": \"Linear Learner\", \"Host\": \"algo-1\", \"Operation\": \"training\", \"epoch\": 0, \"model\": 5}, \"Metrics\": {\"validation_binary_classification_cross_entropy_objective\": {\"sum\": 0.49605841536922457, \"count\": 1, \"min\": 0.49605841536922457, \"max\": 0.49605841536922457}}}\u001b[0m\n",
            "\u001b[34m#metrics {\"StartTime\": 1651030854.1712523, \"EndTime\": 1651030854.1712704, \"Dimensions\": {\"Algorithm\": \"Linear Learner\", \"Host\": \"algo-1\", \"Operation\": \"training\", \"epoch\": 0, \"model\": 6}, \"Metrics\": {\"validation_binary_classification_cross_entropy_objective\": {\"sum\": 0.4895375446826647, \"count\": 1, \"min\": 0.4895375446826647, \"max\": 0.4895375446826647}}}\u001b[0m\n",
            "\u001b[34m#metrics {\"StartTime\": 1651030854.1713297, \"EndTime\": 1651030854.1713493, \"Dimensions\": {\"Algorithm\": \"Linear Learner\", \"Host\": \"algo-1\", \"Operation\": \"training\", \"epoch\": 0, \"model\": 7}, \"Metrics\": {\"validation_binary_classification_cross_entropy_objective\": {\"sum\": 0.4960468904163597, \"count\": 1, \"min\": 0.4960468904163597, \"max\": 0.4960468904163597}}}\u001b[0m\n",
            "\u001b[34m#metrics {\"StartTime\": 1651030854.17141, \"EndTime\": 1651030854.1714268, \"Dimensions\": {\"Algorithm\": \"Linear Learner\", \"Host\": \"algo-1\", \"Operation\": \"training\", \"epoch\": 0, \"model\": 8}, \"Metrics\": {\"validation_binary_classification_cross_entropy_objective\": {\"sum\": 0.481657974823162, \"count\": 1, \"min\": 0.481657974823162, \"max\": 0.481657974823162}}}\u001b[0m\n",
            "\u001b[34m#metrics {\"StartTime\": 1651030854.171485, \"EndTime\": 1651030854.1715062, \"Dimensions\": {\"Algorithm\": \"Linear Learner\", \"Host\": \"algo-1\", \"Operation\": \"training\", \"epoch\": 0, \"model\": 9}, \"Metrics\": {\"validation_binary_classification_cross_entropy_objective\": {\"sum\": 0.4829526324034231, \"count\": 1, \"min\": 0.4829526324034231, \"max\": 0.4829526324034231}}}\u001b[0m\n",
            "\u001b[34m#metrics {\"StartTime\": 1651030854.1715806, \"EndTime\": 1651030854.171599, \"Dimensions\": {\"Algorithm\": \"Linear Learner\", \"Host\": \"algo-1\", \"Operation\": \"training\", \"epoch\": 0, \"model\": 10}, \"Metrics\": {\"validation_binary_classification_cross_entropy_objective\": {\"sum\": 0.4816573835368062, \"count\": 1, \"min\": 0.4816573835368062, \"max\": 0.4816573835368062}}}\u001b[0m\n",
            "\u001b[34m#metrics {\"StartTime\": 1651030854.171667, \"EndTime\": 1651030854.171685, \"Dimensions\": {\"Algorithm\": \"Linear Learner\", \"Host\": \"algo-1\", \"Operation\": \"training\", \"epoch\": 0, \"model\": 11}, \"Metrics\": {\"validation_binary_classification_cross_entropy_objective\": {\"sum\": 0.4829507206583925, \"count\": 1, \"min\": 0.4829507206583925, \"max\": 0.4829507206583925}}}\u001b[0m\n",
            "\u001b[34m#metrics {\"StartTime\": 1651030854.1717358, \"EndTime\": 1651030854.1717513, \"Dimensions\": {\"Algorithm\": \"Linear Learner\", \"Host\": \"algo-1\", \"Operation\": \"training\", \"epoch\": 0, \"model\": 12}, \"Metrics\": {\"validation_binary_classification_cross_entropy_objective\": {\"sum\": 0.4890971822566465, \"count\": 1, \"min\": 0.4890971822566465, \"max\": 0.4890971822566465}}}\u001b[0m\n",
            "\u001b[34m#metrics {\"StartTime\": 1651030854.1718144, \"EndTime\": 1651030854.1718316, \"Dimensions\": {\"Algorithm\": \"Linear Learner\", \"Host\": \"algo-1\", \"Operation\": \"training\", \"epoch\": 0, \"model\": 13}, \"Metrics\": {\"validation_binary_classification_cross_entropy_objective\": {\"sum\": 0.49444137369025426, \"count\": 1, \"min\": 0.49444137369025426, \"max\": 0.49444137369025426}}}\u001b[0m\n",
            "\u001b[34m#metrics {\"StartTime\": 1651030854.171877, \"EndTime\": 1651030854.1718864, \"Dimensions\": {\"Algorithm\": \"Linear Learner\", \"Host\": \"algo-1\", \"Operation\": \"training\", \"epoch\": 0, \"model\": 14}, \"Metrics\": {\"validation_binary_classification_cross_entropy_objective\": {\"sum\": 0.4890869990330921, \"count\": 1, \"min\": 0.4890869990330921, \"max\": 0.4890869990330921}}}\u001b[0m\n",
            "\u001b[34m#metrics {\"StartTime\": 1651030854.171922, \"EndTime\": 1651030854.1719315, \"Dimensions\": {\"Algorithm\": \"Linear Learner\", \"Host\": \"algo-1\", \"Operation\": \"training\", \"epoch\": 0, \"model\": 15}, \"Metrics\": {\"validation_binary_classification_cross_entropy_objective\": {\"sum\": 0.4944428350202445, \"count\": 1, \"min\": 0.4944428350202445, \"max\": 0.4944428350202445}}}\u001b[0m\n",
            "\u001b[34m#metrics {\"StartTime\": 1651030854.1719792, \"EndTime\": 1651030854.1719892, \"Dimensions\": {\"Algorithm\": \"Linear Learner\", \"Host\": \"algo-1\", \"Operation\": \"training\", \"epoch\": 0, \"model\": 16}, \"Metrics\": {\"validation_binary_classification_cross_entropy_objective\": {\"sum\": 0.5041973767129474, \"count\": 1, \"min\": 0.5041973767129474, \"max\": 0.5041973767129474}}}\u001b[0m\n",
            "\u001b[34m#metrics {\"StartTime\": 1651030854.1720264, \"EndTime\": 1651030854.1720357, \"Dimensions\": {\"Algorithm\": \"Linear Learner\", \"Host\": \"algo-1\", \"Operation\": \"training\", \"epoch\": 0, \"model\": 17}, \"Metrics\": {\"validation_binary_classification_cross_entropy_objective\": {\"sum\": 0.5048704958690007, \"count\": 1, \"min\": 0.5048704958690007, \"max\": 0.5048704958690007}}}\u001b[0m\n",
            "\u001b[34m#metrics {\"StartTime\": 1651030854.1720705, \"EndTime\": 1651030854.1720798, \"Dimensions\": {\"Algorithm\": \"Linear Learner\", \"Host\": \"algo-1\", \"Operation\": \"training\", \"epoch\": 0, \"model\": 18}, \"Metrics\": {\"validation_binary_classification_cross_entropy_objective\": {\"sum\": 0.5041894506023772, \"count\": 1, \"min\": 0.5041894506023772, \"max\": 0.5041894506023772}}}\u001b[0m\n",
            "\u001b[34m#metrics {\"StartTime\": 1651030854.1721144, \"EndTime\": 1651030854.1721234, \"Dimensions\": {\"Algorithm\": \"Linear Learner\", \"Host\": \"algo-1\", \"Operation\": \"training\", \"epoch\": 0, \"model\": 19}, \"Metrics\": {\"validation_binary_classification_cross_entropy_objective\": {\"sum\": 0.5048889987098859, \"count\": 1, \"min\": 0.5048889987098859, \"max\": 0.5048889987098859}}}\u001b[0m\n",
            "\u001b[34m#metrics {\"StartTime\": 1651030854.1721575, \"EndTime\": 1651030854.1721663, \"Dimensions\": {\"Algorithm\": \"Linear Learner\", \"Host\": \"algo-1\", \"Operation\": \"training\", \"epoch\": 0, \"model\": 20}, \"Metrics\": {\"validation_binary_classification_cross_entropy_objective\": {\"sum\": 0.5077663949641739, \"count\": 1, \"min\": 0.5077663949641739, \"max\": 0.5077663949641739}}}\u001b[0m\n",
            "\u001b[34m#metrics {\"StartTime\": 1651030854.1722002, \"EndTime\": 1651030854.1722093, \"Dimensions\": {\"Algorithm\": \"Linear Learner\", \"Host\": \"algo-1\", \"Operation\": \"training\", \"epoch\": 0, \"model\": 21}, \"Metrics\": {\"validation_binary_classification_cross_entropy_objective\": {\"sum\": 0.5054677210236682, \"count\": 1, \"min\": 0.5054677210236682, \"max\": 0.5054677210236682}}}\u001b[0m\n",
            "\u001b[34m#metrics {\"StartTime\": 1651030854.172243, \"EndTime\": 1651030854.1722524, \"Dimensions\": {\"Algorithm\": \"Linear Learner\", \"Host\": \"algo-1\", \"Operation\": \"training\", \"epoch\": 0, \"model\": 22}, \"Metrics\": {\"validation_binary_classification_cross_entropy_objective\": {\"sum\": 0.5077755195071403, \"count\": 1, \"min\": 0.5077755195071403, \"max\": 0.5077755195071403}}}\u001b[0m\n",
            "\u001b[34m#metrics {\"StartTime\": 1651030854.1722863, \"EndTime\": 1651030854.172295, \"Dimensions\": {\"Algorithm\": \"Linear Learner\", \"Host\": \"algo-1\", \"Operation\": \"training\", \"epoch\": 0, \"model\": 23}, \"Metrics\": {\"validation_binary_classification_cross_entropy_objective\": {\"sum\": 0.5054608754240753, \"count\": 1, \"min\": 0.5054608754240753, \"max\": 0.5054608754240753}}}\u001b[0m\n",
            "\u001b[34m#metrics {\"StartTime\": 1651030854.1723223, \"EndTime\": 1651030854.17233, \"Dimensions\": {\"Algorithm\": \"Linear Learner\", \"Host\": \"algo-1\", \"Operation\": \"training\", \"epoch\": 0, \"model\": 24}, \"Metrics\": {\"validation_binary_classification_cross_entropy_objective\": {\"sum\": 0.513716919116224, \"count\": 1, \"min\": 0.513716919116224, \"max\": 0.513716919116224}}}\u001b[0m\n",
            "\u001b[34m#metrics {\"StartTime\": 1651030854.1723623, \"EndTime\": 1651030854.1723711, \"Dimensions\": {\"Algorithm\": \"Linear Learner\", \"Host\": \"algo-1\", \"Operation\": \"training\", \"epoch\": 0, \"model\": 25}, \"Metrics\": {\"validation_binary_classification_cross_entropy_objective\": {\"sum\": 0.5143412264547647, \"count\": 1, \"min\": 0.5143412264547647, \"max\": 0.5143412264547647}}}\u001b[0m\n",
            "\u001b[34m#metrics {\"StartTime\": 1651030854.1724048, \"EndTime\": 1651030854.1724136, \"Dimensions\": {\"Algorithm\": \"Linear Learner\", \"Host\": \"algo-1\", \"Operation\": \"training\", \"epoch\": 0, \"model\": 26}, \"Metrics\": {\"validation_binary_classification_cross_entropy_objective\": {\"sum\": 0.513703432413676, \"count\": 1, \"min\": 0.513703432413676, \"max\": 0.513703432413676}}}\u001b[0m\n",
            "\u001b[34m#metrics {\"StartTime\": 1651030854.1724477, \"EndTime\": 1651030854.1724565, \"Dimensions\": {\"Algorithm\": \"Linear Learner\", \"Host\": \"algo-1\", \"Operation\": \"training\", \"epoch\": 0, \"model\": 27}, \"Metrics\": {\"validation_binary_classification_cross_entropy_objective\": {\"sum\": 0.5143436240658952, \"count\": 1, \"min\": 0.5143436240658952, \"max\": 0.5143436240658952}}}\u001b[0m\n",
            "\u001b[34m#metrics {\"StartTime\": 1651030854.1724904, \"EndTime\": 1651030854.172499, \"Dimensions\": {\"Algorithm\": \"Linear Learner\", \"Host\": \"algo-1\", \"Operation\": \"training\", \"epoch\": 0, \"model\": 28}, \"Metrics\": {\"validation_binary_classification_cross_entropy_objective\": {\"sum\": 0.5151567290072528, \"count\": 1, \"min\": 0.5151567290072528, \"max\": 0.5151567290072528}}}\u001b[0m\n",
            "\u001b[34m#metrics {\"StartTime\": 1651030854.1725328, \"EndTime\": 1651030854.1725414, \"Dimensions\": {\"Algorithm\": \"Linear Learner\", \"Host\": \"algo-1\", \"Operation\": \"training\", \"epoch\": 0, \"model\": 29}, \"Metrics\": {\"validation_binary_classification_cross_entropy_objective\": {\"sum\": 0.5137377643392207, \"count\": 1, \"min\": 0.5137377643392207, \"max\": 0.5137377643392207}}}\u001b[0m\n",
            "\u001b[34m#metrics {\"StartTime\": 1651030854.1725755, \"EndTime\": 1651030854.1725845, \"Dimensions\": {\"Algorithm\": \"Linear Learner\", \"Host\": \"algo-1\", \"Operation\": \"training\", \"epoch\": 0, \"model\": 30}, \"Metrics\": {\"validation_binary_classification_cross_entropy_objective\": {\"sum\": 0.5152017449492137, \"count\": 1, \"min\": 0.5152017449492137, \"max\": 0.5152017449492137}}}\u001b[0m\n",
            "\u001b[34m#metrics {\"StartTime\": 1651030854.172618, \"EndTime\": 1651030854.1726267, \"Dimensions\": {\"Algorithm\": \"Linear Learner\", \"Host\": \"algo-1\", \"Operation\": \"training\", \"epoch\": 0, \"model\": 31}, \"Metrics\": {\"validation_binary_classification_cross_entropy_objective\": {\"sum\": 0.5135317755847206, \"count\": 1, \"min\": 0.5135317755847206, \"max\": 0.5135317755847206}}}\u001b[0m\n",
            "\u001b[34m[04/27/2022 03:40:54 INFO 140247898380096] #quality_metric: host=algo-1, epoch=0, validation binary_classification_cross_entropy_objective <loss>=0.48144327910185986\u001b[0m\n",
            "\u001b[34m[04/27/2022 03:40:54 INFO 140247898380096] #early_stopping_criteria_metric: host=algo-1, epoch=0, criteria=binary_classification_cross_entropy_objective, value=0.4814425538478159\u001b[0m\n",
            "\u001b[34m[04/27/2022 03:40:54 INFO 140247898380096] Epoch 0: Loss improved. Updating best model\u001b[0m\n",
            "\u001b[34m[04/27/2022 03:40:54 INFO 140247898380096] Saving model for epoch: 0\u001b[0m\n",
            "\u001b[34m[04/27/2022 03:40:54 INFO 140247898380096] Saved checkpoint to \"/tmp/tmpul8d9dax/mx-mod-0000.params\"\u001b[0m\n",
            "\u001b[34m[04/27/2022 03:40:54 INFO 140247898380096] #progress_metric: host=algo-1, completed 6.666666666666667 % of epochs\u001b[0m\n",
            "\u001b[34m#metrics {\"StartTime\": 1651030789.452287, \"EndTime\": 1651030854.1879785, \"Dimensions\": {\"Algorithm\": \"Linear Learner\", \"Host\": \"algo-1\", \"Operation\": \"training\", \"epoch\": 0, \"Meta\": \"training_data_iter\"}, \"Metrics\": {\"Total Records Seen\": {\"sum\": 1320472.0, \"count\": 1, \"min\": 1320472, \"max\": 1320472}, \"Total Batches Seen\": {\"sum\": 1321.0, \"count\": 1, \"min\": 1321, \"max\": 1321}, \"Max Records Seen Between Resets\": {\"sum\": 1308472.0, \"count\": 1, \"min\": 1308472, \"max\": 1308472}, \"Max Batches Seen Between Resets\": {\"sum\": 1309.0, \"count\": 1, \"min\": 1309, \"max\": 1309}, \"Reset Count\": {\"sum\": 3.0, \"count\": 1, \"min\": 3, \"max\": 3}, \"Number of Records Since Last Reset\": {\"sum\": 1308472.0, \"count\": 1, \"min\": 1308472, \"max\": 1308472}, \"Number of Batches Since Last Reset\": {\"sum\": 1309.0, \"count\": 1, \"min\": 1309, \"max\": 1309}}}\u001b[0m\n",
            "\u001b[34m[04/27/2022 03:40:54 INFO 140247898380096] #throughput_metric: host=algo-1, train throughput=20212.483525954598 records/second\u001b[0m\n",
            "\u001b[34m[2022-04-27 03:41:52.854] [tensorio] [info] epoch_stats={\"data_pipeline\": \"/opt/ml/input/data/train\", \"epoch\": 5, \"duration\": 58665, \"num_examples\": 1309, \"num_bytes\": 507687136}\u001b[0m\n",
            "\u001b[34m#metrics {\"StartTime\": 1651030912.8547282, \"EndTime\": 1651030912.8548121, \"Dimensions\": {\"Algorithm\": \"Linear Learner\", \"Host\": \"algo-1\", \"Operation\": \"training\", \"epoch\": 1, \"model\": 0}, \"Metrics\": {\"train_binary_classification_cross_entropy_objective\": {\"sum\": 0.48072041409460414, \"count\": 1, \"min\": 0.48072041409460414, \"max\": 0.48072041409460414}}}\u001b[0m\n",
            "\u001b[34m#metrics {\"StartTime\": 1651030912.8549068, \"EndTime\": 1651030912.8549292, \"Dimensions\": {\"Algorithm\": \"Linear Learner\", \"Host\": \"algo-1\", \"Operation\": \"training\", \"epoch\": 1, \"model\": 1}, \"Metrics\": {\"train_binary_classification_cross_entropy_objective\": {\"sum\": 0.4817122930124265, \"count\": 1, \"min\": 0.4817122930124265, \"max\": 0.4817122930124265}}}\u001b[0m\n",
            "\u001b[34m#metrics {\"StartTime\": 1651030912.8549945, \"EndTime\": 1651030912.855013, \"Dimensions\": {\"Algorithm\": \"Linear Learner\", \"Host\": \"algo-1\", \"Operation\": \"training\", \"epoch\": 1, \"model\": 2}, \"Metrics\": {\"train_binary_classification_cross_entropy_objective\": {\"sum\": 0.4807207937678066, \"count\": 1, \"min\": 0.4807207937678066, \"max\": 0.4807207937678066}}}\u001b[0m\n",
            "\u001b[34m#metrics {\"StartTime\": 1651030912.855072, \"EndTime\": 1651030912.8550894, \"Dimensions\": {\"Algorithm\": \"Linear Learner\", \"Host\": \"algo-1\", \"Operation\": \"training\", \"epoch\": 1, \"model\": 3}, \"Metrics\": {\"train_binary_classification_cross_entropy_objective\": {\"sum\": 0.48171235178442906, \"count\": 1, \"min\": 0.48171235178442906, \"max\": 0.48171235178442906}}}\u001b[0m\n",
            "\u001b[34m#metrics {\"StartTime\": 1651030912.855148, \"EndTime\": 1651030912.8551662, \"Dimensions\": {\"Algorithm\": \"Linear Learner\", \"Host\": \"algo-1\", \"Operation\": \"training\", \"epoch\": 1, \"model\": 4}, \"Metrics\": {\"train_binary_classification_cross_entropy_objective\": {\"sum\": 0.48457369943787926, \"count\": 1, \"min\": 0.48457369943787926, \"max\": 0.48457369943787926}}}\u001b[0m\n",
            "\u001b[34m#metrics {\"StartTime\": 1651030912.8552232, \"EndTime\": 1651030912.8552399, \"Dimensions\": {\"Algorithm\": \"Linear Learner\", \"Host\": \"algo-1\", \"Operation\": \"training\", \"epoch\": 1, \"model\": 5}, \"Metrics\": {\"train_binary_classification_cross_entropy_objective\": {\"sum\": 0.501488649910743, \"count\": 1, \"min\": 0.501488649910743, \"max\": 0.501488649910743}}}\u001b[0m\n",
            "\u001b[34m#metrics {\"StartTime\": 1651030912.8552978, \"EndTime\": 1651030912.8553154, \"Dimensions\": {\"Algorithm\": \"Linear Learner\", \"Host\": \"algo-1\", \"Operation\": \"training\", \"epoch\": 1, \"model\": 6}, \"Metrics\": {\"train_binary_classification_cross_entropy_objective\": {\"sum\": 0.4845735615021592, \"count\": 1, \"min\": 0.4845735615021592, \"max\": 0.4845735615021592}}}\u001b[0m\n",
            "\u001b[34m#metrics {\"StartTime\": 1651030912.8553686, \"EndTime\": 1651030912.8553867, \"Dimensions\": {\"Algorithm\": \"Linear Learner\", \"Host\": \"algo-1\", \"Operation\": \"training\", \"epoch\": 1, \"model\": 7}, \"Metrics\": {\"train_binary_classification_cross_entropy_objective\": {\"sum\": 0.5014898606046624, \"count\": 1, \"min\": 0.5014898606046624, \"max\": 0.5014898606046624}}}\u001b[0m\n",
            "\u001b[34m#metrics {\"StartTime\": 1651030912.8554406, \"EndTime\": 1651030912.855457, \"Dimensions\": {\"Algorithm\": \"Linear Learner\", \"Host\": \"algo-1\", \"Operation\": \"training\", \"epoch\": 1, \"model\": 8}, \"Metrics\": {\"train_binary_classification_cross_entropy_objective\": {\"sum\": 0.480971903973034, \"count\": 1, \"min\": 0.480971903973034, \"max\": 0.480971903973034}}}\u001b[0m\n",
            "\u001b[34m#metrics {\"StartTime\": 1651030912.8555212, \"EndTime\": 1651030912.855538, \"Dimensions\": {\"Algorithm\": \"Linear Learner\", \"Host\": \"algo-1\", \"Operation\": \"training\", \"epoch\": 1, \"model\": 9}, \"Metrics\": {\"train_binary_classification_cross_entropy_objective\": {\"sum\": 0.48191385536310505, \"count\": 1, \"min\": 0.48191385536310505, \"max\": 0.48191385536310505}}}\u001b[0m\n",
            "\u001b[34m#metrics {\"StartTime\": 1651030912.8555896, \"EndTime\": 1651030912.8556058, \"Dimensions\": {\"Algorithm\": \"Linear Learner\", \"Host\": \"algo-1\", \"Operation\": \"training\", \"epoch\": 1, \"model\": 10}, \"Metrics\": {\"train_binary_classification_cross_entropy_objective\": {\"sum\": 0.4809716345644143, \"count\": 1, \"min\": 0.4809716345644143, \"max\": 0.4809716345644143}}}\u001b[0m\n",
            "\u001b[34m#metrics {\"StartTime\": 1651030912.8556569, \"EndTime\": 1651030912.8556721, \"Dimensions\": {\"Algorithm\": \"Linear Learner\", \"Host\": \"algo-1\", \"Operation\": \"training\", \"epoch\": 1, \"model\": 11}, \"Metrics\": {\"train_binary_classification_cross_entropy_objective\": {\"sum\": 0.4819138288585418, \"count\": 1, \"min\": 0.4819138288585418, \"max\": 0.4819138288585418}}}\u001b[0m\n",
            "\u001b[34m#metrics {\"StartTime\": 1651030912.855724, \"EndTime\": 1651030912.85574, \"Dimensions\": {\"Algorithm\": \"Linear Learner\", \"Host\": \"algo-1\", \"Operation\": \"training\", \"epoch\": 1, \"model\": 12}, \"Metrics\": {\"train_binary_classification_cross_entropy_objective\": {\"sum\": 0.4845910883912253, \"count\": 1, \"min\": 0.4845910883912253, \"max\": 0.4845910883912253}}}\u001b[0m\n",
            "\u001b[34m#metrics {\"StartTime\": 1651030912.855792, \"EndTime\": 1651030912.855807, \"Dimensions\": {\"Algorithm\": \"Linear Learner\", \"Host\": \"algo-1\", \"Operation\": \"training\", \"epoch\": 1, \"model\": 13}, \"Metrics\": {\"train_binary_classification_cross_entropy_objective\": {\"sum\": 0.5003631547933689, \"count\": 1, \"min\": 0.5003631547933689, \"max\": 0.5003631547933689}}}\u001b[0m\n",
            "\u001b[34m#metrics {\"StartTime\": 1651030912.8558598, \"EndTime\": 1651030912.8558767, \"Dimensions\": {\"Algorithm\": \"Linear Learner\", \"Host\": \"algo-1\", \"Operation\": \"training\", \"epoch\": 1, \"model\": 14}, \"Metrics\": {\"train_binary_classification_cross_entropy_objective\": {\"sum\": 0.48459031768238875, \"count\": 1, \"min\": 0.48459031768238875, \"max\": 0.48459031768238875}}}\u001b[0m\n",
            "\u001b[34m#metrics {\"StartTime\": 1651030912.8559718, \"EndTime\": 1651030912.8559916, \"Dimensions\": {\"Algorithm\": \"Linear Learner\", \"Host\": \"algo-1\", \"Operation\": \"training\", \"epoch\": 1, \"model\": 15}, \"Metrics\": {\"train_binary_classification_cross_entropy_objective\": {\"sum\": 0.5003614084086286, \"count\": 1, \"min\": 0.5003614084086286, \"max\": 0.5003614084086286}}}\u001b[0m\n",
            "\u001b[34m#metrics {\"StartTime\": 1651030912.8560486, \"EndTime\": 1651030912.8560658, \"Dimensions\": {\"Algorithm\": \"Linear Learner\", \"Host\": \"algo-1\", \"Operation\": \"training\", \"epoch\": 1, \"model\": 16}, \"Metrics\": {\"train_binary_classification_cross_entropy_objective\": {\"sum\": 0.5043554706165185, \"count\": 1, \"min\": 0.5043554706165185, \"max\": 0.5043554706165185}}}\u001b[0m\n",
            "\u001b[34m#metrics {\"StartTime\": 1651030912.8561182, \"EndTime\": 1651030912.8561347, \"Dimensions\": {\"Algorithm\": \"Linear Learner\", \"Host\": \"algo-1\", \"Operation\": \"training\", \"epoch\": 1, \"model\": 17}, \"Metrics\": {\"train_binary_classification_cross_entropy_objective\": {\"sum\": 0.5045926374382929, \"count\": 1, \"min\": 0.5045926374382929, \"max\": 0.5045926374382929}}}\u001b[0m\n",
            "\u001b[34m#metrics {\"StartTime\": 1651030912.8561862, \"EndTime\": 1651030912.8562014, \"Dimensions\": {\"Algorithm\": \"Linear Learner\", \"Host\": \"algo-1\", \"Operation\": \"training\", \"epoch\": 1, \"model\": 18}, \"Metrics\": {\"train_binary_classification_cross_entropy_objective\": {\"sum\": 0.5043554950912429, \"count\": 1, \"min\": 0.5043554950912429, \"max\": 0.5043554950912429}}}\u001b[0m\n",
            "\u001b[34m#metrics {\"StartTime\": 1651030912.8562667, \"EndTime\": 1651030912.8562832, \"Dimensions\": {\"Algorithm\": \"Linear Learner\", \"Host\": \"algo-1\", \"Operation\": \"training\", \"epoch\": 1, \"model\": 19}, \"Metrics\": {\"train_binary_classification_cross_entropy_objective\": {\"sum\": 0.5045930648243755, \"count\": 1, \"min\": 0.5045930648243755, \"max\": 0.5045930648243755}}}\u001b[0m\n",
            "\u001b[34m#metrics {\"StartTime\": 1651030912.8563461, \"EndTime\": 1651030912.8563633, \"Dimensions\": {\"Algorithm\": \"Linear Learner\", \"Host\": \"algo-1\", \"Operation\": \"training\", \"epoch\": 1, \"model\": 20}, \"Metrics\": {\"train_binary_classification_cross_entropy_objective\": {\"sum\": 0.5052064344306969, \"count\": 1, \"min\": 0.5052064344306969, \"max\": 0.5052064344306969}}}\u001b[0m\n",
            "\u001b[34m#metrics {\"StartTime\": 1651030912.8564317, \"EndTime\": 1651030912.8564491, \"Dimensions\": {\"Algorithm\": \"Linear Learner\", \"Host\": \"algo-1\", \"Operation\": \"training\", \"epoch\": 1, \"model\": 21}, \"Metrics\": {\"train_binary_classification_cross_entropy_objective\": {\"sum\": 0.5081014357400596, \"count\": 1, \"min\": 0.5081014357400596, \"max\": 0.5081014357400596}}}\u001b[0m\n",
            "\u001b[34m#metrics {\"StartTime\": 1651030912.8565094, \"EndTime\": 1651030912.8565257, \"Dimensions\": {\"Algorithm\": \"Linear Learner\", \"Host\": \"algo-1\", \"Operation\": \"training\", \"epoch\": 1, \"model\": 22}, \"Metrics\": {\"train_binary_classification_cross_entropy_objective\": {\"sum\": 0.5052068193068198, \"count\": 1, \"min\": 0.5052068193068198, \"max\": 0.5052068193068198}}}\u001b[0m\n",
            "\u001b[34m#metrics {\"StartTime\": 1651030912.8565907, \"EndTime\": 1651030912.856608, \"Dimensions\": {\"Algorithm\": \"Linear Learner\", \"Host\": \"algo-1\", \"Operation\": \"training\", \"epoch\": 1, \"model\": 23}, \"Metrics\": {\"train_binary_classification_cross_entropy_objective\": {\"sum\": 0.5081014004861908, \"count\": 1, \"min\": 0.5081014004861908, \"max\": 0.5081014004861908}}}\u001b[0m\n",
            "\u001b[34m#metrics {\"StartTime\": 1651030912.8566759, \"EndTime\": 1651030912.8566937, \"Dimensions\": {\"Algorithm\": \"Linear Learner\", \"Host\": \"algo-1\", \"Operation\": \"training\", \"epoch\": 1, \"model\": 24}, \"Metrics\": {\"train_binary_classification_cross_entropy_objective\": {\"sum\": 0.5137363024837016, \"count\": 1, \"min\": 0.5137363024837016, \"max\": 0.5137363024837016}}}\u001b[0m\n",
            "\u001b[34m#metrics {\"StartTime\": 1651030912.85675, \"EndTime\": 1651030912.8567662, \"Dimensions\": {\"Algorithm\": \"Linear Learner\", \"Host\": \"algo-1\", \"Operation\": \"training\", \"epoch\": 1, \"model\": 25}, \"Metrics\": {\"train_binary_classification_cross_entropy_objective\": {\"sum\": 0.513834904172005, \"count\": 1, \"min\": 0.513834904172005, \"max\": 0.513834904172005}}}\u001b[0m\n",
            "\u001b[34m#metrics {\"StartTime\": 1651030912.8568347, \"EndTime\": 1651030912.8568518, \"Dimensions\": {\"Algorithm\": \"Linear Learner\", \"Host\": \"algo-1\", \"Operation\": \"training\", \"epoch\": 1, \"model\": 26}, \"Metrics\": {\"train_binary_classification_cross_entropy_objective\": {\"sum\": 0.5137365268625615, \"count\": 1, \"min\": 0.5137365268625615, \"max\": 0.5137365268625615}}}\u001b[0m\n",
            "\u001b[34m#metrics {\"StartTime\": 1651030912.8569088, \"EndTime\": 1651030912.8569238, \"Dimensions\": {\"Algorithm\": \"Linear Learner\", \"Host\": \"algo-1\", \"Operation\": \"training\", \"epoch\": 1, \"model\": 27}, \"Metrics\": {\"train_binary_classification_cross_entropy_objective\": {\"sum\": 0.5138339910711353, \"count\": 1, \"min\": 0.5138339910711353, \"max\": 0.5138339910711353}}}\u001b[0m\n",
            "\u001b[34m#metrics {\"StartTime\": 1651030912.8569913, \"EndTime\": 1651030912.8570082, \"Dimensions\": {\"Algorithm\": \"Linear Learner\", \"Host\": \"algo-1\", \"Operation\": \"training\", \"epoch\": 1, \"model\": 28}, \"Metrics\": {\"train_binary_classification_cross_entropy_objective\": {\"sum\": 0.514116778359136, \"count\": 1, \"min\": 0.514116778359136, \"max\": 0.514116778359136}}}\u001b[0m\n",
            "\u001b[34m#metrics {\"StartTime\": 1651030912.8570647, \"EndTime\": 1651030912.857082, \"Dimensions\": {\"Algorithm\": \"Linear Learner\", \"Host\": \"algo-1\", \"Operation\": \"training\", \"epoch\": 1, \"model\": 29}, \"Metrics\": {\"train_binary_classification_cross_entropy_objective\": {\"sum\": 0.5151938072927866, \"count\": 1, \"min\": 0.5151938072927866, \"max\": 0.5151938072927866}}}\u001b[0m\n",
            "\u001b[34m#metrics {\"StartTime\": 1651030912.8571374, \"EndTime\": 1651030912.8571537, \"Dimensions\": {\"Algorithm\": \"Linear Learner\", \"Host\": \"algo-1\", \"Operation\": \"training\", \"epoch\": 1, \"model\": 30}, \"Metrics\": {\"train_binary_classification_cross_entropy_objective\": {\"sum\": 0.5141167801089972, \"count\": 1, \"min\": 0.5141167801089972, \"max\": 0.5141167801089972}}}\u001b[0m\n",
            "\u001b[34m#metrics {\"StartTime\": 1651030912.8572087, \"EndTime\": 1651030912.857225, \"Dimensions\": {\"Algorithm\": \"Linear Learner\", \"Host\": \"algo-1\", \"Operation\": \"training\", \"epoch\": 1, \"model\": 31}, \"Metrics\": {\"train_binary_classification_cross_entropy_objective\": {\"sum\": 0.5151916967269478, \"count\": 1, \"min\": 0.5151916967269478, \"max\": 0.5151916967269478}}}\u001b[0m\n",
            "\u001b[34m[04/27/2022 03:41:52 INFO 140247898380096] #quality_metric: host=algo-1, epoch=1, train binary_classification_cross_entropy_objective <loss>=0.48072041409460414\u001b[0m\n",
            "\u001b[34m[2022-04-27 03:41:58.143] [tensorio] [info] epoch_stats={\"data_pipeline\": \"/opt/ml/input/data/validation\", \"epoch\": 5, \"duration\": 5251, \"num_examples\": 164, \"num_bytes\": 63460892}\u001b[0m\n",
            "\u001b[34m#metrics {\"StartTime\": 1651030918.150542, \"EndTime\": 1651030918.1506035, \"Dimensions\": {\"Algorithm\": \"Linear Learner\", \"Host\": \"algo-1\", \"Operation\": \"training\", \"epoch\": 1, \"model\": 0}, \"Metrics\": {\"validation_binary_classification_cross_entropy_objective\": {\"sum\": 0.4812007789279929, \"count\": 1, \"min\": 0.4812007789279929, \"max\": 0.4812007789279929}}}\u001b[0m\n",
            "\u001b[34m#metrics {\"StartTime\": 1651030918.1506925, \"EndTime\": 1651030918.1507127, \"Dimensions\": {\"Algorithm\": \"Linear Learner\", \"Host\": \"algo-1\", \"Operation\": \"training\", \"epoch\": 1, \"model\": 1}, \"Metrics\": {\"validation_binary_classification_cross_entropy_objective\": {\"sum\": 0.4830737893846792, \"count\": 1, \"min\": 0.4830737893846792, \"max\": 0.4830737893846792}}}\u001b[0m\n",
            "\u001b[34m#metrics {\"StartTime\": 1651030918.1507757, \"EndTime\": 1651030918.150794, \"Dimensions\": {\"Algorithm\": \"Linear Learner\", \"Host\": \"algo-1\", \"Operation\": \"training\", \"epoch\": 1, \"model\": 2}, \"Metrics\": {\"validation_binary_classification_cross_entropy_objective\": {\"sum\": 0.48120010330543234, \"count\": 1, \"min\": 0.48120010330543234, \"max\": 0.48120010330543234}}}\u001b[0m\n",
            "\u001b[34m#metrics {\"StartTime\": 1651030918.1508508, \"EndTime\": 1651030918.1508706, \"Dimensions\": {\"Algorithm\": \"Linear Learner\", \"Host\": \"algo-1\", \"Operation\": \"training\", \"epoch\": 1, \"model\": 3}, \"Metrics\": {\"validation_binary_classification_cross_entropy_objective\": {\"sum\": 0.48307457080066485, \"count\": 1, \"min\": 0.48307457080066485, \"max\": 0.48307457080066485}}}\u001b[0m\n",
            "\u001b[34m#metrics {\"StartTime\": 1651030918.1509256, \"EndTime\": 1651030918.150944, \"Dimensions\": {\"Algorithm\": \"Linear Learner\", \"Host\": \"algo-1\", \"Operation\": \"training\", \"epoch\": 1, \"model\": 4}, \"Metrics\": {\"validation_binary_classification_cross_entropy_objective\": {\"sum\": 0.48297097832672387, \"count\": 1, \"min\": 0.48297097832672387, \"max\": 0.48297097832672387}}}\u001b[0m\n",
            "\u001b[34m#metrics {\"StartTime\": 1651030918.150998, \"EndTime\": 1651030918.1510165, \"Dimensions\": {\"Algorithm\": \"Linear Learner\", \"Host\": \"algo-1\", \"Operation\": \"training\", \"epoch\": 1, \"model\": 5}, \"Metrics\": {\"validation_binary_classification_cross_entropy_objective\": {\"sum\": 0.4960352186214746, \"count\": 1, \"min\": 0.4960352186214746, \"max\": 0.4960352186214746}}}\u001b[0m\n",
            "\u001b[34m#metrics {\"StartTime\": 1651030918.1510708, \"EndTime\": 1651030918.1510868, \"Dimensions\": {\"Algorithm\": \"Linear Learner\", \"Host\": \"algo-1\", \"Operation\": \"training\", \"epoch\": 1, \"model\": 6}, \"Metrics\": {\"validation_binary_classification_cross_entropy_objective\": {\"sum\": 0.4829713018642881, \"count\": 1, \"min\": 0.4829713018642881, \"max\": 0.4829713018642881}}}\u001b[0m\n",
            "\u001b[34m#metrics {\"StartTime\": 1651030918.151138, \"EndTime\": 1651030918.1511528, \"Dimensions\": {\"Algorithm\": \"Linear Learner\", \"Host\": \"algo-1\", \"Operation\": \"training\", \"epoch\": 1, \"model\": 7}, \"Metrics\": {\"validation_binary_classification_cross_entropy_objective\": {\"sum\": 0.4960323610794929, \"count\": 1, \"min\": 0.4960323610794929, \"max\": 0.4960323610794929}}}\u001b[0m\n",
            "\u001b[34m#metrics {\"StartTime\": 1651030918.151203, \"EndTime\": 1651030918.1512196, \"Dimensions\": {\"Algorithm\": \"Linear Learner\", \"Host\": \"algo-1\", \"Operation\": \"training\", \"epoch\": 1, \"model\": 8}, \"Metrics\": {\"validation_binary_classification_cross_entropy_objective\": {\"sum\": 0.4814472733167604, \"count\": 1, \"min\": 0.4814472733167604, \"max\": 0.4814472733167604}}}\u001b[0m\n",
            "\u001b[34m#metrics {\"StartTime\": 1651030918.15128, \"EndTime\": 1651030918.1512978, \"Dimensions\": {\"Algorithm\": \"Linear Learner\", \"Host\": \"algo-1\", \"Operation\": \"training\", \"epoch\": 1, \"model\": 9}, \"Metrics\": {\"validation_binary_classification_cross_entropy_objective\": {\"sum\": 0.48313327290402946, \"count\": 1, \"min\": 0.48313327290402946, \"max\": 0.48313327290402946}}}\u001b[0m\n",
            "\u001b[34m#metrics {\"StartTime\": 1651030918.151351, \"EndTime\": 1651030918.1513665, \"Dimensions\": {\"Algorithm\": \"Linear Learner\", \"Host\": \"algo-1\", \"Operation\": \"training\", \"epoch\": 1, \"model\": 10}, \"Metrics\": {\"validation_binary_classification_cross_entropy_objective\": {\"sum\": 0.48144717013551874, \"count\": 1, \"min\": 0.48144717013551874, \"max\": 0.48144717013551874}}}\u001b[0m\n",
            "\u001b[34m#metrics {\"StartTime\": 1651030918.1514199, \"EndTime\": 1651030918.1514378, \"Dimensions\": {\"Algorithm\": \"Linear Learner\", \"Host\": \"algo-1\", \"Operation\": \"training\", \"epoch\": 1, \"model\": 11}, \"Metrics\": {\"validation_binary_classification_cross_entropy_objective\": {\"sum\": 0.48313277248433667, \"count\": 1, \"min\": 0.48313277248433667, \"max\": 0.48313277248433667}}}\u001b[0m\n",
            "\u001b[34m#metrics {\"StartTime\": 1651030918.1514866, \"EndTime\": 1651030918.1515036, \"Dimensions\": {\"Algorithm\": \"Linear Learner\", \"Host\": \"algo-1\", \"Operation\": \"training\", \"epoch\": 1, \"model\": 12}, \"Metrics\": {\"validation_binary_classification_cross_entropy_objective\": {\"sum\": 0.48291652979074784, \"count\": 1, \"min\": 0.48291652979074784, \"max\": 0.48291652979074784}}}\u001b[0m\n",
            "\u001b[34m#metrics {\"StartTime\": 1651030918.1515536, \"EndTime\": 1651030918.151569, \"Dimensions\": {\"Algorithm\": \"Linear Learner\", \"Host\": \"algo-1\", \"Operation\": \"training\", \"epoch\": 1, \"model\": 13}, \"Metrics\": {\"validation_binary_classification_cross_entropy_objective\": {\"sum\": 0.4939250017670301, \"count\": 1, \"min\": 0.4939250017670301, \"max\": 0.4939250017670301}}}\u001b[0m\n",
            "\u001b[34m#metrics {\"StartTime\": 1651030918.1516218, \"EndTime\": 1651030918.1516402, \"Dimensions\": {\"Algorithm\": \"Linear Learner\", \"Host\": \"algo-1\", \"Operation\": \"training\", \"epoch\": 1, \"model\": 14}, \"Metrics\": {\"validation_binary_classification_cross_entropy_objective\": {\"sum\": 0.4829184889282475, \"count\": 1, \"min\": 0.4829184889282475, \"max\": 0.4829184889282475}}}\u001b[0m\n",
            "\u001b[34m#metrics {\"StartTime\": 1651030918.1516912, \"EndTime\": 1651030918.1517045, \"Dimensions\": {\"Algorithm\": \"Linear Learner\", \"Host\": \"algo-1\", \"Operation\": \"training\", \"epoch\": 1, \"model\": 15}, \"Metrics\": {\"validation_binary_classification_cross_entropy_objective\": {\"sum\": 0.49392512342013956, \"count\": 1, \"min\": 0.49392512342013956, \"max\": 0.49392512342013956}}}\u001b[0m\n",
            "\u001b[34m#metrics {\"StartTime\": 1651030918.1517534, \"EndTime\": 1651030918.1517673, \"Dimensions\": {\"Algorithm\": \"Linear Learner\", \"Host\": \"algo-1\", \"Operation\": \"training\", \"epoch\": 1, \"model\": 16}, \"Metrics\": {\"validation_binary_classification_cross_entropy_objective\": {\"sum\": 0.5044443390557005, \"count\": 1, \"min\": 0.5044443390557005, \"max\": 0.5044443390557005}}}\u001b[0m\n",
            "\u001b[34m#metrics {\"StartTime\": 1651030918.151818, \"EndTime\": 1651030918.151835, \"Dimensions\": {\"Algorithm\": \"Linear Learner\", \"Host\": \"algo-1\", \"Operation\": \"training\", \"epoch\": 1, \"model\": 17}, \"Metrics\": {\"validation_binary_classification_cross_entropy_objective\": {\"sum\": 0.5050150104338663, \"count\": 1, \"min\": 0.5050150104338663, \"max\": 0.5050150104338663}}}\u001b[0m\n",
            "\u001b[34m#metrics {\"StartTime\": 1651030918.151884, \"EndTime\": 1651030918.1519, \"Dimensions\": {\"Algorithm\": \"Linear Learner\", \"Host\": \"algo-1\", \"Operation\": \"training\", \"epoch\": 1, \"model\": 18}, \"Metrics\": {\"validation_binary_classification_cross_entropy_objective\": {\"sum\": 0.504444028205884, \"count\": 1, \"min\": 0.504444028205884, \"max\": 0.504444028205884}}}\u001b[0m\n",
            "\u001b[34m#metrics {\"StartTime\": 1651030918.151952, \"EndTime\": 1651030918.1519678, \"Dimensions\": {\"Algorithm\": \"Linear Learner\", \"Host\": \"algo-1\", \"Operation\": \"training\", \"epoch\": 1, \"model\": 19}, \"Metrics\": {\"validation_binary_classification_cross_entropy_objective\": {\"sum\": 0.5050176157135718, \"count\": 1, \"min\": 0.5050176157135718, \"max\": 0.5050176157135718}}}\u001b[0m\n",
            "\u001b[34m#metrics {\"StartTime\": 1651030918.1520195, \"EndTime\": 1651030918.1520362, \"Dimensions\": {\"Algorithm\": \"Linear Learner\", \"Host\": \"algo-1\", \"Operation\": \"training\", \"epoch\": 1, \"model\": 20}, \"Metrics\": {\"validation_binary_classification_cross_entropy_objective\": {\"sum\": 0.5047723421473435, \"count\": 1, \"min\": 0.5047723421473435, \"max\": 0.5047723421473435}}}\u001b[0m\n",
            "\u001b[34m#metrics {\"StartTime\": 1651030918.152089, \"EndTime\": 1651030918.1521065, \"Dimensions\": {\"Algorithm\": \"Linear Learner\", \"Host\": \"algo-1\", \"Operation\": \"training\", \"epoch\": 1, \"model\": 21}, \"Metrics\": {\"validation_binary_classification_cross_entropy_objective\": {\"sum\": 0.5055725380518388, \"count\": 1, \"min\": 0.5055725380518388, \"max\": 0.5055725380518388}}}\u001b[0m\n",
            "\u001b[34m#metrics {\"StartTime\": 1651030918.1521568, \"EndTime\": 1651030918.1521738, \"Dimensions\": {\"Algorithm\": \"Linear Learner\", \"Host\": \"algo-1\", \"Operation\": \"training\", \"epoch\": 1, \"model\": 22}, \"Metrics\": {\"validation_binary_classification_cross_entropy_objective\": {\"sum\": 0.5047707522606163, \"count\": 1, \"min\": 0.5047707522606163, \"max\": 0.5047707522606163}}}\u001b[0m\n",
            "\u001b[34m#metrics {\"StartTime\": 1651030918.152227, \"EndTime\": 1651030918.1522427, \"Dimensions\": {\"Algorithm\": \"Linear Learner\", \"Host\": \"algo-1\", \"Operation\": \"training\", \"epoch\": 1, \"model\": 23}, \"Metrics\": {\"validation_binary_classification_cross_entropy_objective\": {\"sum\": 0.5055725216324007, \"count\": 1, \"min\": 0.5055725216324007, \"max\": 0.5055725216324007}}}\u001b[0m\n",
            "\u001b[34m#metrics {\"StartTime\": 1651030918.1523123, \"EndTime\": 1651030918.1523325, \"Dimensions\": {\"Algorithm\": \"Linear Learner\", \"Host\": \"algo-1\", \"Operation\": \"training\", \"epoch\": 1, \"model\": 24}, \"Metrics\": {\"validation_binary_classification_cross_entropy_objective\": {\"sum\": 0.5137297462424802, \"count\": 1, \"min\": 0.5137297462424802, \"max\": 0.5137297462424802}}}\u001b[0m\n",
            "\u001b[34m#metrics {\"StartTime\": 1651030918.152401, \"EndTime\": 1651030918.152417, \"Dimensions\": {\"Algorithm\": \"Linear Learner\", \"Host\": \"algo-1\", \"Operation\": \"training\", \"epoch\": 1, \"model\": 25}, \"Metrics\": {\"validation_binary_classification_cross_entropy_objective\": {\"sum\": 0.5144611641061578, \"count\": 1, \"min\": 0.5144611641061578, \"max\": 0.5144611641061578}}}\u001b[0m\n",
            "\u001b[34m#metrics {\"StartTime\": 1651030918.1524823, \"EndTime\": 1651030918.1524997, \"Dimensions\": {\"Algorithm\": \"Linear Learner\", \"Host\": \"algo-1\", \"Operation\": \"training\", \"epoch\": 1, \"model\": 26}, \"Metrics\": {\"validation_binary_classification_cross_entropy_objective\": {\"sum\": 0.5137234738305443, \"count\": 1, \"min\": 0.5137234738305443, \"max\": 0.5137234738305443}}}\u001b[0m\n",
            "\u001b[34m#metrics {\"StartTime\": 1651030918.1525679, \"EndTime\": 1651030918.1525855, \"Dimensions\": {\"Algorithm\": \"Linear Learner\", \"Host\": \"algo-1\", \"Operation\": \"training\", \"epoch\": 1, \"model\": 27}, \"Metrics\": {\"validation_binary_classification_cross_entropy_objective\": {\"sum\": 0.5144590771582593, \"count\": 1, \"min\": 0.5144590771582593, \"max\": 0.5144590771582593}}}\u001b[0m\n",
            "\u001b[34m#metrics {\"StartTime\": 1651030918.1526406, \"EndTime\": 1651030918.1526573, \"Dimensions\": {\"Algorithm\": \"Linear Learner\", \"Host\": \"algo-1\", \"Operation\": \"training\", \"epoch\": 1, \"model\": 28}, \"Metrics\": {\"validation_binary_classification_cross_entropy_objective\": {\"sum\": 0.5138686739069502, \"count\": 1, \"min\": 0.5138686739069502, \"max\": 0.5138686739069502}}}\u001b[0m\n",
            "\u001b[34m#metrics {\"StartTime\": 1651030918.1527193, \"EndTime\": 1651030918.1527352, \"Dimensions\": {\"Algorithm\": \"Linear Learner\", \"Host\": \"algo-1\", \"Operation\": \"training\", \"epoch\": 1, \"model\": 29}, \"Metrics\": {\"validation_binary_classification_cross_entropy_objective\": {\"sum\": 0.5135446049499913, \"count\": 1, \"min\": 0.5135446049499913, \"max\": 0.5135446049499913}}}\u001b[0m\n",
            "\u001b[34m#metrics {\"StartTime\": 1651030918.1527898, \"EndTime\": 1651030918.1528077, \"Dimensions\": {\"Algorithm\": \"Linear Learner\", \"Host\": \"algo-1\", \"Operation\": \"training\", \"epoch\": 1, \"model\": 30}, \"Metrics\": {\"validation_binary_classification_cross_entropy_objective\": {\"sum\": 0.5138772303000417, \"count\": 1, \"min\": 0.5138772303000417, \"max\": 0.5138772303000417}}}\u001b[0m\n",
            "\u001b[34m#metrics {\"StartTime\": 1651030918.1528609, \"EndTime\": 1651030918.1528766, \"Dimensions\": {\"Algorithm\": \"Linear Learner\", \"Host\": \"algo-1\", \"Operation\": \"training\", \"epoch\": 1, \"model\": 31}, \"Metrics\": {\"validation_binary_classification_cross_entropy_objective\": {\"sum\": 0.5135873607936156, \"count\": 1, \"min\": 0.5135873607936156, \"max\": 0.5135873607936156}}}\u001b[0m\n",
            "\u001b[34m[04/27/2022 03:41:58 INFO 140247898380096] #quality_metric: host=algo-1, epoch=1, validation binary_classification_cross_entropy_objective <loss>=0.4812007789279929\u001b[0m\n",
            "\u001b[34m[04/27/2022 03:41:58 INFO 140247898380096] #early_stopping_criteria_metric: host=algo-1, epoch=1, criteria=binary_classification_cross_entropy_objective, value=0.48120010330543234\u001b[0m\n",
            "\u001b[34m[04/27/2022 03:41:58 INFO 140247898380096] Saving model for epoch: 1\u001b[0m\n",
            "\u001b[34m[04/27/2022 03:41:58 INFO 140247898380096] Saved checkpoint to \"/tmp/tmpi_fhmf0l/mx-mod-0000.params\"\u001b[0m\n",
            "\u001b[34m[04/27/2022 03:41:58 INFO 140247898380096] #progress_metric: host=algo-1, completed 13.333333333333334 % of epochs\u001b[0m\n",
            "\u001b[34m#metrics {\"StartTime\": 1651030854.1885297, \"EndTime\": 1651030918.1608999, \"Dimensions\": {\"Algorithm\": \"Linear Learner\", \"Host\": \"algo-1\", \"Operation\": \"training\", \"epoch\": 1, \"Meta\": \"training_data_iter\"}, \"Metrics\": {\"Total Records Seen\": {\"sum\": 2628944.0, \"count\": 1, \"min\": 2628944, \"max\": 2628944}, \"Total Batches Seen\": {\"sum\": 2630.0, \"count\": 1, \"min\": 2630, \"max\": 2630}, \"Max Records Seen Between Resets\": {\"sum\": 1308472.0, \"count\": 1, \"min\": 1308472, \"max\": 1308472}, \"Max Batches Seen Between Resets\": {\"sum\": 1309.0, \"count\": 1, \"min\": 1309, \"max\": 1309}, \"Reset Count\": {\"sum\": 4.0, \"count\": 1, \"min\": 4, \"max\": 4}, \"Number of Records Since Last Reset\": {\"sum\": 1308472.0, \"count\": 1, \"min\": 1308472, \"max\": 1308472}, \"Number of Batches Since Last Reset\": {\"sum\": 1309.0, \"count\": 1, \"min\": 1309, \"max\": 1309}}}\u001b[0m\n",
            "\u001b[34m[04/27/2022 03:41:58 INFO 140247898380096] #throughput_metric: host=algo-1, train throughput=20453.670821661653 records/second\u001b[0m\n",
            "\u001b[34m[2022-04-27 03:42:57.218] [tensorio] [info] epoch_stats={\"data_pipeline\": \"/opt/ml/input/data/train\", \"epoch\": 7, \"duration\": 59049, \"num_examples\": 1309, \"num_bytes\": 507687136}\u001b[0m\n",
            "\u001b[34m#metrics {\"StartTime\": 1651030977.2185988, \"EndTime\": 1651030977.218702, \"Dimensions\": {\"Algorithm\": \"Linear Learner\", \"Host\": \"algo-1\", \"Operation\": \"training\", \"epoch\": 2, \"model\": 0}, \"Metrics\": {\"train_binary_classification_cross_entropy_objective\": {\"sum\": 0.4805666754486364, \"count\": 1, \"min\": 0.4805666754486364, \"max\": 0.4805666754486364}}}\u001b[0m\n",
            "\u001b[34m#metrics {\"StartTime\": 1651030977.2187934, \"EndTime\": 1651030977.2188153, \"Dimensions\": {\"Algorithm\": \"Linear Learner\", \"Host\": \"algo-1\", \"Operation\": \"training\", \"epoch\": 2, \"model\": 1}, \"Metrics\": {\"train_binary_classification_cross_entropy_objective\": {\"sum\": 0.481580814373238, \"count\": 1, \"min\": 0.481580814373238, \"max\": 0.481580814373238}}}\u001b[0m\n",
            "\u001b[34m#metrics {\"StartTime\": 1651030977.218875, \"EndTime\": 1651030977.2188926, \"Dimensions\": {\"Algorithm\": \"Linear Learner\", \"Host\": \"algo-1\", \"Operation\": \"training\", \"epoch\": 2, \"model\": 2}, \"Metrics\": {\"train_binary_classification_cross_entropy_objective\": {\"sum\": 0.48056695953275813, \"count\": 1, \"min\": 0.48056695953275813, \"max\": 0.48056695953275813}}}\u001b[0m\n",
            "\u001b[34m#metrics {\"StartTime\": 1651030977.218952, \"EndTime\": 1651030977.2189705, \"Dimensions\": {\"Algorithm\": \"Linear Learner\", \"Host\": \"algo-1\", \"Operation\": \"training\", \"epoch\": 2, \"model\": 3}, \"Metrics\": {\"train_binary_classification_cross_entropy_objective\": {\"sum\": 0.4815808451707939, \"count\": 1, \"min\": 0.4815808451707939, \"max\": 0.4815808451707939}}}\u001b[0m\n",
            "\u001b[34m#metrics {\"StartTime\": 1651030977.2190268, \"EndTime\": 1651030977.2190435, \"Dimensions\": {\"Algorithm\": \"Linear Learner\", \"Host\": \"algo-1\", \"Operation\": \"training\", \"epoch\": 2, \"model\": 4}, \"Metrics\": {\"train_binary_classification_cross_entropy_objective\": {\"sum\": 0.481668453204887, \"count\": 1, \"min\": 0.481668453204887, \"max\": 0.481668453204887}}}\u001b[0m\n",
            "\u001b[34m#metrics {\"StartTime\": 1651030977.2190967, \"EndTime\": 1651030977.219113, \"Dimensions\": {\"Algorithm\": \"Linear Learner\", \"Host\": \"algo-1\", \"Operation\": \"training\", \"epoch\": 2, \"model\": 5}, \"Metrics\": {\"train_binary_classification_cross_entropy_objective\": {\"sum\": 0.4988708750173586, \"count\": 1, \"min\": 0.4988708750173586, \"max\": 0.4988708750173586}}}\u001b[0m\n",
            "\u001b[34m#metrics {\"StartTime\": 1651030977.2191691, \"EndTime\": 1651030977.2191856, \"Dimensions\": {\"Algorithm\": \"Linear Learner\", \"Host\": \"algo-1\", \"Operation\": \"training\", \"epoch\": 2, \"model\": 6}, \"Metrics\": {\"train_binary_classification_cross_entropy_objective\": {\"sum\": 0.48166844559882394, \"count\": 1, \"min\": 0.48166844559882394, \"max\": 0.48166844559882394}}}\u001b[0m\n",
            "\u001b[34m#metrics {\"StartTime\": 1651030977.2192395, \"EndTime\": 1651030977.219257, \"Dimensions\": {\"Algorithm\": \"Linear Learner\", \"Host\": \"algo-1\", \"Operation\": \"training\", \"epoch\": 2, \"model\": 7}, \"Metrics\": {\"train_binary_classification_cross_entropy_objective\": {\"sum\": 0.49887106568222744, \"count\": 1, \"min\": 0.49887106568222744, \"max\": 0.49887106568222744}}}\u001b[0m\n",
            "\u001b[34m#metrics {\"StartTime\": 1651030977.219312, \"EndTime\": 1651030977.2193289, \"Dimensions\": {\"Algorithm\": \"Linear Learner\", \"Host\": \"algo-1\", \"Operation\": \"training\", \"epoch\": 2, \"model\": 8}, \"Metrics\": {\"train_binary_classification_cross_entropy_objective\": {\"sum\": 0.4808317005962407, \"count\": 1, \"min\": 0.4808317005962407, \"max\": 0.4808317005962407}}}\u001b[0m\n",
            "\u001b[34m#metrics {\"StartTime\": 1651030977.2193837, \"EndTime\": 1651030977.2193997, \"Dimensions\": {\"Algorithm\": \"Linear Learner\", \"Host\": \"algo-1\", \"Operation\": \"training\", \"epoch\": 2, \"model\": 9}, \"Metrics\": {\"train_binary_classification_cross_entropy_objective\": {\"sum\": 0.481790592578573, \"count\": 1, \"min\": 0.481790592578573, \"max\": 0.481790592578573}}}\u001b[0m\n",
            "\u001b[34m#metrics {\"StartTime\": 1651030977.2194543, \"EndTime\": 1651030977.2194693, \"Dimensions\": {\"Algorithm\": \"Linear Learner\", \"Host\": \"algo-1\", \"Operation\": \"training\", \"epoch\": 2, \"model\": 10}, \"Metrics\": {\"train_binary_classification_cross_entropy_objective\": {\"sum\": 0.4808315725064059, \"count\": 1, \"min\": 0.4808315725064059, \"max\": 0.4808315725064059}}}\u001b[0m\n",
            "\u001b[34m#metrics {\"StartTime\": 1651030977.2195241, \"EndTime\": 1651030977.2195399, \"Dimensions\": {\"Algorithm\": \"Linear Learner\", \"Host\": \"algo-1\", \"Operation\": \"training\", \"epoch\": 2, \"model\": 11}, \"Metrics\": {\"train_binary_classification_cross_entropy_objective\": {\"sum\": 0.4817905831993173, \"count\": 1, \"min\": 0.4817905831993173, \"max\": 0.4817905831993173}}}\u001b[0m\n",
            "\u001b[34m#metrics {\"StartTime\": 1651030977.2196038, \"EndTime\": 1651030977.2196188, \"Dimensions\": {\"Algorithm\": \"Linear Learner\", \"Host\": \"algo-1\", \"Operation\": \"training\", \"epoch\": 2, \"model\": 12}, \"Metrics\": {\"train_binary_classification_cross_entropy_objective\": {\"sum\": 0.48187176616330396, \"count\": 1, \"min\": 0.48187176616330396, \"max\": 0.48187176616330396}}}\u001b[0m\n",
            "\u001b[34m#metrics {\"StartTime\": 1651030977.2196698, \"EndTime\": 1651030977.2196856, \"Dimensions\": {\"Algorithm\": \"Linear Learner\", \"Host\": \"algo-1\", \"Operation\": \"training\", \"epoch\": 2, \"model\": 13}, \"Metrics\": {\"train_binary_classification_cross_entropy_objective\": {\"sum\": 0.49793641039647096, \"count\": 1, \"min\": 0.49793641039647096, \"max\": 0.49793641039647096}}}\u001b[0m\n",
            "\u001b[34m#metrics {\"StartTime\": 1651030977.2197342, \"EndTime\": 1651030977.2197504, \"Dimensions\": {\"Algorithm\": \"Linear Learner\", \"Host\": \"algo-1\", \"Operation\": \"training\", \"epoch\": 2, \"model\": 14}, \"Metrics\": {\"train_binary_classification_cross_entropy_objective\": {\"sum\": 0.48187173613568696, \"count\": 1, \"min\": 0.48187173613568696, \"max\": 0.48187173613568696}}}\u001b[0m\n",
            "\u001b[34m#metrics {\"StartTime\": 1651030977.2198033, \"EndTime\": 1651030977.2198195, \"Dimensions\": {\"Algorithm\": \"Linear Learner\", \"Host\": \"algo-1\", \"Operation\": \"training\", \"epoch\": 2, \"model\": 15}, \"Metrics\": {\"train_binary_classification_cross_entropy_objective\": {\"sum\": 0.49793614542083275, \"count\": 1, \"min\": 0.49793614542083275, \"max\": 0.49793614542083275}}}\u001b[0m\n",
            "\u001b[34m#metrics {\"StartTime\": 1651030977.2198727, \"EndTime\": 1651030977.2198896, \"Dimensions\": {\"Algorithm\": \"Linear Learner\", \"Host\": \"algo-1\", \"Operation\": \"training\", \"epoch\": 2, \"model\": 16}, \"Metrics\": {\"train_binary_classification_cross_entropy_objective\": {\"sum\": 0.5043089791394155, \"count\": 1, \"min\": 0.5043089791394155, \"max\": 0.5043089791394155}}}\u001b[0m\n",
            "\u001b[34m#metrics {\"StartTime\": 1651030977.2199438, \"EndTime\": 1651030977.2199595, \"Dimensions\": {\"Algorithm\": \"Linear Learner\", \"Host\": \"algo-1\", \"Operation\": \"training\", \"epoch\": 2, \"model\": 17}, \"Metrics\": {\"train_binary_classification_cross_entropy_objective\": {\"sum\": 0.5045722908929947, \"count\": 1, \"min\": 0.5045722908929947, \"max\": 0.5045722908929947}}}\u001b[0m\n",
            "\u001b[34m#metrics {\"StartTime\": 1651030977.2200134, \"EndTime\": 1651030977.2200294, \"Dimensions\": {\"Algorithm\": \"Linear Learner\", \"Host\": \"algo-1\", \"Operation\": \"training\", \"epoch\": 2, \"model\": 18}, \"Metrics\": {\"train_binary_classification_cross_entropy_objective\": {\"sum\": 0.5043089757796821, \"count\": 1, \"min\": 0.5043089757796821, \"max\": 0.5043089757796821}}}\u001b[0m\n",
            "\u001b[34m#metrics {\"StartTime\": 1651030977.2200816, \"EndTime\": 1651030977.2200985, \"Dimensions\": {\"Algorithm\": \"Linear Learner\", \"Host\": \"algo-1\", \"Operation\": \"training\", \"epoch\": 2, \"model\": 19}, \"Metrics\": {\"train_binary_classification_cross_entropy_objective\": {\"sum\": 0.5045723731131364, \"count\": 1, \"min\": 0.5045723731131364, \"max\": 0.5045723731131364}}}\u001b[0m\n",
            "\u001b[34m#metrics {\"StartTime\": 1651030977.2201488, \"EndTime\": 1651030977.2201643, \"Dimensions\": {\"Algorithm\": \"Linear Learner\", \"Host\": \"algo-1\", \"Operation\": \"training\", \"epoch\": 2, \"model\": 20}, \"Metrics\": {\"train_binary_classification_cross_entropy_objective\": {\"sum\": 0.5045734171502816, \"count\": 1, \"min\": 0.5045734171502816, \"max\": 0.5045734171502816}}}\u001b[0m\n",
            "\u001b[34m#metrics {\"StartTime\": 1651030977.2202141, \"EndTime\": 1651030977.2202299, \"Dimensions\": {\"Algorithm\": \"Linear Learner\", \"Host\": \"algo-1\", \"Operation\": \"training\", \"epoch\": 2, \"model\": 21}, \"Metrics\": {\"train_binary_classification_cross_entropy_objective\": {\"sum\": 0.5076682351721901, \"count\": 1, \"min\": 0.5076682351721901, \"max\": 0.5076682351721901}}}\u001b[0m\n",
            "\u001b[34m#metrics {\"StartTime\": 1651030977.2202826, \"EndTime\": 1651030977.2202988, \"Dimensions\": {\"Algorithm\": \"Linear Learner\", \"Host\": \"algo-1\", \"Operation\": \"training\", \"epoch\": 2, \"model\": 22}, \"Metrics\": {\"train_binary_classification_cross_entropy_objective\": {\"sum\": 0.5045734707893581, \"count\": 1, \"min\": 0.5045734707893581, \"max\": 0.5045734707893581}}}\u001b[0m\n",
            "\u001b[34m#metrics {\"StartTime\": 1651030977.2203577, \"EndTime\": 1651030977.2203746, \"Dimensions\": {\"Algorithm\": \"Linear Learner\", \"Host\": \"algo-1\", \"Operation\": \"training\", \"epoch\": 2, \"model\": 23}, \"Metrics\": {\"train_binary_classification_cross_entropy_objective\": {\"sum\": 0.5076682460913235, \"count\": 1, \"min\": 0.5076682460913235, \"max\": 0.5076682460913235}}}\u001b[0m\n",
            "\u001b[34m#metrics {\"StartTime\": 1651030977.2204273, \"EndTime\": 1651030977.2204404, \"Dimensions\": {\"Algorithm\": \"Linear Learner\", \"Host\": \"algo-1\", \"Operation\": \"training\", \"epoch\": 2, \"model\": 24}, \"Metrics\": {\"train_binary_classification_cross_entropy_objective\": {\"sum\": 0.5137283360425849, \"count\": 1, \"min\": 0.5137283360425849, \"max\": 0.5137283360425849}}}\u001b[0m\n",
            "\u001b[34m#metrics {\"StartTime\": 1651030977.2204697, \"EndTime\": 1651030977.2204776, \"Dimensions\": {\"Algorithm\": \"Linear Learner\", \"Host\": \"algo-1\", \"Operation\": \"training\", \"epoch\": 2, \"model\": 25}, \"Metrics\": {\"train_binary_classification_cross_entropy_objective\": {\"sum\": 0.5138359518955242, \"count\": 1, \"min\": 0.5138359518955242, \"max\": 0.5138359518955242}}}\u001b[0m\n",
            "\u001b[34m#metrics {\"StartTime\": 1651030977.2205048, \"EndTime\": 1651030977.2205129, \"Dimensions\": {\"Algorithm\": \"Linear Learner\", \"Host\": \"algo-1\", \"Operation\": \"training\", \"epoch\": 2, \"model\": 26}, \"Metrics\": {\"train_binary_classification_cross_entropy_objective\": {\"sum\": 0.5137282741674954, \"count\": 1, \"min\": 0.5137282741674954, \"max\": 0.5137282741674954}}}\u001b[0m\n",
            "\u001b[34m#metrics {\"StartTime\": 1651030977.2205384, \"EndTime\": 1651030977.2205458, \"Dimensions\": {\"Algorithm\": \"Linear Learner\", \"Host\": \"algo-1\", \"Operation\": \"training\", \"epoch\": 2, \"model\": 27}, \"Metrics\": {\"train_binary_classification_cross_entropy_objective\": {\"sum\": 0.5138366737249065, \"count\": 1, \"min\": 0.5138366737249065, \"max\": 0.5138366737249065}}}\u001b[0m\n",
            "\u001b[34m#metrics {\"StartTime\": 1651030977.2205722, \"EndTime\": 1651030977.22058, \"Dimensions\": {\"Algorithm\": \"Linear Learner\", \"Host\": \"algo-1\", \"Operation\": \"training\", \"epoch\": 2, \"model\": 28}, \"Metrics\": {\"train_binary_classification_cross_entropy_objective\": {\"sum\": 0.5138307691801579, \"count\": 1, \"min\": 0.5138307691801579, \"max\": 0.5138307691801579}}}\u001b[0m\n",
            "\u001b[34m#metrics {\"StartTime\": 1651030977.2206054, \"EndTime\": 1651030977.2206128, \"Dimensions\": {\"Algorithm\": \"Linear Learner\", \"Host\": \"algo-1\", \"Operation\": \"training\", \"epoch\": 2, \"model\": 29}, \"Metrics\": {\"train_binary_classification_cross_entropy_objective\": {\"sum\": 0.5150124756932624, \"count\": 1, \"min\": 0.5150124756932624, \"max\": 0.5150124756932624}}}\u001b[0m\n",
            "\u001b[34m#metrics {\"StartTime\": 1651030977.2206373, \"EndTime\": 1651030977.2206447, \"Dimensions\": {\"Algorithm\": \"Linear Learner\", \"Host\": \"algo-1\", \"Operation\": \"training\", \"epoch\": 2, \"model\": 30}, \"Metrics\": {\"train_binary_classification_cross_entropy_objective\": {\"sum\": 0.5138310143007051, \"count\": 1, \"min\": 0.5138310143007051, \"max\": 0.5138310143007051}}}\u001b[0m\n",
            "\u001b[34m#metrics {\"StartTime\": 1651030977.2206697, \"EndTime\": 1651030977.2206771, \"Dimensions\": {\"Algorithm\": \"Linear Learner\", \"Host\": \"algo-1\", \"Operation\": \"training\", \"epoch\": 2, \"model\": 31}, \"Metrics\": {\"train_binary_classification_cross_entropy_objective\": {\"sum\": 0.51501296110474, \"count\": 1, \"min\": 0.51501296110474, \"max\": 0.51501296110474}}}\u001b[0m\n",
            "\u001b[34m[04/27/2022 03:42:57 INFO 140247898380096] #quality_metric: host=algo-1, epoch=2, train binary_classification_cross_entropy_objective <loss>=0.4805666754486364\u001b[0m\n",
            "\u001b[34m[2022-04-27 03:43:02.585] [tensorio] [info] epoch_stats={\"data_pipeline\": \"/opt/ml/input/data/validation\", \"epoch\": 8, \"duration\": 5340, \"num_examples\": 164, \"num_bytes\": 63460892}\u001b[0m\n",
            "\u001b[34m#metrics {\"StartTime\": 1651030982.5971942, \"EndTime\": 1651030982.597314, \"Dimensions\": {\"Algorithm\": \"Linear Learner\", \"Host\": \"algo-1\", \"Operation\": \"training\", \"epoch\": 2, \"model\": 0}, \"Metrics\": {\"validation_binary_classification_cross_entropy_objective\": {\"sum\": 0.4811578887435115, \"count\": 1, \"min\": 0.4811578887435115, \"max\": 0.4811578887435115}}}\u001b[0m\n",
            "\u001b[34m#metrics {\"StartTime\": 1651030982.597441, \"EndTime\": 1651030982.5974655, \"Dimensions\": {\"Algorithm\": \"Linear Learner\", \"Host\": \"algo-1\", \"Operation\": \"training\", \"epoch\": 2, \"model\": 1}, \"Metrics\": {\"validation_binary_classification_cross_entropy_objective\": {\"sum\": 0.4829126766337472, \"count\": 1, \"min\": 0.4829126766337472, \"max\": 0.4829126766337472}}}\u001b[0m\n",
            "\u001b[34m#metrics {\"StartTime\": 1651030982.59753, \"EndTime\": 1651030982.597548, \"Dimensions\": {\"Algorithm\": \"Linear Learner\", \"Host\": \"algo-1\", \"Operation\": \"training\", \"epoch\": 2, \"model\": 2}, \"Metrics\": {\"validation_binary_classification_cross_entropy_objective\": {\"sum\": 0.4811573722775497, \"count\": 1, \"min\": 0.4811573722775497, \"max\": 0.4811573722775497}}}\u001b[0m\n",
            "\u001b[34m#metrics {\"StartTime\": 1651030982.5976112, \"EndTime\": 1651030982.5976298, \"Dimensions\": {\"Algorithm\": \"Linear Learner\", \"Host\": \"algo-1\", \"Operation\": \"training\", \"epoch\": 2, \"model\": 3}, \"Metrics\": {\"validation_binary_classification_cross_entropy_objective\": {\"sum\": 0.4829129557641948, \"count\": 1, \"min\": 0.4829129557641948, \"max\": 0.4829129557641948}}}\u001b[0m\n",
            "\u001b[34m#metrics {\"StartTime\": 1651030982.597686, \"EndTime\": 1651030982.5977046, \"Dimensions\": {\"Algorithm\": \"Linear Learner\", \"Host\": \"algo-1\", \"Operation\": \"training\", \"epoch\": 2, \"model\": 4}, \"Metrics\": {\"validation_binary_classification_cross_entropy_objective\": {\"sum\": 0.48180674538101503, \"count\": 1, \"min\": 0.48180674538101503, \"max\": 0.48180674538101503}}}\u001b[0m\n",
            "\u001b[34m#metrics {\"StartTime\": 1651030982.5977628, \"EndTime\": 1651030982.597781, \"Dimensions\": {\"Algorithm\": \"Linear Learner\", \"Host\": \"algo-1\", \"Operation\": \"training\", \"epoch\": 2, \"model\": 5}, \"Metrics\": {\"validation_binary_classification_cross_entropy_objective\": {\"sum\": 0.4967808070199797, \"count\": 1, \"min\": 0.4967808070199797, \"max\": 0.4967808070199797}}}\u001b[0m\n",
            "\u001b[34m#metrics {\"StartTime\": 1651030982.5978343, \"EndTime\": 1651030982.59785, \"Dimensions\": {\"Algorithm\": \"Linear Learner\", \"Host\": \"algo-1\", \"Operation\": \"training\", \"epoch\": 2, \"model\": 6}, \"Metrics\": {\"validation_binary_classification_cross_entropy_objective\": {\"sum\": 0.48180672970791505, \"count\": 1, \"min\": 0.48180672970791505, \"max\": 0.48180672970791505}}}\u001b[0m\n",
            "\u001b[34m#metrics {\"StartTime\": 1651030982.5979574, \"EndTime\": 1651030982.597982, \"Dimensions\": {\"Algorithm\": \"Linear Learner\", \"Host\": \"algo-1\", \"Operation\": \"training\", \"epoch\": 2, \"model\": 7}, \"Metrics\": {\"validation_binary_classification_cross_entropy_objective\": {\"sum\": 0.4967806445048595, \"count\": 1, \"min\": 0.4967806445048595, \"max\": 0.4967806445048595}}}\u001b[0m\n",
            "\u001b[34m#metrics {\"StartTime\": 1651030982.598043, \"EndTime\": 1651030982.5980592, \"Dimensions\": {\"Algorithm\": \"Linear Learner\", \"Host\": \"algo-1\", \"Operation\": \"training\", \"epoch\": 2, \"model\": 8}, \"Metrics\": {\"validation_binary_classification_cross_entropy_objective\": {\"sum\": 0.48138851001367194, \"count\": 1, \"min\": 0.48138851001367194, \"max\": 0.48138851001367194}}}\u001b[0m\n",
            "\u001b[34m#metrics {\"StartTime\": 1651030982.5981133, \"EndTime\": 1651030982.5981288, \"Dimensions\": {\"Algorithm\": \"Linear Learner\", \"Host\": \"algo-1\", \"Operation\": \"training\", \"epoch\": 2, \"model\": 9}, \"Metrics\": {\"validation_binary_classification_cross_entropy_objective\": {\"sum\": 0.4829990781425897, \"count\": 1, \"min\": 0.4829990781425897, \"max\": 0.4829990781425897}}}\u001b[0m\n",
            "\u001b[34m#metrics {\"StartTime\": 1651030982.5981817, \"EndTime\": 1651030982.598201, \"Dimensions\": {\"Algorithm\": \"Linear Learner\", \"Host\": \"algo-1\", \"Operation\": \"training\", \"epoch\": 2, \"model\": 10}, \"Metrics\": {\"validation_binary_classification_cross_entropy_objective\": {\"sum\": 0.4813884169079946, \"count\": 1, \"min\": 0.4813884169079946, \"max\": 0.4813884169079946}}}\u001b[0m\n",
            "\u001b[34m#metrics {\"StartTime\": 1651030982.5982609, \"EndTime\": 1651030982.5982766, \"Dimensions\": {\"Algorithm\": \"Linear Learner\", \"Host\": \"algo-1\", \"Operation\": \"training\", \"epoch\": 2, \"model\": 11}, \"Metrics\": {\"validation_binary_classification_cross_entropy_objective\": {\"sum\": 0.48299892570303377, \"count\": 1, \"min\": 0.48299892570303377, \"max\": 0.48299892570303377}}}\u001b[0m\n",
            "\u001b[34m#metrics {\"StartTime\": 1651030982.5984087, \"EndTime\": 1651030982.5984316, \"Dimensions\": {\"Algorithm\": \"Linear Learner\", \"Host\": \"algo-1\", \"Operation\": \"training\", \"epoch\": 2, \"model\": 12}, \"Metrics\": {\"validation_binary_classification_cross_entropy_objective\": {\"sum\": 0.4819869705444714, \"count\": 1, \"min\": 0.4819869705444714, \"max\": 0.4819869705444714}}}\u001b[0m\n",
            "\u001b[34m#metrics {\"StartTime\": 1651030982.5984912, \"EndTime\": 1651030982.5985062, \"Dimensions\": {\"Algorithm\": \"Linear Learner\", \"Host\": \"algo-1\", \"Operation\": \"training\", \"epoch\": 2, \"model\": 13}, \"Metrics\": {\"validation_binary_classification_cross_entropy_objective\": {\"sum\": 0.4945119354791194, \"count\": 1, \"min\": 0.4945119354791194, \"max\": 0.4945119354791194}}}\u001b[0m\n",
            "\u001b[34m#metrics {\"StartTime\": 1651030982.5985575, \"EndTime\": 1651030982.5985723, \"Dimensions\": {\"Algorithm\": \"Linear Learner\", \"Host\": \"algo-1\", \"Operation\": \"training\", \"epoch\": 2, \"model\": 14}, \"Metrics\": {\"validation_binary_classification_cross_entropy_objective\": {\"sum\": 0.48198683974872025, \"count\": 1, \"min\": 0.48198683974872025, \"max\": 0.48198683974872025}}}\u001b[0m\n",
            "\u001b[34m#metrics {\"StartTime\": 1651030982.5986373, \"EndTime\": 1651030982.598655, \"Dimensions\": {\"Algorithm\": \"Linear Learner\", \"Host\": \"algo-1\", \"Operation\": \"training\", \"epoch\": 2, \"model\": 15}, \"Metrics\": {\"validation_binary_classification_cross_entropy_objective\": {\"sum\": 0.4945120739248361, \"count\": 1, \"min\": 0.4945120739248361, \"max\": 0.4945120739248361}}}\u001b[0m\n",
            "\u001b[34m#metrics {\"StartTime\": 1651030982.5987196, \"EndTime\": 1651030982.5987334, \"Dimensions\": {\"Algorithm\": \"Linear Learner\", \"Host\": \"algo-1\", \"Operation\": \"training\", \"epoch\": 2, \"model\": 16}, \"Metrics\": {\"validation_binary_classification_cross_entropy_objective\": {\"sum\": 0.5044889256666721, \"count\": 1, \"min\": 0.5044889256666721, \"max\": 0.5044889256666721}}}\u001b[0m\n",
            "\u001b[34m#metrics {\"StartTime\": 1651030982.5987766, \"EndTime\": 1651030982.5987918, \"Dimensions\": {\"Algorithm\": \"Linear Learner\", \"Host\": \"algo-1\", \"Operation\": \"training\", \"epoch\": 2, \"model\": 17}, \"Metrics\": {\"validation_binary_classification_cross_entropy_objective\": {\"sum\": 0.5049502995624978, \"count\": 1, \"min\": 0.5049502995624978, \"max\": 0.5049502995624978}}}\u001b[0m\n",
            "\u001b[34m#metrics {\"StartTime\": 1651030982.5988438, \"EndTime\": 1651030982.598859, \"Dimensions\": {\"Algorithm\": \"Linear Learner\", \"Host\": \"algo-1\", \"Operation\": \"training\", \"epoch\": 2, \"model\": 18}, \"Metrics\": {\"validation_binary_classification_cross_entropy_objective\": {\"sum\": 0.5044883580765508, \"count\": 1, \"min\": 0.5044883580765508, \"max\": 0.5044883580765508}}}\u001b[0m\n",
            "\u001b[34m#metrics {\"StartTime\": 1651030982.5989046, \"EndTime\": 1651030982.5989199, \"Dimensions\": {\"Algorithm\": \"Linear Learner\", \"Host\": \"algo-1\", \"Operation\": \"training\", \"epoch\": 2, \"model\": 19}, \"Metrics\": {\"validation_binary_classification_cross_entropy_objective\": {\"sum\": 0.5049507415812347, \"count\": 1, \"min\": 0.5049507415812347, \"max\": 0.5049507415812347}}}\u001b[0m\n",
            "\u001b[34m#metrics {\"StartTime\": 1651030982.5989676, \"EndTime\": 1651030982.5989826, \"Dimensions\": {\"Algorithm\": \"Linear Learner\", \"Host\": \"algo-1\", \"Operation\": \"training\", \"epoch\": 2, \"model\": 20}, \"Metrics\": {\"validation_binary_classification_cross_entropy_objective\": {\"sum\": 0.5043550507111062, \"count\": 1, \"min\": 0.5043550507111062, \"max\": 0.5043550507111062}}}\u001b[0m\n",
            "\u001b[34m#metrics {\"StartTime\": 1651030982.5990255, \"EndTime\": 1651030982.5990348, \"Dimensions\": {\"Algorithm\": \"Linear Learner\", \"Host\": \"algo-1\", \"Operation\": \"training\", \"epoch\": 2, \"model\": 21}, \"Metrics\": {\"validation_binary_classification_cross_entropy_objective\": {\"sum\": 0.5054750030444624, \"count\": 1, \"min\": 0.5054750030444624, \"max\": 0.5054750030444624}}}\u001b[0m\n",
            "\u001b[34m#metrics {\"StartTime\": 1651030982.5990775, \"EndTime\": 1651030982.5990922, \"Dimensions\": {\"Algorithm\": \"Linear Learner\", \"Host\": \"algo-1\", \"Operation\": \"training\", \"epoch\": 2, \"model\": 22}, \"Metrics\": {\"validation_binary_classification_cross_entropy_objective\": {\"sum\": 0.5043550786987847, \"count\": 1, \"min\": 0.5043550786987847, \"max\": 0.5043550786987847}}}\u001b[0m\n",
            "\u001b[34m#metrics {\"StartTime\": 1651030982.5991387, \"EndTime\": 1651030982.5991523, \"Dimensions\": {\"Algorithm\": \"Linear Learner\", \"Host\": \"algo-1\", \"Operation\": \"training\", \"epoch\": 2, \"model\": 23}, \"Metrics\": {\"validation_binary_classification_cross_entropy_objective\": {\"sum\": 0.505475373414742, \"count\": 1, \"min\": 0.505475373414742, \"max\": 0.505475373414742}}}\u001b[0m\n",
            "\u001b[34m#metrics {\"StartTime\": 1651030982.599198, \"EndTime\": 1651030982.5992117, \"Dimensions\": {\"Algorithm\": \"Linear Learner\", \"Host\": \"algo-1\", \"Operation\": \"training\", \"epoch\": 2, \"model\": 24}, \"Metrics\": {\"validation_binary_classification_cross_entropy_objective\": {\"sum\": 0.5137168226520251, \"count\": 1, \"min\": 0.5137168226520251, \"max\": 0.5137168226520251}}}\u001b[0m\n",
            "\u001b[34m#metrics {\"StartTime\": 1651030982.5992558, \"EndTime\": 1651030982.5992703, \"Dimensions\": {\"Algorithm\": \"Linear Learner\", \"Host\": \"algo-1\", \"Operation\": \"training\", \"epoch\": 2, \"model\": 25}, \"Metrics\": {\"validation_binary_classification_cross_entropy_objective\": {\"sum\": 0.5144046401905238, \"count\": 1, \"min\": 0.5144046401905238, \"max\": 0.5144046401905238}}}\u001b[0m\n",
            "\u001b[34m#metrics {\"StartTime\": 1651030982.5993273, \"EndTime\": 1651030982.599344, \"Dimensions\": {\"Algorithm\": \"Linear Learner\", \"Host\": \"algo-1\", \"Operation\": \"training\", \"epoch\": 2, \"model\": 26}, \"Metrics\": {\"validation_binary_classification_cross_entropy_objective\": {\"sum\": 0.5137174848405001, \"count\": 1, \"min\": 0.5137174848405001, \"max\": 0.5137174848405001}}}\u001b[0m\n",
            "\u001b[34m#metrics {\"StartTime\": 1651030982.5993948, \"EndTime\": 1651030982.5994115, \"Dimensions\": {\"Algorithm\": \"Linear Learner\", \"Host\": \"algo-1\", \"Operation\": \"training\", \"epoch\": 2, \"model\": 27}, \"Metrics\": {\"validation_binary_classification_cross_entropy_objective\": {\"sum\": 0.5143750129937462, \"count\": 1, \"min\": 0.5143750129937462, \"max\": 0.5143750129937462}}}\u001b[0m\n",
            "\u001b[34m#metrics {\"StartTime\": 1651030982.599462, \"EndTime\": 1651030982.5994766, \"Dimensions\": {\"Algorithm\": \"Linear Learner\", \"Host\": \"algo-1\", \"Operation\": \"training\", \"epoch\": 2, \"model\": 28}, \"Metrics\": {\"validation_binary_classification_cross_entropy_objective\": {\"sum\": 0.5139241598528785, \"count\": 1, \"min\": 0.5139241598528785, \"max\": 0.5139241598528785}}}\u001b[0m\n",
            "\u001b[34m#metrics {\"StartTime\": 1651030982.599525, \"EndTime\": 1651030982.5995407, \"Dimensions\": {\"Algorithm\": \"Linear Learner\", \"Host\": \"algo-1\", \"Operation\": \"training\", \"epoch\": 2, \"model\": 29}, \"Metrics\": {\"validation_binary_classification_cross_entropy_objective\": {\"sum\": 0.51372251758486, \"count\": 1, \"min\": 0.51372251758486, \"max\": 0.51372251758486}}}\u001b[0m\n",
            "\u001b[34m#metrics {\"StartTime\": 1651030982.5996048, \"EndTime\": 1651030982.5996208, \"Dimensions\": {\"Algorithm\": \"Linear Learner\", \"Host\": \"algo-1\", \"Operation\": \"training\", \"epoch\": 2, \"model\": 30}, \"Metrics\": {\"validation_binary_classification_cross_entropy_objective\": {\"sum\": 0.5139225934758014, \"count\": 1, \"min\": 0.5139225934758014, \"max\": 0.5139225934758014}}}\u001b[0m\n",
            "\u001b[34m#metrics {\"StartTime\": 1651030982.5996664, \"EndTime\": 1651030982.5996819, \"Dimensions\": {\"Algorithm\": \"Linear Learner\", \"Host\": \"algo-1\", \"Operation\": \"training\", \"epoch\": 2, \"model\": 31}, \"Metrics\": {\"validation_binary_classification_cross_entropy_objective\": {\"sum\": 0.5137225989357124, \"count\": 1, \"min\": 0.5137225989357124, \"max\": 0.5137225989357124}}}\u001b[0m\n",
            "\u001b[34m[04/27/2022 03:43:02 INFO 140247898380096] #quality_metric: host=algo-1, epoch=2, validation binary_classification_cross_entropy_objective <loss>=0.4811578887435115\u001b[0m\n",
            "\u001b[34m[04/27/2022 03:43:02 INFO 140247898380096] #early_stopping_criteria_metric: host=algo-1, epoch=2, criteria=binary_classification_cross_entropy_objective, value=0.4811573722775497\u001b[0m\n",
            "\u001b[34m[04/27/2022 03:43:02 INFO 140247898380096] Saving model for epoch: 2\u001b[0m\n",
            "\u001b[34m[04/27/2022 03:43:02 INFO 140247898380096] Saved checkpoint to \"/tmp/tmp4zjlvyii/mx-mod-0000.params\"\u001b[0m\n",
            "\u001b[34m[04/27/2022 03:43:02 INFO 140247898380096] #progress_metric: host=algo-1, completed 20.0 % of epochs\u001b[0m\n",
            "\u001b[34m#metrics {\"StartTime\": 1651030918.1693525, \"EndTime\": 1651030982.607201, \"Dimensions\": {\"Algorithm\": \"Linear Learner\", \"Host\": \"algo-1\", \"Operation\": \"training\", \"epoch\": 2, \"Meta\": \"training_data_iter\"}, \"Metrics\": {\"Total Records Seen\": {\"sum\": 3937416.0, \"count\": 1, \"min\": 3937416, \"max\": 3937416}, \"Total Batches Seen\": {\"sum\": 3939.0, \"count\": 1, \"min\": 3939, \"max\": 3939}, \"Max Records Seen Between Resets\": {\"sum\": 1308472.0, \"count\": 1, \"min\": 1308472, \"max\": 1308472}, \"Max Batches Seen Between Resets\": {\"sum\": 1309.0, \"count\": 1, \"min\": 1309, \"max\": 1309}, \"Reset Count\": {\"sum\": 5.0, \"count\": 1, \"min\": 5, \"max\": 5}, \"Number of Records Since Last Reset\": {\"sum\": 1308472.0, \"count\": 1, \"min\": 1308472, \"max\": 1308472}, \"Number of Batches Since Last Reset\": {\"sum\": 1309.0, \"count\": 1, \"min\": 1309, \"max\": 1309}}}\u001b[0m\n",
            "\u001b[34m[04/27/2022 03:43:02 INFO 140247898380096] #throughput_metric: host=algo-1, train throughput=20305.904135066718 records/second\u001b[0m\n",
            "\u001b[34m[2022-04-27 03:44:01.060] [tensorio] [info] epoch_stats={\"data_pipeline\": \"/opt/ml/input/data/train\", \"epoch\": 9, \"duration\": 58442, \"num_examples\": 1309, \"num_bytes\": 507687136}\u001b[0m\n",
            "\u001b[34m#metrics {\"StartTime\": 1651031041.060232, \"EndTime\": 1651031041.0603344, \"Dimensions\": {\"Algorithm\": \"Linear Learner\", \"Host\": \"algo-1\", \"Operation\": \"training\", \"epoch\": 3, \"model\": 0}, \"Metrics\": {\"train_binary_classification_cross_entropy_objective\": {\"sum\": 0.4805064730396329, \"count\": 1, \"min\": 0.4805064730396329, \"max\": 0.4805064730396329}}}\u001b[0m\n",
            "\u001b[34m#metrics {\"StartTime\": 1651031041.0604362, \"EndTime\": 1651031041.060457, \"Dimensions\": {\"Algorithm\": \"Linear Learner\", \"Host\": \"algo-1\", \"Operation\": \"training\", \"epoch\": 3, \"model\": 1}, \"Metrics\": {\"train_binary_classification_cross_entropy_objective\": {\"sum\": 0.4814516954101189, \"count\": 1, \"min\": 0.4814516954101189, \"max\": 0.4814516954101189}}}\u001b[0m\n",
            "\u001b[34m#metrics {\"StartTime\": 1651031041.0605187, \"EndTime\": 1651031041.0605366, \"Dimensions\": {\"Algorithm\": \"Linear Learner\", \"Host\": \"algo-1\", \"Operation\": \"training\", \"epoch\": 3, \"model\": 2}, \"Metrics\": {\"train_binary_classification_cross_entropy_objective\": {\"sum\": 0.4805205485026042, \"count\": 1, \"min\": 0.4805205485026042, \"max\": 0.4805205485026042}}}\u001b[0m\n",
            "\u001b[34m#metrics {\"StartTime\": 1651031041.0605907, \"EndTime\": 1651031041.0606065, \"Dimensions\": {\"Algorithm\": \"Linear Learner\", \"Host\": \"algo-1\", \"Operation\": \"training\", \"epoch\": 3, \"model\": 3}, \"Metrics\": {\"train_binary_classification_cross_entropy_objective\": {\"sum\": 0.48145170406609866, \"count\": 1, \"min\": 0.48145170406609866, \"max\": 0.48145170406609866}}}\u001b[0m\n",
            "\u001b[34m#metrics {\"StartTime\": 1651031041.0606613, \"EndTime\": 1651031041.0606794, \"Dimensions\": {\"Algorithm\": \"Linear Learner\", \"Host\": \"algo-1\", \"Operation\": \"training\", \"epoch\": 3, \"model\": 4}, \"Metrics\": {\"train_binary_classification_cross_entropy_objective\": {\"sum\": 0.48081308471026407, \"count\": 1, \"min\": 0.48081308471026407, \"max\": 0.48081308471026407}}}\u001b[0m\n",
            "\u001b[34m#metrics {\"StartTime\": 1651031041.0607352, \"EndTime\": 1651031041.0607517, \"Dimensions\": {\"Algorithm\": \"Linear Learner\", \"Host\": \"algo-1\", \"Operation\": \"training\", \"epoch\": 3, \"model\": 5}, \"Metrics\": {\"train_binary_classification_cross_entropy_objective\": {\"sum\": 0.49665526541147026, \"count\": 1, \"min\": 0.49665526541147026, \"max\": 0.49665526541147026}}}\u001b[0m\n",
            "\u001b[34m#metrics {\"StartTime\": 1651031041.0608068, \"EndTime\": 1651031041.0608244, \"Dimensions\": {\"Algorithm\": \"Linear Learner\", \"Host\": \"algo-1\", \"Operation\": \"training\", \"epoch\": 3, \"model\": 6}, \"Metrics\": {\"train_binary_classification_cross_entropy_objective\": {\"sum\": 0.4808130845236122, \"count\": 1, \"min\": 0.4808130845236122, \"max\": 0.4808130845236122}}}\u001b[0m\n",
            "\u001b[34m#metrics {\"StartTime\": 1651031041.0608788, \"EndTime\": 1651031041.0608947, \"Dimensions\": {\"Algorithm\": \"Linear Learner\", \"Host\": \"algo-1\", \"Operation\": \"training\", \"epoch\": 3, \"model\": 7}, \"Metrics\": {\"train_binary_classification_cross_entropy_objective\": {\"sum\": 0.4966553135909801, \"count\": 1, \"min\": 0.4966553135909801, \"max\": 0.4966553135909801}}}\u001b[0m\n",
            "\u001b[34m#metrics {\"StartTime\": 1651031041.060952, \"EndTime\": 1651031041.0609686, \"Dimensions\": {\"Algorithm\": \"Linear Learner\", \"Host\": \"algo-1\", \"Operation\": \"training\", \"epoch\": 3, \"model\": 8}, \"Metrics\": {\"train_binary_classification_cross_entropy_objective\": {\"sum\": 0.4807771595479516, \"count\": 1, \"min\": 0.4807771595479516, \"max\": 0.4807771595479516}}}\u001b[0m\n",
            "\u001b[34m#metrics {\"StartTime\": 1651031041.0610201, \"EndTime\": 1651031041.0610359, \"Dimensions\": {\"Algorithm\": \"Linear Learner\", \"Host\": \"algo-1\", \"Operation\": \"training\", \"epoch\": 3, \"model\": 9}, \"Metrics\": {\"train_binary_classification_cross_entropy_objective\": {\"sum\": 0.48166899857827283, \"count\": 1, \"min\": 0.48166899857827283, \"max\": 0.48166899857827283}}}\u001b[0m\n",
            "\u001b[34m#metrics {\"StartTime\": 1651031041.061089, \"EndTime\": 1651031041.061105, \"Dimensions\": {\"Algorithm\": \"Linear Learner\", \"Host\": \"algo-1\", \"Operation\": \"training\", \"epoch\": 3, \"model\": 10}, \"Metrics\": {\"train_binary_classification_cross_entropy_objective\": {\"sum\": 0.4807904601257511, \"count\": 1, \"min\": 0.4807904601257511, \"max\": 0.4807904601257511}}}\u001b[0m\n",
            "\u001b[34m#metrics {\"StartTime\": 1651031041.0611606, \"EndTime\": 1651031041.0611796, \"Dimensions\": {\"Algorithm\": \"Linear Learner\", \"Host\": \"algo-1\", \"Operation\": \"training\", \"epoch\": 3, \"model\": 11}, \"Metrics\": {\"train_binary_classification_cross_entropy_objective\": {\"sum\": 0.4816689968517432, \"count\": 1, \"min\": 0.4816689968517432, \"max\": 0.4816689968517432}}}\u001b[0m\n",
            "\u001b[34m#metrics {\"StartTime\": 1651031041.0612328, \"EndTime\": 1651031041.0612502, \"Dimensions\": {\"Algorithm\": \"Linear Learner\", \"Host\": \"algo-1\", \"Operation\": \"training\", \"epoch\": 3, \"model\": 12}, \"Metrics\": {\"train_binary_classification_cross_entropy_objective\": {\"sum\": 0.48106106415728184, \"count\": 1, \"min\": 0.48106106415728184, \"max\": 0.48106106415728184}}}\u001b[0m\n",
            "\u001b[34m#metrics {\"StartTime\": 1651031041.061357, \"EndTime\": 1651031041.0613751, \"Dimensions\": {\"Algorithm\": \"Linear Learner\", \"Host\": \"algo-1\", \"Operation\": \"training\", \"epoch\": 3, \"model\": 13}, \"Metrics\": {\"train_binary_classification_cross_entropy_objective\": {\"sum\": 0.4958549776923037, \"count\": 1, \"min\": 0.4958549776923037, \"max\": 0.4958549776923037}}}\u001b[0m\n",
            "\u001b[34m#metrics {\"StartTime\": 1651031041.0614293, \"EndTime\": 1651031041.0614474, \"Dimensions\": {\"Algorithm\": \"Linear Learner\", \"Host\": \"algo-1\", \"Operation\": \"training\", \"epoch\": 3, \"model\": 14}, \"Metrics\": {\"train_binary_classification_cross_entropy_objective\": {\"sum\": 0.4810610627340614, \"count\": 1, \"min\": 0.4810610627340614, \"max\": 0.4810610627340614}}}\u001b[0m\n",
            "\u001b[34m#metrics {\"StartTime\": 1651031041.0615003, \"EndTime\": 1651031041.0615177, \"Dimensions\": {\"Algorithm\": \"Linear Learner\", \"Host\": \"algo-1\", \"Operation\": \"training\", \"epoch\": 3, \"model\": 15}, \"Metrics\": {\"train_binary_classification_cross_entropy_objective\": {\"sum\": 0.49585493105267164, \"count\": 1, \"min\": 0.49585493105267164, \"max\": 0.49585493105267164}}}\u001b[0m\n",
            "\u001b[34m#metrics {\"StartTime\": 1651031041.0615697, \"EndTime\": 1651031041.0615866, \"Dimensions\": {\"Algorithm\": \"Linear Learner\", \"Host\": \"algo-1\", \"Operation\": \"training\", \"epoch\": 3, \"model\": 16}, \"Metrics\": {\"train_binary_classification_cross_entropy_objective\": {\"sum\": 0.5042976102916472, \"count\": 1, \"min\": 0.5042976102916472, \"max\": 0.5042976102916472}}}\u001b[0m\n",
            "\u001b[34m#metrics {\"StartTime\": 1651031041.0616376, \"EndTime\": 1651031041.061654, \"Dimensions\": {\"Algorithm\": \"Linear Learner\", \"Host\": \"algo-1\", \"Operation\": \"training\", \"epoch\": 3, \"model\": 17}, \"Metrics\": {\"train_binary_classification_cross_entropy_objective\": {\"sum\": 0.504540862243839, \"count\": 1, \"min\": 0.504540862243839, \"max\": 0.504540862243839}}}\u001b[0m\n",
            "\u001b[34m#metrics {\"StartTime\": 1651031041.061705, \"EndTime\": 1651031041.061722, \"Dimensions\": {\"Algorithm\": \"Linear Learner\", \"Host\": \"algo-1\", \"Operation\": \"training\", \"epoch\": 3, \"model\": 18}, \"Metrics\": {\"train_binary_classification_cross_entropy_objective\": {\"sum\": 0.5043047905784863, \"count\": 1, \"min\": 0.5043047905784863, \"max\": 0.5043047905784863}}}\u001b[0m\n",
            "\u001b[34m#metrics {\"StartTime\": 1651031041.0617762, \"EndTime\": 1651031041.0617929, \"Dimensions\": {\"Algorithm\": \"Linear Learner\", \"Host\": \"algo-1\", \"Operation\": \"training\", \"epoch\": 3, \"model\": 19}, \"Metrics\": {\"train_binary_classification_cross_entropy_objective\": {\"sum\": 0.5045408785292133, \"count\": 1, \"min\": 0.5045408785292133, \"max\": 0.5045408785292133}}}\u001b[0m\n",
            "\u001b[34m#metrics {\"StartTime\": 1651031041.0618446, \"EndTime\": 1651031041.0618594, \"Dimensions\": {\"Algorithm\": \"Linear Learner\", \"Host\": \"algo-1\", \"Operation\": \"training\", \"epoch\": 3, \"model\": 20}, \"Metrics\": {\"train_binary_classification_cross_entropy_objective\": {\"sum\": 0.5043782629777167, \"count\": 1, \"min\": 0.5043782629777167, \"max\": 0.5043782629777167}}}\u001b[0m\n",
            "\u001b[34m#metrics {\"StartTime\": 1651031041.0619128, \"EndTime\": 1651031041.0619292, \"Dimensions\": {\"Algorithm\": \"Linear Learner\", \"Host\": \"algo-1\", \"Operation\": \"training\", \"epoch\": 3, \"model\": 21}, \"Metrics\": {\"train_binary_classification_cross_entropy_objective\": {\"sum\": 0.5072767815079529, \"count\": 1, \"min\": 0.5072767815079529, \"max\": 0.5072767815079529}}}\u001b[0m\n",
            "\u001b[34m#metrics {\"StartTime\": 1651031041.0619845, \"EndTime\": 1651031041.061999, \"Dimensions\": {\"Algorithm\": \"Linear Learner\", \"Host\": \"algo-1\", \"Operation\": \"training\", \"epoch\": 3, \"model\": 22}, \"Metrics\": {\"train_binary_classification_cross_entropy_objective\": {\"sum\": 0.5043782641676223, \"count\": 1, \"min\": 0.5043782641676223, \"max\": 0.5043782641676223}}}\u001b[0m\n",
            "\u001b[34m#metrics {\"StartTime\": 1651031041.0620527, \"EndTime\": 1651031041.0620685, \"Dimensions\": {\"Algorithm\": \"Linear Learner\", \"Host\": \"algo-1\", \"Operation\": \"training\", \"epoch\": 3, \"model\": 23}, \"Metrics\": {\"train_binary_classification_cross_entropy_objective\": {\"sum\": 0.5072767764216899, \"count\": 1, \"min\": 0.5072767764216899, \"max\": 0.5072767764216899}}}\u001b[0m\n",
            "\u001b[34m#metrics {\"StartTime\": 1651031041.0621228, \"EndTime\": 1651031041.0621397, \"Dimensions\": {\"Algorithm\": \"Linear Learner\", \"Host\": \"algo-1\", \"Operation\": \"training\", \"epoch\": 3, \"model\": 24}, \"Metrics\": {\"train_binary_classification_cross_entropy_objective\": {\"sum\": 0.5137237936130722, \"count\": 1, \"min\": 0.5137237936130722, \"max\": 0.5137237936130722}}}\u001b[0m\n",
            "\u001b[34m#metrics {\"StartTime\": 1651031041.0621924, \"EndTime\": 1651031041.0622096, \"Dimensions\": {\"Algorithm\": \"Linear Learner\", \"Host\": \"algo-1\", \"Operation\": \"training\", \"epoch\": 3, \"model\": 25}, \"Metrics\": {\"train_binary_classification_cross_entropy_objective\": {\"sum\": 0.5138243144324066, \"count\": 1, \"min\": 0.5138243144324066, \"max\": 0.5138243144324066}}}\u001b[0m\n",
            "\u001b[34m#metrics {\"StartTime\": 1651031041.0622642, \"EndTime\": 1651031041.0622807, \"Dimensions\": {\"Algorithm\": \"Linear Learner\", \"Host\": \"algo-1\", \"Operation\": \"training\", \"epoch\": 3, \"model\": 26}, \"Metrics\": {\"train_binary_classification_cross_entropy_objective\": {\"sum\": 0.513725295833856, \"count\": 1, \"min\": 0.513725295833856, \"max\": 0.513725295833856}}}\u001b[0m\n",
            "\u001b[34m#metrics {\"StartTime\": 1651031041.0623329, \"EndTime\": 1651031041.0623486, \"Dimensions\": {\"Algorithm\": \"Linear Learner\", \"Host\": \"algo-1\", \"Operation\": \"training\", \"epoch\": 3, \"model\": 27}, \"Metrics\": {\"train_binary_classification_cross_entropy_objective\": {\"sum\": 0.51382483992737, \"count\": 1, \"min\": 0.51382483992737, \"max\": 0.51382483992737}}}\u001b[0m\n",
            "\u001b[34m#metrics {\"StartTime\": 1651031041.0624025, \"EndTime\": 1651031041.0624187, \"Dimensions\": {\"Algorithm\": \"Linear Learner\", \"Host\": \"algo-1\", \"Operation\": \"training\", \"epoch\": 3, \"model\": 28}, \"Metrics\": {\"train_binary_classification_cross_entropy_objective\": {\"sum\": 0.5137439084067622, \"count\": 1, \"min\": 0.5137439084067622, \"max\": 0.5137439084067622}}}\u001b[0m\n",
            "\u001b[34m#metrics {\"StartTime\": 1651031041.0624723, \"EndTime\": 1651031041.0624876, \"Dimensions\": {\"Algorithm\": \"Linear Learner\", \"Host\": \"algo-1\", \"Operation\": \"training\", \"epoch\": 3, \"model\": 29}, \"Metrics\": {\"train_binary_classification_cross_entropy_objective\": {\"sum\": 0.5147981117551844, \"count\": 1, \"min\": 0.5147981117551844, \"max\": 0.5147981117551844}}}\u001b[0m\n",
            "\u001b[34m#metrics {\"StartTime\": 1651031041.0625372, \"EndTime\": 1651031041.0625541, \"Dimensions\": {\"Algorithm\": \"Linear Learner\", \"Host\": \"algo-1\", \"Operation\": \"training\", \"epoch\": 3, \"model\": 30}, \"Metrics\": {\"train_binary_classification_cross_entropy_objective\": {\"sum\": 0.5137437390202046, \"count\": 1, \"min\": 0.5137437390202046, \"max\": 0.5137437390202046}}}\u001b[0m\n",
            "\u001b[34m#metrics {\"StartTime\": 1651031041.062603, \"EndTime\": 1651031041.0626214, \"Dimensions\": {\"Algorithm\": \"Linear Learner\", \"Host\": \"algo-1\", \"Operation\": \"training\", \"epoch\": 3, \"model\": 31}, \"Metrics\": {\"train_binary_classification_cross_entropy_objective\": {\"sum\": 0.5147981688473203, \"count\": 1, \"min\": 0.5147981688473203, \"max\": 0.5147981688473203}}}\u001b[0m\n",
            "\u001b[34m[04/27/2022 03:44:01 INFO 140247898380096] #quality_metric: host=algo-1, epoch=3, train binary_classification_cross_entropy_objective <loss>=0.4805064730396329\u001b[0m\n",
            "\u001b[34m[2022-04-27 03:44:06.796] [tensorio] [info] epoch_stats={\"data_pipeline\": \"/opt/ml/input/data/validation\", \"epoch\": 11, \"duration\": 5701, \"num_examples\": 164, \"num_bytes\": 63460892}\u001b[0m\n",
            "\u001b[34m#metrics {\"StartTime\": 1651031046.8062763, \"EndTime\": 1651031046.8063376, \"Dimensions\": {\"Algorithm\": \"Linear Learner\", \"Host\": \"algo-1\", \"Operation\": \"training\", \"epoch\": 3, \"model\": 0}, \"Metrics\": {\"validation_binary_classification_cross_entropy_objective\": {\"sum\": 0.4811680047966373, \"count\": 1, \"min\": 0.4811680047966373, \"max\": 0.4811680047966373}}}\u001b[0m\n",
            "\u001b[34m#metrics {\"StartTime\": 1651031046.806437, \"EndTime\": 1651031046.8064601, \"Dimensions\": {\"Algorithm\": \"Linear Learner\", \"Host\": \"algo-1\", \"Operation\": \"training\", \"epoch\": 3, \"model\": 1}, \"Metrics\": {\"validation_binary_classification_cross_entropy_objective\": {\"sum\": 0.482659774186095, \"count\": 1, \"min\": 0.482659774186095, \"max\": 0.482659774186095}}}\u001b[0m\n",
            "\u001b[34m#metrics {\"StartTime\": 1651031046.8065243, \"EndTime\": 1651031046.8065422, \"Dimensions\": {\"Algorithm\": \"Linear Learner\", \"Host\": \"algo-1\", \"Operation\": \"training\", \"epoch\": 3, \"model\": 2}, \"Metrics\": {\"validation_binary_classification_cross_entropy_objective\": {\"sum\": 0.48115880916496734, \"count\": 1, \"min\": 0.48115880916496734, \"max\": 0.48115880916496734}}}\u001b[0m\n",
            "\u001b[34m#metrics {\"StartTime\": 1651031046.806602, \"EndTime\": 1651031046.8066192, \"Dimensions\": {\"Algorithm\": \"Linear Learner\", \"Host\": \"algo-1\", \"Operation\": \"training\", \"epoch\": 3, \"model\": 3}, \"Metrics\": {\"validation_binary_classification_cross_entropy_objective\": {\"sum\": 0.48265985031258074, \"count\": 1, \"min\": 0.48265985031258074, \"max\": 0.48265985031258074}}}\u001b[0m\n",
            "\u001b[34m#metrics {\"StartTime\": 1651031046.8066754, \"EndTime\": 1651031046.8066916, \"Dimensions\": {\"Algorithm\": \"Linear Learner\", \"Host\": \"algo-1\", \"Operation\": \"training\", \"epoch\": 3, \"model\": 4}, \"Metrics\": {\"validation_binary_classification_cross_entropy_objective\": {\"sum\": 0.4812398344273416, \"count\": 1, \"min\": 0.4812398344273416, \"max\": 0.4812398344273416}}}\u001b[0m\n",
            "\u001b[34m#metrics {\"StartTime\": 1651031046.8067453, \"EndTime\": 1651031046.8067605, \"Dimensions\": {\"Algorithm\": \"Linear Learner\", \"Host\": \"algo-1\", \"Operation\": \"training\", \"epoch\": 3, \"model\": 5}, \"Metrics\": {\"validation_binary_classification_cross_entropy_objective\": {\"sum\": 0.4969902302358089, \"count\": 1, \"min\": 0.4969902302358089, \"max\": 0.4969902302358089}}}\u001b[0m\n",
            "\u001b[34m#metrics {\"StartTime\": 1651031046.8068109, \"EndTime\": 1651031046.8068254, \"Dimensions\": {\"Algorithm\": \"Linear Learner\", \"Host\": \"algo-1\", \"Operation\": \"training\", \"epoch\": 3, \"model\": 6}, \"Metrics\": {\"validation_binary_classification_cross_entropy_objective\": {\"sum\": 0.4812398305090666, \"count\": 1, \"min\": 0.4812398305090666, \"max\": 0.4812398305090666}}}\u001b[0m\n",
            "\u001b[34m#metrics {\"StartTime\": 1651031046.8068724, \"EndTime\": 1651031046.806885, \"Dimensions\": {\"Algorithm\": \"Linear Learner\", \"Host\": \"algo-1\", \"Operation\": \"training\", \"epoch\": 3, \"model\": 7}, \"Metrics\": {\"validation_binary_classification_cross_entropy_objective\": {\"sum\": 0.49699026661979107, \"count\": 1, \"min\": 0.49699026661979107, \"max\": 0.49699026661979107}}}\u001b[0m\n",
            "\u001b[34m#metrics {\"StartTime\": 1651031046.8069284, \"EndTime\": 1651031046.8069403, \"Dimensions\": {\"Algorithm\": \"Linear Learner\", \"Host\": \"algo-1\", \"Operation\": \"training\", \"epoch\": 3, \"model\": 8}, \"Metrics\": {\"validation_binary_classification_cross_entropy_objective\": {\"sum\": 0.4813932591495557, \"count\": 1, \"min\": 0.4813932591495557, \"max\": 0.4813932591495557}}}\u001b[0m\n",
            "\u001b[34m#metrics {\"StartTime\": 1651031046.8069835, \"EndTime\": 1651031046.8069954, \"Dimensions\": {\"Algorithm\": \"Linear Learner\", \"Host\": \"algo-1\", \"Operation\": \"training\", \"epoch\": 3, \"model\": 9}, \"Metrics\": {\"validation_binary_classification_cross_entropy_objective\": {\"sum\": 0.4827745874801271, \"count\": 1, \"min\": 0.4827745874801271, \"max\": 0.4827745874801271}}}\u001b[0m\n",
            "\u001b[34m#metrics {\"StartTime\": 1651031046.8070383, \"EndTime\": 1651031046.8070502, \"Dimensions\": {\"Algorithm\": \"Linear Learner\", \"Host\": \"algo-1\", \"Operation\": \"training\", \"epoch\": 3, \"model\": 10}, \"Metrics\": {\"validation_binary_classification_cross_entropy_objective\": {\"sum\": 0.48139045235856454, \"count\": 1, \"min\": 0.48139045235856454, \"max\": 0.48139045235856454}}}\u001b[0m\n",
            "\u001b[34m#metrics {\"StartTime\": 1651031046.8070939, \"EndTime\": 1651031046.8071058, \"Dimensions\": {\"Algorithm\": \"Linear Learner\", \"Host\": \"algo-1\", \"Operation\": \"training\", \"epoch\": 3, \"model\": 11}, \"Metrics\": {\"validation_binary_classification_cross_entropy_objective\": {\"sum\": 0.4827745311316009, \"count\": 1, \"min\": 0.4827745311316009, \"max\": 0.4827745311316009}}}\u001b[0m\n",
            "\u001b[34m#metrics {\"StartTime\": 1651031046.8071482, \"EndTime\": 1651031046.8071601, \"Dimensions\": {\"Algorithm\": \"Linear Learner\", \"Host\": \"algo-1\", \"Operation\": \"training\", \"epoch\": 3, \"model\": 12}, \"Metrics\": {\"validation_binary_classification_cross_entropy_objective\": {\"sum\": 0.4814843543786784, \"count\": 1, \"min\": 0.4814843543786784, \"max\": 0.4814843543786784}}}\u001b[0m\n",
            "\u001b[34m#metrics {\"StartTime\": 1651031046.807204, \"EndTime\": 1651031046.8072207, \"Dimensions\": {\"Algorithm\": \"Linear Learner\", \"Host\": \"algo-1\", \"Operation\": \"training\", \"epoch\": 3, \"model\": 13}, \"Metrics\": {\"validation_binary_classification_cross_entropy_objective\": {\"sum\": 0.4950788246024036, \"count\": 1, \"min\": 0.4950788246024036, \"max\": 0.4950788246024036}}}\u001b[0m\n",
            "\u001b[34m#metrics {\"StartTime\": 1651031046.8072648, \"EndTime\": 1651031046.8072767, \"Dimensions\": {\"Algorithm\": \"Linear Learner\", \"Host\": \"algo-1\", \"Operation\": \"training\", \"epoch\": 3, \"model\": 14}, \"Metrics\": {\"validation_binary_classification_cross_entropy_objective\": {\"sum\": 0.4814843562445237, \"count\": 1, \"min\": 0.4814843562445237, \"max\": 0.4814843562445237}}}\u001b[0m\n",
            "\u001b[34m#metrics {\"StartTime\": 1651031046.8073187, \"EndTime\": 1651031046.8073306, \"Dimensions\": {\"Algorithm\": \"Linear Learner\", \"Host\": \"algo-1\", \"Operation\": \"training\", \"epoch\": 3, \"model\": 15}, \"Metrics\": {\"validation_binary_classification_cross_entropy_objective\": {\"sum\": 0.4950788688229357, \"count\": 1, \"min\": 0.4950788688229357, \"max\": 0.4950788688229357}}}\u001b[0m\n",
            "\u001b[34m#metrics {\"StartTime\": 1651031046.8073728, \"EndTime\": 1651031046.8073847, \"Dimensions\": {\"Algorithm\": \"Linear Learner\", \"Host\": \"algo-1\", \"Operation\": \"training\", \"epoch\": 3, \"model\": 16}, \"Metrics\": {\"validation_binary_classification_cross_entropy_objective\": {\"sum\": 0.5044493684415391, \"count\": 1, \"min\": 0.5044493684415391, \"max\": 0.5044493684415391}}}\u001b[0m\n",
            "\u001b[34m#metrics {\"StartTime\": 1651031046.8074272, \"EndTime\": 1651031046.807439, \"Dimensions\": {\"Algorithm\": \"Linear Learner\", \"Host\": \"algo-1\", \"Operation\": \"training\", \"epoch\": 3, \"model\": 17}, \"Metrics\": {\"validation_binary_classification_cross_entropy_objective\": {\"sum\": 0.504825174674759, \"count\": 1, \"min\": 0.504825174674759, \"max\": 0.504825174674759}}}\u001b[0m\n",
            "\u001b[34m#metrics {\"StartTime\": 1651031046.807481, \"EndTime\": 1651031046.8074932, \"Dimensions\": {\"Algorithm\": \"Linear Learner\", \"Host\": \"algo-1\", \"Operation\": \"training\", \"epoch\": 3, \"model\": 18}, \"Metrics\": {\"validation_binary_classification_cross_entropy_objective\": {\"sum\": 0.5044861080537786, \"count\": 1, \"min\": 0.5044861080537786, \"max\": 0.5044861080537786}}}\u001b[0m\n",
            "\u001b[34m#metrics {\"StartTime\": 1651031046.807536, \"EndTime\": 1651031046.8075478, \"Dimensions\": {\"Algorithm\": \"Linear Learner\", \"Host\": \"algo-1\", \"Operation\": \"training\", \"epoch\": 3, \"model\": 19}, \"Metrics\": {\"validation_binary_classification_cross_entropy_objective\": {\"sum\": 0.5048252524805054, \"count\": 1, \"min\": 0.5048252524805054, \"max\": 0.5048252524805054}}}\u001b[0m\n",
            "\u001b[34m#metrics {\"StartTime\": 1651031046.8075905, \"EndTime\": 1651031046.8076024, \"Dimensions\": {\"Algorithm\": \"Linear Learner\", \"Host\": \"algo-1\", \"Operation\": \"training\", \"epoch\": 3, \"model\": 20}, \"Metrics\": {\"validation_binary_classification_cross_entropy_objective\": {\"sum\": 0.5043824952421245, \"count\": 1, \"min\": 0.5043824952421245, \"max\": 0.5043824952421245}}}\u001b[0m\n",
            "\u001b[34m#metrics {\"StartTime\": 1651031046.8076448, \"EndTime\": 1651031046.8076575, \"Dimensions\": {\"Algorithm\": \"Linear Learner\", \"Host\": \"algo-1\", \"Operation\": \"training\", \"epoch\": 3, \"model\": 21}, \"Metrics\": {\"validation_binary_classification_cross_entropy_objective\": {\"sum\": 0.5055303932725299, \"count\": 1, \"min\": 0.5055303932725299, \"max\": 0.5055303932725299}}}\u001b[0m\n",
            "\u001b[34m#metrics {\"StartTime\": 1651031046.8077004, \"EndTime\": 1651031046.8077128, \"Dimensions\": {\"Algorithm\": \"Linear Learner\", \"Host\": \"algo-1\", \"Operation\": \"training\", \"epoch\": 3, \"model\": 22}, \"Metrics\": {\"validation_binary_classification_cross_entropy_objective\": {\"sum\": 0.5043825043847662, \"count\": 1, \"min\": 0.5043825043847662, \"max\": 0.5043825043847662}}}\u001b[0m\n",
            "\u001b[34m#metrics {\"StartTime\": 1651031046.8077562, \"EndTime\": 1651031046.8077686, \"Dimensions\": {\"Algorithm\": \"Linear Learner\", \"Host\": \"algo-1\", \"Operation\": \"training\", \"epoch\": 3, \"model\": 23}, \"Metrics\": {\"validation_binary_classification_cross_entropy_objective\": {\"sum\": 0.5055303973773895, \"count\": 1, \"min\": 0.5055303973773895, \"max\": 0.5055303973773895}}}\u001b[0m\n",
            "\u001b[34m#metrics {\"StartTime\": 1651031046.8078127, \"EndTime\": 1651031046.807825, \"Dimensions\": {\"Algorithm\": \"Linear Learner\", \"Host\": \"algo-1\", \"Operation\": \"training\", \"epoch\": 3, \"model\": 24}, \"Metrics\": {\"validation_binary_classification_cross_entropy_objective\": {\"sum\": 0.513712192370483, \"count\": 1, \"min\": 0.513712192370483, \"max\": 0.513712192370483}}}\u001b[0m\n",
            "\u001b[34m#metrics {\"StartTime\": 1651031046.8078685, \"EndTime\": 1651031046.8078802, \"Dimensions\": {\"Algorithm\": \"Linear Learner\", \"Host\": \"algo-1\", \"Operation\": \"training\", \"epoch\": 3, \"model\": 25}, \"Metrics\": {\"validation_binary_classification_cross_entropy_objective\": {\"sum\": 0.5142894014837774, \"count\": 1, \"min\": 0.5142894014837774, \"max\": 0.5142894014837774}}}\u001b[0m\n",
            "\u001b[34m#metrics {\"StartTime\": 1651031046.8079233, \"EndTime\": 1651031046.8079352, \"Dimensions\": {\"Algorithm\": \"Linear Learner\", \"Host\": \"algo-1\", \"Operation\": \"training\", \"epoch\": 3, \"model\": 26}, \"Metrics\": {\"validation_binary_classification_cross_entropy_objective\": {\"sum\": 0.5137172713878049, \"count\": 1, \"min\": 0.5137172713878049, \"max\": 0.5137172713878049}}}\u001b[0m\n",
            "\u001b[34m#metrics {\"StartTime\": 1651031046.8079774, \"EndTime\": 1651031046.8079894, \"Dimensions\": {\"Algorithm\": \"Linear Learner\", \"Host\": \"algo-1\", \"Operation\": \"training\", \"epoch\": 3, \"model\": 27}, \"Metrics\": {\"validation_binary_classification_cross_entropy_objective\": {\"sum\": 0.5143027297760646, \"count\": 1, \"min\": 0.5143027297760646, \"max\": 0.5143027297760646}}}\u001b[0m\n",
            "\u001b[34m#metrics {\"StartTime\": 1651031046.8080313, \"EndTime\": 1651031046.808043, \"Dimensions\": {\"Algorithm\": \"Linear Learner\", \"Host\": \"algo-1\", \"Operation\": \"training\", \"epoch\": 3, \"model\": 28}, \"Metrics\": {\"validation_binary_classification_cross_entropy_objective\": {\"sum\": 0.5137413361267594, \"count\": 1, \"min\": 0.5137413361267594, \"max\": 0.5137413361267594}}}\u001b[0m\n",
            "\u001b[34m#metrics {\"StartTime\": 1651031046.8080847, \"EndTime\": 1651031046.8080964, \"Dimensions\": {\"Algorithm\": \"Linear Learner\", \"Host\": \"algo-1\", \"Operation\": \"training\", \"epoch\": 3, \"model\": 29}, \"Metrics\": {\"validation_binary_classification_cross_entropy_objective\": {\"sum\": 0.5137111611178201, \"count\": 1, \"min\": 0.5137111611178201, \"max\": 0.5137111611178201}}}\u001b[0m\n",
            "\u001b[34m#metrics {\"StartTime\": 1651031046.8081388, \"EndTime\": 1651031046.8081508, \"Dimensions\": {\"Algorithm\": \"Linear Learner\", \"Host\": \"algo-1\", \"Operation\": \"training\", \"epoch\": 3, \"model\": 30}, \"Metrics\": {\"validation_binary_classification_cross_entropy_objective\": {\"sum\": 0.5137398945747287, \"count\": 1, \"min\": 0.5137398945747287, \"max\": 0.5137398945747287}}}\u001b[0m\n",
            "\u001b[34m#metrics {\"StartTime\": 1651031046.808193, \"EndTime\": 1651031046.8082058, \"Dimensions\": {\"Algorithm\": \"Linear Learner\", \"Host\": \"algo-1\", \"Operation\": \"training\", \"epoch\": 3, \"model\": 31}, \"Metrics\": {\"validation_binary_classification_cross_entropy_objective\": {\"sum\": 0.5137111786567653, \"count\": 1, \"min\": 0.5137111786567653, \"max\": 0.5137111786567653}}}\u001b[0m\n",
            "\u001b[34m[04/27/2022 03:44:06 INFO 140247898380096] #quality_metric: host=algo-1, epoch=3, validation binary_classification_cross_entropy_objective <loss>=0.4811680047966373\u001b[0m\n",
            "\u001b[34m[04/27/2022 03:44:06 INFO 140247898380096] #early_stopping_criteria_metric: host=algo-1, epoch=3, criteria=binary_classification_cross_entropy_objective, value=0.48115880916496734\u001b[0m\n",
            "\u001b[34m[04/27/2022 03:44:06 INFO 140247898380096] Saving model for epoch: 3\u001b[0m\n",
            "\u001b[34m[04/27/2022 03:44:06 INFO 140247898380096] Saved checkpoint to \"/tmp/tmpm9afyopk/mx-mod-0000.params\"\u001b[0m\n",
            "\u001b[34m[04/27/2022 03:44:06 INFO 140247898380096] #progress_metric: host=algo-1, completed 26.666666666666668 % of epochs\u001b[0m\n",
            "\u001b[34m#metrics {\"StartTime\": 1651030982.6179037, \"EndTime\": 1651031046.8176687, \"Dimensions\": {\"Algorithm\": \"Linear Learner\", \"Host\": \"algo-1\", \"Operation\": \"training\", \"epoch\": 3, \"Meta\": \"training_data_iter\"}, \"Metrics\": {\"Total Records Seen\": {\"sum\": 5245888.0, \"count\": 1, \"min\": 5245888, \"max\": 5245888}, \"Total Batches Seen\": {\"sum\": 5248.0, \"count\": 1, \"min\": 5248, \"max\": 5248}, \"Max Records Seen Between Resets\": {\"sum\": 1308472.0, \"count\": 1, \"min\": 1308472, \"max\": 1308472}, \"Max Batches Seen Between Resets\": {\"sum\": 1309.0, \"count\": 1, \"min\": 1309, \"max\": 1309}, \"Reset Count\": {\"sum\": 6.0, \"count\": 1, \"min\": 6, \"max\": 6}, \"Number of Records Since Last Reset\": {\"sum\": 1308472.0, \"count\": 1, \"min\": 1308472, \"max\": 1308472}, \"Number of Batches Since Last Reset\": {\"sum\": 1309.0, \"count\": 1, \"min\": 1309, \"max\": 1309}}}\u001b[0m\n",
            "\u001b[34m[04/27/2022 03:44:06 INFO 140247898380096] #throughput_metric: host=algo-1, train throughput=20381.156613063755 records/second\u001b[0m\n",
            "\u001b[34m[2022-04-27 03:45:05.545] [tensorio] [info] epoch_stats={\"data_pipeline\": \"/opt/ml/input/data/train\", \"epoch\": 11, \"duration\": 58723, \"num_examples\": 1309, \"num_bytes\": 507687136}\u001b[0m\n",
            "\u001b[34m#metrics {\"StartTime\": 1651031105.5451221, \"EndTime\": 1651031105.545211, \"Dimensions\": {\"Algorithm\": \"Linear Learner\", \"Host\": \"algo-1\", \"Operation\": \"training\", \"epoch\": 4, \"model\": 0}, \"Metrics\": {\"train_binary_classification_cross_entropy_objective\": {\"sum\": 0.4804817202506809, \"count\": 1, \"min\": 0.4804817202506809, \"max\": 0.4804817202506809}}}\u001b[0m\n",
            "\u001b[34m#metrics {\"StartTime\": 1651031105.5453367, \"EndTime\": 1651031105.5453565, \"Dimensions\": {\"Algorithm\": \"Linear Learner\", \"Host\": \"algo-1\", \"Operation\": \"training\", \"epoch\": 4, \"model\": 1}, \"Metrics\": {\"train_binary_classification_cross_entropy_objective\": {\"sum\": 0.48133476224660143, \"count\": 1, \"min\": 0.48133476224660143, \"max\": 0.48133476224660143}}}\u001b[0m\n",
            "\u001b[34m#metrics {\"StartTime\": 1651031105.5454106, \"EndTime\": 1651031105.5454245, \"Dimensions\": {\"Algorithm\": \"Linear Learner\", \"Host\": \"algo-1\", \"Operation\": \"training\", \"epoch\": 4, \"model\": 2}, \"Metrics\": {\"train_binary_classification_cross_entropy_objective\": {\"sum\": 0.48051986339697417, \"count\": 1, \"min\": 0.48051986339697417, \"max\": 0.48051986339697417}}}\u001b[0m\n",
            "\u001b[34m#metrics {\"StartTime\": 1651031105.545469, \"EndTime\": 1651031105.5454814, \"Dimensions\": {\"Algorithm\": \"Linear Learner\", \"Host\": \"algo-1\", \"Operation\": \"training\", \"epoch\": 4, \"model\": 3}, \"Metrics\": {\"train_binary_classification_cross_entropy_objective\": {\"sum\": 0.48133476532635705, \"count\": 1, \"min\": 0.48133476532635705, \"max\": 0.48133476532635705}}}\u001b[0m\n",
            "\u001b[34m#metrics {\"StartTime\": 1651031105.5455406, \"EndTime\": 1651031105.545555, \"Dimensions\": {\"Algorithm\": \"Linear Learner\", \"Host\": \"algo-1\", \"Operation\": \"training\", \"epoch\": 4, \"model\": 4}, \"Metrics\": {\"train_binary_classification_cross_entropy_objective\": {\"sum\": 0.4805912588743624, \"count\": 1, \"min\": 0.4805912588743624, \"max\": 0.4805912588743624}}}\u001b[0m\n",
            "\u001b[34m#metrics {\"StartTime\": 1651031105.5456007, \"EndTime\": 1651031105.5456128, \"Dimensions\": {\"Algorithm\": \"Linear Learner\", \"Host\": \"algo-1\", \"Operation\": \"training\", \"epoch\": 4, \"model\": 5}, \"Metrics\": {\"train_binary_classification_cross_entropy_objective\": {\"sum\": 0.4947519666572594, \"count\": 1, \"min\": 0.4947519666572594, \"max\": 0.4947519666572594}}}\u001b[0m\n",
            "\u001b[34m#metrics {\"StartTime\": 1651031105.545653, \"EndTime\": 1651031105.5456643, \"Dimensions\": {\"Algorithm\": \"Linear Learner\", \"Host\": \"algo-1\", \"Operation\": \"training\", \"epoch\": 4, \"model\": 6}, \"Metrics\": {\"train_binary_classification_cross_entropy_objective\": {\"sum\": 0.4805912584543957, \"count\": 1, \"min\": 0.4805912584543957, \"max\": 0.4805912584543957}}}\u001b[0m\n",
            "\u001b[34m#metrics {\"StartTime\": 1651031105.545704, \"EndTime\": 1651031105.5457144, \"Dimensions\": {\"Algorithm\": \"Linear Learner\", \"Host\": \"algo-1\", \"Operation\": \"training\", \"epoch\": 4, \"model\": 7}, \"Metrics\": {\"train_binary_classification_cross_entropy_objective\": {\"sum\": 0.4947519762464984, \"count\": 1, \"min\": 0.4947519762464984, \"max\": 0.4947519762464984}}}\u001b[0m\n",
            "\u001b[34m#metrics {\"StartTime\": 1651031105.5457554, \"EndTime\": 1651031105.5457714, \"Dimensions\": {\"Algorithm\": \"Linear Learner\", \"Host\": \"algo-1\", \"Operation\": \"training\", \"epoch\": 4, \"model\": 8}, \"Metrics\": {\"train_binary_classification_cross_entropy_objective\": {\"sum\": 0.48075281153687643, \"count\": 1, \"min\": 0.48075281153687643, \"max\": 0.48075281153687643}}}\u001b[0m\n",
            "\u001b[34m#metrics {\"StartTime\": 1651031105.5458221, \"EndTime\": 1651031105.5458364, \"Dimensions\": {\"Algorithm\": \"Linear Learner\", \"Host\": \"algo-1\", \"Operation\": \"training\", \"epoch\": 4, \"model\": 9}, \"Metrics\": {\"train_binary_classification_cross_entropy_objective\": {\"sum\": 0.4815587979937912, \"count\": 1, \"min\": 0.4815587979937912, \"max\": 0.4815587979937912}}}\u001b[0m\n",
            "\u001b[34m#metrics {\"StartTime\": 1651031105.5458803, \"EndTime\": 1651031105.5458927, \"Dimensions\": {\"Algorithm\": \"Linear Learner\", \"Host\": \"algo-1\", \"Operation\": \"training\", \"epoch\": 4, \"model\": 10}, \"Metrics\": {\"train_binary_classification_cross_entropy_objective\": {\"sum\": 0.480790043518813, \"count\": 1, \"min\": 0.480790043518813, \"max\": 0.480790043518813}}}\u001b[0m\n",
            "\u001b[34m#metrics {\"StartTime\": 1651031105.5459323, \"EndTime\": 1651031105.5459425, \"Dimensions\": {\"Algorithm\": \"Linear Learner\", \"Host\": \"algo-1\", \"Operation\": \"training\", \"epoch\": 4, \"model\": 11}, \"Metrics\": {\"train_binary_classification_cross_entropy_objective\": {\"sum\": 0.48155879806378565, \"count\": 1, \"min\": 0.48155879806378565, \"max\": 0.48155879806378565}}}\u001b[0m\n",
            "\u001b[34m#metrics {\"StartTime\": 1651031105.5459821, \"EndTime\": 1651031105.5459933, \"Dimensions\": {\"Algorithm\": \"Linear Learner\", \"Host\": \"algo-1\", \"Operation\": \"training\", \"epoch\": 4, \"model\": 12}, \"Metrics\": {\"train_binary_classification_cross_entropy_objective\": {\"sum\": 0.4808537409604507, \"count\": 1, \"min\": 0.4808537409604507, \"max\": 0.4808537409604507}}}\u001b[0m\n",
            "\u001b[34m#metrics {\"StartTime\": 1651031105.5460317, \"EndTime\": 1651031105.5460424, \"Dimensions\": {\"Algorithm\": \"Linear Learner\", \"Host\": \"algo-1\", \"Operation\": \"training\", \"epoch\": 4, \"model\": 13}, \"Metrics\": {\"train_binary_classification_cross_entropy_objective\": {\"sum\": 0.49408761778665244, \"count\": 1, \"min\": 0.49408761778665244, \"max\": 0.49408761778665244}}}\u001b[0m\n",
            "\u001b[34m#metrics {\"StartTime\": 1651031105.5460813, \"EndTime\": 1651031105.5460942, \"Dimensions\": {\"Algorithm\": \"Linear Learner\", \"Host\": \"algo-1\", \"Operation\": \"training\", \"epoch\": 4, \"model\": 14}, \"Metrics\": {\"train_binary_classification_cross_entropy_objective\": {\"sum\": 0.4808537407271359, \"count\": 1, \"min\": 0.4808537407271359, \"max\": 0.4808537407271359}}}\u001b[0m\n",
            "\u001b[34m#metrics {\"StartTime\": 1651031105.5461483, \"EndTime\": 1651031105.5461626, \"Dimensions\": {\"Algorithm\": \"Linear Learner\", \"Host\": \"algo-1\", \"Operation\": \"training\", \"epoch\": 4, \"model\": 15}, \"Metrics\": {\"train_binary_classification_cross_entropy_objective\": {\"sum\": 0.4940876096439653, \"count\": 1, \"min\": 0.4940876096439653, \"max\": 0.4940876096439653}}}\u001b[0m\n",
            "\u001b[34m#metrics {\"StartTime\": 1651031105.5462065, \"EndTime\": 1651031105.546218, \"Dimensions\": {\"Algorithm\": \"Linear Learner\", \"Host\": \"algo-1\", \"Operation\": \"training\", \"epoch\": 4, \"model\": 16}, \"Metrics\": {\"train_binary_classification_cross_entropy_objective\": {\"sum\": 0.5042952080122921, \"count\": 1, \"min\": 0.5042952080122921, \"max\": 0.5042952080122921}}}\u001b[0m\n",
            "\u001b[34m#metrics {\"StartTime\": 1651031105.5462575, \"EndTime\": 1651031105.5462682, \"Dimensions\": {\"Algorithm\": \"Linear Learner\", \"Host\": \"algo-1\", \"Operation\": \"training\", \"epoch\": 4, \"model\": 17}, \"Metrics\": {\"train_binary_classification_cross_entropy_objective\": {\"sum\": 0.5045105963424076, \"count\": 1, \"min\": 0.5045105963424076, \"max\": 0.5045105963424076}}}\u001b[0m\n",
            "\u001b[34m#metrics {\"StartTime\": 1651031105.5463073, \"EndTime\": 1651031105.546318, \"Dimensions\": {\"Algorithm\": \"Linear Learner\", \"Host\": \"algo-1\", \"Operation\": \"training\", \"epoch\": 4, \"model\": 18}, \"Metrics\": {\"train_binary_classification_cross_entropy_objective\": {\"sum\": 0.5043046606921274, \"count\": 1, \"min\": 0.5043046606921274, \"max\": 0.5043046606921274}}}\u001b[0m\n",
            "\u001b[34m#metrics {\"StartTime\": 1651031105.546357, \"EndTime\": 1651031105.546368, \"Dimensions\": {\"Algorithm\": \"Linear Learner\", \"Host\": \"algo-1\", \"Operation\": \"training\", \"epoch\": 4, \"model\": 19}, \"Metrics\": {\"train_binary_classification_cross_entropy_objective\": {\"sum\": 0.5045105984889039, \"count\": 1, \"min\": 0.5045105984889039, \"max\": 0.5045105984889039}}}\u001b[0m\n",
            "\u001b[34m#metrics {\"StartTime\": 1651031105.5464098, \"EndTime\": 1651031105.546421, \"Dimensions\": {\"Algorithm\": \"Linear Learner\", \"Host\": \"algo-1\", \"Operation\": \"training\", \"epoch\": 4, \"model\": 20}, \"Metrics\": {\"train_binary_classification_cross_entropy_objective\": {\"sum\": 0.5043180550624836, \"count\": 1, \"min\": 0.5043180550624836, \"max\": 0.5043180550624836}}}\u001b[0m\n",
            "\u001b[34m#metrics {\"StartTime\": 1651031105.5464602, \"EndTime\": 1651031105.5464728, \"Dimensions\": {\"Algorithm\": \"Linear Learner\", \"Host\": \"algo-1\", \"Operation\": \"training\", \"epoch\": 4, \"model\": 21}, \"Metrics\": {\"train_binary_classification_cross_entropy_objective\": {\"sum\": 0.5069650231224316, \"count\": 1, \"min\": 0.5069650231224316, \"max\": 0.5069650231224316}}}\u001b[0m\n",
            "\u001b[34m#metrics {\"StartTime\": 1651031105.54651, \"EndTime\": 1651031105.5465212, \"Dimensions\": {\"Algorithm\": \"Linear Learner\", \"Host\": \"algo-1\", \"Operation\": \"training\", \"epoch\": 4, \"model\": 22}, \"Metrics\": {\"train_binary_classification_cross_entropy_objective\": {\"sum\": 0.5043180545725224, \"count\": 1, \"min\": 0.5043180545725224, \"max\": 0.5043180545725224}}}\u001b[0m\n",
            "\u001b[34m#metrics {\"StartTime\": 1651031105.5465612, \"EndTime\": 1651031105.5465736, \"Dimensions\": {\"Algorithm\": \"Linear Learner\", \"Host\": \"algo-1\", \"Operation\": \"training\", \"epoch\": 4, \"model\": 23}, \"Metrics\": {\"train_binary_classification_cross_entropy_objective\": {\"sum\": 0.5069650226791336, \"count\": 1, \"min\": 0.5069650226791336, \"max\": 0.5069650226791336}}}\u001b[0m\n",
            "\u001b[34m#metrics {\"StartTime\": 1651031105.5466115, \"EndTime\": 1651031105.5466237, \"Dimensions\": {\"Algorithm\": \"Linear Learner\", \"Host\": \"algo-1\", \"Operation\": \"training\", \"epoch\": 4, \"model\": 24}, \"Metrics\": {\"train_binary_classification_cross_entropy_objective\": {\"sum\": 0.5137217293602246, \"count\": 1, \"min\": 0.5137217293602246, \"max\": 0.5137217293602246}}}\u001b[0m\n",
            "\u001b[34m#metrics {\"StartTime\": 1651031105.5466611, \"EndTime\": 1651031105.5466719, \"Dimensions\": {\"Algorithm\": \"Linear Learner\", \"Host\": \"algo-1\", \"Operation\": \"training\", \"epoch\": 4, \"model\": 25}, \"Metrics\": {\"train_binary_classification_cross_entropy_objective\": {\"sum\": 0.5138110008823034, \"count\": 1, \"min\": 0.5138110008823034, \"max\": 0.5138110008823034}}}\u001b[0m\n",
            "\u001b[34m#metrics {\"StartTime\": 1651031105.5467107, \"EndTime\": 1651031105.5467217, \"Dimensions\": {\"Algorithm\": \"Linear Learner\", \"Host\": \"algo-1\", \"Operation\": \"training\", \"epoch\": 4, \"model\": 26}, \"Metrics\": {\"train_binary_classification_cross_entropy_objective\": {\"sum\": 0.5137256021995428, \"count\": 1, \"min\": 0.5137256021995428, \"max\": 0.5137256021995428}}}\u001b[0m\n",
            "\u001b[34m#metrics {\"StartTime\": 1651031105.546761, \"EndTime\": 1651031105.546772, \"Dimensions\": {\"Algorithm\": \"Linear Learner\", \"Host\": \"algo-1\", \"Operation\": \"training\", \"epoch\": 4, \"model\": 27}, \"Metrics\": {\"train_binary_classification_cross_entropy_objective\": {\"sum\": 0.5138112838931769, \"count\": 1, \"min\": 0.5138112838931769, \"max\": 0.5138112838931769}}}\u001b[0m\n",
            "\u001b[34m#metrics {\"StartTime\": 1651031105.5468102, \"EndTime\": 1651031105.5468216, \"Dimensions\": {\"Algorithm\": \"Linear Learner\", \"Host\": \"algo-1\", \"Operation\": \"training\", \"epoch\": 4, \"model\": 28}, \"Metrics\": {\"train_binary_classification_cross_entropy_objective\": {\"sum\": 0.5137308968593586, \"count\": 1, \"min\": 0.5137308968593586, \"max\": 0.5137308968593586}}}\u001b[0m\n",
            "\u001b[34m#metrics {\"StartTime\": 1651031105.5468593, \"EndTime\": 1651031105.5468702, \"Dimensions\": {\"Algorithm\": \"Linear Learner\", \"Host\": \"algo-1\", \"Operation\": \"training\", \"epoch\": 4, \"model\": 29}, \"Metrics\": {\"train_binary_classification_cross_entropy_objective\": {\"sum\": 0.5146667932166237, \"count\": 1, \"min\": 0.5146667932166237, \"max\": 0.5146667932166237}}}\u001b[0m\n",
            "\u001b[34m#metrics {\"StartTime\": 1651031105.546909, \"EndTime\": 1651031105.5469205, \"Dimensions\": {\"Algorithm\": \"Linear Learner\", \"Host\": \"algo-1\", \"Operation\": \"training\", \"epoch\": 4, \"model\": 30}, \"Metrics\": {\"train_binary_classification_cross_entropy_objective\": {\"sum\": 0.513731035635012, \"count\": 1, \"min\": 0.513731035635012, \"max\": 0.513731035635012}}}\u001b[0m\n",
            "\u001b[34m#metrics {\"StartTime\": 1651031105.5469594, \"EndTime\": 1651031105.5469694, \"Dimensions\": {\"Algorithm\": \"Linear Learner\", \"Host\": \"algo-1\", \"Operation\": \"training\", \"epoch\": 4, \"model\": 31}, \"Metrics\": {\"train_binary_classification_cross_entropy_objective\": {\"sum\": 0.514666797346296, \"count\": 1, \"min\": 0.514666797346296, \"max\": 0.514666797346296}}}\u001b[0m\n",
            "\u001b[34m[04/27/2022 03:45:05 INFO 140247898380096] #quality_metric: host=algo-1, epoch=4, train binary_classification_cross_entropy_objective <loss>=0.4804817202506809\u001b[0m\n",
            "\u001b[34m[2022-04-27 03:45:11.186] [tensorio] [info] epoch_stats={\"data_pipeline\": \"/opt/ml/input/data/validation\", \"epoch\": 14, \"duration\": 5613, \"num_examples\": 164, \"num_bytes\": 63460892}\u001b[0m\n",
            "\u001b[34m#metrics {\"StartTime\": 1651031111.1972094, \"EndTime\": 1651031111.1973803, \"Dimensions\": {\"Algorithm\": \"Linear Learner\", \"Host\": \"algo-1\", \"Operation\": \"training\", \"epoch\": 4, \"model\": 0}, \"Metrics\": {\"validation_binary_classification_cross_entropy_objective\": {\"sum\": 0.4811721658181021, \"count\": 1, \"min\": 0.4811721658181021, \"max\": 0.4811721658181021}}}\u001b[0m\n",
            "\u001b[34m#metrics {\"StartTime\": 1651031111.1975033, \"EndTime\": 1651031111.197526, \"Dimensions\": {\"Algorithm\": \"Linear Learner\", \"Host\": \"algo-1\", \"Operation\": \"training\", \"epoch\": 4, \"model\": 1}, \"Metrics\": {\"validation_binary_classification_cross_entropy_objective\": {\"sum\": 0.4823857725739092, \"count\": 1, \"min\": 0.4823857725739092, \"max\": 0.4823857725739092}}}\u001b[0m\n",
            "\u001b[34m#metrics {\"StartTime\": 1651031111.1975663, \"EndTime\": 1651031111.1975765, \"Dimensions\": {\"Algorithm\": \"Linear Learner\", \"Host\": \"algo-1\", \"Operation\": \"training\", \"epoch\": 4, \"model\": 2}, \"Metrics\": {\"validation_binary_classification_cross_entropy_objective\": {\"sum\": 0.48115909165393633, \"count\": 1, \"min\": 0.48115909165393633, \"max\": 0.48115909165393633}}}\u001b[0m\n",
            "\u001b[34m#metrics {\"StartTime\": 1651031111.1976058, \"EndTime\": 1651031111.1976144, \"Dimensions\": {\"Algorithm\": \"Linear Learner\", \"Host\": \"algo-1\", \"Operation\": \"training\", \"epoch\": 4, \"model\": 3}, \"Metrics\": {\"validation_binary_classification_cross_entropy_objective\": {\"sum\": 0.4823858007481723, \"count\": 1, \"min\": 0.4823858007481723, \"max\": 0.4823858007481723}}}\u001b[0m\n",
            "\u001b[34m#metrics {\"StartTime\": 1651031111.197641, \"EndTime\": 1651031111.1976547, \"Dimensions\": {\"Algorithm\": \"Linear Learner\", \"Host\": \"algo-1\", \"Operation\": \"training\", \"epoch\": 4, \"model\": 4}, \"Metrics\": {\"validation_binary_classification_cross_entropy_objective\": {\"sum\": 0.48115790833488653, \"count\": 1, \"min\": 0.48115790833488653, \"max\": 0.48115790833488653}}}\u001b[0m\n",
            "\u001b[34m#metrics {\"StartTime\": 1651031111.197698, \"EndTime\": 1651031111.197713, \"Dimensions\": {\"Algorithm\": \"Linear Learner\", \"Host\": \"algo-1\", \"Operation\": \"training\", \"epoch\": 4, \"model\": 5}, \"Metrics\": {\"validation_binary_classification_cross_entropy_objective\": {\"sum\": 0.49611995560978045, \"count\": 1, \"min\": 0.49611995560978045, \"max\": 0.49611995560978045}}}\u001b[0m\n",
            "\u001b[34m#metrics {\"StartTime\": 1651031111.1977627, \"EndTime\": 1651031111.197778, \"Dimensions\": {\"Algorithm\": \"Linear Learner\", \"Host\": \"algo-1\", \"Operation\": \"training\", \"epoch\": 4, \"model\": 6}, \"Metrics\": {\"validation_binary_classification_cross_entropy_objective\": {\"sum\": 0.48115790852147106, \"count\": 1, \"min\": 0.48115790852147106, \"max\": 0.48115790852147106}}}\u001b[0m\n",
            "\u001b[34m#metrics {\"StartTime\": 1651031111.1978307, \"EndTime\": 1651031111.1978476, \"Dimensions\": {\"Algorithm\": \"Linear Learner\", \"Host\": \"algo-1\", \"Operation\": \"training\", \"epoch\": 4, \"model\": 7}, \"Metrics\": {\"validation_binary_classification_cross_entropy_objective\": {\"sum\": 0.49611996195365426, \"count\": 1, \"min\": 0.49611996195365426, \"max\": 0.49611996195365426}}}\u001b[0m\n",
            "\u001b[34m#metrics {\"StartTime\": 1651031111.1978998, \"EndTime\": 1651031111.1979158, \"Dimensions\": {\"Algorithm\": \"Linear Learner\", \"Host\": \"algo-1\", \"Operation\": \"training\", \"epoch\": 4, \"model\": 8}, \"Metrics\": {\"validation_binary_classification_cross_entropy_objective\": {\"sum\": 0.4813959189119422, \"count\": 1, \"min\": 0.4813959189119422, \"max\": 0.4813959189119422}}}\u001b[0m\n",
            "\u001b[34m#metrics {\"StartTime\": 1651031111.1979697, \"EndTime\": 1651031111.1979852, \"Dimensions\": {\"Algorithm\": \"Linear Learner\", \"Host\": \"algo-1\", \"Operation\": \"training\", \"epoch\": 4, \"model\": 9}, \"Metrics\": {\"validation_binary_classification_cross_entropy_objective\": {\"sum\": 0.4825253725024184, \"count\": 1, \"min\": 0.4825253725024184, \"max\": 0.4825253725024184}}}\u001b[0m\n",
            "\u001b[34m#metrics {\"StartTime\": 1651031111.1980388, \"EndTime\": 1651031111.1980543, \"Dimensions\": {\"Algorithm\": \"Linear Learner\", \"Host\": \"algo-1\", \"Operation\": \"training\", \"epoch\": 4, \"model\": 10}, \"Metrics\": {\"validation_binary_classification_cross_entropy_objective\": {\"sum\": 0.48139087329325014, \"count\": 1, \"min\": 0.48139087329325014, \"max\": 0.48139087329325014}}}\u001b[0m\n",
            "\u001b[34m#metrics {\"StartTime\": 1651031111.1981072, \"EndTime\": 1651031111.1981232, \"Dimensions\": {\"Algorithm\": \"Linear Learner\", \"Host\": \"algo-1\", \"Operation\": \"training\", \"epoch\": 4, \"model\": 11}, \"Metrics\": {\"validation_binary_classification_cross_entropy_objective\": {\"sum\": 0.4825253536573815, \"count\": 1, \"min\": 0.4825253536573815, \"max\": 0.4825253536573815}}}\u001b[0m\n",
            "\u001b[34m#metrics {\"StartTime\": 1651031111.1981773, \"EndTime\": 1651031111.1981926, \"Dimensions\": {\"Algorithm\": \"Linear Learner\", \"Host\": \"algo-1\", \"Operation\": \"training\", \"epoch\": 4, \"model\": 12}, \"Metrics\": {\"validation_binary_classification_cross_entropy_objective\": {\"sum\": 0.4813920614634976, \"count\": 1, \"min\": 0.4813920614634976, \"max\": 0.4813920614634976}}}\u001b[0m\n",
            "\u001b[34m#metrics {\"StartTime\": 1651031111.1982467, \"EndTime\": 1651031111.198263, \"Dimensions\": {\"Algorithm\": \"Linear Learner\", \"Host\": \"algo-1\", \"Operation\": \"training\", \"epoch\": 4, \"model\": 13}, \"Metrics\": {\"validation_binary_classification_cross_entropy_objective\": {\"sum\": 0.4948693166772006, \"count\": 1, \"min\": 0.4948693166772006, \"max\": 0.4948693166772006}}}\u001b[0m\n",
            "\u001b[34m#metrics {\"StartTime\": 1651031111.198316, \"EndTime\": 1651031111.1983306, \"Dimensions\": {\"Algorithm\": \"Linear Learner\", \"Host\": \"algo-1\", \"Operation\": \"training\", \"epoch\": 4, \"model\": 14}, \"Metrics\": {\"validation_binary_classification_cross_entropy_objective\": {\"sum\": 0.4813920612769131, \"count\": 1, \"min\": 0.4813920612769131, \"max\": 0.4813920612769131}}}\u001b[0m\n",
            "\u001b[34m#metrics {\"StartTime\": 1651031111.1983807, \"EndTime\": 1651031111.1983974, \"Dimensions\": {\"Algorithm\": \"Linear Learner\", \"Host\": \"algo-1\", \"Operation\": \"training\", \"epoch\": 4, \"model\": 15}, \"Metrics\": {\"validation_binary_classification_cross_entropy_objective\": {\"sum\": 0.494869312199172, \"count\": 1, \"min\": 0.494869312199172, \"max\": 0.494869312199172}}}\u001b[0m\n",
            "\u001b[34m#metrics {\"StartTime\": 1651031111.1984499, \"EndTime\": 1651031111.1984649, \"Dimensions\": {\"Algorithm\": \"Linear Learner\", \"Host\": \"algo-1\", \"Operation\": \"training\", \"epoch\": 4, \"model\": 16}, \"Metrics\": {\"validation_binary_classification_cross_entropy_objective\": {\"sum\": 0.5044423036051306, \"count\": 1, \"min\": 0.5044423036051306, \"max\": 0.5044423036051306}}}\u001b[0m\n",
            "\u001b[34m#metrics {\"StartTime\": 1651031111.1985188, \"EndTime\": 1651031111.1985347, \"Dimensions\": {\"Algorithm\": \"Linear Learner\", \"Host\": \"algo-1\", \"Operation\": \"training\", \"epoch\": 4, \"model\": 17}, \"Metrics\": {\"validation_binary_classification_cross_entropy_objective\": {\"sum\": 0.5046791017559509, \"count\": 1, \"min\": 0.5046791017559509, \"max\": 0.5046791017559509}}}\u001b[0m\n",
            "\u001b[34m#metrics {\"StartTime\": 1651031111.1985886, \"EndTime\": 1651031111.198605, \"Dimensions\": {\"Algorithm\": \"Linear Learner\", \"Host\": \"algo-1\", \"Operation\": \"training\", \"epoch\": 4, \"model\": 18}, \"Metrics\": {\"validation_binary_classification_cross_entropy_objective\": {\"sum\": 0.5044861657083964, \"count\": 1, \"min\": 0.5044861657083964, \"max\": 0.5044861657083964}}}\u001b[0m\n",
            "\u001b[34m#metrics {\"StartTime\": 1651031111.1986582, \"EndTime\": 1651031111.1986744, \"Dimensions\": {\"Algorithm\": \"Linear Learner\", \"Host\": \"algo-1\", \"Operation\": \"training\", \"epoch\": 4, \"model\": 19}, \"Metrics\": {\"validation_binary_classification_cross_entropy_objective\": {\"sum\": 0.5046791181753889, \"count\": 1, \"min\": 0.5046791181753889, \"max\": 0.5046791181753889}}}\u001b[0m\n",
            "\u001b[34m#metrics {\"StartTime\": 1651031111.1987267, \"EndTime\": 1651031111.1987438, \"Dimensions\": {\"Algorithm\": \"Linear Learner\", \"Host\": \"algo-1\", \"Operation\": \"training\", \"epoch\": 4, \"model\": 20}, \"Metrics\": {\"validation_binary_classification_cross_entropy_objective\": {\"sum\": 0.5044963806513199, \"count\": 1, \"min\": 0.5044963806513199, \"max\": 0.5044963806513199}}}\u001b[0m\n",
            "\u001b[34m#metrics {\"StartTime\": 1651031111.1987963, \"EndTime\": 1651031111.1988137, \"Dimensions\": {\"Algorithm\": \"Linear Learner\", \"Host\": \"algo-1\", \"Operation\": \"training\", \"epoch\": 4, \"model\": 21}, \"Metrics\": {\"validation_binary_classification_cross_entropy_objective\": {\"sum\": 0.5053007539967181, \"count\": 1, \"min\": 0.5053007539967181, \"max\": 0.5053007539967181}}}\u001b[0m\n",
            "\u001b[34m#metrics {\"StartTime\": 1651031111.1988666, \"EndTime\": 1651031111.198882, \"Dimensions\": {\"Algorithm\": \"Linear Learner\", \"Host\": \"algo-1\", \"Operation\": \"training\", \"epoch\": 4, \"model\": 22}, \"Metrics\": {\"validation_binary_classification_cross_entropy_objective\": {\"sum\": 0.5044963821439961, \"count\": 1, \"min\": 0.5044963821439961, \"max\": 0.5044963821439961}}}\u001b[0m\n",
            "\u001b[34m#metrics {\"StartTime\": 1651031111.1989338, \"EndTime\": 1651031111.1989508, \"Dimensions\": {\"Algorithm\": \"Linear Learner\", \"Host\": \"algo-1\", \"Operation\": \"training\", \"epoch\": 4, \"model\": 23}, \"Metrics\": {\"validation_binary_classification_cross_entropy_objective\": {\"sum\": 0.5053007459735835, \"count\": 1, \"min\": 0.5053007459735835, \"max\": 0.5053007459735835}}}\u001b[0m\n",
            "\u001b[34m#metrics {\"StartTime\": 1651031111.1990042, \"EndTime\": 1651031111.1990192, \"Dimensions\": {\"Algorithm\": \"Linear Learner\", \"Host\": \"algo-1\", \"Operation\": \"training\", \"epoch\": 4, \"model\": 24}, \"Metrics\": {\"validation_binary_classification_cross_entropy_objective\": {\"sum\": 0.5137152516103349, \"count\": 1, \"min\": 0.5137152516103349, \"max\": 0.5137152516103349}}}\u001b[0m\n",
            "\u001b[34m#metrics {\"StartTime\": 1651031111.1990728, \"EndTime\": 1651031111.1990895, \"Dimensions\": {\"Algorithm\": \"Linear Learner\", \"Host\": \"algo-1\", \"Operation\": \"training\", \"epoch\": 4, \"model\": 25}, \"Metrics\": {\"validation_binary_classification_cross_entropy_objective\": {\"sum\": 0.5141824338823858, \"count\": 1, \"min\": 0.5141824338823858, \"max\": 0.5141824338823858}}}\u001b[0m\n",
            "\u001b[34m#metrics {\"StartTime\": 1651031111.1991434, \"EndTime\": 1651031111.1991594, \"Dimensions\": {\"Algorithm\": \"Linear Learner\", \"Host\": \"algo-1\", \"Operation\": \"training\", \"epoch\": 4, \"model\": 26}, \"Metrics\": {\"validation_binary_classification_cross_entropy_objective\": {\"sum\": 0.5137159020439848, \"count\": 1, \"min\": 0.5137159020439848, \"max\": 0.5137159020439848}}}\u001b[0m\n",
            "\u001b[34m#metrics {\"StartTime\": 1651031111.1992123, \"EndTime\": 1651031111.1992292, \"Dimensions\": {\"Algorithm\": \"Linear Learner\", \"Host\": \"algo-1\", \"Operation\": \"training\", \"epoch\": 4, \"model\": 27}, \"Metrics\": {\"validation_binary_classification_cross_entropy_objective\": {\"sum\": 0.5141854321090984, \"count\": 1, \"min\": 0.5141854321090984, \"max\": 0.5141854321090984}}}\u001b[0m\n",
            "\u001b[34m#metrics {\"StartTime\": 1651031111.199283, \"EndTime\": 1651031111.1992984, \"Dimensions\": {\"Algorithm\": \"Linear Learner\", \"Host\": \"algo-1\", \"Operation\": \"training\", \"epoch\": 4, \"model\": 28}, \"Metrics\": {\"validation_binary_classification_cross_entropy_objective\": {\"sum\": 0.5137170362913048, \"count\": 1, \"min\": 0.5137170362913048, \"max\": 0.5137170362913048}}}\u001b[0m\n",
            "\u001b[34m#metrics {\"StartTime\": 1651031111.1993508, \"EndTime\": 1651031111.1993675, \"Dimensions\": {\"Algorithm\": \"Linear Learner\", \"Host\": \"algo-1\", \"Operation\": \"training\", \"epoch\": 4, \"model\": 29}, \"Metrics\": {\"validation_binary_classification_cross_entropy_objective\": {\"sum\": 0.513657186693119, \"count\": 1, \"min\": 0.513657186693119, \"max\": 0.513657186693119}}}\u001b[0m\n",
            "\u001b[34m#metrics {\"StartTime\": 1651031111.199421, \"EndTime\": 1651031111.1994374, \"Dimensions\": {\"Algorithm\": \"Linear Learner\", \"Host\": \"algo-1\", \"Operation\": \"training\", \"epoch\": 4, \"model\": 30}, \"Metrics\": {\"validation_binary_classification_cross_entropy_objective\": {\"sum\": 0.513715617875755, \"count\": 1, \"min\": 0.513715617875755, \"max\": 0.513715617875755}}}\u001b[0m\n",
            "\u001b[34m#metrics {\"StartTime\": 1651031111.1994905, \"EndTime\": 1651031111.199507, \"Dimensions\": {\"Algorithm\": \"Linear Learner\", \"Host\": \"algo-1\", \"Operation\": \"training\", \"epoch\": 4, \"model\": 31}, \"Metrics\": {\"validation_binary_classification_cross_entropy_objective\": {\"sum\": 0.5136571825882594, \"count\": 1, \"min\": 0.5136571825882594, \"max\": 0.5136571825882594}}}\u001b[0m\n",
            "\u001b[34m[04/27/2022 03:45:11 INFO 140247898380096] #quality_metric: host=algo-1, epoch=4, validation binary_classification_cross_entropy_objective <loss>=0.4811721658181021\u001b[0m\n",
            "\u001b[34m[04/27/2022 03:45:11 INFO 140247898380096] #early_stopping_criteria_metric: host=algo-1, epoch=4, criteria=binary_classification_cross_entropy_objective, value=0.48115790833488653\u001b[0m\n",
            "\u001b[34m[04/27/2022 03:45:11 INFO 140247898380096] Saving model for epoch: 4\u001b[0m\n",
            "\u001b[34m[04/27/2022 03:45:11 INFO 140247898380096] Saved checkpoint to \"/tmp/tmpd9jw1gei/mx-mod-0000.params\"\u001b[0m\n",
            "\u001b[34m[04/27/2022 03:45:11 INFO 140247898380096] Early stop condition met. Stopping training.\u001b[0m\n",
            "\u001b[34m[04/27/2022 03:45:11 INFO 140247898380096] #progress_metric: host=algo-1, completed 100 % epochs\u001b[0m\n",
            "\u001b[34m#metrics {\"StartTime\": 1651031046.82102, \"EndTime\": 1651031111.2073693, \"Dimensions\": {\"Algorithm\": \"Linear Learner\", \"Host\": \"algo-1\", \"Operation\": \"training\", \"epoch\": 4, \"Meta\": \"training_data_iter\"}, \"Metrics\": {\"Total Records Seen\": {\"sum\": 6554360.0, \"count\": 1, \"min\": 6554360, \"max\": 6554360}, \"Total Batches Seen\": {\"sum\": 6557.0, \"count\": 1, \"min\": 6557, \"max\": 6557}, \"Max Records Seen Between Resets\": {\"sum\": 1308472.0, \"count\": 1, \"min\": 1308472, \"max\": 1308472}, \"Max Batches Seen Between Resets\": {\"sum\": 1309.0, \"count\": 1, \"min\": 1309, \"max\": 1309}, \"Reset Count\": {\"sum\": 7.0, \"count\": 1, \"min\": 7, \"max\": 7}, \"Number of Records Since Last Reset\": {\"sum\": 1308472.0, \"count\": 1, \"min\": 1308472, \"max\": 1308472}, \"Number of Batches Since Last Reset\": {\"sum\": 1309.0, \"count\": 1, \"min\": 1309, \"max\": 1309}}}\u001b[0m\n",
            "\u001b[34m[04/27/2022 03:45:11 INFO 140247898380096] #throughput_metric: host=algo-1, train throughput=20322.151624813636 records/second\u001b[0m\n",
            "\u001b[34m[04/27/2022 03:45:11 WARNING 140247898380096] wait_for_all_workers will not sync workers since the kv store is not running distributed\u001b[0m\n",
            "\u001b[34m[04/27/2022 03:45:11 WARNING 140247898380096] wait_for_all_workers will not sync workers since the kv store is not running distributed\u001b[0m\n",
            "\u001b[34m[2022-04-27 03:45:16.369] [tensorio] [info] epoch_stats={\"data_pipeline\": \"/opt/ml/input/data/validation\", \"epoch\": 17, \"duration\": 5139, \"num_examples\": 164, \"num_bytes\": 63460892}\u001b[0m\n",
            "\u001b[34m[04/27/2022 03:45:16 INFO 140247898380096] #early_stopping_criteria_metric: host=algo-1, epoch=4, criteria=binary_classification_cross_entropy_objective, value=0.48115790833488653\u001b[0m\n",
            "\u001b[34m[2022-04-27 03:45:17.209] [tensorio] [info] epoch_stats={\"data_pipeline\": \"/opt/ml/input/data/validation\", \"epoch\": 19, \"duration\": 824, \"num_examples\": 164, \"num_bytes\": 63460892}\u001b[0m\n",
            "\u001b[34m[04/27/2022 03:45:17 INFO 140247898380096] #validation_score (algo-1) : ('binary_classification_cross_entropy_objective', 0.4814425538478159)\u001b[0m\n",
            "\u001b[34m[04/27/2022 03:45:17 INFO 140247898380096] #validation_score (algo-1) : ('binary_classification_accuracy', 0.7925458091575517)\u001b[0m\n",
            "\u001b[34m[04/27/2022 03:45:17 INFO 140247898380096] #validation_score (algo-1) : ('binary_f_1.000', 0.10052222781857223)\u001b[0m\n",
            "\u001b[34m[04/27/2022 03:45:17 INFO 140247898380096] #validation_score (algo-1) : ('precision', 0.5592920353982301)\u001b[0m\n",
            "\u001b[34m[04/27/2022 03:45:17 INFO 140247898380096] #validation_score (algo-1) : ('recall', 0.055223837124632275)\u001b[0m\n",
            "\u001b[34m[04/27/2022 03:45:17 INFO 140247898380096] #validation_score (algo-1) : ('roc_auc_score', 0.6756970931134989)\u001b[0m\n",
            "\u001b[34m[04/27/2022 03:45:17 INFO 140247898380096] #validation_score (algo-1) : ('binary_balanced_accuracy', 0.5)\u001b[0m\n",
            "\u001b[34m[04/27/2022 03:45:17 INFO 140247898380096] #validation_score (algo-1) : ('binary_log_loss', 0.7494226871959065)\u001b[0m\n",
            "\u001b[34m[04/27/2022 03:45:17 INFO 140247898380096] #quality_metric: host=algo-1, validation binary_classification_cross_entropy_objective <loss>=0.4814425538478159\u001b[0m\n",
            "\u001b[34m[04/27/2022 03:45:17 INFO 140247898380096] #quality_metric: host=algo-1, validation binary_classification_accuracy <score>=0.7925458091575517\u001b[0m\n",
            "\u001b[34m[04/27/2022 03:45:17 INFO 140247898380096] #quality_metric: host=algo-1, validation binary_f_1.000 <score>=0.10052222781857223\u001b[0m\n",
            "\u001b[34m[04/27/2022 03:45:17 INFO 140247898380096] #quality_metric: host=algo-1, validation precision <score>=0.5592920353982301\u001b[0m\n",
            "\u001b[34m[04/27/2022 03:45:17 INFO 140247898380096] #quality_metric: host=algo-1, validation recall <score>=0.055223837124632275\u001b[0m\n",
            "\u001b[34m[04/27/2022 03:45:17 INFO 140247898380096] #quality_metric: host=algo-1, validation roc_auc_score <score>=0.6756970931134989\u001b[0m\n",
            "\u001b[34m[04/27/2022 03:45:17 INFO 140247898380096] #quality_metric: host=algo-1, validation binary_balanced_accuracy <score>=0.5\u001b[0m\n",
            "\u001b[34m[04/27/2022 03:45:17 INFO 140247898380096] #quality_metric: host=algo-1, validation binary_log_loss <score>=0.7494226871959065\u001b[0m\n",
            "\u001b[34m[04/27/2022 03:45:17 INFO 140247898380096] Best model found for hyperparameters: {\"optimizer\": \"adam\", \"learning_rate\": 0.005, \"wd\": 0.0001, \"l1\": 0.0, \"lr_scheduler_step\": 10, \"lr_scheduler_factor\": 0.99, \"lr_scheduler_minimum_lr\": 0.0001}\u001b[0m\n",
            "\u001b[34m[04/27/2022 03:45:17 INFO 140247898380096] Saved checkpoint to \"/tmp/tmpitgn4dfi/mx-mod-0000.params\"\u001b[0m\n",
            "\u001b[34m[2022-04-27 03:45:17.528] [tensorio] [info] epoch_stats={\"data_pipeline\": \"/opt/ml/input/data/test\", \"epoch\": 0, \"duration\": 328466, \"num_examples\": 1, \"num_bytes\": 388000}\u001b[0m\n",
            "\u001b[34m[2022-04-27 03:45:18.386] [tensorio] [info] epoch_stats={\"data_pipeline\": \"/opt/ml/input/data/test\", \"epoch\": 1, \"duration\": 857, \"num_examples\": 164, \"num_bytes\": 63460892}\u001b[0m\n",
            "\u001b[34m#metrics {\"StartTime\": 1651031117.5241938, \"EndTime\": 1651031118.7155094, \"Dimensions\": {\"Algorithm\": \"Linear Learner\", \"Host\": \"algo-1\", \"Operation\": \"training\", \"Meta\": \"test_data_iter\"}, \"Metrics\": {\"Total Records Seen\": {\"sum\": 163559.0, \"count\": 1, \"min\": 163559, \"max\": 163559}, \"Total Batches Seen\": {\"sum\": 164.0, \"count\": 1, \"min\": 164, \"max\": 164}, \"Max Records Seen Between Resets\": {\"sum\": 163559.0, \"count\": 1, \"min\": 163559, \"max\": 163559}, \"Max Batches Seen Between Resets\": {\"sum\": 164.0, \"count\": 1, \"min\": 164, \"max\": 164}, \"Reset Count\": {\"sum\": 1.0, \"count\": 1, \"min\": 1, \"max\": 1}, \"Number of Records Since Last Reset\": {\"sum\": 163559.0, \"count\": 1, \"min\": 163559, \"max\": 163559}, \"Number of Batches Since Last Reset\": {\"sum\": 164.0, \"count\": 1, \"min\": 164, \"max\": 164}}}\u001b[0m\n",
            "\u001b[34m[04/27/2022 03:45:18 INFO 140247898380096] #test_score (algo-1) : ('binary_classification_cross_entropy_objective', 0.4807246725047541)\u001b[0m\n",
            "\u001b[34m[04/27/2022 03:45:18 INFO 140247898380096] #test_score (algo-1) : ('binary_classification_accuracy', 0.7928209392329374)\u001b[0m\n",
            "\u001b[34m[04/27/2022 03:45:18 INFO 140247898380096] #test_score (algo-1) : ('binary_f_1.000', 0.10240517058698877)\u001b[0m\n",
            "\u001b[34m[04/27/2022 03:45:18 INFO 140247898380096] #test_score (algo-1) : ('precision', 0.5653699912255046)\u001b[0m\n",
            "\u001b[34m[04/27/2022 03:45:18 INFO 140247898380096] #test_score (algo-1) : ('recall', 0.05630151749046107)\u001b[0m\n",
            "\u001b[34m[04/27/2022 03:45:18 INFO 140247898380096] #test_score (algo-1) : ('roc_auc_score', 0.6774543377842488)\u001b[0m\n",
            "\u001b[34m[04/27/2022 03:45:18 INFO 140247898380096] #test_score (algo-1) : ('binary_balanced_accuracy', 0.5)\u001b[0m\n",
            "\u001b[34m[04/27/2022 03:45:18 INFO 140247898380096] #test_score (algo-1) : ('binary_log_loss', 0.7492136669740892)\u001b[0m\n",
            "\u001b[34m[04/27/2022 03:45:18 INFO 140247898380096] #quality_metric: host=algo-1, test binary_classification_cross_entropy_objective <loss>=0.4807246725047541\u001b[0m\n",
            "\u001b[34m[04/27/2022 03:45:18 INFO 140247898380096] #quality_metric: host=algo-1, test binary_classification_accuracy <score>=0.7928209392329374\u001b[0m\n",
            "\u001b[34m[04/27/2022 03:45:18 INFO 140247898380096] #quality_metric: host=algo-1, test binary_f_1.000 <score>=0.10240517058698877\u001b[0m\n",
            "\u001b[34m[04/27/2022 03:45:18 INFO 140247898380096] #quality_metric: host=algo-1, test precision <score>=0.5653699912255046\u001b[0m\n",
            "\u001b[34m[04/27/2022 03:45:18 INFO 140247898380096] #quality_metric: host=algo-1, test recall <score>=0.05630151749046107\u001b[0m\n",
            "\u001b[34m[04/27/2022 03:45:18 INFO 140247898380096] #quality_metric: host=algo-1, test roc_auc_score <score>=0.6774543377842488\u001b[0m\n",
            "\u001b[34m[04/27/2022 03:45:18 INFO 140247898380096] #quality_metric: host=algo-1, test binary_balanced_accuracy <score>=0.5\u001b[0m\n",
            "\u001b[34m[04/27/2022 03:45:18 INFO 140247898380096] #quality_metric: host=algo-1, test binary_log_loss <score>=0.7492136669740892\u001b[0m\n",
            "\u001b[34m#metrics {\"StartTime\": 1651030789.025584, \"EndTime\": 1651031118.7261496, \"Dimensions\": {\"Algorithm\": \"Linear Learner\", \"Host\": \"algo-1\", \"Operation\": \"training\"}, \"Metrics\": {\"initialize.time\": {\"sum\": 358.2801818847656, \"count\": 1, \"min\": 358.2801818847656, \"max\": 358.2801818847656}, \"epochs\": {\"sum\": 15.0, \"count\": 1, \"min\": 15, \"max\": 15}, \"check_early_stopping.time\": {\"sum\": 2.683401107788086, \"count\": 6, \"min\": 0.23555755615234375, \"max\": 1.226186752319336}, \"update.time\": {\"sum\": 321707.3874473572, \"count\": 5, \"min\": 63968.49465370178, \"max\": 64726.08304023743}, \"finalize.time\": {\"sum\": 6312.636137008667, \"count\": 1, \"min\": 6312.636137008667, \"max\": 6312.636137008667}, \"setuptime\": {\"sum\": 48.45166206359863, \"count\": 1, \"min\": 48.45166206359863, \"max\": 48.45166206359863}, \"totaltime\": {\"sum\": 330013.7269496918, \"count\": 1, \"min\": 330013.7269496918, \"max\": 330013.7269496918}}}\u001b[0m\n",
            "\u001b[34m[04/27/2022 03:45:18 INFO 140247898380096 integration.py:636] worker closed\u001b[0m\n",
            "\n",
            "2022-04-27 03:45:53 Uploading - Uploading generated training model\n",
            "2022-04-27 03:45:53 Completed - Training job completed\n",
            "Training seconds: 454\n",
            "Billable seconds: 454\n"
          ]
        }
      ],
      "source": [
        "#ANSWER\n",
        "classifier_estimator2.fit([train_records,val_records, test_records])"
      ]
    },
    {
      "cell_type": "markdown",
      "metadata": {
        "id": "a9xrf-jTpFD6"
      },
      "source": [
        "Perform a batch prediction by using the newly trained model."
      ]
    },
    {
      "cell_type": "code",
      "execution_count": null,
      "metadata": {
        "id": "ibIW9gcZpFD6",
        "outputId": "75d9e7b0-0805-4386-91cd-131bf11a8598"
      },
      "outputs": [
        {
          "name": "stderr",
          "output_type": "stream",
          "text": [
            "Defaulting to the only supported framework/algorithm version: 1. Ignoring framework/algorithm version: 1.\n"
          ]
        },
        {
          "name": "stdout",
          "output_type": "stream",
          "text": [
            "...................................\u001b[34mDocker entrypoint called with argument(s): serve\u001b[0m\n",
            "\u001b[34mRunning default environment configuration script\u001b[0m\n",
            "\u001b[35mDocker entrypoint called with argument(s): serve\u001b[0m\n",
            "\u001b[35mRunning default environment configuration script\u001b[0m\n",
            "\u001b[34m[04/27/2022 03:52:14 INFO 140370048563008] loaded entry point class algorithm.serve.server_config:config_api\u001b[0m\n",
            "\u001b[34m[04/27/2022 03:52:14 INFO 140370048563008] loading entry points\u001b[0m\n",
            "\u001b[34m[04/27/2022 03:52:14 INFO 140370048563008] loaded request iterator application/json\u001b[0m\n",
            "\u001b[34m[04/27/2022 03:52:14 INFO 140370048563008] loaded request iterator application/jsonlines\u001b[0m\n",
            "\u001b[34m[04/27/2022 03:52:14 INFO 140370048563008] loaded request iterator application/x-recordio-protobuf\u001b[0m\n",
            "\u001b[34m[04/27/2022 03:52:14 INFO 140370048563008] loaded request iterator text/csv\u001b[0m\n",
            "\u001b[34m[04/27/2022 03:52:14 INFO 140370048563008] loaded response encoder application/json\u001b[0m\n",
            "\u001b[34m[04/27/2022 03:52:14 INFO 140370048563008] loaded response encoder application/jsonlines\u001b[0m\n",
            "\u001b[34m[04/27/2022 03:52:14 INFO 140370048563008] loaded response encoder application/x-recordio-protobuf\u001b[0m\n",
            "\u001b[34m[04/27/2022 03:52:14 INFO 140370048563008] loaded response encoder text/csv\u001b[0m\n",
            "\u001b[34m[04/27/2022 03:52:14 INFO 140370048563008] loaded entry point class algorithm:model\u001b[0m\n",
            "\u001b[34m[04/27/2022 03:52:14 INFO 140370048563008] Number of server workers: 4\u001b[0m\n",
            "\u001b[34m[04/27/2022 03:52:14 INFO 140370048563008] loading model...\u001b[0m\n",
            "\u001b[34m[04/27/2022 03:52:14 INFO 140370048563008] ...model loaded.\u001b[0m\n",
            "\u001b[34m[2022-04-27 03:52:14 +0000] [1] [INFO] Starting gunicorn 20.1.0\u001b[0m\n",
            "\u001b[34m[2022-04-27 03:52:14 +0000] [1] [INFO] Listening at: http://0.0.0.0:8080 (1)\u001b[0m\n",
            "\u001b[34m[2022-04-27 03:52:14 +0000] [1] [INFO] Using worker: sync\u001b[0m\n",
            "\u001b[34m[2022-04-27 03:52:14 +0000] [61] [INFO] Booting worker with pid: 61\u001b[0m\n",
            "\u001b[35m[04/27/2022 03:52:14 INFO 140370048563008] loaded entry point class algorithm.serve.server_config:config_api\u001b[0m\n",
            "\u001b[35m[04/27/2022 03:52:14 INFO 140370048563008] loading entry points\u001b[0m\n",
            "\u001b[35m[04/27/2022 03:52:14 INFO 140370048563008] loaded request iterator application/json\u001b[0m\n",
            "\u001b[35m[04/27/2022 03:52:14 INFO 140370048563008] loaded request iterator application/jsonlines\u001b[0m\n",
            "\u001b[35m[04/27/2022 03:52:14 INFO 140370048563008] loaded request iterator application/x-recordio-protobuf\u001b[0m\n",
            "\u001b[35m[04/27/2022 03:52:14 INFO 140370048563008] loaded request iterator text/csv\u001b[0m\n",
            "\u001b[35m[04/27/2022 03:52:14 INFO 140370048563008] loaded response encoder application/json\u001b[0m\n",
            "\u001b[35m[04/27/2022 03:52:14 INFO 140370048563008] loaded response encoder application/jsonlines\u001b[0m\n",
            "\u001b[35m[04/27/2022 03:52:14 INFO 140370048563008] loaded response encoder application/x-recordio-protobuf\u001b[0m\n",
            "\u001b[35m[04/27/2022 03:52:14 INFO 140370048563008] loaded response encoder text/csv\u001b[0m\n",
            "\u001b[35m[04/27/2022 03:52:14 INFO 140370048563008] loaded entry point class algorithm:model\u001b[0m\n",
            "\u001b[35m[04/27/2022 03:52:14 INFO 140370048563008] Number of server workers: 4\u001b[0m\n",
            "\u001b[35m[04/27/2022 03:52:14 INFO 140370048563008] loading model...\u001b[0m\n",
            "\u001b[35m[04/27/2022 03:52:14 INFO 140370048563008] ...model loaded.\u001b[0m\n",
            "\u001b[35m[2022-04-27 03:52:14 +0000] [1] [INFO] Starting gunicorn 20.1.0\u001b[0m\n",
            "\u001b[35m[2022-04-27 03:52:14 +0000] [1] [INFO] Listening at: http://0.0.0.0:8080 (1)\u001b[0m\n",
            "\u001b[35m[2022-04-27 03:52:14 +0000] [1] [INFO] Using worker: sync\u001b[0m\n",
            "\u001b[35m[2022-04-27 03:52:14 +0000] [61] [INFO] Booting worker with pid: 61\u001b[0m\n",
            "\u001b[34m[2022-04-27 03:52:14 +0000] [70] [INFO] Booting worker with pid: 70\u001b[0m\n",
            "\u001b[34m[2022-04-27 03:52:14 +0000] [79] [INFO] Booting worker with pid: 79\u001b[0m\n",
            "\u001b[34m[2022-04-27 03:52:14 +0000] [88] [INFO] Booting worker with pid: 88\u001b[0m\n",
            "\u001b[34m#metrics {\"StartTime\": 1651031534.6032665, \"EndTime\": 1651031535.7515903, \"Dimensions\": {\"Algorithm\": \"LinearLearnerModel\", \"Host\": \"UNKNOWN\", \"Operation\": \"scoring\"}, \"Metrics\": {\"execution_parameters.count\": {\"sum\": 1.0, \"count\": 1, \"min\": 1, \"max\": 1}}}\u001b[0m\n",
            "\u001b[35m[2022-04-27 03:52:14 +0000] [70] [INFO] Booting worker with pid: 70\u001b[0m\n",
            "\u001b[35m[2022-04-27 03:52:14 +0000] [79] [INFO] Booting worker with pid: 79\u001b[0m\n",
            "\u001b[35m[2022-04-27 03:52:14 +0000] [88] [INFO] Booting worker with pid: 88\u001b[0m\n",
            "\u001b[35m#metrics {\"StartTime\": 1651031534.6032665, \"EndTime\": 1651031535.7515903, \"Dimensions\": {\"Algorithm\": \"LinearLearnerModel\", \"Host\": \"UNKNOWN\", \"Operation\": \"scoring\"}, \"Metrics\": {\"execution_parameters.count\": {\"sum\": 1.0, \"count\": 1, \"min\": 1, \"max\": 1}}}\u001b[0m\n",
            "\u001b[34m#metrics {\"StartTime\": 1651031535.7517807, \"EndTime\": 1651031538.4190772, \"Dimensions\": {\"Algorithm\": \"LinearLearnerModel\", \"Host\": \"UNKNOWN\", \"Operation\": \"scoring\"}, \"Metrics\": {\"json.encoder.time\": {\"sum\": 147.47929573059082, \"count\": 1, \"min\": 147.47929573059082, \"max\": 147.47929573059082}, \"invocations.count\": {\"sum\": 1.0, \"count\": 1, \"min\": 1, \"max\": 1}}}\u001b[0m\n",
            "\u001b[34m#metrics {\"StartTime\": 1651031534.6032665, \"EndTime\": 1651031538.4629753, \"Dimensions\": {\"Algorithm\": \"LinearLearnerModel\", \"Host\": \"UNKNOWN\", \"Operation\": \"scoring\"}, \"Metrics\": {\"json.encoder.time\": {\"sum\": 151.69191360473633, \"count\": 1, \"min\": 151.69191360473633, \"max\": 151.69191360473633}, \"invocations.count\": {\"sum\": 1.0, \"count\": 1, \"min\": 1, \"max\": 1}}}\u001b[0m\n",
            "\u001b[34m#metrics {\"StartTime\": 1651031534.6032665, \"EndTime\": 1651031538.5310457, \"Dimensions\": {\"Algorithm\": \"LinearLearnerModel\", \"Host\": \"UNKNOWN\", \"Operation\": \"scoring\"}, \"Metrics\": {\"json.encoder.time\": {\"sum\": 151.1235237121582, \"count\": 1, \"min\": 151.1235237121582, \"max\": 151.1235237121582}, \"invocations.count\": {\"sum\": 1.0, \"count\": 1, \"min\": 1, \"max\": 1}}}\u001b[0m\n",
            "\u001b[34m#metrics {\"StartTime\": 1651031534.6032665, \"EndTime\": 1651031538.591269, \"Dimensions\": {\"Algorithm\": \"LinearLearnerModel\", \"Host\": \"UNKNOWN\", \"Operation\": \"scoring\"}, \"Metrics\": {\"json.encoder.time\": {\"sum\": 149.11270141601562, \"count\": 1, \"min\": 149.11270141601562, \"max\": 149.11270141601562}, \"invocations.count\": {\"sum\": 1.0, \"count\": 1, \"min\": 1, \"max\": 1}}}\u001b[0m\n",
            "\u001b[35m#metrics {\"StartTime\": 1651031535.7517807, \"EndTime\": 1651031538.4190772, \"Dimensions\": {\"Algorithm\": \"LinearLearnerModel\", \"Host\": \"UNKNOWN\", \"Operation\": \"scoring\"}, \"Metrics\": {\"json.encoder.time\": {\"sum\": 147.47929573059082, \"count\": 1, \"min\": 147.47929573059082, \"max\": 147.47929573059082}, \"invocations.count\": {\"sum\": 1.0, \"count\": 1, \"min\": 1, \"max\": 1}}}\u001b[0m\n",
            "\u001b[35m#metrics {\"StartTime\": 1651031534.6032665, \"EndTime\": 1651031538.4629753, \"Dimensions\": {\"Algorithm\": \"LinearLearnerModel\", \"Host\": \"UNKNOWN\", \"Operation\": \"scoring\"}, \"Metrics\": {\"json.encoder.time\": {\"sum\": 151.69191360473633, \"count\": 1, \"min\": 151.69191360473633, \"max\": 151.69191360473633}, \"invocations.count\": {\"sum\": 1.0, \"count\": 1, \"min\": 1, \"max\": 1}}}\u001b[0m\n",
            "\u001b[35m#metrics {\"StartTime\": 1651031534.6032665, \"EndTime\": 1651031538.5310457, \"Dimensions\": {\"Algorithm\": \"LinearLearnerModel\", \"Host\": \"UNKNOWN\", \"Operation\": \"scoring\"}, \"Metrics\": {\"json.encoder.time\": {\"sum\": 151.1235237121582, \"count\": 1, \"min\": 151.1235237121582, \"max\": 151.1235237121582}, \"invocations.count\": {\"sum\": 1.0, \"count\": 1, \"min\": 1, \"max\": 1}}}\u001b[0m\n",
            "\u001b[35m#metrics {\"StartTime\": 1651031534.6032665, \"EndTime\": 1651031538.591269, \"Dimensions\": {\"Algorithm\": \"LinearLearnerModel\", \"Host\": \"UNKNOWN\", \"Operation\": \"scoring\"}, \"Metrics\": {\"json.encoder.time\": {\"sum\": 149.11270141601562, \"count\": 1, \"min\": 149.11270141601562, \"max\": 149.11270141601562}, \"invocations.count\": {\"sum\": 1.0, \"count\": 1, \"min\": 1, \"max\": 1}}}\u001b[0m\n",
            "\u001b[32m2022-04-27T03:52:15.758:[sagemaker logs]: MaxConcurrentTransforms=4, MaxPayloadInMB=6, BatchStrategy=MULTI_RECORD\u001b[0m\n",
            "\u001b[34m#metrics {\"StartTime\": 1651031538.5312183, \"EndTime\": 1651031539.306475, \"Dimensions\": {\"Algorithm\": \"LinearLearnerModel\", \"Host\": \"UNKNOWN\", \"Operation\": \"scoring\"}, \"Metrics\": {\"json.encoder.time\": {\"sum\": 66.80822372436523, \"count\": 1, \"min\": 66.80822372436523, \"max\": 66.80822372436523}, \"invocations.count\": {\"sum\": 1.0, \"count\": 1, \"min\": 1, \"max\": 1}}}\u001b[0m\n",
            "\u001b[35m#metrics {\"StartTime\": 1651031538.5312183, \"EndTime\": 1651031539.306475, \"Dimensions\": {\"Algorithm\": \"LinearLearnerModel\", \"Host\": \"UNKNOWN\", \"Operation\": \"scoring\"}, \"Metrics\": {\"json.encoder.time\": {\"sum\": 66.80822372436523, \"count\": 1, \"min\": 66.80822372436523, \"max\": 66.80822372436523}, \"invocations.count\": {\"sum\": 1.0, \"count\": 1, \"min\": 1, \"max\": 1}}}\u001b[0m\n",
            "\n",
            "\u001b[34mDocker entrypoint called with argument(s): serve\u001b[0m\n",
            "\u001b[34mRunning default environment configuration script\u001b[0m\n",
            "\u001b[35mDocker entrypoint called with argument(s): serve\u001b[0m\n",
            "\u001b[35mRunning default environment configuration script\u001b[0m\n",
            "\u001b[34m[04/27/2022 03:52:14 INFO 140370048563008] loaded entry point class algorithm.serve.server_config:config_api\u001b[0m\n",
            "\u001b[34m[04/27/2022 03:52:14 INFO 140370048563008] loading entry points\u001b[0m\n",
            "\u001b[34m[04/27/2022 03:52:14 INFO 140370048563008] loaded request iterator application/json\u001b[0m\n",
            "\u001b[34m[04/27/2022 03:52:14 INFO 140370048563008] loaded request iterator application/jsonlines\u001b[0m\n",
            "\u001b[34m[04/27/2022 03:52:14 INFO 140370048563008] loaded request iterator application/x-recordio-protobuf\u001b[0m\n",
            "\u001b[34m[04/27/2022 03:52:14 INFO 140370048563008] loaded request iterator text/csv\u001b[0m\n",
            "\u001b[34m[04/27/2022 03:52:14 INFO 140370048563008] loaded response encoder application/json\u001b[0m\n",
            "\u001b[34m[04/27/2022 03:52:14 INFO 140370048563008] loaded response encoder application/jsonlines\u001b[0m\n",
            "\u001b[34m[04/27/2022 03:52:14 INFO 140370048563008] loaded response encoder application/x-recordio-protobuf\u001b[0m\n",
            "\u001b[34m[04/27/2022 03:52:14 INFO 140370048563008] loaded response encoder text/csv\u001b[0m\n",
            "\u001b[34m[04/27/2022 03:52:14 INFO 140370048563008] loaded entry point class algorithm:model\u001b[0m\n",
            "\u001b[34m[04/27/2022 03:52:14 INFO 140370048563008] Number of server workers: 4\u001b[0m\n",
            "\u001b[34m[04/27/2022 03:52:14 INFO 140370048563008] loading model...\u001b[0m\n",
            "\u001b[34m[04/27/2022 03:52:14 INFO 140370048563008] ...model loaded.\u001b[0m\n",
            "\u001b[34m[2022-04-27 03:52:14 +0000] [1] [INFO] Starting gunicorn 20.1.0\u001b[0m\n",
            "\u001b[34m[2022-04-27 03:52:14 +0000] [1] [INFO] Listening at: http://0.0.0.0:8080 (1)\u001b[0m\n",
            "\u001b[34m[2022-04-27 03:52:14 +0000] [1] [INFO] Using worker: sync\u001b[0m\n",
            "\u001b[34m[2022-04-27 03:52:14 +0000] [61] [INFO] Booting worker with pid: 61\u001b[0m\n",
            "\u001b[35m[04/27/2022 03:52:14 INFO 140370048563008] loaded entry point class algorithm.serve.server_config:config_api\u001b[0m\n",
            "\u001b[35m[04/27/2022 03:52:14 INFO 140370048563008] loading entry points\u001b[0m\n",
            "\u001b[35m[04/27/2022 03:52:14 INFO 140370048563008] loaded request iterator application/json\u001b[0m\n",
            "\u001b[35m[04/27/2022 03:52:14 INFO 140370048563008] loaded request iterator application/jsonlines\u001b[0m\n",
            "\u001b[35m[04/27/2022 03:52:14 INFO 140370048563008] loaded request iterator application/x-recordio-protobuf\u001b[0m\n",
            "\u001b[35m[04/27/2022 03:52:14 INFO 140370048563008] loaded request iterator text/csv\u001b[0m\n",
            "\u001b[35m[04/27/2022 03:52:14 INFO 140370048563008] loaded response encoder application/json\u001b[0m\n",
            "\u001b[35m[04/27/2022 03:52:14 INFO 140370048563008] loaded response encoder application/jsonlines\u001b[0m\n",
            "\u001b[35m[04/27/2022 03:52:14 INFO 140370048563008] loaded response encoder application/x-recordio-protobuf\u001b[0m\n",
            "\u001b[35m[04/27/2022 03:52:14 INFO 140370048563008] loaded response encoder text/csv\u001b[0m\n",
            "\u001b[35m[04/27/2022 03:52:14 INFO 140370048563008] loaded entry point class algorithm:model\u001b[0m\n",
            "\u001b[35m[04/27/2022 03:52:14 INFO 140370048563008] Number of server workers: 4\u001b[0m\n",
            "\u001b[35m[04/27/2022 03:52:14 INFO 140370048563008] loading model...\u001b[0m\n",
            "\u001b[35m[04/27/2022 03:52:14 INFO 140370048563008] ...model loaded.\u001b[0m\n",
            "\u001b[35m[2022-04-27 03:52:14 +0000] [1] [INFO] Starting gunicorn 20.1.0\u001b[0m\n",
            "\u001b[35m[2022-04-27 03:52:14 +0000] [1] [INFO] Listening at: http://0.0.0.0:8080 (1)\u001b[0m\n",
            "\u001b[35m[2022-04-27 03:52:14 +0000] [1] [INFO] Using worker: sync\u001b[0m\n",
            "\u001b[35m[2022-04-27 03:52:14 +0000] [61] [INFO] Booting worker with pid: 61\u001b[0m\n",
            "\u001b[34m[2022-04-27 03:52:14 +0000] [70] [INFO] Booting worker with pid: 70\u001b[0m\n",
            "\u001b[34m[2022-04-27 03:52:14 +0000] [79] [INFO] Booting worker with pid: 79\u001b[0m\n",
            "\u001b[34m[2022-04-27 03:52:14 +0000] [88] [INFO] Booting worker with pid: 88\u001b[0m\n",
            "\u001b[34m#metrics {\"StartTime\": 1651031534.6032665, \"EndTime\": 1651031535.7515903, \"Dimensions\": {\"Algorithm\": \"LinearLearnerModel\", \"Host\": \"UNKNOWN\", \"Operation\": \"scoring\"}, \"Metrics\": {\"execution_parameters.count\": {\"sum\": 1.0, \"count\": 1, \"min\": 1, \"max\": 1}}}\u001b[0m\n",
            "\u001b[35m[2022-04-27 03:52:14 +0000] [70] [INFO] Booting worker with pid: 70\u001b[0m\n",
            "\u001b[35m[2022-04-27 03:52:14 +0000] [79] [INFO] Booting worker with pid: 79\u001b[0m\n",
            "\u001b[35m[2022-04-27 03:52:14 +0000] [88] [INFO] Booting worker with pid: 88\u001b[0m\n",
            "\u001b[35m#metrics {\"StartTime\": 1651031534.6032665, \"EndTime\": 1651031535.7515903, \"Dimensions\": {\"Algorithm\": \"LinearLearnerModel\", \"Host\": \"UNKNOWN\", \"Operation\": \"scoring\"}, \"Metrics\": {\"execution_parameters.count\": {\"sum\": 1.0, \"count\": 1, \"min\": 1, \"max\": 1}}}\u001b[0m\n",
            "\u001b[34m#metrics {\"StartTime\": 1651031535.7517807, \"EndTime\": 1651031538.4190772, \"Dimensions\": {\"Algorithm\": \"LinearLearnerModel\", \"Host\": \"UNKNOWN\", \"Operation\": \"scoring\"}, \"Metrics\": {\"json.encoder.time\": {\"sum\": 147.47929573059082, \"count\": 1, \"min\": 147.47929573059082, \"max\": 147.47929573059082}, \"invocations.count\": {\"sum\": 1.0, \"count\": 1, \"min\": 1, \"max\": 1}}}\u001b[0m\n",
            "\u001b[34m#metrics {\"StartTime\": 1651031534.6032665, \"EndTime\": 1651031538.4629753, \"Dimensions\": {\"Algorithm\": \"LinearLearnerModel\", \"Host\": \"UNKNOWN\", \"Operation\": \"scoring\"}, \"Metrics\": {\"json.encoder.time\": {\"sum\": 151.69191360473633, \"count\": 1, \"min\": 151.69191360473633, \"max\": 151.69191360473633}, \"invocations.count\": {\"sum\": 1.0, \"count\": 1, \"min\": 1, \"max\": 1}}}\u001b[0m\n",
            "\u001b[34m#metrics {\"StartTime\": 1651031534.6032665, \"EndTime\": 1651031538.5310457, \"Dimensions\": {\"Algorithm\": \"LinearLearnerModel\", \"Host\": \"UNKNOWN\", \"Operation\": \"scoring\"}, \"Metrics\": {\"json.encoder.time\": {\"sum\": 151.1235237121582, \"count\": 1, \"min\": 151.1235237121582, \"max\": 151.1235237121582}, \"invocations.count\": {\"sum\": 1.0, \"count\": 1, \"min\": 1, \"max\": 1}}}\u001b[0m\n",
            "\u001b[34m#metrics {\"StartTime\": 1651031534.6032665, \"EndTime\": 1651031538.591269, \"Dimensions\": {\"Algorithm\": \"LinearLearnerModel\", \"Host\": \"UNKNOWN\", \"Operation\": \"scoring\"}, \"Metrics\": {\"json.encoder.time\": {\"sum\": 149.11270141601562, \"count\": 1, \"min\": 149.11270141601562, \"max\": 149.11270141601562}, \"invocations.count\": {\"sum\": 1.0, \"count\": 1, \"min\": 1, \"max\": 1}}}\u001b[0m\n",
            "\u001b[35m#metrics {\"StartTime\": 1651031535.7517807, \"EndTime\": 1651031538.4190772, \"Dimensions\": {\"Algorithm\": \"LinearLearnerModel\", \"Host\": \"UNKNOWN\", \"Operation\": \"scoring\"}, \"Metrics\": {\"json.encoder.time\": {\"sum\": 147.47929573059082, \"count\": 1, \"min\": 147.47929573059082, \"max\": 147.47929573059082}, \"invocations.count\": {\"sum\": 1.0, \"count\": 1, \"min\": 1, \"max\": 1}}}\u001b[0m\n",
            "\u001b[35m#metrics {\"StartTime\": 1651031534.6032665, \"EndTime\": 1651031538.4629753, \"Dimensions\": {\"Algorithm\": \"LinearLearnerModel\", \"Host\": \"UNKNOWN\", \"Operation\": \"scoring\"}, \"Metrics\": {\"json.encoder.time\": {\"sum\": 151.69191360473633, \"count\": 1, \"min\": 151.69191360473633, \"max\": 151.69191360473633}, \"invocations.count\": {\"sum\": 1.0, \"count\": 1, \"min\": 1, \"max\": 1}}}\u001b[0m\n",
            "\u001b[35m#metrics {\"StartTime\": 1651031534.6032665, \"EndTime\": 1651031538.5310457, \"Dimensions\": {\"Algorithm\": \"LinearLearnerModel\", \"Host\": \"UNKNOWN\", \"Operation\": \"scoring\"}, \"Metrics\": {\"json.encoder.time\": {\"sum\": 151.1235237121582, \"count\": 1, \"min\": 151.1235237121582, \"max\": 151.1235237121582}, \"invocations.count\": {\"sum\": 1.0, \"count\": 1, \"min\": 1, \"max\": 1}}}\u001b[0m\n",
            "\u001b[35m#metrics {\"StartTime\": 1651031534.6032665, \"EndTime\": 1651031538.591269, \"Dimensions\": {\"Algorithm\": \"LinearLearnerModel\", \"Host\": \"UNKNOWN\", \"Operation\": \"scoring\"}, \"Metrics\": {\"json.encoder.time\": {\"sum\": 149.11270141601562, \"count\": 1, \"min\": 149.11270141601562, \"max\": 149.11270141601562}, \"invocations.count\": {\"sum\": 1.0, \"count\": 1, \"min\": 1, \"max\": 1}}}\u001b[0m\n",
            "\u001b[32m2022-04-27T03:52:15.758:[sagemaker logs]: MaxConcurrentTransforms=4, MaxPayloadInMB=6, BatchStrategy=MULTI_RECORD\u001b[0m\n",
            "\u001b[34m#metrics {\"StartTime\": 1651031538.5312183, \"EndTime\": 1651031539.306475, \"Dimensions\": {\"Algorithm\": \"LinearLearnerModel\", \"Host\": \"UNKNOWN\", \"Operation\": \"scoring\"}, \"Metrics\": {\"json.encoder.time\": {\"sum\": 66.80822372436523, \"count\": 1, \"min\": 66.80822372436523, \"max\": 66.80822372436523}, \"invocations.count\": {\"sum\": 1.0, \"count\": 1, \"min\": 1, \"max\": 1}}}\u001b[0m\n",
            "\u001b[35m#metrics {\"StartTime\": 1651031538.5312183, \"EndTime\": 1651031539.306475, \"Dimensions\": {\"Algorithm\": \"LinearLearnerModel\", \"Host\": \"UNKNOWN\", \"Operation\": \"scoring\"}, \"Metrics\": {\"json.encoder.time\": {\"sum\": 66.80822372436523, \"count\": 1, \"min\": 66.80822372436523, \"max\": 66.80822372436523}, \"invocations.count\": {\"sum\": 1.0, \"count\": 1, \"min\": 1, \"max\": 1}}}\u001b[0m\n"
          ]
        }
      ],
      "source": [
        "#ANSWER\n",
        "test_labels , target_predicted = batch_linear_predict(test,classifier_estimator2)"
      ]
    },
    {
      "cell_type": "markdown",
      "metadata": {
        "id": "O9C3Vj_OpFD6"
      },
      "source": [
        "Plot a confusion matrix."
      ]
    },
    {
      "cell_type": "code",
      "execution_count": null,
      "metadata": {
        "id": "nGMg5ICppFD6",
        "outputId": "dd9c54a2-be68-4ec4-d09a-19b6dc93376a"
      },
      "outputs": [
        {
          "data": {
            "image/png": "[encoded data removed]",
            "text/plain": [
              "<Figure size 432x288 with 1 Axes>"
            ]
          },
          "metadata": {
            "needs_background": "light"
          },
          "output_type": "display_data"
        }
      ],
      "source": [
        "# ANSWER\n",
        "plot_confusion_matrix(test_labels, target_predicted)"
      ]
    },
    {
      "cell_type": "markdown",
      "metadata": {
        "id": "rbucaHrvpFD6"
      },
      "source": [
        "Plot the ROC curve."
      ]
    },
    {
      "cell_type": "code",
      "execution_count": null,
      "metadata": {
        "id": "4Yguf7BqpFD7",
        "outputId": "8e2195ac-20ed-44bb-9d79-9847e3972999"
      },
      "outputs": [
        {
          "name": "stdout",
          "output_type": "stream",
          "text": [
            "Sensitivity or TPR:  5.630151749046107 %\n",
            "Specificity or TNR:  98.85007660997013 %\n",
            "Precision:  56.536999122550455 %\n",
            "Negative Predictive Value:  79.7677032596478 %\n",
            "False Positive Rate:  1.1499233900298702 %\n",
            "False Negative Rate:  94.3698482509539 %\n",
            "False Discovery Rate:  43.463000877449545 %\n",
            "Accuracy:  79.28209392329374 %\n",
            "Validation AUC 0.5224011417950811\n",
            "Figure(432x288)\n"
          ]
        },
        {
          "data": {
            "image/png": "[encoded data removed]",
            "text/plain": [
              "<Figure size 432x288 with 2 Axes>"
            ]
          },
          "metadata": {
            "needs_background": "light"
          },
          "output_type": "display_data"
        },
        {
          "data": {
            "text/plain": [
              "<Figure size 432x288 with 0 Axes>"
            ]
          },
          "metadata": {},
          "output_type": "display_data"
        }
      ],
      "source": [
        "# ANSWER\n",
        "plot_roc(test_labels,target_predicted)"
      ]
    },
    {
      "cell_type": "markdown",
      "metadata": {
        "id": "ylEf7Z5ApFD7"
      },
      "source": [
        "The linear model shows only a little improvement in performance. Try a tree-based ensemble model, which is called *XGBoost*, with Amazon SageMaker."
      ]
    },
    {
      "cell_type": "markdown",
      "metadata": {
        "id": "2f3xgQ4-pFD7"
      },
      "source": [
        "### Try the XGBoost model"
      ]
    },
    {
      "cell_type": "markdown",
      "metadata": {
        "id": "H1o0l8Q6pFD7"
      },
      "source": [
        "Perform these steps:  \n",
        "\n",
        "1. Use the training set variables and save them as CSV files: train.csv, validation.csv and test.csv.\n",
        "2. Store the bucket name in the variable. The Amazon S3 bucket name is provided to the left of the lab instructions.  \n",
        "a. `bucket = <LabBucketName>`  \n",
        "b. `prefix = 'flight-xgb'`  \n",
        "3. Use the AWS SDK for Python (Boto3) to upload the model to the bucket.    "
      ]
    },
    {
      "cell_type": "code",
      "execution_count": null,
      "metadata": {
        "id": "LowU2O7gpFD7"
      },
      "outputs": [],
      "source": [
        "bucket='c47433a664954l1931184t1w972009766443-flightbucket-w8lru7n4ahym'\n",
        "prefix='flight-xgb'\n",
        "train_file='flight_train.csv'\n",
        "test_file='flight_test.csv'\n",
        "validate_file='flight_validate.csv'\n",
        "whole_file='flight.csv'\n",
        "s3_resource = boto3.Session().resource('s3')\n",
        "\n",
        "def upload_s3_csv(filename, folder, dataframe):\n",
        "    csv_buffer = io.StringIO()\n",
        "    dataframe.to_csv(csv_buffer, header=False, index=False )\n",
        "    s3_resource.Bucket(bucket).Object(os.path.join(prefix, folder, filename)).put(Body=csv_buffer.getvalue())\n",
        "\n",
        "upload_s3_csv(train_file, 'train', train)\n",
        "upload_s3_csv(test_file, 'test', test)\n",
        "upload_s3_csv(validate_file, 'validate', validate)"
      ]
    },
    {
      "cell_type": "markdown",
      "metadata": {
        "id": "HWM4YzW9pFD7"
      },
      "source": [
        "Use the `sagemaker.inputs.TrainingInput` function to create a `record_set` for the training and validation datasets."
      ]
    },
    {
      "cell_type": "code",
      "execution_count": null,
      "metadata": {
        "id": "KbGDcr_ApFD7"
      },
      "outputs": [],
      "source": [
        "train_channel = sagemaker.inputs.TrainingInput(\n",
        "    \"s3://{}/{}/train/\".format(bucket,prefix,train_file),\n",
        "    content_type='text/csv')\n",
        "\n",
        "validate_channel = sagemaker.inputs.TrainingInput(\n",
        "    \"s3://{}/{}/validate/\".format(bucket,prefix,validate_file),\n",
        "    content_type='text/csv')\n",
        "\n",
        "data_channels = {'train': train_channel, 'validation': validate_channel}"
      ]
    },
    {
      "cell_type": "code",
      "execution_count": null,
      "metadata": {
        "id": "Z2CAnKZ6pFD7"
      },
      "outputs": [],
      "source": [
        "from sagemaker.image_uris import retrieve\n",
        "container = retrieve('xgboost',boto3.Session().region_name,'1.0-1')"
      ]
    },
    {
      "cell_type": "code",
      "execution_count": null,
      "metadata": {
        "id": "Diwj_coBpFD8",
        "outputId": "722b35a8-200e-4814-c73f-fd0f0979eb42"
      },
      "outputs": [
        {
          "name": "stdout",
          "output_type": "stream",
          "text": [
            "2022-04-27 03:53:59 Starting - Starting the training job...\n",
            "2022-04-27 03:54:27 Starting - Preparing the instances for trainingProfilerReport-1651031639: InProgress\n",
            ".........\n",
            "2022-04-27 03:55:53 Downloading - Downloading input data......\n",
            "2022-04-27 03:56:45 Training - Downloading the training image...\n",
            "2022-04-27 03:57:25 Training - Training image download completed. Training in progress..\u001b[34mINFO:sagemaker-containers:Imported framework sagemaker_xgboost_container.training\u001b[0m\n",
            "\u001b[34mINFO:sagemaker-containers:Failed to parse hyperparameter eval_metric value auc to Json.\u001b[0m\n",
            "\u001b[34mReturning the value itself\u001b[0m\n",
            "\u001b[34mINFO:sagemaker-containers:Failed to parse hyperparameter objective value binary:logistic to Json.\u001b[0m\n",
            "\u001b[34mReturning the value itself\u001b[0m\n",
            "\u001b[34mINFO:sagemaker-containers:No GPUs detected (normal if no gpus installed)\u001b[0m\n",
            "\u001b[34mINFO:sagemaker_xgboost_container.training:Running XGBoost Sagemaker in algorithm mode\u001b[0m\n",
            "\u001b[34mINFO:root:Determined delimiter of CSV input is ','\u001b[0m\n",
            "\u001b[34mINFO:root:Determined delimiter of CSV input is ','\u001b[0m\n",
            "\u001b[34mINFO:root:Determined delimiter of CSV input is ','\u001b[0m\n",
            "\u001b[34m[03:57:30] 1308472x85 matrix with 111220120 entries loaded from /opt/ml/input/data/train?format=csv&label_column=0&delimiter=,\u001b[0m\n",
            "\u001b[34mINFO:root:Determined delimiter of CSV input is ','\u001b[0m\n",
            "\u001b[34m[03:57:30] 163559x85 matrix with 13902515 entries loaded from /opt/ml/input/data/validation?format=csv&label_column=0&delimiter=,\u001b[0m\n",
            "\u001b[34mINFO:root:Single node training.\u001b[0m\n",
            "\u001b[34mINFO:root:Train matrix has 1308472 rows\u001b[0m\n",
            "\u001b[34mINFO:root:Validation matrix has 163559 rows\u001b[0m\n",
            "\u001b[34m[0]#011train-auc:0.65369#011validation-auc:0.65232\u001b[0m\n",
            "\u001b[34m[1]#011train-auc:0.66737#011validation-auc:0.66543\u001b[0m\n",
            "\u001b[34m[2]#011train-auc:0.66949#011validation-auc:0.66738\u001b[0m\n",
            "\u001b[34m[3]#011train-auc:0.67398#011validation-auc:0.67229\u001b[0m\n",
            "\u001b[34m[4]#011train-auc:0.67598#011validation-auc:0.67440\u001b[0m\n",
            "\u001b[34m[5]#011train-auc:0.67675#011validation-auc:0.67503\u001b[0m\n",
            "\u001b[34m[6]#011train-auc:0.67978#011validation-auc:0.67822\u001b[0m\n",
            "\u001b[34m[7]#011train-auc:0.68395#011validation-auc:0.68231\u001b[0m\n",
            "\u001b[34m[8]#011train-auc:0.68573#011validation-auc:0.68401\u001b[0m\n",
            "\u001b[34m[9]#011train-auc:0.68686#011validation-auc:0.68469\u001b[0m\n",
            "\u001b[34m[10]#011train-auc:0.68862#011validation-auc:0.68622\u001b[0m\n",
            "\u001b[34m[11]#011train-auc:0.69135#011validation-auc:0.68880\u001b[0m\n",
            "\u001b[34m[12]#011train-auc:0.69288#011validation-auc:0.69017\u001b[0m\n",
            "\u001b[34m[13]#011train-auc:0.69528#011validation-auc:0.69247\u001b[0m\n",
            "\u001b[34m[14]#011train-auc:0.69680#011validation-auc:0.69390\u001b[0m\n",
            "\u001b[34m[15]#011train-auc:0.69770#011validation-auc:0.69472\u001b[0m\n",
            "\u001b[34m[16]#011train-auc:0.69973#011validation-auc:0.69659\u001b[0m\n",
            "\u001b[34m[17]#011train-auc:0.70097#011validation-auc:0.69776\u001b[0m\n",
            "\u001b[34m[18]#011train-auc:0.70184#011validation-auc:0.69857\u001b[0m\n",
            "\u001b[34m[19]#011train-auc:0.70251#011validation-auc:0.69927\u001b[0m\n",
            "\u001b[34m[20]#011train-auc:0.70381#011validation-auc:0.70045\u001b[0m\n",
            "\u001b[34m[21]#011train-auc:0.70499#011validation-auc:0.70151\u001b[0m\n",
            "\u001b[34m[22]#011train-auc:0.70608#011validation-auc:0.70264\u001b[0m\n",
            "\u001b[34m[23]#011train-auc:0.70679#011validation-auc:0.70322\u001b[0m\n",
            "\u001b[34m[24]#011train-auc:0.70786#011validation-auc:0.70417\u001b[0m\n",
            "\u001b[34m[25]#011train-auc:0.70867#011validation-auc:0.70506\u001b[0m\n",
            "\u001b[34m[26]#011train-auc:0.70925#011validation-auc:0.70556\u001b[0m\n",
            "\u001b[34m[27]#011train-auc:0.71009#011validation-auc:0.70636\u001b[0m\n",
            "\u001b[34m[28]#011train-auc:0.71060#011validation-auc:0.70673\u001b[0m\n",
            "\u001b[34m[29]#011train-auc:0.71108#011validation-auc:0.70717\u001b[0m\n",
            "\u001b[34m[30]#011train-auc:0.71168#011validation-auc:0.70765\u001b[0m\n",
            "\u001b[34m[31]#011train-auc:0.71262#011validation-auc:0.70850\u001b[0m\n",
            "\u001b[34m[32]#011train-auc:0.71296#011validation-auc:0.70888\u001b[0m\n",
            "\u001b[34m[33]#011train-auc:0.71446#011validation-auc:0.71046\u001b[0m\n",
            "\u001b[34m[34]#011train-auc:0.71523#011validation-auc:0.71122\u001b[0m\n",
            "\u001b[34m[35]#011train-auc:0.71673#011validation-auc:0.71262\u001b[0m\n",
            "\u001b[34m[36]#011train-auc:0.71737#011validation-auc:0.71314\u001b[0m\n",
            "\u001b[34m[37]#011train-auc:0.71755#011validation-auc:0.71332\u001b[0m\n",
            "\u001b[34m[38]#011train-auc:0.71798#011validation-auc:0.71372\u001b[0m\n",
            "\u001b[34m[39]#011train-auc:0.71844#011validation-auc:0.71407\u001b[0m\n",
            "\u001b[34m[40]#011train-auc:0.71896#011validation-auc:0.71462\u001b[0m\n",
            "\u001b[34m[41]#011train-auc:0.71951#011validation-auc:0.71530\u001b[0m\n",
            "\u001b[34m[42]#011train-auc:0.71993#011validation-auc:0.71564\u001b[0m\n",
            "\u001b[34m[43]#011train-auc:0.72044#011validation-auc:0.71616\u001b[0m\n",
            "\u001b[34m[44]#011train-auc:0.72070#011validation-auc:0.71636\u001b[0m\n",
            "\u001b[34m[45]#011train-auc:0.72096#011validation-auc:0.71663\u001b[0m\n",
            "\u001b[34m[46]#011train-auc:0.72138#011validation-auc:0.71702\u001b[0m\n",
            "\u001b[34m[47]#011train-auc:0.72172#011validation-auc:0.71728\u001b[0m\n",
            "\u001b[34m[48]#011train-auc:0.72209#011validation-auc:0.71771\u001b[0m\n",
            "\u001b[34m[49]#011train-auc:0.72258#011validation-auc:0.71821\u001b[0m\n",
            "\u001b[34m[50]#011train-auc:0.72304#011validation-auc:0.71865\u001b[0m\n",
            "\u001b[34m[51]#011train-auc:0.72360#011validation-auc:0.71924\u001b[0m\n",
            "\u001b[34m[52]#011train-auc:0.72425#011validation-auc:0.71993\u001b[0m\n",
            "\u001b[34m[53]#011train-auc:0.72454#011validation-auc:0.72024\u001b[0m\n",
            "\u001b[34m[54]#011train-auc:0.72487#011validation-auc:0.72053\u001b[0m\n",
            "\u001b[34m[55]#011train-auc:0.72511#011validation-auc:0.72081\u001b[0m\n",
            "\u001b[34m[56]#011train-auc:0.72541#011validation-auc:0.72110\u001b[0m\n",
            "\u001b[34m[57]#011train-auc:0.72551#011validation-auc:0.72121\u001b[0m\n",
            "\u001b[34m[58]#011train-auc:0.72569#011validation-auc:0.72137\u001b[0m\n",
            "\u001b[34m[59]#011train-auc:0.72611#011validation-auc:0.72171\u001b[0m\n",
            "\u001b[34m[60]#011train-auc:0.72648#011validation-auc:0.72205\u001b[0m\n",
            "\u001b[34m[61]#011train-auc:0.72668#011validation-auc:0.72225\u001b[0m\n",
            "\u001b[34m[62]#011train-auc:0.72713#011validation-auc:0.72270\u001b[0m\n",
            "\u001b[34m[63]#011train-auc:0.72734#011validation-auc:0.72284\u001b[0m\n",
            "\u001b[34m[64]#011train-auc:0.72758#011validation-auc:0.72304\u001b[0m\n",
            "\u001b[34m[65]#011train-auc:0.72776#011validation-auc:0.72324\u001b[0m\n",
            "\u001b[34m[66]#011train-auc:0.72794#011validation-auc:0.72343\u001b[0m\n",
            "\u001b[34m[67]#011train-auc:0.72818#011validation-auc:0.72370\u001b[0m\n",
            "\u001b[34m[68]#011train-auc:0.72835#011validation-auc:0.72389\u001b[0m\n",
            "\u001b[34m[69]#011train-auc:0.72858#011validation-auc:0.72403\u001b[0m\n",
            "\u001b[34m[70]#011train-auc:0.72911#011validation-auc:0.72457\u001b[0m\n",
            "\u001b[34m[71]#011train-auc:0.72947#011validation-auc:0.72491\u001b[0m\n",
            "\u001b[34m[72]#011train-auc:0.72962#011validation-auc:0.72504\u001b[0m\n",
            "\u001b[34m[73]#011train-auc:0.72988#011validation-auc:0.72530\u001b[0m\n",
            "\u001b[34m[74]#011train-auc:0.73016#011validation-auc:0.72559\u001b[0m\n",
            "\u001b[34m[75]#011train-auc:0.73033#011validation-auc:0.72573\u001b[0m\n",
            "\u001b[34m[76]#011train-auc:0.73047#011validation-auc:0.72587\u001b[0m\n",
            "\u001b[34m[77]#011train-auc:0.73071#011validation-auc:0.72611\u001b[0m\n",
            "\u001b[34m[78]#011train-auc:0.73077#011validation-auc:0.72613\u001b[0m\n",
            "\u001b[34m[79]#011train-auc:0.73109#011validation-auc:0.72643\u001b[0m\n",
            "\u001b[34m[80]#011train-auc:0.73149#011validation-auc:0.72672\u001b[0m\n",
            "\u001b[34m[81]#011train-auc:0.73166#011validation-auc:0.72684\u001b[0m\n",
            "\u001b[34m[82]#011train-auc:0.73178#011validation-auc:0.72693\u001b[0m\n",
            "\u001b[34m[83]#011train-auc:0.73194#011validation-auc:0.72703\u001b[0m\n",
            "\u001b[34m[84]#011train-auc:0.73215#011validation-auc:0.72725\u001b[0m\n",
            "\u001b[34m[85]#011train-auc:0.73244#011validation-auc:0.72749\u001b[0m\n",
            "\u001b[34m[86]#011train-auc:0.73263#011validation-auc:0.72757\u001b[0m\n",
            "\u001b[34m[87]#011train-auc:0.73273#011validation-auc:0.72768\u001b[0m\n",
            "\u001b[34m[88]#011train-auc:0.73294#011validation-auc:0.72782\u001b[0m\n",
            "\u001b[34m[89]#011train-auc:0.73304#011validation-auc:0.72793\u001b[0m\n",
            "\u001b[34m[90]#011train-auc:0.73329#011validation-auc:0.72811\u001b[0m\n",
            "\u001b[34m[91]#011train-auc:0.73338#011validation-auc:0.72817\u001b[0m\n",
            "\u001b[34m[92]#011train-auc:0.73364#011validation-auc:0.72838\u001b[0m\n",
            "\u001b[34m[93]#011train-auc:0.73386#011validation-auc:0.72861\u001b[0m\n",
            "\u001b[34m[94]#011train-auc:0.73398#011validation-auc:0.72871\u001b[0m\n",
            "\u001b[34m[95]#011train-auc:0.73413#011validation-auc:0.72880\u001b[0m\n",
            "\u001b[34m[96]#011train-auc:0.73430#011validation-auc:0.72893\u001b[0m\n",
            "\u001b[34m[97]#011train-auc:0.73451#011validation-auc:0.72915\u001b[0m\n",
            "\u001b[34m[98]#011train-auc:0.73463#011validation-auc:0.72923\u001b[0m\n",
            "\u001b[34m[99]#011train-auc:0.73477#011validation-auc:0.72931\u001b[0m\n",
            "\n",
            "2022-04-27 04:03:32 Uploading - Uploading generated training model\n",
            "2022-04-27 04:03:32 Completed - Training job completed\n",
            "Training seconds: 459\n",
            "Billable seconds: 459\n"
          ]
        }
      ],
      "source": [
        "sess = sagemaker.Session()\n",
        "s3_output_location=\"s3://{}/{}/output/\".format(bucket,prefix)\n",
        "\n",
        "xgb = sagemaker.estimator.Estimator(container,\n",
        "                                    role = sagemaker.get_execution_role(), \n",
        "                                    instance_count=1, \n",
        "                                    instance_type=instance_type,\n",
        "                                    output_path=s3_output_location,\n",
        "                                    sagemaker_session=sess)\n",
        "xgb.set_hyperparameters(max_depth=5,\n",
        "                        eta=0.2,\n",
        "                        gamma=4,\n",
        "                        min_child_weight=6,\n",
        "                        subsample=0.8,\n",
        "                        silent=0,\n",
        "                        objective='binary:logistic',\n",
        "                        eval_metric = \"auc\", \n",
        "                        num_round=100)\n",
        "\n",
        "xgb.fit(inputs=data_channels)"
      ]
    },
    {
      "cell_type": "markdown",
      "metadata": {
        "id": "ymRMfBYwpFD8"
      },
      "source": [
        "Use the batch transformer for your new model, and evaluate the model on the test dataset."
      ]
    },
    {
      "cell_type": "code",
      "execution_count": null,
      "metadata": {
        "id": "e0WjxKzOpFD8"
      },
      "outputs": [],
      "source": [
        "batch_X = test.iloc[:,1:];\n",
        "batch_X_file='batch-in.csv'\n",
        "upload_s3_csv(batch_X_file, 'batch-in', batch_X)"
      ]
    },
    {
      "cell_type": "code",
      "execution_count": null,
      "metadata": {
        "id": "uEaZagIkpFD8",
        "outputId": "bbe48794-7642-47ce-981c-a5c92876930e"
      },
      "outputs": [
        {
          "name": "stdout",
          "output_type": "stream",
          "text": [
            "...................................\u001b[34m[2022-04-27:04:10:54:INFO] No GPUs detected (normal if no gpus installed)\u001b[0m\n",
            "\u001b[34m[2022-04-27:04:10:54:INFO] No GPUs detected (normal if no gpus installed)\u001b[0m\n",
            "\u001b[34m[2022-04-27:04:10:54:INFO] nginx config: \u001b[0m\n",
            "\u001b[34mworker_processes auto;\u001b[0m\n",
            "\u001b[34mdaemon off;\u001b[0m\n",
            "\u001b[34mpid /tmp/nginx.pid;\u001b[0m\n",
            "\u001b[34merror_log  /dev/stderr;\u001b[0m\n",
            "\u001b[34mworker_rlimit_nofile 4096;\u001b[0m\n",
            "\u001b[34mevents {\n",
            "  worker_connections 2048;\u001b[0m\n",
            "\u001b[34m}\u001b[0m\n",
            "\u001b[34mhttp {\n",
            "  include /etc/nginx/mime.types;\n",
            "  default_type application/octet-stream;\n",
            "  access_log /dev/stdout combined;\n",
            "  upstream gunicorn {\n",
            "    server unix:/tmp/gunicorn.sock;\n",
            "  }\n",
            "  server {\n",
            "    listen 8080 deferred;\n",
            "    client_max_body_size 0;\n",
            "    keepalive_timeout 3;\n",
            "    location ~ ^/(ping|invocations|execution-parameters) {\n",
            "      proxy_set_header X-Forwarded-For $proxy_add_x_forwarded_for;\n",
            "      proxy_set_header Host $http_host;\n",
            "      proxy_redirect off;\n",
            "      proxy_read_timeout 60s;\n",
            "      proxy_pass http://gunicorn;\n",
            "    }\n",
            "    location / {\n",
            "      return 404 \"{}\";\n",
            "    }\n",
            "  }\u001b[0m\n",
            "\u001b[34m}\u001b[0m\n",
            "\u001b[34m[2022-04-27 04:10:54 +0000] [18] [INFO] Starting gunicorn 19.10.0\u001b[0m\n",
            "\u001b[34m[2022-04-27 04:10:54 +0000] [18] [INFO] Listening at: unix:/tmp/gunicorn.sock (18)\u001b[0m\n",
            "\u001b[34m[2022-04-27 04:10:54 +0000] [18] [INFO] Using worker: gevent\u001b[0m\n",
            "\u001b[34m[2022-04-27 04:10:54 +0000] [25] [INFO] Booting worker with pid: 25\u001b[0m\n",
            "\u001b[34m[2022-04-27 04:10:54 +0000] [26] [INFO] Booting worker with pid: 26\u001b[0m\n",
            "\u001b[34m[2022-04-27 04:10:54 +0000] [27] [INFO] Booting worker with pid: 27\u001b[0m\n",
            "\u001b[34m[2022-04-27 04:10:54 +0000] [28] [INFO] Booting worker with pid: 28\u001b[0m\n",
            "\u001b[34m[2022-04-27:04:11:01:INFO] No GPUs detected (normal if no gpus installed)\u001b[0m\n",
            "\u001b[34m169.254.255.130 - - [27/Apr/2022:04:11:01 +0000] \"GET /ping HTTP/1.1\" 200 0 \"-\" \"Go-http-client/1.1\"\u001b[0m\n",
            "\u001b[34m[2022-04-27:04:11:01:INFO] No GPUs detected (normal if no gpus installed)\u001b[0m\n",
            "\u001b[34m169.254.255.130 - - [27/Apr/2022:04:11:01 +0000] \"GET /execution-parameters HTTP/1.1\" 200 84 \"-\" \"Go-http-client/1.1\"\u001b[0m\n",
            "\u001b[34m[2022-04-27:04:11:02:INFO] No GPUs detected (normal if no gpus installed)\u001b[0m\n",
            "\u001b[34m[2022-04-27:04:11:02:INFO] Determined delimiter of CSV input is ','\u001b[0m\n",
            "\u001b[34m[2022-04-27:04:11:02:INFO] Determined delimiter of CSV input is ','\u001b[0m\n",
            "\u001b[34m[2022-04-27:04:11:02:INFO] No GPUs detected (normal if no gpus installed)\u001b[0m\n",
            "\u001b[34m[2022-04-27:04:11:02:INFO] Determined delimiter of CSV input is ','\u001b[0m\n",
            "\u001b[34m[2022-04-27:04:11:02:INFO] Determined delimiter of CSV input is ','\u001b[0m\n",
            "\n",
            "\u001b[32m2022-04-27T04:11:01.033:[sagemaker logs]: MaxConcurrentTransforms=4, MaxPayloadInMB=6, BatchStrategy=MULTI_RECORD\u001b[0m\n",
            "\u001b[34m169.254.255.130 - - [27/Apr/2022:04:11:05 +0000] \"POST /invocations HTTP/1.1\" 200 652876 \"-\" \"Go-http-client/1.1\"\u001b[0m\n",
            "\u001b[34m169.254.255.130 - - [27/Apr/2022:04:11:06 +0000] \"POST /invocations HTTP/1.1\" 200 652794 \"-\" \"Go-http-client/1.1\"\u001b[0m\n",
            "\u001b[34m169.254.255.130 - - [27/Apr/2022:04:11:06 +0000] \"POST /invocations HTTP/1.1\" 200 652555 \"-\" \"Go-http-client/1.1\"\u001b[0m\n",
            "\u001b[34m[2022-04-27:04:11:06:INFO] Determined delimiter of CSV input is ','\u001b[0m\n",
            "\u001b[34m169.254.255.130 - - [27/Apr/2022:04:11:06 +0000] \"POST /invocations HTTP/1.1\" 200 652595 \"-\" \"Go-http-client/1.1\"\u001b[0m\n",
            "\u001b[35m169.254.255.130 - - [27/Apr/2022:04:11:05 +0000] \"POST /invocations HTTP/1.1\" 200 652876 \"-\" \"Go-http-client/1.1\"\u001b[0m\n",
            "\u001b[35m169.254.255.130 - - [27/Apr/2022:04:11:06 +0000] \"POST /invocations HTTP/1.1\" 200 652794 \"-\" \"Go-http-client/1.1\"\u001b[0m\n",
            "\u001b[35m169.254.255.130 - - [27/Apr/2022:04:11:06 +0000] \"POST /invocations HTTP/1.1\" 200 652555 \"-\" \"Go-http-client/1.1\"\u001b[0m\n",
            "\u001b[35m[2022-04-27:04:11:06:INFO] Determined delimiter of CSV input is ','\u001b[0m\n",
            "\u001b[35m169.254.255.130 - - [27/Apr/2022:04:11:06 +0000] \"POST /invocations HTTP/1.1\" 200 652595 \"-\" \"Go-http-client/1.1\"\u001b[0m\n",
            "\u001b[34m169.254.255.130 - - [27/Apr/2022:04:11:08 +0000] \"POST /invocations HTTP/1.1\" 200 602644 \"-\" \"Go-http-client/1.1\"\u001b[0m\n",
            "\u001b[35m169.254.255.130 - - [27/Apr/2022:04:11:08 +0000] \"POST /invocations HTTP/1.1\" 200 602644 \"-\" \"Go-http-client/1.1\"\u001b[0m\n",
            "\u001b[34m[2022-04-27:04:10:54:INFO] No GPUs detected (normal if no gpus installed)\u001b[0m\n",
            "\u001b[34m[2022-04-27:04:10:54:INFO] No GPUs detected (normal if no gpus installed)\u001b[0m\n",
            "\u001b[34m[2022-04-27:04:10:54:INFO] nginx config: \u001b[0m\n",
            "\u001b[34mworker_processes auto;\u001b[0m\n",
            "\u001b[34mdaemon off;\u001b[0m\n",
            "\u001b[34mpid /tmp/nginx.pid;\u001b[0m\n",
            "\u001b[34merror_log  /dev/stderr;\u001b[0m\n",
            "\u001b[34mworker_rlimit_nofile 4096;\u001b[0m\n",
            "\u001b[34mevents {\n",
            "  worker_connections 2048;\u001b[0m\n",
            "\u001b[34m}\u001b[0m\n",
            "\u001b[35m[2022-04-27:04:10:54:INFO] No GPUs detected (normal if no gpus installed)\u001b[0m\n",
            "\u001b[35m[2022-04-27:04:10:54:INFO] No GPUs detected (normal if no gpus installed)\u001b[0m\n",
            "\u001b[35m[2022-04-27:04:10:54:INFO] nginx config: \u001b[0m\n",
            "\u001b[35mworker_processes auto;\u001b[0m\n",
            "\u001b[35mdaemon off;\u001b[0m\n",
            "\u001b[35mpid /tmp/nginx.pid;\u001b[0m\n",
            "\u001b[35merror_log  /dev/stderr;\u001b[0m\n",
            "\u001b[35mworker_rlimit_nofile 4096;\u001b[0m\n",
            "\u001b[35mevents {\n",
            "  worker_connections 2048;\u001b[0m\n",
            "\u001b[35m}\u001b[0m\n",
            "\u001b[34mhttp {\n",
            "  include /etc/nginx/mime.types;\n",
            "  default_type application/octet-stream;\n",
            "  access_log /dev/stdout combined;\n",
            "  upstream gunicorn {\n",
            "    server unix:/tmp/gunicorn.sock;\n",
            "  }\n",
            "  server {\n",
            "    listen 8080 deferred;\n",
            "    client_max_body_size 0;\n",
            "    keepalive_timeout 3;\n",
            "    location ~ ^/(ping|invocations|execution-parameters) {\n",
            "      proxy_set_header X-Forwarded-For $proxy_add_x_forwarded_for;\n",
            "      proxy_set_header Host $http_host;\n",
            "      proxy_redirect off;\n",
            "      proxy_read_timeout 60s;\n",
            "      proxy_pass http://gunicorn;\n",
            "    }\n",
            "    location / {\n",
            "      return 404 \"{}\";\n",
            "    }\n",
            "  }\u001b[0m\n",
            "\u001b[34m}\u001b[0m\n",
            "\u001b[34m[2022-04-27 04:10:54 +0000] [18] [INFO] Starting gunicorn 19.10.0\u001b[0m\n",
            "\u001b[34m[2022-04-27 04:10:54 +0000] [18] [INFO] Listening at: unix:/tmp/gunicorn.sock (18)\u001b[0m\n",
            "\u001b[34m[2022-04-27 04:10:54 +0000] [18] [INFO] Using worker: gevent\u001b[0m\n",
            "\u001b[34m[2022-04-27 04:10:54 +0000] [25] [INFO] Booting worker with pid: 25\u001b[0m\n",
            "\u001b[34m[2022-04-27 04:10:54 +0000] [26] [INFO] Booting worker with pid: 26\u001b[0m\n",
            "\u001b[34m[2022-04-27 04:10:54 +0000] [27] [INFO] Booting worker with pid: 27\u001b[0m\n",
            "\u001b[34m[2022-04-27 04:10:54 +0000] [28] [INFO] Booting worker with pid: 28\u001b[0m\n",
            "\u001b[35mhttp {\n",
            "  include /etc/nginx/mime.types;\n",
            "  default_type application/octet-stream;\n",
            "  access_log /dev/stdout combined;\n",
            "  upstream gunicorn {\n",
            "    server unix:/tmp/gunicorn.sock;\n",
            "  }\n",
            "  server {\n",
            "    listen 8080 deferred;\n",
            "    client_max_body_size 0;\n",
            "    keepalive_timeout 3;\n",
            "    location ~ ^/(ping|invocations|execution-parameters) {\n",
            "      proxy_set_header X-Forwarded-For $proxy_add_x_forwarded_for;\n",
            "      proxy_set_header Host $http_host;\n",
            "      proxy_redirect off;\n",
            "      proxy_read_timeout 60s;\n",
            "      proxy_pass http://gunicorn;\n",
            "    }\n",
            "    location / {\n",
            "      return 404 \"{}\";\n",
            "    }\n",
            "  }\u001b[0m\n",
            "\u001b[35m}\u001b[0m\n",
            "\u001b[35m[2022-04-27 04:10:54 +0000] [18] [INFO] Starting gunicorn 19.10.0\u001b[0m\n",
            "\u001b[35m[2022-04-27 04:10:54 +0000] [18] [INFO] Listening at: unix:/tmp/gunicorn.sock (18)\u001b[0m\n",
            "\u001b[35m[2022-04-27 04:10:54 +0000] [18] [INFO] Using worker: gevent\u001b[0m\n",
            "\u001b[35m[2022-04-27 04:10:54 +0000] [25] [INFO] Booting worker with pid: 25\u001b[0m\n",
            "\u001b[35m[2022-04-27 04:10:54 +0000] [26] [INFO] Booting worker with pid: 26\u001b[0m\n",
            "\u001b[35m[2022-04-27 04:10:54 +0000] [27] [INFO] Booting worker with pid: 27\u001b[0m\n",
            "\u001b[35m[2022-04-27 04:10:54 +0000] [28] [INFO] Booting worker with pid: 28\u001b[0m\n",
            "\u001b[34m[2022-04-27:04:11:01:INFO] No GPUs detected (normal if no gpus installed)\u001b[0m\n",
            "\u001b[34m169.254.255.130 - - [27/Apr/2022:04:11:01 +0000] \"GET /ping HTTP/1.1\" 200 0 \"-\" \"Go-http-client/1.1\"\u001b[0m\n",
            "\u001b[34m[2022-04-27:04:11:01:INFO] No GPUs detected (normal if no gpus installed)\u001b[0m\n",
            "\u001b[35m[2022-04-27:04:11:01:INFO] No GPUs detected (normal if no gpus installed)\u001b[0m\n",
            "\u001b[35m169.254.255.130 - - [27/Apr/2022:04:11:01 +0000] \"GET /ping HTTP/1.1\" 200 0 \"-\" \"Go-http-client/1.1\"\u001b[0m\n",
            "\u001b[35m[2022-04-27:04:11:01:INFO] No GPUs detected (normal if no gpus installed)\u001b[0m\n",
            "\u001b[34m169.254.255.130 - - [27/Apr/2022:04:11:01 +0000] \"GET /execution-parameters HTTP/1.1\" 200 84 \"-\" \"Go-http-client/1.1\"\u001b[0m\n",
            "\u001b[35m169.254.255.130 - - [27/Apr/2022:04:11:01 +0000] \"GET /execution-parameters HTTP/1.1\" 200 84 \"-\" \"Go-http-client/1.1\"\u001b[0m\n",
            "\u001b[34m[2022-04-27:04:11:02:INFO] No GPUs detected (normal if no gpus installed)\u001b[0m\n",
            "\u001b[34m[2022-04-27:04:11:02:INFO] Determined delimiter of CSV input is ','\u001b[0m\n",
            "\u001b[34m[2022-04-27:04:11:02:INFO] Determined delimiter of CSV input is ','\u001b[0m\n",
            "\u001b[34m[2022-04-27:04:11:02:INFO] No GPUs detected (normal if no gpus installed)\u001b[0m\n",
            "\u001b[35m[2022-04-27:04:11:02:INFO] No GPUs detected (normal if no gpus installed)\u001b[0m\n",
            "\u001b[35m[2022-04-27:04:11:02:INFO] Determined delimiter of CSV input is ','\u001b[0m\n",
            "\u001b[35m[2022-04-27:04:11:02:INFO] Determined delimiter of CSV input is ','\u001b[0m\n",
            "\u001b[35m[2022-04-27:04:11:02:INFO] No GPUs detected (normal if no gpus installed)\u001b[0m\n",
            "\u001b[34m[2022-04-27:04:11:02:INFO] Determined delimiter of CSV input is ','\u001b[0m\n",
            "\u001b[34m[2022-04-27:04:11:02:INFO] Determined delimiter of CSV input is ','\u001b[0m\n",
            "\u001b[35m[2022-04-27:04:11:02:INFO] Determined delimiter of CSV input is ','\u001b[0m\n",
            "\u001b[35m[2022-04-27:04:11:02:INFO] Determined delimiter of CSV input is ','\u001b[0m\n",
            "\u001b[32m2022-04-27T04:11:01.033:[sagemaker logs]: MaxConcurrentTransforms=4, MaxPayloadInMB=6, BatchStrategy=MULTI_RECORD\u001b[0m\n",
            "\u001b[34m169.254.255.130 - - [27/Apr/2022:04:11:05 +0000] \"POST /invocations HTTP/1.1\" 200 652876 \"-\" \"Go-http-client/1.1\"\u001b[0m\n",
            "\u001b[34m169.254.255.130 - - [27/Apr/2022:04:11:06 +0000] \"POST /invocations HTTP/1.1\" 200 652794 \"-\" \"Go-http-client/1.1\"\u001b[0m\n",
            "\u001b[34m169.254.255.130 - - [27/Apr/2022:04:11:06 +0000] \"POST /invocations HTTP/1.1\" 200 652555 \"-\" \"Go-http-client/1.1\"\u001b[0m\n",
            "\u001b[34m[2022-04-27:04:11:06:INFO] Determined delimiter of CSV input is ','\u001b[0m\n",
            "\u001b[34m169.254.255.130 - - [27/Apr/2022:04:11:06 +0000] \"POST /invocations HTTP/1.1\" 200 652595 \"-\" \"Go-http-client/1.1\"\u001b[0m\n",
            "\u001b[35m169.254.255.130 - - [27/Apr/2022:04:11:05 +0000] \"POST /invocations HTTP/1.1\" 200 652876 \"-\" \"Go-http-client/1.1\"\u001b[0m\n",
            "\u001b[35m169.254.255.130 - - [27/Apr/2022:04:11:06 +0000] \"POST /invocations HTTP/1.1\" 200 652794 \"-\" \"Go-http-client/1.1\"\u001b[0m\n",
            "\u001b[35m169.254.255.130 - - [27/Apr/2022:04:11:06 +0000] \"POST /invocations HTTP/1.1\" 200 652555 \"-\" \"Go-http-client/1.1\"\u001b[0m\n",
            "\u001b[35m[2022-04-27:04:11:06:INFO] Determined delimiter of CSV input is ','\u001b[0m\n",
            "\u001b[35m169.254.255.130 - - [27/Apr/2022:04:11:06 +0000] \"POST /invocations HTTP/1.1\" 200 652595 \"-\" \"Go-http-client/1.1\"\u001b[0m\n",
            "\u001b[34m169.254.255.130 - - [27/Apr/2022:04:11:08 +0000] \"POST /invocations HTTP/1.1\" 200 602644 \"-\" \"Go-http-client/1.1\"\u001b[0m\n",
            "\u001b[35m169.254.255.130 - - [27/Apr/2022:04:11:08 +0000] \"POST /invocations HTTP/1.1\" 200 602644 \"-\" \"Go-http-client/1.1\"\u001b[0m\n"
          ]
        }
      ],
      "source": [
        "batch_output = \"s3://{}/{}/batch-out/\".format(bucket,prefix)\n",
        "batch_input = \"s3://{}/{}/batch-in/{}\".format(bucket,prefix,batch_X_file)\n",
        "\n",
        "xgb_transformer = xgb.transformer(instance_count=1,\n",
        "                                       instance_type=instance_type,\n",
        "                                       strategy='MultiRecord',\n",
        "                                       assemble_with='Line',\n",
        "                                       output_path=batch_output)\n",
        "\n",
        "xgb_transformer.transform(data=batch_input,\n",
        "                         data_type='S3Prefix',\n",
        "                         content_type='text/csv',\n",
        "                         split_type='Line')\n",
        "xgb_transformer.wait()"
      ]
    },
    {
      "cell_type": "markdown",
      "metadata": {
        "id": "gS_U_hzcpFD8"
      },
      "source": [
        "Get the predicted target and test labels."
      ]
    },
    {
      "cell_type": "code",
      "execution_count": null,
      "metadata": {
        "id": "2sagsdK_pFD8"
      },
      "outputs": [],
      "source": [
        "s3 = boto3.client('s3')\n",
        "obj = s3.get_object(Bucket=bucket, Key=\"{}/batch-out/{}\".format(prefix,'batch-in.csv.out'))\n",
        "target_predicted = pd.read_csv(io.BytesIO(obj['Body'].read()),',',names=['target'])\n",
        "test_labels = test.iloc[:,0]"
      ]
    },
    {
      "cell_type": "markdown",
      "metadata": {
        "id": "AMw953FYpFD8"
      },
      "source": [
        "Calculate the predicted values based on the defined threshold.\n",
        "\n",
        "**Note:** The predicted target will be a score, which must be converted to a binary class."
      ]
    },
    {
      "cell_type": "code",
      "execution_count": null,
      "metadata": {
        "id": "UPkC13mwpFD9",
        "outputId": "facb2e25-3e0a-482a-a026-3e5534a5a698"
      },
      "outputs": [
        {
          "name": "stdout",
          "output_type": "stream",
          "text": [
            "     target\n",
            "0  0.405044\n",
            "1  0.335246\n",
            "2  0.314340\n",
            "3  0.254607\n",
            "4  0.083645\n",
            "   target\n",
            "0       0\n",
            "1       0\n",
            "2       0\n",
            "3       0\n",
            "4       0\n"
          ]
        }
      ],
      "source": [
        "print(target_predicted.head())\n",
        "\n",
        "def binary_convert(x):\n",
        "    threshold = 0.55\n",
        "    if x > threshold:\n",
        "        return 1\n",
        "    else:\n",
        "        return 0\n",
        "\n",
        "target_predicted['target'] = target_predicted['target'].apply(binary_convert)\n",
        "\n",
        "test_labels = test.iloc[:,0]\n",
        "\n",
        "print(target_predicted.head())"
      ]
    },
    {
      "cell_type": "markdown",
      "metadata": {
        "id": "ZD2aAK-apFD9"
      },
      "source": [
        "Plot a confusion matrix for your `target_predicted` and `test_labels`."
      ]
    },
    {
      "cell_type": "code",
      "execution_count": null,
      "metadata": {
        "id": "EpeLdcE1pFD9",
        "outputId": "2c2516c8-516a-4604-f503-9838b130d393"
      },
      "outputs": [
        {
          "data": {
            "image/png": "[encoded data removed]",
            "text/plain": [
              "<Figure size 432x288 with 1 Axes>"
            ]
          },
          "metadata": {
            "needs_background": "light"
          },
          "output_type": "display_data"
        }
      ],
      "source": [
        "# add code for Plot a confusion matrix \n",
        "plot_confusion_matrix(test_labels , target_predicted)"
      ]
    },
    {
      "cell_type": "markdown",
      "metadata": {
        "id": "sxu3E235pFD9"
      },
      "source": [
        "Plot the ROC chart:"
      ]
    },
    {
      "cell_type": "code",
      "execution_count": null,
      "metadata": {
        "id": "wheha-USpFD9",
        "outputId": "c366dc25-320b-40f0-f161-80e6c2cc7a59"
      },
      "outputs": [
        {
          "name": "stdout",
          "output_type": "stream",
          "text": [
            "Sensitivity or TPR:  10.226312876824046 %\n",
            "Specificity or TNR:  98.82608762942442 %\n",
            "Precision:  69.82895783611774 %\n",
            "Negative Predictive Value:  80.55774580365986 %\n",
            "False Positive Rate:  1.1739123705755807 %\n",
            "False Negative Rate:  89.77368712317595 %\n",
            "False Discovery Rate:  30.171042163882262 %\n",
            "Accuracy:  80.22792998245282 %\n",
            "Validation AUC 0.5452620025312424\n",
            "Figure(432x288)\n"
          ]
        },
        {
          "data": {
            "image/png": "[encoded data removed]",
            "text/plain": [
              "<Figure size 432x288 with 2 Axes>"
            ]
          },
          "metadata": {
            "needs_background": "light"
          },
          "output_type": "display_data"
        },
        {
          "data": {
            "text/plain": [
              "<Figure size 432x288 with 0 Axes>"
            ]
          },
          "metadata": {},
          "output_type": "display_data"
        }
      ],
      "source": [
        "# Plot the ROC chart\n",
        "plot_roc(test_labels,target_predicted)"
      ]
    },
    {
      "cell_type": "markdown",
      "metadata": {
        "id": "VaMViKDXpFD9"
      },
      "source": [
        "### Try different thresholds"
      ]
    },
    {
      "cell_type": "markdown",
      "metadata": {
        "id": "8iO_cn9WpFD9"
      },
      "source": [
        "**Question**: Based on how well the model handled the test set, what can you conclude?"
      ]
    },
    {
      "cell_type": "code",
      "execution_count": null,
      "metadata": {
        "id": "pciQ-jEPpFD9"
      },
      "outputs": [],
      "source": [
        "# increased Accuracy to 80.25727719049395 % "
      ]
    },
    {
      "cell_type": "markdown",
      "metadata": {
        "id": "fuTR6FLNpFD-"
      },
      "source": [
        "### Hyperparameter optimization (HPO)"
      ]
    },
    {
      "cell_type": "code",
      "execution_count": null,
      "metadata": {
        "id": "A7pbePnFpFD-"
      },
      "outputs": [],
      "source": [
        "from sagemaker.tuner import IntegerParameter, CategoricalParameter, ContinuousParameter, HyperparameterTuner\n",
        "\n",
        "### You can spin up multiple instances to do hyperparameter optimization in parallel\n",
        "\n",
        "xgb = sagemaker.estimator.Estimator(container,\n",
        "                                    role=sagemaker.get_execution_role(), \n",
        "                                    instance_count= 1, # make sure you have a limit set for these instances\n",
        "                                    instance_type=instance_type, \n",
        "                                    output_path='s3://{}/{}/output'.format(bucket, prefix),\n",
        "                                    sagemaker_session=sess)\n",
        "\n",
        "xgb.set_hyperparameters(eval_metric='auc',\n",
        "                        objective='binary:logistic',\n",
        "                        num_round=100,\n",
        "                        rate_drop=0.3,\n",
        "                        tweedie_variance_power=1.4)\n",
        "\n",
        "hyperparameter_ranges = {'alpha': ContinuousParameter(0, 1000, scaling_type='Linear'),\n",
        "                         'eta': ContinuousParameter(0.1, 0.5, scaling_type='Linear'),\n",
        "                         'min_child_weight': ContinuousParameter(3, 10, scaling_type='Linear'),\n",
        "                         'subsample': ContinuousParameter(0.5, 1),\n",
        "                         'num_round': IntegerParameter(10,150)}\n",
        "\n",
        "objective_metric_name = 'validation:auc'\n",
        "\n",
        "tuner = HyperparameterTuner(xgb,\n",
        "                            objective_metric_name,\n",
        "                            hyperparameter_ranges,\n",
        "                            max_jobs=10, # Set this to 10 or above depending upon budget and available time.\n",
        "                            max_parallel_jobs=1)"
      ]
    },
    {
      "cell_type": "code",
      "execution_count": null,
      "metadata": {
        "id": "rcFm9kFNpFD-",
        "outputId": "ce859e9c-e629-49f4-d3c7-e3f05924e1b2"
      },
      "outputs": [
        {
          "name": "stdout",
          "output_type": "stream",
          "text": [
            "..............................................................................................................................................................................................................................................................................................................................................................................................................................................................................................................................................................................................................................................................................................................................................................................................................................................................................................................................................................................................................................................................................!\n",
            "!\n"
          ]
        }
      ],
      "source": [
        "tuner.fit(inputs=data_channels)\n",
        "tuner.wait()"
      ]
    },
    {
      "cell_type": "markdown",
      "metadata": {
        "id": "rySMNLCFpFD-"
      },
      "source": [
        "<i class=\"fas fa-exclamation-triangle\" style=\"color:red\"></i> Wait until the training job is finished. It might take 25-30 minutes.\n",
        "\n",
        "**To monitor hyperparameter optimization jobs:**  \n",
        "\n",
        "1. In the AWS Management Console, on the **Services** menu, choose **Amazon SageMaker**.  \n",
        "2. Choose **Training > Hyperparameter tuning jobs**.\n",
        "3. You can check the status of each hyperparameter tuning job, its objective metric value, and its logs.  "
      ]
    },
    {
      "cell_type": "markdown",
      "metadata": {
        "id": "cFkDnndwpFD-"
      },
      "source": [
        "Check that the job completed successfully."
      ]
    },
    {
      "cell_type": "code",
      "execution_count": null,
      "metadata": {
        "id": "eVUYc-XTpFD-",
        "outputId": "534f1d5d-b11a-4924-df92-4f51d8a1253f"
      },
      "outputs": [
        {
          "data": {
            "text/plain": [
              "'Completed'"
            ]
          },
          "execution_count": 98,
          "metadata": {},
          "output_type": "execute_result"
        }
      ],
      "source": [
        "boto3.client('sagemaker').describe_hyper_parameter_tuning_job(\n",
        "    HyperParameterTuningJobName=tuner.latest_tuning_job.job_name)['HyperParameterTuningJobStatus']"
      ]
    },
    {
      "cell_type": "markdown",
      "metadata": {
        "id": "m6CxphSOpFD_"
      },
      "source": [
        "The hyperparameter tuning job will have a model that worked the best. You can get the information about that model from the tuning job."
      ]
    },
    {
      "cell_type": "code",
      "execution_count": null,
      "metadata": {
        "id": "yzBPL7h4pFD_",
        "outputId": "81f73974-d720-4019-b3aa-2e25752b0d8a"
      },
      "outputs": [
        {
          "name": "stdout",
          "output_type": "stream",
          "text": [
            "tuning job name:sagemaker-xgboost-220427-0412\n",
            "best training job: sagemaker-xgboost-220427-0412-010-015b7f3e\n",
            "\n",
            "2022-04-27 05:38:59 Starting - Preparing the instances for training\n",
            "2022-04-27 05:38:59 Downloading - Downloading input data\n",
            "2022-04-27 05:38:59 Training - Training image download completed. Training in progress.\n",
            "2022-04-27 05:38:59 Uploading - Uploading generated training model\n",
            "2022-04-27 05:38:59 Completed - Training job completed\n"
          ]
        },
        {
          "data": {
            "text/html": [
              "<div>\n",
              "<style scoped>\n",
              "    .dataframe tbody tr th:only-of-type {\n",
              "        vertical-align: middle;\n",
              "    }\n",
              "\n",
              "    .dataframe tbody tr th {\n",
              "        vertical-align: top;\n",
              "    }\n",
              "\n",
              "    .dataframe thead th {\n",
              "        text-align: right;\n",
              "    }\n",
              "</style>\n",
              "<table border=\"1\" class=\"dataframe\">\n",
              "  <thead>\n",
              "    <tr style=\"text-align: right;\">\n",
              "      <th></th>\n",
              "      <th>alpha</th>\n",
              "      <th>eta</th>\n",
              "      <th>min_child_weight</th>\n",
              "      <th>num_round</th>\n",
              "      <th>subsample</th>\n",
              "      <th>TrainingJobName</th>\n",
              "      <th>TrainingJobStatus</th>\n",
              "      <th>FinalObjectiveValue</th>\n",
              "      <th>TrainingStartTime</th>\n",
              "      <th>TrainingEndTime</th>\n",
              "      <th>TrainingElapsedTimeSeconds</th>\n",
              "    </tr>\n",
              "  </thead>\n",
              "  <tbody>\n",
              "    <tr>\n",
              "      <th>0</th>\n",
              "      <td>381.522444</td>\n",
              "      <td>0.493450</td>\n",
              "      <td>3.090290</td>\n",
              "      <td>146.0</td>\n",
              "      <td>0.991346</td>\n",
              "      <td>sagemaker-xgboost-220427-0412-010-015b7f3e</td>\n",
              "      <td>Completed</td>\n",
              "      <td>0.72420</td>\n",
              "      <td>2022-04-27 05:31:20+00:00</td>\n",
              "      <td>2022-04-27 05:38:59+00:00</td>\n",
              "      <td>459.0</td>\n",
              "    </tr>\n",
              "    <tr>\n",
              "      <th>1</th>\n",
              "      <td>507.621077</td>\n",
              "      <td>0.430022</td>\n",
              "      <td>4.359074</td>\n",
              "      <td>125.0</td>\n",
              "      <td>0.981632</td>\n",
              "      <td>sagemaker-xgboost-220427-0412-009-4ca39ada</td>\n",
              "      <td>Completed</td>\n",
              "      <td>0.71964</td>\n",
              "      <td>2022-04-27 05:22:53+00:00</td>\n",
              "      <td>2022-04-27 05:28:52+00:00</td>\n",
              "      <td>359.0</td>\n",
              "    </tr>\n",
              "    <tr>\n",
              "      <th>2</th>\n",
              "      <td>540.926741</td>\n",
              "      <td>0.449797</td>\n",
              "      <td>5.275944</td>\n",
              "      <td>144.0</td>\n",
              "      <td>0.831058</td>\n",
              "      <td>sagemaker-xgboost-220427-0412-008-5991f557</td>\n",
              "      <td>Completed</td>\n",
              "      <td>0.71951</td>\n",
              "      <td>2022-04-27 05:10:54+00:00</td>\n",
              "      <td>2022-04-27 05:19:18+00:00</td>\n",
              "      <td>504.0</td>\n",
              "    </tr>\n",
              "    <tr>\n",
              "      <th>3</th>\n",
              "      <td>658.843473</td>\n",
              "      <td>0.495464</td>\n",
              "      <td>3.876209</td>\n",
              "      <td>32.0</td>\n",
              "      <td>0.609587</td>\n",
              "      <td>sagemaker-xgboost-220427-0412-007-6bbb2ed7</td>\n",
              "      <td>Completed</td>\n",
              "      <td>0.70790</td>\n",
              "      <td>2022-04-27 05:03:53+00:00</td>\n",
              "      <td>2022-04-27 05:07:56+00:00</td>\n",
              "      <td>243.0</td>\n",
              "    </tr>\n",
              "    <tr>\n",
              "      <th>4</th>\n",
              "      <td>653.281477</td>\n",
              "      <td>0.200005</td>\n",
              "      <td>3.128529</td>\n",
              "      <td>41.0</td>\n",
              "      <td>0.997822</td>\n",
              "      <td>sagemaker-xgboost-220427-0412-006-408707e1</td>\n",
              "      <td>Completed</td>\n",
              "      <td>0.70829</td>\n",
              "      <td>2022-04-27 04:57:51+00:00</td>\n",
              "      <td>2022-04-27 05:01:54+00:00</td>\n",
              "      <td>243.0</td>\n",
              "    </tr>\n",
              "  </tbody>\n",
              "</table>\n",
              "</div>"
            ],
            "text/plain": [
              "        alpha       eta  min_child_weight  num_round  subsample  \\\n",
              "0  381.522444  0.493450          3.090290      146.0   0.991346   \n",
              "1  507.621077  0.430022          4.359074      125.0   0.981632   \n",
              "2  540.926741  0.449797          5.275944      144.0   0.831058   \n",
              "3  658.843473  0.495464          3.876209       32.0   0.609587   \n",
              "4  653.281477  0.200005          3.128529       41.0   0.997822   \n",
              "\n",
              "                              TrainingJobName TrainingJobStatus  \\\n",
              "0  sagemaker-xgboost-220427-0412-010-015b7f3e         Completed   \n",
              "1  sagemaker-xgboost-220427-0412-009-4ca39ada         Completed   \n",
              "2  sagemaker-xgboost-220427-0412-008-5991f557         Completed   \n",
              "3  sagemaker-xgboost-220427-0412-007-6bbb2ed7         Completed   \n",
              "4  sagemaker-xgboost-220427-0412-006-408707e1         Completed   \n",
              "\n",
              "   FinalObjectiveValue         TrainingStartTime           TrainingEndTime  \\\n",
              "0              0.72420 2022-04-27 05:31:20+00:00 2022-04-27 05:38:59+00:00   \n",
              "1              0.71964 2022-04-27 05:22:53+00:00 2022-04-27 05:28:52+00:00   \n",
              "2              0.71951 2022-04-27 05:10:54+00:00 2022-04-27 05:19:18+00:00   \n",
              "3              0.70790 2022-04-27 05:03:53+00:00 2022-04-27 05:07:56+00:00   \n",
              "4              0.70829 2022-04-27 04:57:51+00:00 2022-04-27 05:01:54+00:00   \n",
              "\n",
              "   TrainingElapsedTimeSeconds  \n",
              "0                       459.0  \n",
              "1                       359.0  \n",
              "2                       504.0  \n",
              "3                       243.0  \n",
              "4                       243.0  "
            ]
          },
          "execution_count": 99,
          "metadata": {},
          "output_type": "execute_result"
        }
      ],
      "source": [
        "sage_client = boto3.Session().client('sagemaker')\n",
        "tuning_job_name = tuner.latest_tuning_job.job_name\n",
        "print(f'tuning job name:{tuning_job_name}')\n",
        "tuning_job_result = sage_client.describe_hyper_parameter_tuning_job(HyperParameterTuningJobName=tuning_job_name)\n",
        "best_training_job = tuning_job_result['BestTrainingJob']\n",
        "best_training_job_name = best_training_job['TrainingJobName']\n",
        "print(f\"best training job: {best_training_job_name}\")\n",
        "\n",
        "best_estimator = tuner.best_estimator()\n",
        "\n",
        "tuner_df = sagemaker.HyperparameterTuningJobAnalytics(tuning_job_name).dataframe()\n",
        "tuner_df.head()"
      ]
    },
    {
      "cell_type": "markdown",
      "metadata": {
        "id": "V3yg8FW3pFD_"
      },
      "source": [
        "Use the estimator `best_estimator` and train it by using the data. \n",
        "\n",
        "**Tip:** See the previous XGBoost estimator fit function."
      ]
    },
    {
      "cell_type": "code",
      "execution_count": null,
      "metadata": {
        "id": "WDF-Pe9upFD_",
        "outputId": "5e2437b1-1b13-47d6-95ec-d9924f00abb6"
      },
      "outputs": [
        {
          "name": "stdout",
          "output_type": "stream",
          "text": [
            "2022-04-27 05:39:58 Starting - Starting the training job...ProfilerReport-1651037998: InProgress\n",
            "...\n",
            "2022-04-27 05:40:47 Starting - Preparing the instances for training......\n",
            "2022-04-27 05:41:54 Downloading - Downloading input data......\n",
            "2022-04-27 05:42:48 Training - Downloading the training image.....\u001b[34mINFO:sagemaker-containers:Imported framework sagemaker_xgboost_container.training\u001b[0m\n",
            "\u001b[34mINFO:sagemaker-containers:Failed to parse hyperparameter _tuning_objective_metric value validation:auc to Json.\u001b[0m\n",
            "\u001b[34mReturning the value itself\u001b[0m\n",
            "\u001b[34mINFO:sagemaker-containers:Failed to parse hyperparameter eval_metric value auc to Json.\u001b[0m\n",
            "\u001b[34mReturning the value itself\u001b[0m\n",
            "\u001b[34mINFO:sagemaker-containers:Failed to parse hyperparameter objective value binary:logistic to Json.\u001b[0m\n",
            "\u001b[34mReturning the value itself\u001b[0m\n",
            "\u001b[34mINFO:sagemaker-containers:No GPUs detected (normal if no gpus installed)\u001b[0m\n",
            "\u001b[34mINFO:sagemaker_xgboost_container.training:Running XGBoost Sagemaker in algorithm mode\u001b[0m\n",
            "\u001b[34mINFO:root:Determined delimiter of CSV input is ','\u001b[0m\n",
            "\u001b[34mINFO:root:Determined delimiter of CSV input is ','\u001b[0m\n",
            "\u001b[34mINFO:root:Determined delimiter of CSV input is ','\u001b[0m\n",
            "\u001b[34m[05:43:42] 1308472x85 matrix with 111220120 entries loaded from /opt/ml/input/data/train?format=csv&label_column=0&delimiter=,\u001b[0m\n",
            "\u001b[34mINFO:root:Determined delimiter of CSV input is ','\u001b[0m\n",
            "\u001b[34m[05:43:42] 163559x85 matrix with 13902515 entries loaded from /opt/ml/input/data/validation?format=csv&label_column=0&delimiter=,\u001b[0m\n",
            "\u001b[34mINFO:root:Single node training.\u001b[0m\n",
            "\u001b[34mINFO:root:Setting up HPO optimized metric to be : auc\u001b[0m\n",
            "\u001b[34mINFO:root:Train matrix has 1308472 rows\u001b[0m\n",
            "\u001b[34mINFO:root:Validation matrix has 163559 rows\u001b[0m\n",
            "\n",
            "2022-04-27 05:43:48 Training - Training image download completed. Training in progress.\u001b[34m[0]#011train-auc:0.64691#011validation-auc:0.64527\u001b[0m\n",
            "\u001b[34m[1]#011train-auc:0.67270#011validation-auc:0.66876\u001b[0m\n",
            "\u001b[34m[2]#011train-auc:0.67954#011validation-auc:0.67603\u001b[0m\n",
            "\u001b[34m[3]#011train-auc:0.68460#011validation-auc:0.68191\u001b[0m\n",
            "\u001b[34m[4]#011train-auc:0.68888#011validation-auc:0.68653\u001b[0m\n",
            "\u001b[34m[5]#011train-auc:0.69251#011validation-auc:0.69004\u001b[0m\n",
            "\u001b[34m[6]#011train-auc:0.69582#011validation-auc:0.69334\u001b[0m\n",
            "\u001b[34m[7]#011train-auc:0.69794#011validation-auc:0.69537\u001b[0m\n",
            "\u001b[34m[8]#011train-auc:0.69991#011validation-auc:0.69728\u001b[0m\n",
            "\u001b[34m[9]#011train-auc:0.70142#011validation-auc:0.69865\u001b[0m\n",
            "\u001b[34m[10]#011train-auc:0.70320#011validation-auc:0.70054\u001b[0m\n",
            "\u001b[34m[11]#011train-auc:0.70725#011validation-auc:0.70448\u001b[0m\n",
            "\u001b[34m[12]#011train-auc:0.70847#011validation-auc:0.70579\u001b[0m\n",
            "\u001b[34m[13]#011train-auc:0.70941#011validation-auc:0.70655\u001b[0m\n",
            "\u001b[34m[14]#011train-auc:0.71028#011validation-auc:0.70723\u001b[0m\n",
            "\u001b[34m[15]#011train-auc:0.71158#011validation-auc:0.70834\u001b[0m\n",
            "\u001b[34m[16]#011train-auc:0.71218#011validation-auc:0.70909\u001b[0m\n",
            "\u001b[34m[17]#011train-auc:0.71272#011validation-auc:0.70968\u001b[0m\n",
            "\u001b[34m[18]#011train-auc:0.71353#011validation-auc:0.71044\u001b[0m\n",
            "\u001b[34m[19]#011train-auc:0.71422#011validation-auc:0.71119\u001b[0m\n",
            "\u001b[34m[20]#011train-auc:0.71502#011validation-auc:0.71202\u001b[0m\n",
            "\u001b[34m[21]#011train-auc:0.71549#011validation-auc:0.71241\u001b[0m\n",
            "\u001b[34m[22]#011train-auc:0.71601#011validation-auc:0.71293\u001b[0m\n",
            "\u001b[34m[23]#011train-auc:0.71678#011validation-auc:0.71358\u001b[0m\n",
            "\u001b[34m[24]#011train-auc:0.71729#011validation-auc:0.71406\u001b[0m\n",
            "\u001b[34m[25]#011train-auc:0.71771#011validation-auc:0.71447\u001b[0m\n",
            "\u001b[34m[26]#011train-auc:0.71825#011validation-auc:0.71496\u001b[0m\n",
            "\u001b[34m[27]#011train-auc:0.71852#011validation-auc:0.71523\u001b[0m\n",
            "\u001b[34m[28]#011train-auc:0.71885#011validation-auc:0.71551\u001b[0m\n",
            "\u001b[34m[29]#011train-auc:0.71919#011validation-auc:0.71568\u001b[0m\n",
            "\u001b[34m[30]#011train-auc:0.71952#011validation-auc:0.71593\u001b[0m\n",
            "\u001b[34m[31]#011train-auc:0.71989#011validation-auc:0.71623\u001b[0m\n",
            "\u001b[34m[32]#011train-auc:0.72016#011validation-auc:0.71649\u001b[0m\n",
            "\u001b[34m[33]#011train-auc:0.72040#011validation-auc:0.71678\u001b[0m\n",
            "\u001b[34m[34]#011train-auc:0.72083#011validation-auc:0.71719\u001b[0m\n",
            "\u001b[34m[35]#011train-auc:0.72136#011validation-auc:0.71770\u001b[0m\n",
            "\u001b[34m[36]#011train-auc:0.72159#011validation-auc:0.71784\u001b[0m\n",
            "\u001b[34m[37]#011train-auc:0.72199#011validation-auc:0.71818\u001b[0m\n",
            "\u001b[34m[38]#011train-auc:0.72221#011validation-auc:0.71840\u001b[0m\n",
            "\u001b[34m[39]#011train-auc:0.72244#011validation-auc:0.71865\u001b[0m\n",
            "\u001b[34m[40]#011train-auc:0.72259#011validation-auc:0.71876\u001b[0m\n",
            "\u001b[34m[41]#011train-auc:0.72269#011validation-auc:0.71885\u001b[0m\n",
            "\u001b[34m[42]#011train-auc:0.72286#011validation-auc:0.71899\u001b[0m\n",
            "\u001b[34m[43]#011train-auc:0.72304#011validation-auc:0.71912\u001b[0m\n",
            "\u001b[34m[44]#011train-auc:0.72329#011validation-auc:0.71933\u001b[0m\n",
            "\u001b[34m[45]#011train-auc:0.72349#011validation-auc:0.71951\u001b[0m\n",
            "\u001b[34m[46]#011train-auc:0.72379#011validation-auc:0.71977\u001b[0m\n",
            "\u001b[34m[47]#011train-auc:0.72400#011validation-auc:0.71999\u001b[0m\n",
            "\u001b[34m[48]#011train-auc:0.72415#011validation-auc:0.72012\u001b[0m\n",
            "\u001b[34m[49]#011train-auc:0.72436#011validation-auc:0.72029\u001b[0m\n",
            "\u001b[34m[50]#011train-auc:0.72459#011validation-auc:0.72046\u001b[0m\n",
            "\u001b[34m[51]#011train-auc:0.72477#011validation-auc:0.72061\u001b[0m\n",
            "\u001b[34m[52]#011train-auc:0.72493#011validation-auc:0.72072\u001b[0m\n",
            "\u001b[34m[53]#011train-auc:0.72510#011validation-auc:0.72091\u001b[0m\n",
            "\u001b[34m[54]#011train-auc:0.72519#011validation-auc:0.72097\u001b[0m\n",
            "\u001b[34m[55]#011train-auc:0.72524#011validation-auc:0.72102\u001b[0m\n",
            "\u001b[34m[56]#011train-auc:0.72537#011validation-auc:0.72105\u001b[0m\n",
            "\u001b[34m[57]#011train-auc:0.72557#011validation-auc:0.72122\u001b[0m\n",
            "\u001b[34m[58]#011train-auc:0.72571#011validation-auc:0.72135\u001b[0m\n",
            "\u001b[34m[59]#011train-auc:0.72588#011validation-auc:0.72152\u001b[0m\n",
            "\u001b[34m[60]#011train-auc:0.72602#011validation-auc:0.72163\u001b[0m\n",
            "\u001b[34m[61]#011train-auc:0.72610#011validation-auc:0.72169\u001b[0m\n",
            "\u001b[34m[62]#011train-auc:0.72619#011validation-auc:0.72174\u001b[0m\n",
            "\u001b[34m[63]#011train-auc:0.72632#011validation-auc:0.72188\u001b[0m\n",
            "\u001b[34m[64]#011train-auc:0.72637#011validation-auc:0.72186\u001b[0m\n",
            "\u001b[34m[65]#011train-auc:0.72652#011validation-auc:0.72205\u001b[0m\n",
            "\u001b[34m[66]#011train-auc:0.72673#011validation-auc:0.72219\u001b[0m\n",
            "\u001b[34m[67]#011train-auc:0.72679#011validation-auc:0.72223\u001b[0m\n",
            "\u001b[34m[68]#011train-auc:0.72686#011validation-auc:0.72231\u001b[0m\n",
            "\u001b[34m[69]#011train-auc:0.72696#011validation-auc:0.72238\u001b[0m\n",
            "\u001b[34m[70]#011train-auc:0.72696#011validation-auc:0.72238\u001b[0m\n",
            "\u001b[34m[71]#011train-auc:0.72704#011validation-auc:0.72244\u001b[0m\n",
            "\u001b[34m[72]#011train-auc:0.72735#011validation-auc:0.72274\u001b[0m\n",
            "\u001b[34m[73]#011train-auc:0.72752#011validation-auc:0.72291\u001b[0m\n",
            "\u001b[34m[74]#011train-auc:0.72758#011validation-auc:0.72299\u001b[0m\n",
            "\u001b[34m[75]#011train-auc:0.72775#011validation-auc:0.72314\u001b[0m\n",
            "\u001b[34m[76]#011train-auc:0.72782#011validation-auc:0.72324\u001b[0m\n",
            "\u001b[34m[77]#011train-auc:0.72787#011validation-auc:0.72332\u001b[0m\n",
            "\u001b[34m[78]#011train-auc:0.72792#011validation-auc:0.72334\u001b[0m\n",
            "\u001b[34m[79]#011train-auc:0.72792#011validation-auc:0.72334\u001b[0m\n",
            "\u001b[34m[80]#011train-auc:0.72792#011validation-auc:0.72334\u001b[0m\n",
            "\u001b[34m[81]#011train-auc:0.72792#011validation-auc:0.72334\u001b[0m\n",
            "\u001b[34m[82]#011train-auc:0.72792#011validation-auc:0.72334\u001b[0m\n",
            "\u001b[34m[83]#011train-auc:0.72792#011validation-auc:0.72334\u001b[0m\n",
            "\u001b[34m[84]#011train-auc:0.72809#011validation-auc:0.72352\u001b[0m\n",
            "\u001b[34m[85]#011train-auc:0.72817#011validation-auc:0.72356\u001b[0m\n",
            "\u001b[34m[86]#011train-auc:0.72826#011validation-auc:0.72360\u001b[0m\n",
            "\u001b[34m[87]#011train-auc:0.72833#011validation-auc:0.72366\u001b[0m\n",
            "\u001b[34m[88]#011train-auc:0.72833#011validation-auc:0.72366\u001b[0m\n",
            "\u001b[34m[89]#011train-auc:0.72833#011validation-auc:0.72366\u001b[0m\n",
            "\u001b[34m[90]#011train-auc:0.72833#011validation-auc:0.72366\u001b[0m\n",
            "\u001b[34m[91]#011train-auc:0.72834#011validation-auc:0.72366\u001b[0m\n",
            "\u001b[34m[92]#011train-auc:0.72846#011validation-auc:0.72376\u001b[0m\n",
            "\u001b[34m[93]#011train-auc:0.72848#011validation-auc:0.72378\u001b[0m\n",
            "\u001b[34m[94]#011train-auc:0.72853#011validation-auc:0.72383\u001b[0m\n",
            "\u001b[34m[95]#011train-auc:0.72862#011validation-auc:0.72388\u001b[0m\n",
            "\u001b[34m[96]#011train-auc:0.72866#011validation-auc:0.72389\u001b[0m\n",
            "\u001b[34m[97]#011train-auc:0.72871#011validation-auc:0.72393\u001b[0m\n",
            "\u001b[34m[98]#011train-auc:0.72879#011validation-auc:0.72405\u001b[0m\n",
            "\u001b[34m[99]#011train-auc:0.72879#011validation-auc:0.72405\u001b[0m\n",
            "\u001b[34m[100]#011train-auc:0.72893#011validation-auc:0.72418\u001b[0m\n",
            "\u001b[34m[101]#011train-auc:0.72899#011validation-auc:0.72420\u001b[0m\n",
            "\u001b[34m[102]#011train-auc:0.72899#011validation-auc:0.72420\u001b[0m\n",
            "\u001b[34m[103]#011train-auc:0.72899#011validation-auc:0.72420\u001b[0m\n",
            "\u001b[34m[104]#011train-auc:0.72899#011validation-auc:0.72420\u001b[0m\n",
            "\u001b[34m[105]#011train-auc:0.72899#011validation-auc:0.72420\u001b[0m\n",
            "\u001b[34m[106]#011train-auc:0.72899#011validation-auc:0.72420\u001b[0m\n",
            "\u001b[34m[107]#011train-auc:0.72899#011validation-auc:0.72420\u001b[0m\n",
            "\u001b[34m[108]#011train-auc:0.72899#011validation-auc:0.72420\u001b[0m\n",
            "\u001b[34m[109]#011train-auc:0.72899#011validation-auc:0.72420\u001b[0m\n",
            "\u001b[34m[110]#011train-auc:0.72899#011validation-auc:0.72420\u001b[0m\n",
            "\u001b[34m[111]#011train-auc:0.72899#011validation-auc:0.72420\u001b[0m\n",
            "\u001b[34m[112]#011train-auc:0.72899#011validation-auc:0.72420\u001b[0m\n",
            "\u001b[34m[113]#011train-auc:0.72899#011validation-auc:0.72420\u001b[0m\n",
            "\u001b[34m[114]#011train-auc:0.72899#011validation-auc:0.72420\u001b[0m\n",
            "\u001b[34m[115]#011train-auc:0.72899#011validation-auc:0.72420\u001b[0m\n",
            "\u001b[34m[116]#011train-auc:0.72899#011validation-auc:0.72420\u001b[0m\n",
            "\u001b[34m[117]#011train-auc:0.72899#011validation-auc:0.72420\u001b[0m\n",
            "\u001b[34m[118]#011train-auc:0.72899#011validation-auc:0.72420\u001b[0m\n",
            "\u001b[34m[119]#011train-auc:0.72899#011validation-auc:0.72420\u001b[0m\n",
            "\u001b[34m[120]#011train-auc:0.72899#011validation-auc:0.72420\u001b[0m\n",
            "\u001b[34m[121]#011train-auc:0.72899#011validation-auc:0.72420\u001b[0m\n",
            "\u001b[34m[122]#011train-auc:0.72899#011validation-auc:0.72420\u001b[0m\n",
            "\u001b[34m[123]#011train-auc:0.72899#011validation-auc:0.72420\u001b[0m\n",
            "\u001b[34m[124]#011train-auc:0.72899#011validation-auc:0.72420\u001b[0m\n",
            "\u001b[34m[125]#011train-auc:0.72899#011validation-auc:0.72420\u001b[0m\n",
            "\u001b[34m[126]#011train-auc:0.72899#011validation-auc:0.72420\u001b[0m\n",
            "\u001b[34m[127]#011train-auc:0.72899#011validation-auc:0.72420\u001b[0m\n",
            "\u001b[34m[128]#011train-auc:0.72899#011validation-auc:0.72420\u001b[0m\n",
            "\u001b[34m[129]#011train-auc:0.72899#011validation-auc:0.72420\u001b[0m\n",
            "\u001b[34m[130]#011train-auc:0.72899#011validation-auc:0.72420\u001b[0m\n",
            "\u001b[34m[131]#011train-auc:0.72899#011validation-auc:0.72420\u001b[0m\n",
            "\u001b[34m[132]#011train-auc:0.72899#011validation-auc:0.72420\u001b[0m\n",
            "\u001b[34m[133]#011train-auc:0.72899#011validation-auc:0.72420\u001b[0m\n",
            "\u001b[34m[134]#011train-auc:0.72899#011validation-auc:0.72420\u001b[0m\n",
            "\u001b[34m[135]#011train-auc:0.72899#011validation-auc:0.72420\u001b[0m\n",
            "\u001b[34m[136]#011train-auc:0.72899#011validation-auc:0.72420\u001b[0m\n",
            "\u001b[34m[137]#011train-auc:0.72899#011validation-auc:0.72420\u001b[0m\n",
            "\u001b[34m[138]#011train-auc:0.72899#011validation-auc:0.72420\u001b[0m\n",
            "\u001b[34m[139]#011train-auc:0.72899#011validation-auc:0.72420\u001b[0m\n",
            "\u001b[34m[140]#011train-auc:0.72899#011validation-auc:0.72420\u001b[0m\n",
            "\u001b[34m[141]#011train-auc:0.72899#011validation-auc:0.72420\u001b[0m\n",
            "\u001b[34m[142]#011train-auc:0.72899#011validation-auc:0.72420\u001b[0m\n",
            "\u001b[34m[143]#011train-auc:0.72899#011validation-auc:0.72420\u001b[0m\n",
            "\u001b[34m[144]#011train-auc:0.72899#011validation-auc:0.72420\u001b[0m\n",
            "\u001b[34m[145]#011train-auc:0.72899#011validation-auc:0.72420\u001b[0m\n",
            "\n",
            "2022-04-27 05:50:09 Uploading - Uploading generated training model\n",
            "2022-04-27 05:50:09 Completed - Training job completed\n",
            "ProfilerReport-1651037998: NoIssuesFound\n",
            "Training seconds: 490\n",
            "Billable seconds: 490\n"
          ]
        }
      ],
      "source": [
        "#ANSWER\n",
        "best_estimator.fit(inputs = data_channels)"
      ]
    },
    {
      "cell_type": "markdown",
      "metadata": {
        "id": "YVVmiFVqpFD_"
      },
      "source": [
        "Use the batch transformer for your new model, and evaluate the model on the test dataset."
      ]
    },
    {
      "cell_type": "code",
      "execution_count": null,
      "metadata": {
        "id": "h_oE81cXpFD_",
        "outputId": "6cb952f6-a986-4430-abe8-497a737fd5df"
      },
      "outputs": [
        {
          "name": "stdout",
          "output_type": "stream",
          "text": [
            "..............................."
          ]
        }
      ],
      "source": [
        "batch_output = \"s3://{}/{}/batch-out/\".format(bucket,prefix)\n",
        "batch_input = \"s3://{}/{}/batch-in/{}\".format(bucket,prefix,batch_X_file)\n",
        "\n",
        "xgb_transformer = best_estimator.transformer(instance_count=1,\n",
        "                                       instance_type=instance_type,\n",
        "                                       strategy='MultiRecord',\n",
        "                                       assemble_with='Line',\n",
        "                                       output_path=batch_output)\n",
        "\n",
        "xgb_transformer.transform(data=batch_input,\n",
        "                         data_type='S3Prefix',\n",
        "                         content_type='text/csv',\n",
        "                         split_type='Line')\n",
        "xgb_transformer.wait()"
      ]
    },
    {
      "cell_type": "code",
      "execution_count": null,
      "metadata": {
        "id": "yZ3s5cwkpFEA"
      },
      "outputs": [],
      "source": [
        "s3 = boto3.client('s3')\n",
        "obj = s3.get_object(Bucket=bucket, Key=\"{}/batch-out/{}\".format(prefix,'batch-in.csv.out'))\n",
        "target_predicted = pd.read_csv(io.BytesIO(obj['Body'].read()),',',names=['target'])\n",
        "test_labels = test.iloc[:,0]"
      ]
    },
    {
      "cell_type": "markdown",
      "metadata": {
        "id": "DiT2xF-qpFEA"
      },
      "source": [
        "Get the predicted target and test labels."
      ]
    },
    {
      "cell_type": "code",
      "execution_count": null,
      "metadata": {
        "id": "d13kqxlDpFEA"
      },
      "outputs": [],
      "source": [
        "print(target_predicted.head())\n",
        "\n",
        "def binary_convert(x):\n",
        "    threshold = 0.55\n",
        "    if x > threshold:\n",
        "        return 1\n",
        "    else:\n",
        "        return 0\n",
        "\n",
        "target_predicted['target'] = target_predicted['target'].apply(binary_convert)\n",
        "\n",
        "test_labels = test.iloc[:,0]\n",
        "\n",
        "print(target_predicted.head())"
      ]
    },
    {
      "cell_type": "markdown",
      "metadata": {
        "id": "6U_nu3BqpFEA"
      },
      "source": [
        "Plot a confusion matrix for your `target_predicted` and `test_labels`."
      ]
    },
    {
      "cell_type": "code",
      "execution_count": null,
      "metadata": {
        "id": "7wefgdREpFEA"
      },
      "outputs": [],
      "source": [
        "#ANSWER\n",
        "plot_confusion_matrix(test_labels , target_predicted)"
      ]
    },
    {
      "cell_type": "markdown",
      "metadata": {
        "id": "Ll1TtqE6pFEA"
      },
      "source": [
        "Plot the ROC chart:"
      ]
    },
    {
      "cell_type": "code",
      "execution_count": null,
      "metadata": {
        "id": "c-6VpJhipFEB"
      },
      "outputs": [],
      "source": [
        "#ANSWER\n",
        "plot_roc(test_labels , target_predicted)"
      ]
    },
    {
      "cell_type": "markdown",
      "metadata": {
        "id": "yJyTElZ7pFEB"
      },
      "source": [
        "**Question**: Try different hyperparameters and hyperparameter ranges. Do these changes improve the model?"
      ]
    },
    {
      "cell_type": "markdown",
      "metadata": {
        "id": "c1Q2n5HIpFEB"
      },
      "source": [
        "## Conclusion\n",
        "\n",
        "You have now iterated through training and evaluating your model at least a couple of times. It's time to wrap up this project and reflect on:\n",
        "\n",
        "- What you learned \n",
        "- What types of steps you might take moving forward (assuming that you had more time)\n",
        "\n",
        "Use the following cell to answer some of these questions and other relevant questions:\n",
        "\n",
        "1. Does your model performance meet your business goal? If not, what are some things you'd like to do differently if you had more time for tuning?\n",
        "2. How much did your model improve as you made changes to your dataset, features, and hyperparameters? What types of techniques did you employ throughout this project, and which yielded the greatest improvements in your model?\n",
        "3. What were some of the biggest challenges that you encountered throughout this project?\n",
        "4. Do you have any unanswered questions about aspects of the pipeline that didn't make sense to you?\n",
        "5. What were the three most important things that you learned about machine learning while working on this project?\n",
        "\n",
        "#### <span style=\"color: blue;\">Project presentation: Make sure that you also summarize your answers to these questions in your project presentation. Combine all your notes for your project presentation and prepare to present your findings to the class.</span>"
      ]
    },
    {
      "cell_type": "code",
      "execution_count": null,
      "metadata": {
        "id": "kGtP9zqTpFEB"
      },
      "outputs": [],
      "source": [
        "# Write your answers here"
      ]
    }
  ],
  "metadata": {
    "kernelspec": {
      "display_name": "conda_python3",
      "language": "python",
      "name": "conda_python3"
    },
    "language_info": {
      "codemirror_mode": {
        "name": "ipython",
        "version": 3
      },
      "file_extension": ".py",
      "mimetype": "text/x-python",
      "name": "python",
      "nbconvert_exporter": "python",
      "pygments_lexer": "ipython3",
      "version": "3.6.13"
    },
    "colab": {
      "name": "Challenge Lab M3 : Flight_Delay-Student.ipynb",
      "provenance": [],
      "include_colab_link": true
    }
  },
  "nbformat": 4,
  "nbformat_minor": 0
}